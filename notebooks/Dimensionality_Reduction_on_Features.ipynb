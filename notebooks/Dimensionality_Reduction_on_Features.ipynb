{
 "cells": [
  {
   "cell_type": "markdown",
   "metadata": {},
   "source": [
    "- load in evaluation dataset\n",
    "- sub-sample a large set of features\n",
    "- calculate PCA and save out for loading in other places. "
   ]
  },
  {
   "cell_type": "code",
   "execution_count": 19,
   "metadata": {
    "collapsed": true
   },
   "outputs": [],
   "source": [
    "import numpy as np\n",
    "import matplotlib.pyplot as plt\n",
    "import seaborn\n",
    "import pandas as pd\n",
    "from sklearn.decomposition import PCA\n",
    "import pickle\n",
    "%matplotlib inline"
   ]
  },
  {
   "cell_type": "code",
   "execution_count": 2,
   "metadata": {},
   "outputs": [
    {
     "name": "stdout",
     "output_type": "stream",
     "text": [
      "40141\n",
      "961\n"
     ]
    },
    {
     "data": {
      "text/html": [
       "<div>\n",
       "<style>\n",
       "    .dataframe thead tr:only-child th {\n",
       "        text-align: right;\n",
       "    }\n",
       "\n",
       "    .dataframe thead th {\n",
       "        text-align: left;\n",
       "    }\n",
       "\n",
       "    .dataframe tbody tr th {\n",
       "        vertical-align: top;\n",
       "    }\n",
       "</style>\n",
       "<table border=\"1\" class=\"dataframe\">\n",
       "  <thead>\n",
       "    <tr style=\"text-align: right;\">\n",
       "      <th></th>\n",
       "      <th>user_id</th>\n",
       "      <th>buy_spu</th>\n",
       "      <th>buy_sn</th>\n",
       "      <th>buy_ct3</th>\n",
       "      <th>view_spu</th>\n",
       "      <th>view_sn</th>\n",
       "      <th>view_ct3</th>\n",
       "      <th>time_interval</th>\n",
       "      <th>view_cnt</th>\n",
       "      <th>view_seconds</th>\n",
       "      <th>index</th>\n",
       "      <th>spu_id</th>\n",
       "      <th>view_spu_count</th>\n",
       "      <th>drop</th>\n",
       "    </tr>\n",
       "  </thead>\n",
       "  <tbody>\n",
       "    <tr>\n",
       "      <th>1226</th>\n",
       "      <td>3787002243</td>\n",
       "      <td>14994645517246498</td>\n",
       "      <td>10006541</td>\n",
       "      <td>334</td>\n",
       "      <td>221597279072104476</td>\n",
       "      <td>10005949</td>\n",
       "      <td>334</td>\n",
       "      <td>389705</td>\n",
       "      <td>4</td>\n",
       "      <td>98</td>\n",
       "      <td>87616.0</td>\n",
       "      <td>2.215973e+17</td>\n",
       "      <td>11</td>\n",
       "      <td>0</td>\n",
       "    </tr>\n",
       "    <tr>\n",
       "      <th>1227</th>\n",
       "      <td>3787002243</td>\n",
       "      <td>14994645517246498</td>\n",
       "      <td>10006541</td>\n",
       "      <td>334</td>\n",
       "      <td>29349802448457744</td>\n",
       "      <td>10004542</td>\n",
       "      <td>334</td>\n",
       "      <td>7342</td>\n",
       "      <td>1</td>\n",
       "      <td>10</td>\n",
       "      <td>73880.0</td>\n",
       "      <td>2.934980e+16</td>\n",
       "      <td>11</td>\n",
       "      <td>0</td>\n",
       "    </tr>\n",
       "    <tr>\n",
       "      <th>2261</th>\n",
       "      <td>132681117</td>\n",
       "      <td>6831894477217820</td>\n",
       "      <td>10001155</td>\n",
       "      <td>334</td>\n",
       "      <td>27661017974767638</td>\n",
       "      <td>10004048</td>\n",
       "      <td>334</td>\n",
       "      <td>32451</td>\n",
       "      <td>1</td>\n",
       "      <td>6</td>\n",
       "      <td>21676.0</td>\n",
       "      <td>2.766102e+16</td>\n",
       "      <td>63</td>\n",
       "      <td>0</td>\n",
       "    </tr>\n",
       "    <tr>\n",
       "      <th>2262</th>\n",
       "      <td>132681117</td>\n",
       "      <td>6831894477217820</td>\n",
       "      <td>10001155</td>\n",
       "      <td>334</td>\n",
       "      <td>288869796837830741</td>\n",
       "      <td>10000351</td>\n",
       "      <td>334</td>\n",
       "      <td>33318</td>\n",
       "      <td>2</td>\n",
       "      <td>30</td>\n",
       "      <td>6475.0</td>\n",
       "      <td>2.888698e+17</td>\n",
       "      <td>63</td>\n",
       "      <td>0</td>\n",
       "    </tr>\n",
       "    <tr>\n",
       "      <th>2263</th>\n",
       "      <td>132681117</td>\n",
       "      <td>6831894477217820</td>\n",
       "      <td>10001155</td>\n",
       "      <td>334</td>\n",
       "      <td>301817675098247170</td>\n",
       "      <td>10020640</td>\n",
       "      <td>334</td>\n",
       "      <td>428149</td>\n",
       "      <td>1</td>\n",
       "      <td>9</td>\n",
       "      <td>25612.0</td>\n",
       "      <td>3.018177e+17</td>\n",
       "      <td>63</td>\n",
       "      <td>0</td>\n",
       "    </tr>\n",
       "  </tbody>\n",
       "</table>\n",
       "</div>"
      ],
      "text/plain": [
       "         user_id            buy_spu    buy_sn  buy_ct3            view_spu  \\\n",
       "1226  3787002243  14994645517246498  10006541      334  221597279072104476   \n",
       "1227  3787002243  14994645517246498  10006541      334   29349802448457744   \n",
       "2261   132681117   6831894477217820  10001155      334   27661017974767638   \n",
       "2262   132681117   6831894477217820  10001155      334  288869796837830741   \n",
       "2263   132681117   6831894477217820  10001155      334  301817675098247170   \n",
       "\n",
       "       view_sn  view_ct3  time_interval  view_cnt  view_seconds    index  \\\n",
       "1226  10005949       334         389705         4            98  87616.0   \n",
       "1227  10004542       334           7342         1            10  73880.0   \n",
       "2261  10004048       334          32451         1             6  21676.0   \n",
       "2262  10000351       334          33318         2            30   6475.0   \n",
       "2263  10020640       334         428149         1             9  25612.0   \n",
       "\n",
       "            spu_id  view_spu_count  drop  \n",
       "1226  2.215973e+17              11     0  \n",
       "1227  2.934980e+16              11     0  \n",
       "2261  2.766102e+16              63     0  \n",
       "2262  2.888698e+17              63     0  \n",
       "2263  3.018177e+17              63     0  "
      ]
     },
     "execution_count": 2,
     "metadata": {},
     "output_type": "execute_result"
    }
   ],
   "source": [
    "# load smaller user behavior dataset\n",
    "user_profile = pd.read_pickle('../data_user_view_buy/user_profile_items_nonnull_features_20_mins_5_views_v2_sample1000.pkl')\n",
    "user_sample = user_profile.user_id.unique()\n",
    "print(len(user_profile))\n",
    "print(len(user_sample))\n",
    "user_profile.head()"
   ]
  },
  {
   "cell_type": "code",
   "execution_count": 4,
   "metadata": {
    "collapsed": true
   },
   "outputs": [],
   "source": [
    "# read nn features \n",
    "spu_fea = pd.read_pickle(\"../data_nn_features/spu_fea_sample1000.pkl\")"
   ]
  },
  {
   "cell_type": "markdown",
   "metadata": {},
   "source": [
    "# How similar are PCs on 2 sub-samples of data? "
   ]
  },
  {
   "cell_type": "code",
   "execution_count": 7,
   "metadata": {},
   "outputs": [
    {
     "data": {
      "text/plain": [
       "PCA(copy=True, iterated_power='auto', n_components=None, random_state=None,\n",
       "  svd_solver='auto', tol=0.0, whiten=False)"
      ]
     },
     "execution_count": 7,
     "metadata": {},
     "output_type": "execute_result"
    }
   ],
   "source": [
    "# sub-sample possible items\n",
    "np.random.seed(1000)\n",
    "item_sample = np.random.choice(user_profile.view_spu.unique(),size=3000)\n",
    "\n",
    "# get item X feature matrix #\n",
    "X_item_feature = np.empty((len(item_sample),len(spu_fea.features.as_matrix()[0])))\n",
    "for ii,item_spu in enumerate(item_sample):\n",
    "    X_item_feature[ii,:]=spu_fea.loc[spu_fea.spu_id==item_spu,'features'].as_matrix()[0]\n",
    "    \n",
    "# calculate PC's \n",
    "pca1 = PCA()\n",
    "pca1.fit(X_item_feature)"
   ]
  },
  {
   "cell_type": "code",
   "execution_count": 8,
   "metadata": {},
   "outputs": [
    {
     "data": {
      "text/plain": [
       "PCA(copy=True, iterated_power='auto', n_components=None, random_state=None,\n",
       "  svd_solver='auto', tol=0.0, whiten=False)"
      ]
     },
     "execution_count": 8,
     "metadata": {},
     "output_type": "execute_result"
    }
   ],
   "source": [
    "# sub-sample possible items\n",
    "np.random.seed(2000)\n",
    "item_sample = np.random.choice(user_profile.view_spu.unique(),size=3000)\n",
    "\n",
    "# get item X feature matrix #\n",
    "X_item_feature = np.empty((len(item_sample),len(spu_fea.features.as_matrix()[0])))\n",
    "for ii,item_spu in enumerate(item_sample):\n",
    "    X_item_feature[ii,:]=spu_fea.loc[spu_fea.spu_id==item_spu,'features'].as_matrix()[0]\n",
    "    \n",
    "# calculate PC's \n",
    "pca2 = PCA()\n",
    "pca2.fit(X_item_feature)"
   ]
  },
  {
   "cell_type": "code",
   "execution_count": 9,
   "metadata": {},
   "outputs": [
    {
     "name": "stdout",
     "output_type": "stream",
     "text": [
      "0.989596783159\n",
      "0.976819415357\n",
      "-0.611981301025\n",
      "0.64546023461\n",
      "-0.791966038508\n",
      "-0.784539319488\n",
      "-0.907286692406\n",
      "0.460205498172\n",
      "0.424413489535\n",
      "0.683556540565\n"
     ]
    }
   ],
   "source": [
    "for i in range(10):\n",
    "    print(np.corrcoef(pca1.components_[i,:],pca2.components_[i,:])[0,1])\n"
   ]
  },
  {
   "cell_type": "markdown",
   "metadata": {},
   "source": [
    "- After component 2, they are not that correlated which is surprising. "
   ]
  },
  {
   "cell_type": "markdown",
   "metadata": {},
   "source": [
    "# Calculate PCA on all view items"
   ]
  },
  {
   "cell_type": "code",
   "execution_count": 10,
   "metadata": {
    "collapsed": true
   },
   "outputs": [],
   "source": [
    "# get item X feature matrix for all \n",
    "\n",
    "item_sample = user_profile.view_spu.unique()\n",
    "\n",
    "X_item_feature = np.empty((len(item_sample),len(spu_fea.features.as_matrix()[0])))\n",
    "for ii,item_spu in enumerate(item_sample):\n",
    "    X_item_feature[ii,:]=spu_fea.loc[spu_fea.spu_id==item_spu,'features'].as_matrix()[0]\n",
    "    "
   ]
  },
  {
   "cell_type": "code",
   "execution_count": 11,
   "metadata": {},
   "outputs": [
    {
     "data": {
      "text/plain": [
       "(17797, 2048)"
      ]
     },
     "execution_count": 11,
     "metadata": {},
     "output_type": "execute_result"
    }
   ],
   "source": [
    "X_item_feature.shape"
   ]
  },
  {
   "cell_type": "code",
   "execution_count": 12,
   "metadata": {},
   "outputs": [
    {
     "data": {
      "text/plain": [
       "PCA(copy=True, iterated_power='auto', n_components=None, random_state=None,\n",
       "  svd_solver='auto', tol=0.0, whiten=False)"
      ]
     },
     "execution_count": 12,
     "metadata": {},
     "output_type": "execute_result"
    }
   ],
   "source": [
    "# calculate PC's\n",
    "pca_all = PCA()\n",
    "pca_all.fit(X_item_feature)"
   ]
  },
  {
   "cell_type": "code",
   "execution_count": 15,
   "metadata": {},
   "outputs": [],
   "source": [
    "pickle.dump(pca_all,open( \"../data_nn_features/pca_all_items_sample1000.pkl\", \"wb\" ))"
   ]
  },
  {
   "cell_type": "code",
   "execution_count": 17,
   "metadata": {},
   "outputs": [],
   "source": [
    "pca_all = pickle.load(open('../data_nn_features/pca_all_items_sample1000.pkl','rb'))"
   ]
  },
  {
   "cell_type": "code",
   "execution_count": 36,
   "metadata": {},
   "outputs": [
    {
     "data": {
      "text/plain": [
       "(0, 500)"
      ]
     },
     "execution_count": 36,
     "metadata": {},
     "output_type": "execute_result"
    },
    {
     "data": {
      "image/png": "[encoded data removed]",
      "text/plain": [
       "<matplotlib.figure.Figure at 0x11740c250>"
      ]
     },
     "metadata": {},
     "output_type": "display_data"
    }
   ],
   "source": [
    "plt.plot(pca_all.explained_variance_ratio_.cumsum())\n",
    "plt.ylabel('cumulative percent explained variance')\n",
    "plt.xlabel('component #')\n",
    "plt.xlim([0,500])\n"
   ]
  },
  {
   "cell_type": "code",
   "execution_count": 37,
   "metadata": {},
   "outputs": [
    {
     "name": "stderr",
     "output_type": "stream",
     "text": [
      "[NbConvertApp] Converting notebook Dimensionality_Reduction_on_Features.ipynb to html\n",
      "[NbConvertApp] Writing 285891 bytes to Dimensionality_Reduction_on_Features.html\n"
     ]
    }
   ],
   "source": [
    "%%bash \n",
    "#jupyter nbconvert --to Plotting_Sequences_in_low_dimensions.ipynb && mv Plotting_Sequences_in_low_dimensions.slides.html ../notebook_slides/Plotting_Sequences_in_low_dimensions_v1.slides.html\n",
    "jupyter nbconvert --to html Dimensionality_Reduction_on_Features.ipynb && mv Dimensionality_Reduction_on_Features.html ../notebook_htmls/Dimensionality_Reduction_on_Features_v1.html\n",
    "cp Dimensionality_Reduction_on_Features.ipynb ../notebook_versions/Dimensionality_Reduction_on_Features_v1.ipynb"
   ]
  },
  {
   "cell_type": "code",
   "execution_count": null,
   "metadata": {
    "collapsed": true
   },
   "outputs": [],
   "source": []
  }
 ],
 "metadata": {
  "hide_input": false,
  "kernelspec": {
   "display_name": "Python 2",
   "language": "python",
   "name": "python2"
  },
  "language_info": {
   "codemirror_mode": {
    "name": "ipython",
    "version": 2
   },
   "file_extension": ".py",
   "mimetype": "text/x-python",
   "name": "python",
   "nbconvert_exporter": "python",
   "pygments_lexer": "ipython2",
   "version": "2.7.13"
  },
  "toc": {
   "colors": {
    "hover_highlight": "#DAA520",
    "navigate_num": "#000000",
    "navigate_text": "#333333",
    "running_highlight": "#FF0000",
    "selected_highlight": "#FFD700",
    "sidebar_border": "#EEEEEE",
    "wrapper_background": "#FFFFFF"
   },
   "moveMenuLeft": true,
   "nav_menu": {
    "height": "48px",
    "width": "253px"
   },
   "navigate_menu": true,
   "number_sections": true,
   "sideBar": true,
   "threshold": 4,
   "toc_cell": false,
   "toc_section_display": "block",
   "toc_window_display": false,
   "widenNotebook": false
  }
 },
 "nbformat": 4,
 "nbformat_minor": 2
}
