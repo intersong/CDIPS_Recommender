{
 "cells": [
  {
   "cell_type": "code",
   "execution_count": 2,
   "metadata": {},
   "outputs": [
    {
     "name": "stderr",
     "output_type": "stream",
     "text": [
      "[NbConvertApp] Converting notebook Project_Overview.ipynb to html\n",
      "[NbConvertApp] Writing 255027 bytes to Project_Overview.html\n"
     ]
    }
   ],
   "source": [
    "%%bash \n",
    "jupyter nbconvert --to html Project_Overview.ipynb && mv Project_Overview.html  ../notebook_htmls/Project_Overview_v1.html\n"
   ]
  },
  {
   "cell_type": "markdown",
   "metadata": {
    "slideshow": {
     "slide_type": "-"
    }
   },
   "source": [
    "# Problem \n",
    "\n",
    "- story: customer comes to website (VIP.com). Browses a bit. Comes back day 2 etc. \n",
    "- we have data like this: \n",
    "    - [visit 1 (view, view, view,...),visit 2 (view, view,view ...),..., visit n (view, view, ... buy)]\n",
    "- We want to use this to recommend something new each time he/she comes back, so that it is more likely to be bought. \n",
    "\n",
    "\n"
   ]
  },
  {
   "cell_type": "markdown",
   "metadata": {},
   "source": [
    "# Data Exploration\n",
    "\n",
    "[Data Exploration](../notebook_htmls/Data_Exploration_v1.html)\n"
   ]
  },
  {
   "cell_type": "markdown",
   "metadata": {
    "slideshow": {
     "slide_type": "-"
    }
   },
   "source": [
    "# Solution 0: \n",
    "\n",
    "Offline: \n",
    "1. calculate popularity of each item (number of times bought)(maybe in the last month)\n",
    "\n",
    "Online: \n",
    "1. User comes to website\n",
    "2. Simply recommend the 20 most popular items to every customer. \n",
    "\n",
    "\n",
    "\n"
   ]
  },
  {
   "cell_type": "markdown",
   "metadata": {
    "slideshow": {
     "slide_type": "-"
    }
   },
   "source": [
    "# Solution 1: Most similar items to user's previous views \n",
    "\n",
    "Offline: \n",
    "1. For each item, calculate features on trained neural network \n",
    "2. For each user, look up previous views and average the features together of the previous visit \n",
    "3. Store the features of the 'typical' item viewed by this user. \n",
    "4. Calculate similarity of all items to user's 'typical item', store as a recommend list\n",
    "\n",
    "Online: \n",
    "1. User comes to website\n",
    "2. Recommend the top 20 items from his recommend list. \n",
    "\n",
    "\n",
    "\n",
    "\n",
    "\n"
   ]
  },
  {
   "cell_type": "markdown",
   "metadata": {
    "slideshow": {
     "slide_type": "-"
    }
   },
   "source": [
    "# Solution 2: Most similar items to user's previous views (Interpretable NN Features) \n",
    "\n",
    "Offline: \n",
    "1. For each item, calculate features on trained neural network (last layer before categorization)\n",
    "2. Train network to discriminate features such as striped v.s. dotted (simplistic form of fine-tuning). Use sparse regularization. \n",
    "3. Concatenate non-zero feature weights from several different discriminations. \n",
    "4. Store for each image as a new feature 'interpretable' feature vector. \n",
    "2. For each user, look up previous views and average the new features together of the previous visit \n",
    "3. Store the features of the 'typical' item viewed by this user. \n",
    "4. Calculate similarity of all items to user's 'typical item', store as a recommend list\n",
    "\n",
    "Online: \n",
    "1. User comes to website\n",
    "2. Recommend the top 20 items from his recommend list. \n",
    "\n",
    "\n",
    "\n",
    "\n",
    "\n"
   ]
  },
  {
   "cell_type": "markdown",
   "metadata": {
    "slideshow": {
     "slide_type": "-"
    }
   },
   "source": [
    "# Solution 3: Categorize Users and Use Appropriate Recommendation   \n",
    "\n",
    "Offline: \n",
    "\n",
    "2. For each user, look up previous views. \n",
    "3. Based on trajectory of images viewed, classify into searcher or browser. \n",
    "3. If searcher. \n",
    "\n",
    "Online: \n",
    "1. User comes to website\n",
    "2. Recommend the top 20 items from his recommend list. \n",
    "\n",
    "\n",
    "\n",
    "\n",
    "\n"
   ]
  },
  {
   "cell_type": "markdown",
   "metadata": {
    "slideshow": {
     "slide_type": "-"
    }
   },
   "source": [
    "# Formal Evaluation \n",
    "\n",
    "\n"
   ]
  },
  {
   "cell_type": "markdown",
   "metadata": {
    "slideshow": {
     "slide_type": "slide"
    }
   },
   "source": []
  },
  {
   "cell_type": "code",
   "execution_count": null,
   "metadata": {
    "collapsed": true
   },
   "outputs": [],
   "source": []
  }
 ],
 "metadata": {
  "hide_input": false,
  "kernelspec": {
   "display_name": "Python 2",
   "language": "python",
   "name": "python2"
  },
  "language_info": {
   "codemirror_mode": {
    "name": "ipython",
    "version": 2
   },
   "file_extension": ".py",
   "mimetype": "text/x-python",
   "name": "python",
   "nbconvert_exporter": "python",
   "pygments_lexer": "ipython2",
   "version": "2.7.13"
  },
  "toc": {
   "colors": {
    "hover_highlight": "#DAA520",
    "navigate_num": "#000000",
    "navigate_text": "#333333",
    "running_highlight": "#FF0000",
    "selected_highlight": "#FFD700",
    "sidebar_border": "#EEEEEE",
    "wrapper_background": "#FFFFFF"
   },
   "moveMenuLeft": true,
   "nav_menu": {
    "height": "48px",
    "width": "253px"
   },
   "navigate_menu": true,
   "number_sections": false,
   "sideBar": true,
   "threshold": 4,
   "toc_cell": false,
   "toc_section_display": "block",
   "toc_window_display": true,
   "widenNotebook": false
  }
 },
 "nbformat": 4,
 "nbformat_minor": 2
}
