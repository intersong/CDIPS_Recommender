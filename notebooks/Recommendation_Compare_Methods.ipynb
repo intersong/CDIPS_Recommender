{
 "cells": [
  {
   "cell_type": "markdown",
   "metadata": {
    "slideshow": {
     "slide_type": "slide"
    }
   },
   "source": [
    "# Recommendation Methods: \n",
    "\n",
    "\n",
    "### Alg 0: Most similar items to user's previous views \n",
    "\n",
    "Offline: \n",
    "1. For each item, calculate features on trained neural network $ f_j $\n",
    "2. For each user, look up previous views and average the features together of the previous visit $ f_i = \\sum_j f_j*I(i,j) $\n",
    "3. Store the features of the 'typical' item viewed by this user. \n",
    "4. Calculate similarity of all items to user's 'typical item', store as a recommend list\n",
    "\n",
    "Online: \n",
    "1. User comes to website\n",
    "2. Recommend the top 20 items from his recommend list. \n",
    "\n",
    "\n",
    "\n"
   ]
  },
  {
   "cell_type": "code",
   "execution_count": 1,
   "metadata": {
    "collapsed": true,
    "slideshow": {
     "slide_type": "skip"
    }
   },
   "outputs": [],
   "source": [
    "import pandas as pd\n",
    "import numpy as np\n",
    "import matplotlib.pyplot as plt\n",
    "import seaborn as sns\n",
    "sns.set_style('white')\n",
    "%matplotlib inline"
   ]
  },
  {
   "cell_type": "code",
   "execution_count": 2,
   "metadata": {},
   "outputs": [
    {
     "data": {
      "text/plain": [
       "'/Users/chris/Desktop/CDIPS_Recommender/notebooks'"
      ]
     },
     "execution_count": 2,
     "metadata": {},
     "output_type": "execute_result"
    }
   ],
   "source": [
    "import sys\n",
    "import os\n",
    "sys.path.append('../')\n",
    "os.getcwd()"
   ]
  },
  {
   "cell_type": "code",
   "execution_count": 7,
   "metadata": {},
   "outputs": [],
   "source": [
    "import src\n",
    "import src.recommendation\n",
    "reload(src.recommendation)\n",
    "from src.recommendation import *\n",
    "\n"
   ]
  },
  {
   "cell_type": "markdown",
   "metadata": {
    "slideshow": {
     "slide_type": "slide"
    }
   },
   "source": [
    "# Recommendation Comparison\n",
    "\n",
    "\n",
    "- A more general framework for comparing different recommendation techniques\n",
    "\n",
    "### Evaluation DataSet\n",
    "\n",
    "See notes in the creating_dataset_for_evaluation.ipynb\n",
    "\n",
    "From full dataset\n",
    "- removed rows with no nn features (for view or for buy)\n",
    "- remove the items that have been viewed 20minutes before buying. \n",
    "- sub-sampled a set of 1000 users\n"
   ]
  },
  {
   "cell_type": "code",
   "execution_count": 8,
   "metadata": {
    "slideshow": {
     "slide_type": "fragment"
    }
   },
   "outputs": [
    {
     "name": "stdout",
     "output_type": "stream",
     "text": [
      "40141\n",
      "961\n"
     ]
    },
    {
     "data": {
      "text/html": [
       "<div>\n",
       "<style>\n",
       "    .dataframe thead tr:only-child th {\n",
       "        text-align: right;\n",
       "    }\n",
       "\n",
       "    .dataframe thead th {\n",
       "        text-align: left;\n",
       "    }\n",
       "\n",
       "    .dataframe tbody tr th {\n",
       "        vertical-align: top;\n",
       "    }\n",
       "</style>\n",
       "<table border=\"1\" class=\"dataframe\">\n",
       "  <thead>\n",
       "    <tr style=\"text-align: right;\">\n",
       "      <th></th>\n",
       "      <th>user_id</th>\n",
       "      <th>buy_spu</th>\n",
       "      <th>buy_sn</th>\n",
       "      <th>buy_ct3</th>\n",
       "      <th>view_spu</th>\n",
       "      <th>view_sn</th>\n",
       "      <th>view_ct3</th>\n",
       "      <th>time_interval</th>\n",
       "      <th>view_cnt</th>\n",
       "      <th>view_seconds</th>\n",
       "      <th>index</th>\n",
       "      <th>spu_id</th>\n",
       "      <th>view_spu_count</th>\n",
       "      <th>drop</th>\n",
       "    </tr>\n",
       "  </thead>\n",
       "  <tbody>\n",
       "    <tr>\n",
       "      <th>1226</th>\n",
       "      <td>3787002243</td>\n",
       "      <td>14994645517246498</td>\n",
       "      <td>10006541</td>\n",
       "      <td>334</td>\n",
       "      <td>221597279072104476</td>\n",
       "      <td>10005949</td>\n",
       "      <td>334</td>\n",
       "      <td>389705</td>\n",
       "      <td>4</td>\n",
       "      <td>98</td>\n",
       "      <td>87616.0</td>\n",
       "      <td>2.215973e+17</td>\n",
       "      <td>11</td>\n",
       "      <td>0</td>\n",
       "    </tr>\n",
       "    <tr>\n",
       "      <th>1227</th>\n",
       "      <td>3787002243</td>\n",
       "      <td>14994645517246498</td>\n",
       "      <td>10006541</td>\n",
       "      <td>334</td>\n",
       "      <td>29349802448457744</td>\n",
       "      <td>10004542</td>\n",
       "      <td>334</td>\n",
       "      <td>7342</td>\n",
       "      <td>1</td>\n",
       "      <td>10</td>\n",
       "      <td>73880.0</td>\n",
       "      <td>2.934980e+16</td>\n",
       "      <td>11</td>\n",
       "      <td>0</td>\n",
       "    </tr>\n",
       "    <tr>\n",
       "      <th>2261</th>\n",
       "      <td>132681117</td>\n",
       "      <td>6831894477217820</td>\n",
       "      <td>10001155</td>\n",
       "      <td>334</td>\n",
       "      <td>27661017974767638</td>\n",
       "      <td>10004048</td>\n",
       "      <td>334</td>\n",
       "      <td>32451</td>\n",
       "      <td>1</td>\n",
       "      <td>6</td>\n",
       "      <td>21676.0</td>\n",
       "      <td>2.766102e+16</td>\n",
       "      <td>63</td>\n",
       "      <td>0</td>\n",
       "    </tr>\n",
       "    <tr>\n",
       "      <th>2262</th>\n",
       "      <td>132681117</td>\n",
       "      <td>6831894477217820</td>\n",
       "      <td>10001155</td>\n",
       "      <td>334</td>\n",
       "      <td>288869796837830741</td>\n",
       "      <td>10000351</td>\n",
       "      <td>334</td>\n",
       "      <td>33318</td>\n",
       "      <td>2</td>\n",
       "      <td>30</td>\n",
       "      <td>6475.0</td>\n",
       "      <td>2.888698e+17</td>\n",
       "      <td>63</td>\n",
       "      <td>0</td>\n",
       "    </tr>\n",
       "    <tr>\n",
       "      <th>2263</th>\n",
       "      <td>132681117</td>\n",
       "      <td>6831894477217820</td>\n",
       "      <td>10001155</td>\n",
       "      <td>334</td>\n",
       "      <td>301817675098247170</td>\n",
       "      <td>10020640</td>\n",
       "      <td>334</td>\n",
       "      <td>428149</td>\n",
       "      <td>1</td>\n",
       "      <td>9</td>\n",
       "      <td>25612.0</td>\n",
       "      <td>3.018177e+17</td>\n",
       "      <td>63</td>\n",
       "      <td>0</td>\n",
       "    </tr>\n",
       "  </tbody>\n",
       "</table>\n",
       "</div>"
      ],
      "text/plain": [
       "         user_id            buy_spu    buy_sn  buy_ct3            view_spu  \\\n",
       "1226  3787002243  14994645517246498  10006541      334  221597279072104476   \n",
       "1227  3787002243  14994645517246498  10006541      334   29349802448457744   \n",
       "2261   132681117   6831894477217820  10001155      334   27661017974767638   \n",
       "2262   132681117   6831894477217820  10001155      334  288869796837830741   \n",
       "2263   132681117   6831894477217820  10001155      334  301817675098247170   \n",
       "\n",
       "       view_sn  view_ct3  time_interval  view_cnt  view_seconds    index  \\\n",
       "1226  10005949       334         389705         4            98  87616.0   \n",
       "1227  10004542       334           7342         1            10  73880.0   \n",
       "2261  10004048       334          32451         1             6  21676.0   \n",
       "2262  10000351       334          33318         2            30   6475.0   \n",
       "2263  10020640       334         428149         1             9  25612.0   \n",
       "\n",
       "            spu_id  view_spu_count  drop  \n",
       "1226  2.215973e+17              11     0  \n",
       "1227  2.934980e+16              11     0  \n",
       "2261  2.766102e+16              63     0  \n",
       "2262  2.888698e+17              63     0  \n",
       "2263  3.018177e+17              63     0  "
      ]
     },
     "execution_count": 8,
     "metadata": {},
     "output_type": "execute_result"
    }
   ],
   "source": [
    "# load smaller user behavior dataset\n",
    "user_profile = pd.read_pickle('../data_user_view_buy/user_profile_items_nonnull_features_20_mins_5_views_v2_sample1000.pkl')\n",
    "user_sample = user_profile.user_id.unique()\n",
    "print(len(user_profile))\n",
    "print(len(user_sample))\n",
    "user_profile.head()\n"
   ]
  },
  {
   "cell_type": "code",
   "execution_count": 9,
   "metadata": {
    "collapsed": true
   },
   "outputs": [],
   "source": [
    "# requires nn features \n",
    "spu_fea = pd.read_pickle(\"../data_nn_features/spu_fea_sample1000.pkl\")"
   ]
  },
  {
   "cell_type": "markdown",
   "metadata": {},
   "source": [
    "### Load precalculated things for recommendations"
   ]
  },
  {
   "cell_type": "code",
   "execution_count": 10,
   "metadata": {
    "collapsed": true,
    "slideshow": {
     "slide_type": "slide"
    }
   },
   "outputs": [],
   "source": [
    "# this might be faster #\n",
    "\n",
    "# ## Precalculate average feature per user\n",
    "# average_viewed_features_dict = {}\n",
    "\n",
    "# for user_id in user_profile.user_id.unique():\n",
    "#     average_viewed_features_dict[user_id] = get_user_average_features(user_id,user_profile,spu_fea)\n",
    "    "
   ]
  },
  {
   "cell_type": "markdown",
   "metadata": {},
   "source": [
    "### Loop through users and score function"
   ]
  },
  {
   "cell_type": "code",
   "execution_count": 22,
   "metadata": {
    "collapsed": true
   },
   "outputs": [],
   "source": [
    "def get_user_buy_ranks(users_sample,user_profile,spu_fea,method,randomize_scores=False):\n",
    "    \n",
    "    user_buy_ranks = np.empty(len(users_sample))\n",
    "    no_ranks = np.empty(len(users_sample))\n",
    "    for ui,user_id in enumerate(users_sample):\n",
    "        print(ui)\n",
    "        \n",
    "        # rank items\n",
    "        item_score_in_category = rank_candidates(user_id,user_profile,spu_fea,method=method,extra_inputs={},randomize_scores=randomize_scores)\n",
    "    \n",
    "        # get bought item rank and store into array \n",
    "        user_buy_ranks[ui]=item_score_in_category.loc[item_score_in_category.buy==1,'rank'].as_matrix()[0]\n",
    "        \n",
    "        # get number of ranks per category \n",
    "        no_ranks[ui]=item_score_in_category['rank'].max()\n",
    "        \n",
    "    return(user_buy_ranks,no_ranks,item_score_in_category)"
   ]
  },
  {
   "cell_type": "markdown",
   "metadata": {},
   "source": [
    "### Evaluate Different Algorithms"
   ]
  },
  {
   "cell_type": "code",
   "execution_count": 28,
   "metadata": {
    "collapsed": true
   },
   "outputs": [],
   "source": [
    "users_sample = np.random.choice(user_sample,size=200)\n"
   ]
  },
  {
   "cell_type": "code",
   "execution_count": 29,
   "metadata": {
    "scrolled": false,
    "slideshow": {
     "slide_type": "slide"
    }
   },
   "outputs": [
    {
     "name": "stdout",
     "output_type": "stream",
     "text": [
      "0\n",
      "1\n",
      "2\n",
      "3\n",
      "4\n",
      "5\n",
      "6\n",
      "7\n",
      "8\n",
      "9\n",
      "10\n",
      "11\n",
      "12\n",
      "13\n",
      "14\n",
      "15\n",
      "16\n",
      "17\n",
      "18\n",
      "19\n",
      "20\n",
      "21\n",
      "22\n",
      "23\n",
      "24\n",
      "25\n",
      "26\n",
      "27\n",
      "28\n",
      "29\n",
      "30\n",
      "31\n",
      "32\n",
      "33\n",
      "34\n",
      "35\n",
      "36\n",
      "37\n",
      "38\n",
      "39\n",
      "40\n",
      "41\n",
      "42\n",
      "43\n",
      "44\n",
      "45\n",
      "46\n",
      "47\n",
      "48\n",
      "49\n",
      "50\n",
      "51\n",
      "52\n",
      "53\n",
      "54\n",
      "55\n",
      "56\n",
      "57\n",
      "58\n",
      "59\n",
      "60\n",
      "61\n"
     ]
    },
    {
     "ename": "IndexError",
     "evalue": "index 0 is out of bounds for axis 0 with size 0",
     "output_type": "error",
     "traceback": [
      "\u001b[0;31m---------------------------------------------------------------------------\u001b[0m",
      "\u001b[0;31mIndexError\u001b[0m                                Traceback (most recent call last)",
      "\u001b[0;32m<ipython-input-29-d57d9703908e>\u001b[0m in \u001b[0;36m<module>\u001b[0;34m()\u001b[0m\n\u001b[1;32m      1\u001b[0m \u001b[0;31m# nathan's\u001b[0m\u001b[0;34m\u001b[0m\u001b[0;34m\u001b[0m\u001b[0m\n\u001b[0;32m----> 2\u001b[0;31m \u001b[0muser_buy_ranks1\u001b[0m\u001b[0;34m,\u001b[0m\u001b[0mno_ranks1\u001b[0m\u001b[0;34m,\u001b[0m\u001b[0mitem_score_in_category\u001b[0m\u001b[0;34m=\u001b[0m\u001b[0mget_user_buy_ranks\u001b[0m\u001b[0;34m(\u001b[0m\u001b[0musers_sample\u001b[0m\u001b[0;34m,\u001b[0m\u001b[0muser_profile\u001b[0m\u001b[0;34m,\u001b[0m\u001b[0mspu_fea\u001b[0m\u001b[0;34m,\u001b[0m\u001b[0mmethod\u001b[0m\u001b[0;34m=\u001b[0m\u001b[0;34m'AverageFeatureSim'\u001b[0m\u001b[0;34m)\u001b[0m\u001b[0;34m\u001b[0m\u001b[0m\n\u001b[0m",
      "\u001b[0;32m<ipython-input-22-2cdf6258c4d2>\u001b[0m in \u001b[0;36mget_user_buy_ranks\u001b[0;34m(users_sample, user_profile, spu_fea, method, randomize_scores)\u001b[0m\n\u001b[1;32m      7\u001b[0m \u001b[0;34m\u001b[0m\u001b[0m\n\u001b[1;32m      8\u001b[0m         \u001b[0;31m# rank items\u001b[0m\u001b[0;34m\u001b[0m\u001b[0;34m\u001b[0m\u001b[0m\n\u001b[0;32m----> 9\u001b[0;31m         \u001b[0mitem_score_in_category\u001b[0m \u001b[0;34m=\u001b[0m \u001b[0mrank_candidates\u001b[0m\u001b[0;34m(\u001b[0m\u001b[0muser_id\u001b[0m\u001b[0;34m,\u001b[0m\u001b[0muser_profile\u001b[0m\u001b[0;34m,\u001b[0m\u001b[0mspu_fea\u001b[0m\u001b[0;34m,\u001b[0m\u001b[0mmethod\u001b[0m\u001b[0;34m=\u001b[0m\u001b[0mmethod\u001b[0m\u001b[0;34m,\u001b[0m\u001b[0mextra_inputs\u001b[0m\u001b[0;34m=\u001b[0m\u001b[0;34m{\u001b[0m\u001b[0;34m}\u001b[0m\u001b[0;34m,\u001b[0m\u001b[0mrandomize_scores\u001b[0m\u001b[0;34m=\u001b[0m\u001b[0mrandomize_scores\u001b[0m\u001b[0;34m)\u001b[0m\u001b[0;34m\u001b[0m\u001b[0m\n\u001b[0m\u001b[1;32m     10\u001b[0m \u001b[0;34m\u001b[0m\u001b[0m\n\u001b[1;32m     11\u001b[0m         \u001b[0;31m# get bought item rank and store into array\u001b[0m\u001b[0;34m\u001b[0m\u001b[0;34m\u001b[0m\u001b[0m\n",
      "\u001b[0;32m/Users/chris/Desktop/CDIPS_Recommender/src/recommendation.py\u001b[0m in \u001b[0;36mrank_candidates\u001b[0;34m(user_id, user_profile, spu_fea, method, extra_inputs, randomize_scores)\u001b[0m\n\u001b[1;32m     59\u001b[0m             \u001b[0;31m# for each item calculate the recommendation score (this might be similarity or some other)\u001b[0m\u001b[0;34m\u001b[0m\u001b[0;34m\u001b[0m\u001b[0m\n\u001b[1;32m     60\u001b[0m             \u001b[0;32mfor\u001b[0m \u001b[0mcandidate_spu\u001b[0m \u001b[0;32min\u001b[0m \u001b[0mspus_in_category\u001b[0m\u001b[0;34m:\u001b[0m\u001b[0;34m\u001b[0m\u001b[0m\n\u001b[0;32m---> 61\u001b[0;31m                  \u001b[0mitem_score_in_category\u001b[0m\u001b[0;34m.\u001b[0m\u001b[0mloc\u001b[0m\u001b[0;34m[\u001b[0m\u001b[0mitem_score_in_category\u001b[0m\u001b[0;34m[\u001b[0m\u001b[0;34m'spu'\u001b[0m\u001b[0;34m]\u001b[0m\u001b[0;34m==\u001b[0m\u001b[0mcandidate_spu\u001b[0m\u001b[0;34m,\u001b[0m\u001b[0;34m'score'\u001b[0m\u001b[0;34m]\u001b[0m \u001b[0;34m=\u001b[0m \u001b[0mrecommendation_score\u001b[0m\u001b[0;34m(\u001b[0m\u001b[0muser_id\u001b[0m\u001b[0;34m,\u001b[0m\u001b[0mcandidate_spu\u001b[0m\u001b[0;34m,\u001b[0m\u001b[0muser_profile\u001b[0m\u001b[0;34m,\u001b[0m\u001b[0mspu_fea\u001b[0m\u001b[0;34m,\u001b[0m\u001b[0mmethod\u001b[0m\u001b[0;34m=\u001b[0m\u001b[0mmethod\u001b[0m\u001b[0;34m,\u001b[0m\u001b[0mextra_inputs\u001b[0m\u001b[0;34m=\u001b[0m\u001b[0mextra_inputs\u001b[0m\u001b[0;34m)\u001b[0m\u001b[0;34m\u001b[0m\u001b[0m\n\u001b[0m\u001b[1;32m     62\u001b[0m \u001b[0;34m\u001b[0m\u001b[0m\n\u001b[1;32m     63\u001b[0m         \u001b[0;31m# rank candidates by score\u001b[0m\u001b[0;34m\u001b[0m\u001b[0;34m\u001b[0m\u001b[0m\n",
      "\u001b[0;32m/Users/chris/Desktop/CDIPS_Recommender/src/recommendation.py\u001b[0m in \u001b[0;36mrecommendation_score\u001b[0;34m(user_id, candidate_spu, user_profile, spu_fea, method, extra_inputs)\u001b[0m\n\u001b[1;32m     84\u001b[0m \u001b[0;34m\u001b[0m\u001b[0m\n\u001b[1;32m     85\u001b[0m         \u001b[0;31m# load nn features for candidate item\u001b[0m\u001b[0;34m\u001b[0m\u001b[0;34m\u001b[0m\u001b[0m\n\u001b[0;32m---> 86\u001b[0;31m         \u001b[0mfeatures_other\u001b[0m \u001b[0;34m=\u001b[0m \u001b[0mspu_fea\u001b[0m\u001b[0;34m.\u001b[0m\u001b[0mloc\u001b[0m\u001b[0;34m[\u001b[0m\u001b[0mspu_fea\u001b[0m\u001b[0;34m.\u001b[0m\u001b[0mspu_id\u001b[0m\u001b[0;34m==\u001b[0m\u001b[0mcandidate_spu\u001b[0m\u001b[0;34m,\u001b[0m\u001b[0;34m'features'\u001b[0m\u001b[0;34m]\u001b[0m\u001b[0;34m.\u001b[0m\u001b[0mas_matrix\u001b[0m\u001b[0;34m(\u001b[0m\u001b[0;34m)\u001b[0m\u001b[0;34m[\u001b[0m\u001b[0;36m0\u001b[0m\u001b[0;34m]\u001b[0m \u001b[0;31m# return a 1-D np array\u001b[0m\u001b[0;34m\u001b[0m\u001b[0m\n\u001b[0m\u001b[1;32m     87\u001b[0m \u001b[0;34m\u001b[0m\u001b[0m\n\u001b[1;32m     88\u001b[0m         \u001b[0;32mreturn\u001b[0m\u001b[0;34m(\u001b[0m\u001b[0msimilarity\u001b[0m\u001b[0;34m(\u001b[0m\u001b[0maverage_features\u001b[0m\u001b[0;34m,\u001b[0m\u001b[0mfeatures_other\u001b[0m\u001b[0;34m)\u001b[0m\u001b[0;34m)\u001b[0m\u001b[0;34m\u001b[0m\u001b[0m\n",
      "\u001b[0;31mIndexError\u001b[0m: index 0 is out of bounds for axis 0 with size 0"
     ]
    }
   ],
   "source": [
    "# nathan's\n",
    "user_buy_ranks1,no_ranks1,item_score_in_category=get_user_buy_ranks(users_sample,user_profile,spu_fea,method='AverageFeatureSim')\n"
   ]
  },
  {
   "cell_type": "code",
   "execution_count": null,
   "metadata": {},
   "outputs": [],
   "source": [
    "# just taking the last item \n",
    "user_buy_ranks2,no_ranks2,_=get_user_buy_ranks(users_sample,user_profile,spu_fea,method='LastItemSim')\n"
   ]
  },
  {
   "cell_type": "code",
   "execution_count": null,
   "metadata": {
    "scrolled": true,
    "slideshow": {
     "slide_type": "slide"
    }
   },
   "outputs": [],
   "source": [
    "# randomize \n",
    "user_buy_ranks3,no_ranks3,_=get_user_buy_ranks(users_sample,user_profile,spu_fea,method='Randomize',randomize_scores=True)\n"
   ]
  },
  {
   "cell_type": "code",
   "execution_count": null,
   "metadata": {},
   "outputs": [],
   "source": [
    "# stack\n",
    "rank_percent = np.vstack((user_buy_ranks1/no_ranks1,user_buy_ranks2/no_ranks2,user_buy_ranks3/no_ranks3))\n",
    "print(rank_percent.shape)"
   ]
  },
  {
   "cell_type": "code",
   "execution_count": 27,
   "metadata": {},
   "outputs": [
    {
     "name": "stdout",
     "output_type": "stream",
     "text": [
      "10\n",
      "3\n"
     ]
    },
    {
     "data": {
      "text/plain": [
       "<matplotlib.lines.Line2D at 0x11daa3c90>"
      ]
     },
     "execution_count": 27,
     "metadata": {},
     "output_type": "execute_result"
    },
    {
     "data": {
      "image/png": "[encoded data removed]",
      "text/plain": [
       "<matplotlib.figure.Figure at 0x1191cec90>"
      ]
     },
     "metadata": {},
     "output_type": "display_data"
    }
   ],
   "source": [
    "# Plot \n",
    "mean = rank_percent.mean(axis=1)\n",
    "n = np.shape(rank_percent)[1]\n",
    "m = np.shape(rank_percent)[0]\n",
    "print(n)\n",
    "print(m)\n",
    "\n",
    "sem = rank_percent.std(axis=1)/np.sqrt(n)\n",
    "plt.errorbar(np.arange(m),y=mean,yerr=sem,linestyle='None',marker='o')\n",
    "plt.xticks(np.arange(m),['alg1','alg2','alg3'])\n",
    "plt.xlim([-1,m+1])\n",
    "plt.ylim(0,1)\n",
    "sns.despine()\n",
    "plt.title('Recommendor Comparison')\n",
    "plt.ylabel('Average (Buy Rank / Total Candidates)')\n",
    "plt.axhline(y=0.5,linestyle='--')\n"
   ]
  },
  {
   "cell_type": "markdown",
   "metadata": {},
   "source": [
    "# Save"
   ]
  },
  {
   "cell_type": "code",
   "execution_count": null,
   "metadata": {
    "collapsed": true
   },
   "outputs": [],
   "source": [
    "%%bash \n",
    "jupyter nbconvert --to slides Recommendation_Compare_Methods.ipynb && mv Recommendation_Compare_Methods.slides.html ../notebook_slides/Recommendation_Compare_Methods_v1.slides.html\n",
    "jupyter nbconvert --to html Recommendation_Compare_Methods.ipynb && mv Recommendation_Compare_Methods.html ../notebook_htmls/Recommendation_Compare_Methods_v1.html\n",
    "cp Recommendation_Compare_Methods.ipynb ../notebook_versions/Recommendation_Compare_Methods_v1.ipynb"
   ]
  }
 ],
 "metadata": {
  "celltoolbar": "Slideshow",
  "hide_input": false,
  "kernelspec": {
   "display_name": "Python 2",
   "language": "python",
   "name": "python2"
  },
  "language_info": {
   "codemirror_mode": {
    "name": "ipython",
    "version": 2
   },
   "file_extension": ".py",
   "mimetype": "text/x-python",
   "name": "python",
   "nbconvert_exporter": "python",
   "pygments_lexer": "ipython2",
   "version": "2.7.13"
  },
  "toc": {
   "colors": {
    "hover_highlight": "#DAA520",
    "navigate_num": "#000000",
    "navigate_text": "#333333",
    "running_highlight": "#FF0000",
    "selected_highlight": "#FFD700",
    "sidebar_border": "#EEEEEE",
    "wrapper_background": "#FFFFFF"
   },
   "moveMenuLeft": true,
   "nav_menu": {
    "height": "65px",
    "width": "253px"
   },
   "navigate_menu": true,
   "number_sections": false,
   "sideBar": true,
   "threshold": 4,
   "toc_cell": false,
   "toc_section_display": "block",
   "toc_window_display": true,
   "widenNotebook": false
  }
 },
 "nbformat": 4,
 "nbformat_minor": 2
}
