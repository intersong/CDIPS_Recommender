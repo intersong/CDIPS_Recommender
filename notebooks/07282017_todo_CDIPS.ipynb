{
 "cells": [
  {
   "cell_type": "markdown",
   "metadata": {},
   "source": [
    "## To do for 07282017:\n",
    "1. User_filter:\n",
    "   Filter user based on certain features, e.g., \n",
    "   consistent with theme, certain time of viewing, \n",
    "   or certain time interval before each item viewing.\n",
    "2. Recommendation core:\n",
    "   It will basically be the collaborative filter (CF),\n",
    "   but instead of using real items, I'd like to use \n",
    "   features extracted from CNN and dimension-reduced\n",
    "   by tSNE to maybe 20 D.\n",
    "3. Processor:\n",
    "   Input are\n",
    "   a. log of user history\n",
    "   b. item features\n",
    "   Output are\n",
    "   a. Top N rank of recommendation item for each user\n",
    "4. Evaluator:\n",
    "   Evaluate whether the user buy the item within the top\n",
    "   N rank of recommended items."
   ]
  },
  {
   "cell_type": "code",
   "execution_count": null,
   "metadata": {
    "collapsed": true
   },
   "outputs": [],
   "source": []
  }
 ],
 "metadata": {
  "kernelspec": {
   "display_name": "Python [conda root]",
   "language": "python",
   "name": "conda-root-py"
  },
  "language_info": {
   "codemirror_mode": {
    "name": "ipython",
    "version": 2
   },
   "file_extension": ".py",
   "mimetype": "text/x-python",
   "name": "python",
   "nbconvert_exporter": "python",
   "pygments_lexer": "ipython2",
   "version": "2.7.12"
  }
 },
 "nbformat": 4,
 "nbformat_minor": 2
}
