{
 "cells": [
  {
   "cell_type": "code",
   "execution_count": 92,
   "metadata": {
    "collapsed": true
   },
   "outputs": [],
   "source": [
    "import numpy as np\n",
    "import pandas as pd\n",
    "import sys\n",
    "import sys\n",
    "import os\n",
    "sys.path.append('../')\n",
    "os.getcwd()\n",
    "import matplotlib.pyplot as plt \n",
    "import seaborn as sns\n",
    "sns.set_style('white')\n",
    "%matplotlib inline"
   ]
  },
  {
   "cell_type": "code",
   "execution_count": 10,
   "metadata": {
    "collapsed": true
   },
   "outputs": [],
   "source": [
    "import src\n",
    "import src.recommendation\n",
    "reload(src.recommendation)\n",
    "from src.recommendation import *"
   ]
  },
  {
   "cell_type": "markdown",
   "metadata": {},
   "source": [
    "# Plot Trajectories with Pictures"
   ]
  },
  {
   "cell_type": "code",
   "execution_count": 102,
   "metadata": {
    "collapsed": true
   },
   "outputs": [],
   "source": [
    "# our lib\n",
    "from lib.resnet50 import ResNet50\n",
    "from lib.imagenet_utils import preprocess_input, decode_predictions\n",
    "\n",
    "#keras \n",
    "from keras.preprocessing import image\n",
    "from keras.models import Model\n",
    "\n",
    "import glob\n",
    "\n",
    "def preprocess_img(img_path):\n",
    "    img = image.load_img(img_path, target_size=(224, 224))\n",
    "    x = image.img_to_array(img)\n",
    "    x = np.expand_dims(x, axis=0)\n",
    "    x = preprocess_input(x)\n",
    "    return(x,img)"
   ]
  },
  {
   "cell_type": "code",
   "execution_count": 100,
   "metadata": {
    "collapsed": false,
    "scrolled": true
   },
   "outputs": [
    {
     "name": "stderr",
     "output_type": "stream",
     "text": [
      "../lib/resnet50.py:165: UserWarning: Update your `Conv2D` call to the Keras 2 API: `Conv2D(64, (7, 7), strides=(2, 2), name=\"conv1\")`\n",
      "  x = Convolution2D(64, 7, 7, subsample=(2, 2), name='conv1')(x)\n",
      "../lib/resnet50.py:90: UserWarning: Update your `Conv2D` call to the Keras 2 API: `Conv2D(64, (1, 1), strides=(1, 1), name=\"res2a_branch2a\")`\n",
      "  name=conv_name_base + '2a')(input_tensor)\n",
      "../lib/resnet50.py:95: UserWarning: Update your `Conv2D` call to the Keras 2 API: `Conv2D(64, (3, 3), padding=\"same\", name=\"res2a_branch2b\")`\n",
      "  name=conv_name_base + '2b')(x)\n",
      "../lib/resnet50.py:99: UserWarning: Update your `Conv2D` call to the Keras 2 API: `Conv2D(256, (1, 1), name=\"res2a_branch2c\")`\n",
      "  x = Convolution2D(nb_filter3, 1, 1, name=conv_name_base + '2c')(x)\n",
      "../lib/resnet50.py:103: UserWarning: Update your `Conv2D` call to the Keras 2 API: `Conv2D(256, (1, 1), strides=(1, 1), name=\"res2a_branch1\")`\n",
      "  name=conv_name_base + '1')(input_tensor)\n",
      "../lib/resnet50.py:106: UserWarning: The `merge` function is deprecated and will be removed after 08/2017. Use instead layers from `keras.layers.merge`, e.g. `add`, `concatenate`, etc.\n",
      "  x = merge([x, shortcut], mode='sum')\n",
      "/Users/chris/anaconda/envs/virtenv/lib/python2.7/site-packages/keras/legacy/layers.py:456: UserWarning: The `Merge` layer is deprecated and will be removed after 08/2017. Use instead layers from `keras.layers.merge`, e.g. `add`, `concatenate`, etc.\n",
      "  name=name)\n",
      "../lib/resnet50.py:51: UserWarning: Update your `Conv2D` call to the Keras 2 API: `Conv2D(64, (1, 1), name=\"res2b_branch2a\")`\n",
      "  x = Convolution2D(nb_filter1, 1, 1, name=conv_name_base + '2a')(input_tensor)\n",
      "../lib/resnet50.py:56: UserWarning: Update your `Conv2D` call to the Keras 2 API: `Conv2D(64, (3, 3), padding=\"same\", name=\"res2b_branch2b\")`\n",
      "  border_mode='same', name=conv_name_base + '2b')(x)\n",
      "../lib/resnet50.py:60: UserWarning: Update your `Conv2D` call to the Keras 2 API: `Conv2D(256, (1, 1), name=\"res2b_branch2c\")`\n",
      "  x = Convolution2D(nb_filter3, 1, 1, name=conv_name_base + '2c')(x)\n",
      "../lib/resnet50.py:63: UserWarning: The `merge` function is deprecated and will be removed after 08/2017. Use instead layers from `keras.layers.merge`, e.g. `add`, `concatenate`, etc.\n",
      "  x = merge([x, input_tensor], mode='sum')\n",
      "../lib/resnet50.py:51: UserWarning: Update your `Conv2D` call to the Keras 2 API: `Conv2D(64, (1, 1), name=\"res2c_branch2a\")`\n",
      "  x = Convolution2D(nb_filter1, 1, 1, name=conv_name_base + '2a')(input_tensor)\n",
      "../lib/resnet50.py:56: UserWarning: Update your `Conv2D` call to the Keras 2 API: `Conv2D(64, (3, 3), padding=\"same\", name=\"res2c_branch2b\")`\n",
      "  border_mode='same', name=conv_name_base + '2b')(x)\n",
      "../lib/resnet50.py:60: UserWarning: Update your `Conv2D` call to the Keras 2 API: `Conv2D(256, (1, 1), name=\"res2c_branch2c\")`\n",
      "  x = Convolution2D(nb_filter3, 1, 1, name=conv_name_base + '2c')(x)\n",
      "../lib/resnet50.py:90: UserWarning: Update your `Conv2D` call to the Keras 2 API: `Conv2D(128, (1, 1), strides=(2, 2), name=\"res3a_branch2a\")`\n",
      "  name=conv_name_base + '2a')(input_tensor)\n",
      "../lib/resnet50.py:95: UserWarning: Update your `Conv2D` call to the Keras 2 API: `Conv2D(128, (3, 3), padding=\"same\", name=\"res3a_branch2b\")`\n",
      "  name=conv_name_base + '2b')(x)\n",
      "../lib/resnet50.py:99: UserWarning: Update your `Conv2D` call to the Keras 2 API: `Conv2D(512, (1, 1), name=\"res3a_branch2c\")`\n",
      "  x = Convolution2D(nb_filter3, 1, 1, name=conv_name_base + '2c')(x)\n",
      "../lib/resnet50.py:103: UserWarning: Update your `Conv2D` call to the Keras 2 API: `Conv2D(512, (1, 1), strides=(2, 2), name=\"res3a_branch1\")`\n",
      "  name=conv_name_base + '1')(input_tensor)\n",
      "../lib/resnet50.py:51: UserWarning: Update your `Conv2D` call to the Keras 2 API: `Conv2D(128, (1, 1), name=\"res3b_branch2a\")`\n",
      "  x = Convolution2D(nb_filter1, 1, 1, name=conv_name_base + '2a')(input_tensor)\n",
      "../lib/resnet50.py:56: UserWarning: Update your `Conv2D` call to the Keras 2 API: `Conv2D(128, (3, 3), padding=\"same\", name=\"res3b_branch2b\")`\n",
      "  border_mode='same', name=conv_name_base + '2b')(x)\n",
      "../lib/resnet50.py:60: UserWarning: Update your `Conv2D` call to the Keras 2 API: `Conv2D(512, (1, 1), name=\"res3b_branch2c\")`\n",
      "  x = Convolution2D(nb_filter3, 1, 1, name=conv_name_base + '2c')(x)\n",
      "../lib/resnet50.py:51: UserWarning: Update your `Conv2D` call to the Keras 2 API: `Conv2D(128, (1, 1), name=\"res3c_branch2a\")`\n",
      "  x = Convolution2D(nb_filter1, 1, 1, name=conv_name_base + '2a')(input_tensor)\n",
      "../lib/resnet50.py:56: UserWarning: Update your `Conv2D` call to the Keras 2 API: `Conv2D(128, (3, 3), padding=\"same\", name=\"res3c_branch2b\")`\n",
      "  border_mode='same', name=conv_name_base + '2b')(x)\n",
      "../lib/resnet50.py:60: UserWarning: Update your `Conv2D` call to the Keras 2 API: `Conv2D(512, (1, 1), name=\"res3c_branch2c\")`\n",
      "  x = Convolution2D(nb_filter3, 1, 1, name=conv_name_base + '2c')(x)\n",
      "../lib/resnet50.py:51: UserWarning: Update your `Conv2D` call to the Keras 2 API: `Conv2D(128, (1, 1), name=\"res3d_branch2a\")`\n",
      "  x = Convolution2D(nb_filter1, 1, 1, name=conv_name_base + '2a')(input_tensor)\n",
      "../lib/resnet50.py:56: UserWarning: Update your `Conv2D` call to the Keras 2 API: `Conv2D(128, (3, 3), padding=\"same\", name=\"res3d_branch2b\")`\n",
      "  border_mode='same', name=conv_name_base + '2b')(x)\n",
      "../lib/resnet50.py:60: UserWarning: Update your `Conv2D` call to the Keras 2 API: `Conv2D(512, (1, 1), name=\"res3d_branch2c\")`\n",
      "  x = Convolution2D(nb_filter3, 1, 1, name=conv_name_base + '2c')(x)\n",
      "../lib/resnet50.py:90: UserWarning: Update your `Conv2D` call to the Keras 2 API: `Conv2D(256, (1, 1), strides=(2, 2), name=\"res4a_branch2a\")`\n",
      "  name=conv_name_base + '2a')(input_tensor)\n",
      "../lib/resnet50.py:95: UserWarning: Update your `Conv2D` call to the Keras 2 API: `Conv2D(256, (3, 3), padding=\"same\", name=\"res4a_branch2b\")`\n",
      "  name=conv_name_base + '2b')(x)\n",
      "../lib/resnet50.py:99: UserWarning: Update your `Conv2D` call to the Keras 2 API: `Conv2D(1024, (1, 1), name=\"res4a_branch2c\")`\n",
      "  x = Convolution2D(nb_filter3, 1, 1, name=conv_name_base + '2c')(x)\n",
      "../lib/resnet50.py:103: UserWarning: Update your `Conv2D` call to the Keras 2 API: `Conv2D(1024, (1, 1), strides=(2, 2), name=\"res4a_branch1\")`\n",
      "  name=conv_name_base + '1')(input_tensor)\n",
      "../lib/resnet50.py:51: UserWarning: Update your `Conv2D` call to the Keras 2 API: `Conv2D(256, (1, 1), name=\"res4b_branch2a\")`\n",
      "  x = Convolution2D(nb_filter1, 1, 1, name=conv_name_base + '2a')(input_tensor)\n",
      "../lib/resnet50.py:56: UserWarning: Update your `Conv2D` call to the Keras 2 API: `Conv2D(256, (3, 3), padding=\"same\", name=\"res4b_branch2b\")`\n",
      "  border_mode='same', name=conv_name_base + '2b')(x)\n",
      "../lib/resnet50.py:60: UserWarning: Update your `Conv2D` call to the Keras 2 API: `Conv2D(1024, (1, 1), name=\"res4b_branch2c\")`\n",
      "  x = Convolution2D(nb_filter3, 1, 1, name=conv_name_base + '2c')(x)\n",
      "../lib/resnet50.py:51: UserWarning: Update your `Conv2D` call to the Keras 2 API: `Conv2D(256, (1, 1), name=\"res4c_branch2a\")`\n",
      "  x = Convolution2D(nb_filter1, 1, 1, name=conv_name_base + '2a')(input_tensor)\n",
      "../lib/resnet50.py:56: UserWarning: Update your `Conv2D` call to the Keras 2 API: `Conv2D(256, (3, 3), padding=\"same\", name=\"res4c_branch2b\")`\n",
      "  border_mode='same', name=conv_name_base + '2b')(x)\n",
      "../lib/resnet50.py:60: UserWarning: Update your `Conv2D` call to the Keras 2 API: `Conv2D(1024, (1, 1), name=\"res4c_branch2c\")`\n",
      "  x = Convolution2D(nb_filter3, 1, 1, name=conv_name_base + '2c')(x)\n",
      "../lib/resnet50.py:51: UserWarning: Update your `Conv2D` call to the Keras 2 API: `Conv2D(256, (1, 1), name=\"res4d_branch2a\")`\n",
      "  x = Convolution2D(nb_filter1, 1, 1, name=conv_name_base + '2a')(input_tensor)\n",
      "../lib/resnet50.py:56: UserWarning: Update your `Conv2D` call to the Keras 2 API: `Conv2D(256, (3, 3), padding=\"same\", name=\"res4d_branch2b\")`\n",
      "  border_mode='same', name=conv_name_base + '2b')(x)\n",
      "../lib/resnet50.py:60: UserWarning: Update your `Conv2D` call to the Keras 2 API: `Conv2D(1024, (1, 1), name=\"res4d_branch2c\")`\n",
      "  x = Convolution2D(nb_filter3, 1, 1, name=conv_name_base + '2c')(x)\n",
      "../lib/resnet50.py:51: UserWarning: Update your `Conv2D` call to the Keras 2 API: `Conv2D(256, (1, 1), name=\"res4e_branch2a\")`\n",
      "  x = Convolution2D(nb_filter1, 1, 1, name=conv_name_base + '2a')(input_tensor)\n",
      "../lib/resnet50.py:56: UserWarning: Update your `Conv2D` call to the Keras 2 API: `Conv2D(256, (3, 3), padding=\"same\", name=\"res4e_branch2b\")`\n",
      "  border_mode='same', name=conv_name_base + '2b')(x)\n",
      "../lib/resnet50.py:60: UserWarning: Update your `Conv2D` call to the Keras 2 API: `Conv2D(1024, (1, 1), name=\"res4e_branch2c\")`\n",
      "  x = Convolution2D(nb_filter3, 1, 1, name=conv_name_base + '2c')(x)\n",
      "../lib/resnet50.py:51: UserWarning: Update your `Conv2D` call to the Keras 2 API: `Conv2D(256, (1, 1), name=\"res4f_branch2a\")`\n",
      "  x = Convolution2D(nb_filter1, 1, 1, name=conv_name_base + '2a')(input_tensor)\n",
      "../lib/resnet50.py:56: UserWarning: Update your `Conv2D` call to the Keras 2 API: `Conv2D(256, (3, 3), padding=\"same\", name=\"res4f_branch2b\")`\n",
      "  border_mode='same', name=conv_name_base + '2b')(x)\n",
      "../lib/resnet50.py:60: UserWarning: Update your `Conv2D` call to the Keras 2 API: `Conv2D(1024, (1, 1), name=\"res4f_branch2c\")`\n",
      "  x = Convolution2D(nb_filter3, 1, 1, name=conv_name_base + '2c')(x)\n",
      "../lib/resnet50.py:90: UserWarning: Update your `Conv2D` call to the Keras 2 API: `Conv2D(512, (1, 1), strides=(2, 2), name=\"res5a_branch2a\")`\n",
      "  name=conv_name_base + '2a')(input_tensor)\n",
      "../lib/resnet50.py:95: UserWarning: Update your `Conv2D` call to the Keras 2 API: `Conv2D(512, (3, 3), padding=\"same\", name=\"res5a_branch2b\")`\n",
      "  name=conv_name_base + '2b')(x)\n",
      "../lib/resnet50.py:99: UserWarning: Update your `Conv2D` call to the Keras 2 API: `Conv2D(2048, (1, 1), name=\"res5a_branch2c\")`\n",
      "  x = Convolution2D(nb_filter3, 1, 1, name=conv_name_base + '2c')(x)\n",
      "../lib/resnet50.py:103: UserWarning: Update your `Conv2D` call to the Keras 2 API: `Conv2D(2048, (1, 1), strides=(2, 2), name=\"res5a_branch1\")`\n",
      "  name=conv_name_base + '1')(input_tensor)\n",
      "../lib/resnet50.py:51: UserWarning: Update your `Conv2D` call to the Keras 2 API: `Conv2D(512, (1, 1), name=\"res5b_"
     ]
    },
    {
     "data": {
      "text/html": [
       "<b>limit_output extension: Maximum message size of 10000 exceeded with 10692 characters</b>"
      ]
     },
     "metadata": {},
     "output_type": "display_data"
    }
   ],
   "source": [
    "# instantiate the model\n",
    "base_model = ResNet50(include_top=False, weights='imagenet') #this will pull the weights from the folder \n",
    "\n",
    "# cut the model to lower levels only \n",
    "model = Model(input=base_model.input, output=base_model.get_layer('avg_pool').output)"
   ]
  },
  {
   "cell_type": "code",
   "execution_count": 110,
   "metadata": {
    "collapsed": false
   },
   "outputs": [
    {
     "name": "stdout",
     "output_type": "stream",
     "text": [
      "['../data_img_sample_item_view_sequences/106144465_1_82548633538732181_0_view_.jpg', '../data_img_sample_item_view_sequences/106144465_2_310261911240101889_11_view_.jpg', '../data_img_sample_item_view_sequences/106144465_3_75793218577661959_2_view_.jpg', '../data_img_sample_item_view_sequences/106144465_4_76074708321099781_5_view_.jpg', '../data_img_sample_item_view_sequences/106144465_5_98029795868614676_4_view_.jpg', '../data_img_sample_item_view_sequences/106144465_6_22313013691846692_3_view_.jpg', '../data_img_sample_item_view_sequences/106144465_7_467887899726037038_4_view_.jpg', '../data_img_sample_item_view_sequences/106144465_8_216812239953170449_21_buy_.jpg']\n"
     ]
    }
   ],
   "source": [
    "user_id = 106144465 \n",
    "\n",
    "#get images \n",
    "folder = '../data_img_sample_item_view_sequences/'\n",
    "img_files = glob.glob(folder+'*'+str(user_id)+'*')\n",
    "print(img_files)\n",
    "\n",
    "\n",
    "# make features \n",
    "trajectory_features = np.empty((len(img_files),2048))\n",
    "for i,img_file in enumerate(img_files):\n",
    "    x,img = preprocess_img(img_file) # preprocess\n",
    "    trajectory_features[i,:] = model.predict(x)[0,0,0,:]\n",
    "    "
   ]
  },
  {
   "cell_type": "code",
   "execution_count": 111,
   "metadata": {
    "collapsed": true
   },
   "outputs": [],
   "source": [
    "red_traj = np.dot(trajectory_features,red_weights)"
   ]
  },
  {
   "cell_type": "code",
   "execution_count": 145,
   "metadata": {
    "collapsed": false
   },
   "outputs": [
    {
     "name": "stdout",
     "output_type": "stream",
     "text": [
      "target class\n",
      "here\n"
     ]
    },
    {
     "data": {
      "text/plain": [
       "<matplotlib.figure.Figure at 0x1202735d0>"
      ]
     },
     "metadata": {},
     "output_type": "display_data"
    },
    {
     "data": {
      "image/png": "[encoded data removed]",
      "text/plain": [
       "<matplotlib.figure.Figure at 0x121a04210>"
      ]
     },
     "metadata": {},
     "output_type": "display_data"
    }
   ],
   "source": [
    "print('target class')\n",
    "plt.figure(figsize=(12,6))\n",
    "len_seq = len(img_files)\n",
    "\n",
    "fig,axes = plt.subplots(2,len_seq)\n",
    "\n",
    "# make color\n",
    "color_red_black = pd.Series(red_traj>0).map({False:'k',True:'r'}).as_matrix()\n",
    "\n",
    "for i in range(len_seq):\n",
    "    img = image.load_img(img_files[i], target_size=(224, 224))\n",
    "\n",
    "    # images\n",
    "    axes[0,i].imshow(img)\n",
    "    axes[0,i].set_xticklabels([])\n",
    "    #axes[0,i].get_xaxis().set_visible(False)\n",
    "    axes[0,i].get_xaxis().set_ticks([])\n",
    "    axes[0,i].get_yaxis().set_visible(False) \n",
    "    if i<(len_seq-1):\n",
    "        axes[0,i].set_xlabel('view '+str(i))\n",
    "    else:\n",
    "        axes[0,i].set_xlabel('buy')\n",
    "         \n",
    "    # bar \n",
    "    axes[1,i].bar(0,red_traj[i],color=color_red_black[i])\n",
    "    axes[1,i].set_ylim([-10,5])\n",
    "    axes[1,i].get_xaxis().set_visible(False)\n",
    "    axes[1,i].axhline(y=0,linestyle='--',color='w')\n",
    "    if i==0:\n",
    "        print('here')\n",
    "        axes[1,i].set_ylabel('red classification')\n",
    "    else:\n",
    "        axes[1,i].get_yaxis().set_visible(False) \n",
    "    sns.despine()\n",
    "savefile = '../figures/example_sequence_interpretable_features_ui_'+str(user_id)+'.png'\n",
    "plt.savefig(savefile,dpi=300)"
   ]
  },
  {
   "cell_type": "code",
   "execution_count": 152,
   "metadata": {
    "collapsed": false
   },
   "outputs": [
    {
     "name": "stdout",
     "output_type": "stream",
     "text": [
      ".........\n",
      "https://s3-us-west-2.amazonaws.com/bishopbucket/proj_cdips/Results/example_sequence_interpretable_features_ui_106144465.png\n"
     ]
    }
   ],
   "source": [
    "reload(src.s3_data_management)\n",
    "from src import s3_data_management\n",
    "s3_data_management.push_results_to_s3(os.path.basename(savefile),savefile)"
   ]
  },
  {
   "cell_type": "markdown",
   "metadata": {},
   "source": [
    "# Plot Trajectories from User Profile Eval Dataset"
   ]
  },
  {
   "cell_type": "code",
   "execution_count": 82,
   "metadata": {
    "collapsed": true
   },
   "outputs": [],
   "source": [
    "# load weights from the nn\n",
    "red_weights = np.loadtxt('../data_nn_features/class_weights_LR_redpink.txt')"
   ]
  },
  {
   "cell_type": "code",
   "execution_count": 7,
   "metadata": {
    "collapsed": false
   },
   "outputs": [
    {
     "name": "stdout",
     "output_type": "stream",
     "text": [
      "40141\n",
      "961\n"
     ]
    },
    {
     "data": {
      "text/html": [
       "<div>\n",
       "<style>\n",
       "    .dataframe thead tr:only-child th {\n",
       "        text-align: right;\n",
       "    }\n",
       "\n",
       "    .dataframe thead th {\n",
       "        text-align: left;\n",
       "    }\n",
       "\n",
       "    .dataframe tbody tr th {\n",
       "        vertical-align: top;\n",
       "    }\n",
       "</style>\n",
       "<table border=\"1\" class=\"dataframe\">\n",
       "  <thead>\n",
       "    <tr style=\"text-align: right;\">\n",
       "      <th></th>\n",
       "      <th>user_id</th>\n",
       "      <th>buy_spu</th>\n",
       "      <th>buy_sn</th>\n",
       "      <th>buy_ct3</th>\n",
       "      <th>view_spu</th>\n",
       "      <th>view_sn</th>\n",
       "      <th>view_ct3</th>\n",
       "      <th>time_interval</th>\n",
       "      <th>view_cnt</th>\n",
       "      <th>view_seconds</th>\n",
       "      <th>index</th>\n",
       "      <th>spu_id</th>\n",
       "      <th>view_spu_count</th>\n",
       "      <th>drop</th>\n",
       "    </tr>\n",
       "  </thead>\n",
       "  <tbody>\n",
       "    <tr>\n",
       "      <th>1226</th>\n",
       "      <td>3787002243</td>\n",
       "      <td>14994645517246498</td>\n",
       "      <td>10006541</td>\n",
       "      <td>334</td>\n",
       "      <td>221597279072104476</td>\n",
       "      <td>10005949</td>\n",
       "      <td>334</td>\n",
       "      <td>389705</td>\n",
       "      <td>4</td>\n",
       "      <td>98</td>\n",
       "      <td>87616.0</td>\n",
       "      <td>2.215973e+17</td>\n",
       "      <td>11</td>\n",
       "      <td>0</td>\n",
       "    </tr>\n",
       "    <tr>\n",
       "      <th>1227</th>\n",
       "      <td>3787002243</td>\n",
       "      <td>14994645517246498</td>\n",
       "      <td>10006541</td>\n",
       "      <td>334</td>\n",
       "      <td>29349802448457744</td>\n",
       "      <td>10004542</td>\n",
       "      <td>334</td>\n",
       "      <td>7342</td>\n",
       "      <td>1</td>\n",
       "      <td>10</td>\n",
       "      <td>73880.0</td>\n",
       "      <td>2.934980e+16</td>\n",
       "      <td>11</td>\n",
       "      <td>0</td>\n",
       "    </tr>\n",
       "    <tr>\n",
       "      <th>2261</th>\n",
       "      <td>132681117</td>\n",
       "      <td>6831894477217820</td>\n",
       "      <td>10001155</td>\n",
       "      <td>334</td>\n",
       "      <td>27661017974767638</td>\n",
       "      <td>10004048</td>\n",
       "      <td>334</td>\n",
       "      <td>32451</td>\n",
       "      <td>1</td>\n",
       "      <td>6</td>\n",
       "      <td>21676.0</td>\n",
       "      <td>2.766102e+16</td>\n",
       "      <td>63</td>\n",
       "      <td>0</td>\n",
       "    </tr>\n",
       "    <tr>\n",
       "      <th>2262</th>\n",
       "      <td>132681117</td>\n",
       "      <td>6831894477217820</td>\n",
       "      <td>10001155</td>\n",
       "      <td>334</td>\n",
       "      <td>288869796837830741</td>\n",
       "      <td>10000351</td>\n",
       "      <td>334</td>\n",
       "      <td>33318</td>\n",
       "      <td>2</td>\n",
       "      <td>30</td>\n",
       "      <td>6475.0</td>\n",
       "      <td>2.888698e+17</td>\n",
       "      <td>63</td>\n",
       "      <td>0</td>\n",
       "    </tr>\n",
       "    <tr>\n",
       "      <th>2263</th>\n",
       "      <td>132681117</td>\n",
       "      <td>6831894477217820</td>\n",
       "      <td>10001155</td>\n",
       "      <td>334</td>\n",
       "      <td>301817675098247170</td>\n",
       "      <td>10020640</td>\n",
       "      <td>334</td>\n",
       "      <td>428149</td>\n",
       "      <td>1</td>\n",
       "      <td>9</td>\n",
       "      <td>25612.0</td>\n",
       "      <td>3.018177e+17</td>\n",
       "      <td>63</td>\n",
       "      <td>0</td>\n",
       "    </tr>\n",
       "  </tbody>\n",
       "</table>\n",
       "</div>"
      ],
      "text/plain": [
       "         user_id            buy_spu    buy_sn  buy_ct3            view_spu  \\\n",
       "1226  3787002243  14994645517246498  10006541      334  221597279072104476   \n",
       "1227  3787002243  14994645517246498  10006541      334   29349802448457744   \n",
       "2261   132681117   6831894477217820  10001155      334   27661017974767638   \n",
       "2262   132681117   6831894477217820  10001155      334  288869796837830741   \n",
       "2263   132681117   6831894477217820  10001155      334  301817675098247170   \n",
       "\n",
       "       view_sn  view_ct3  time_interval  view_cnt  view_seconds    index  \\\n",
       "1226  10005949       334         389705         4            98  87616.0   \n",
       "1227  10004542       334           7342         1            10  73880.0   \n",
       "2261  10004048       334          32451         1             6  21676.0   \n",
       "2262  10000351       334          33318         2            30   6475.0   \n",
       "2263  10020640       334         428149         1             9  25612.0   \n",
       "\n",
       "            spu_id  view_spu_count  drop  \n",
       "1226  2.215973e+17              11     0  \n",
       "1227  2.934980e+16              11     0  \n",
       "2261  2.766102e+16              63     0  \n",
       "2262  2.888698e+17              63     0  \n",
       "2263  3.018177e+17              63     0  "
      ]
     },
     "execution_count": 7,
     "metadata": {},
     "output_type": "execute_result"
    }
   ],
   "source": [
    "# load smaller user behavior dataset\n",
    "user_profile = pd.read_pickle('../data_user_view_buy/user_profile_items_nonnull_features_20_mins_5_views_v2_sample1000.pkl')\n",
    "user_sample = user_profile.user_id.unique()\n",
    "print(len(user_profile))\n",
    "print(len(user_sample))\n",
    "user_profile.head()"
   ]
  },
  {
   "cell_type": "code",
   "execution_count": 51,
   "metadata": {
    "collapsed": true
   },
   "outputs": [],
   "source": [
    "# read nn features \n",
    "spu_fea = pd.read_pickle(\"../data_nn_features/spu_fea_sample1000.pkl\")\n",
    "\n"
   ]
  },
  {
   "cell_type": "code",
   "execution_count": 53,
   "metadata": {
    "collapsed": false
   },
   "outputs": [
    {
     "data": {
      "text/html": [
       "<div>\n",
       "<style>\n",
       "    .dataframe thead tr:only-child th {\n",
       "        text-align: right;\n",
       "    }\n",
       "\n",
       "    .dataframe thead th {\n",
       "        text-align: left;\n",
       "    }\n",
       "\n",
       "    .dataframe tbody tr th {\n",
       "        vertical-align: top;\n",
       "    }\n",
       "</style>\n",
       "<table border=\"1\" class=\"dataframe\">\n",
       "  <thead>\n",
       "    <tr style=\"text-align: right;\">\n",
       "      <th></th>\n",
       "      <th>index</th>\n",
       "      <th>spu_id</th>\n",
       "      <th>features</th>\n",
       "      <th>view_spu</th>\n",
       "    </tr>\n",
       "  </thead>\n",
       "  <tbody>\n",
       "    <tr>\n",
       "      <th>2</th>\n",
       "      <td>4</td>\n",
       "      <td>100281553839460375</td>\n",
       "      <td>[0.661, 1.84, 0.028, 1.128, 0.172, 1.097, 1.45...</td>\n",
       "      <td>100281553839460375</td>\n",
       "    </tr>\n",
       "    <tr>\n",
       "      <th>10</th>\n",
       "      <td>17</td>\n",
       "      <td>102533309850574975</td>\n",
       "      <td>[0.351, 0.066, 0.044, 0.648, 0.011, 0.0, 0.207...</td>\n",
       "      <td>102533309850574975</td>\n",
       "    </tr>\n",
       "    <tr>\n",
       "      <th>11</th>\n",
       "      <td>18</td>\n",
       "      <td>102533356906119172</td>\n",
       "      <td>[0.474, 0.903, 0.03, 0.495, 0.01, 0.003, 0.2, ...</td>\n",
       "      <td>102533356906119172</td>\n",
       "    </tr>\n",
       "    <tr>\n",
       "      <th>16</th>\n",
       "      <td>26</td>\n",
       "      <td>1029993181497487363</td>\n",
       "      <td>[0.029, 0.347, 0.175, 0.789, 0.09, 0.0, 0.181,...</td>\n",
       "      <td>1029993181497487363</td>\n",
       "    </tr>\n",
       "    <tr>\n",
       "      <th>17</th>\n",
       "      <td>27</td>\n",
       "      <td>103096330169212941</td>\n",
       "      <td>[1.117, 0.826, 0.01, 0.058, 0.251, 0.783, 0.12...</td>\n",
       "      <td>103096330169212941</td>\n",
       "    </tr>\n",
       "  </tbody>\n",
       "</table>\n",
       "</div>"
      ],
      "text/plain": [
       "    index               spu_id  \\\n",
       "2       4   100281553839460375   \n",
       "10     17   102533309850574975   \n",
       "11     18   102533356906119172   \n",
       "16     26  1029993181497487363   \n",
       "17     27   103096330169212941   \n",
       "\n",
       "                                             features             view_spu  \n",
       "2   [0.661, 1.84, 0.028, 1.128, 0.172, 1.097, 1.45...   100281553839460375  \n",
       "10  [0.351, 0.066, 0.044, 0.648, 0.011, 0.0, 0.207...   102533309850574975  \n",
       "11  [0.474, 0.903, 0.03, 0.495, 0.01, 0.003, 0.2, ...   102533356906119172  \n",
       "16  [0.029, 0.347, 0.175, 0.789, 0.09, 0.0, 0.181,...  1029993181497487363  \n",
       "17  [1.117, 0.826, 0.01, 0.058, 0.251, 0.783, 0.12...   103096330169212941  "
      ]
     },
     "execution_count": 53,
     "metadata": {},
     "output_type": "execute_result"
    }
   ],
   "source": [
    "spu_fea.head()"
   ]
  },
  {
   "cell_type": "code",
   "execution_count": 34,
   "metadata": {
    "collapsed": true
   },
   "outputs": [],
   "source": [
    "# sample user \n",
    "user_id = user_profile.user_id.unique()[100]\n"
   ]
  },
  {
   "cell_type": "code",
   "execution_count": 35,
   "metadata": {
    "collapsed": true
   },
   "outputs": [],
   "source": [
    "# get his trajectory\n",
    "trajectory = user_profile.loc[user_profile.user_id==user_id,]\n"
   ]
  },
  {
   "cell_type": "code",
   "execution_count": 54,
   "metadata": {
    "collapsed": false
   },
   "outputs": [
    {
     "data": {
      "text/html": [
       "<div>\n",
       "<style>\n",
       "    .dataframe thead tr:only-child th {\n",
       "        text-align: right;\n",
       "    }\n",
       "\n",
       "    .dataframe thead th {\n",
       "        text-align: left;\n",
       "    }\n",
       "\n",
       "    .dataframe tbody tr th {\n",
       "        vertical-align: top;\n",
       "    }\n",
       "</style>\n",
       "<table border=\"1\" class=\"dataframe\">\n",
       "  <thead>\n",
       "    <tr style=\"text-align: right;\">\n",
       "      <th></th>\n",
       "      <th>user_id</th>\n",
       "      <th>buy_spu</th>\n",
       "      <th>buy_sn</th>\n",
       "      <th>buy_ct3</th>\n",
       "      <th>view_spu</th>\n",
       "      <th>view_sn</th>\n",
       "      <th>view_ct3</th>\n",
       "      <th>time_interval</th>\n",
       "      <th>view_cnt</th>\n",
       "      <th>view_seconds</th>\n",
       "      <th>index</th>\n",
       "      <th>spu_id</th>\n",
       "      <th>view_spu_count</th>\n",
       "      <th>drop</th>\n",
       "    </tr>\n",
       "  </thead>\n",
       "  <tbody>\n",
       "    <tr>\n",
       "      <th>212998</th>\n",
       "      <td>959703622</td>\n",
       "      <td>6550423839698985</td>\n",
       "      <td>10026622</td>\n",
       "      <td>334</td>\n",
       "      <td>219345496656609325</td>\n",
       "      <td>10026544</td>\n",
       "      <td>334</td>\n",
       "      <td>54624</td>\n",
       "      <td>6</td>\n",
       "      <td>25</td>\n",
       "      <td>39304.0</td>\n",
       "      <td>2.193455e+17</td>\n",
       "      <td>25</td>\n",
       "      <td>0</td>\n",
       "    </tr>\n",
       "    <tr>\n",
       "      <th>212999</th>\n",
       "      <td>959703622</td>\n",
       "      <td>6550423839698985</td>\n",
       "      <td>10026622</td>\n",
       "      <td>334</td>\n",
       "      <td>23720403349581825</td>\n",
       "      <td>10028762</td>\n",
       "      <td>334</td>\n",
       "      <td>17634</td>\n",
       "      <td>1</td>\n",
       "      <td>1</td>\n",
       "      <td>52040.0</td>\n",
       "      <td>2.372040e+16</td>\n",
       "      <td>25</td>\n",
       "      <td>0</td>\n",
       "    </tr>\n",
       "    <tr>\n",
       "      <th>213000</th>\n",
       "      <td>959703622</td>\n",
       "      <td>6550423839698985</td>\n",
       "      <td>10026622</td>\n",
       "      <td>334</td>\n",
       "      <td>315609947150188553</td>\n",
       "      <td>10024895</td>\n",
       "      <td>334</td>\n",
       "      <td>59662</td>\n",
       "      <td>1</td>\n",
       "      <td>3</td>\n",
       "      <td>15662.0</td>\n",
       "      <td>3.156099e+17</td>\n",
       "      <td>25</td>\n",
       "      <td>0</td>\n",
       "    </tr>\n",
       "    <tr>\n",
       "      <th>213001</th>\n",
       "      <td>959703622</td>\n",
       "      <td>6550423839698985</td>\n",
       "      <td>10026622</td>\n",
       "      <td>334</td>\n",
       "      <td>435799769016655878</td>\n",
       "      <td>10028762</td>\n",
       "      <td>334</td>\n",
       "      <td>57889</td>\n",
       "      <td>1</td>\n",
       "      <td>11</td>\n",
       "      <td>4385.0</td>\n",
       "      <td>4.357998e+17</td>\n",
       "      <td>25</td>\n",
       "      <td>0</td>\n",
       "    </tr>\n",
       "    <tr>\n",
       "      <th>213002</th>\n",
       "      <td>959703622</td>\n",
       "      <td>6550423839698985</td>\n",
       "      <td>10026622</td>\n",
       "      <td>334</td>\n",
       "      <td>436362689925402627</td>\n",
       "      <td>10026544</td>\n",
       "      <td>334</td>\n",
       "      <td>57579</td>\n",
       "      <td>1</td>\n",
       "      <td>7</td>\n",
       "      <td>30972.0</td>\n",
       "      <td>4.363627e+17</td>\n",
       "      <td>25</td>\n",
       "      <td>0</td>\n",
       "    </tr>\n",
       "  </tbody>\n",
       "</table>\n",
       "</div>"
      ],
      "text/plain": [
       "          user_id           buy_spu    buy_sn  buy_ct3            view_spu  \\\n",
       "212998  959703622  6550423839698985  10026622      334  219345496656609325   \n",
       "212999  959703622  6550423839698985  10026622      334   23720403349581825   \n",
       "213000  959703622  6550423839698985  10026622      334  315609947150188553   \n",
       "213001  959703622  6550423839698985  10026622      334  435799769016655878   \n",
       "213002  959703622  6550423839698985  10026622      334  436362689925402627   \n",
       "\n",
       "         view_sn  view_ct3  time_interval  view_cnt  view_seconds    index  \\\n",
       "212998  10026544       334          54624         6            25  39304.0   \n",
       "212999  10028762       334          17634         1             1  52040.0   \n",
       "213000  10024895       334          59662         1             3  15662.0   \n",
       "213001  10028762       334          57889         1            11   4385.0   \n",
       "213002  10026544       334          57579         1             7  30972.0   \n",
       "\n",
       "              spu_id  view_spu_count  drop  \n",
       "212998  2.193455e+17              25     0  \n",
       "212999  2.372040e+16              25     0  \n",
       "213000  3.156099e+17              25     0  \n",
       "213001  4.357998e+17              25     0  \n",
       "213002  4.363627e+17              25     0  "
      ]
     },
     "execution_count": 54,
     "metadata": {},
     "output_type": "execute_result"
    }
   ],
   "source": [
    "trajectory.head()"
   ]
  },
  {
   "cell_type": "code",
   "execution_count": 50,
   "metadata": {
    "collapsed": true
   },
   "outputs": [],
   "source": [
    "#spu_fea.spu_id['spu_']"
   ]
  },
  {
   "cell_type": "code",
   "execution_count": 68,
   "metadata": {
    "collapsed": true
   },
   "outputs": [],
   "source": [
    "\n",
    "trajectory_features = np.empty((len(trajectory),2048))\n",
    "for i,(index,row) in enumerate(trajectory.iterrows()):\n",
    "    trajectory_features[i,:] = spu_fea.loc[spu_fea.spu_id==row['view_spu'],'features'].as_matrix()[0]\n",
    "    "
   ]
  },
  {
   "cell_type": "code",
   "execution_count": 84,
   "metadata": {
    "collapsed": true
   },
   "outputs": [],
   "source": [
    "red_traj = np.dot(trajectory_features,red_weights)"
   ]
  },
  {
   "cell_type": "code",
   "execution_count": 93,
   "metadata": {
    "collapsed": false
   },
   "outputs": [
    {
     "data": {
      "image/png": "[encoded data removed]",
      "text/plain": [
       "<matplotlib.figure.Figure at 0x113ec09d0>"
      ]
     },
     "metadata": {},
     "output_type": "display_data"
    }
   ],
   "source": [
    "plt.plot(red_traj,np.arange(len(red_traj)))\n",
    "plt.xlabel('red features')\n",
    "plt.ylabel('positition in sequence')\n",
    "sns.despine()"
   ]
  },
  {
   "cell_type": "code",
   "execution_count": 76,
   "metadata": {
    "collapsed": false
   },
   "outputs": [
    {
     "data": {
      "text/plain": [
       "2048"
      ]
     },
     "execution_count": 76,
     "metadata": {},
     "output_type": "execute_result"
    }
   ],
   "source": [
    "len(spu_fea['features'].as_matrix()[0])"
   ]
  },
  {
   "cell_type": "code",
   "execution_count": 43,
   "metadata": {
    "collapsed": true
   },
   "outputs": [],
   "source": [
    "#spu_fea[row['view_spu']]"
   ]
  },
  {
   "cell_type": "code",
   "execution_count": 78,
   "metadata": {
    "collapsed": false
   },
   "outputs": [
    {
     "data": {
      "text/html": [
       "<div>\n",
       "<style>\n",
       "    .dataframe thead tr:only-child th {\n",
       "        text-align: right;\n",
       "    }\n",
       "\n",
       "    .dataframe thead th {\n",
       "        text-align: left;\n",
       "    }\n",
       "\n",
       "    .dataframe tbody tr th {\n",
       "        vertical-align: top;\n",
       "    }\n",
       "</style>\n",
       "<table border=\"1\" class=\"dataframe\">\n",
       "  <thead>\n",
       "    <tr style=\"text-align: right;\">\n",
       "      <th></th>\n",
       "      <th>goods_no</th>\n",
       "      <th>spu_id</th>\n",
       "      <th>features</th>\n",
       "    </tr>\n",
       "  </thead>\n",
       "  <tbody>\n",
       "    <tr>\n",
       "      <th>0</th>\n",
       "      <td>S62X0006A121</td>\n",
       "      <td>3918489495497789461</td>\n",
       "      <td>[0.329701840878, 0.578402042389, 0.01264389045...</td>\n",
       "    </tr>\n",
       "    <tr>\n",
       "      <th>46</th>\n",
       "      <td>S71R0003A28</td>\n",
       "      <td>33290489224151212</td>\n",
       "      <td>[0.0, 0.0892547890544, 0.00202232715674, 0.494...</td>\n",
       "    </tr>\n",
       "    <tr>\n",
       "      <th>120</th>\n",
       "      <td>S63K0003A7</td>\n",
       "      <td>310261851791720460</td>\n",
       "      <td>[0.737916231155, 0.934333741665, 0.0, 0.501327...</td>\n",
       "    </tr>\n",
       "    <tr>\n",
       "      <th>156</th>\n",
       "      <td>S63H0267A10</td>\n",
       "      <td>5142964296745125</td>\n",
       "      <td>[0.446703672409, 1.76493012905, 0.010568439960...</td>\n",
       "    </tr>\n",
       "    <tr>\n",
       "      <th>208</th>\n",
       "      <td>S63U0078A3</td>\n",
       "      <td>2609694530945034</td>\n",
       "      <td>[0.467104375362, 1.10197365284, 0.009207816794...</td>\n",
       "    </tr>\n",
       "  </tbody>\n",
       "</table>\n",
       "</div>"
      ],
      "text/plain": [
       "         goods_no               spu_id  \\\n",
       "0    S62X0006A121  3918489495497789461   \n",
       "46    S71R0003A28    33290489224151212   \n",
       "120    S63K0003A7   310261851791720460   \n",
       "156   S63H0267A10     5142964296745125   \n",
       "208    S63U0078A3     2609694530945034   \n",
       "\n",
       "                                              features  \n",
       "0    [0.329701840878, 0.578402042389, 0.01264389045...  \n",
       "46   [0.0, 0.0892547890544, 0.00202232715674, 0.494...  \n",
       "120  [0.737916231155, 0.934333741665, 0.0, 0.501327...  \n",
       "156  [0.446703672409, 1.76493012905, 0.010568439960...  \n",
       "208  [0.467104375362, 1.10197365284, 0.009207816794...  "
      ]
     },
     "execution_count": 78,
     "metadata": {},
     "output_type": "execute_result"
    }
   ],
   "source": [
    "tmp = pd.read_pickle('../../deep-learning-models-master/4.personalization/data/candidates.pkl')\n",
    "tmp.head()"
   ]
  },
  {
   "cell_type": "code",
   "execution_count": 81,
   "metadata": {
    "collapsed": false
   },
   "outputs": [
    {
     "data": {
      "text/plain": [
       "2048"
      ]
     },
     "execution_count": 81,
     "metadata": {},
     "output_type": "execute_result"
    }
   ],
   "source": [
    "len(tmp['features'][0])"
   ]
  },
  {
   "cell_type": "markdown",
   "metadata": {},
   "source": [
    "# Save "
   ]
  },
  {
   "cell_type": "code",
   "execution_count": 153,
   "metadata": {
    "collapsed": false
   },
   "outputs": [
    {
     "name": "stderr",
     "output_type": "stream",
     "text": [
      "[NbConvertApp] Converting notebook Plotting_Sequences_in_low_dimensions.ipynb to html\n",
      "[NbConvertApp] Writing 357480 bytes to Plotting_Sequences_in_low_dimensions.html\n",
      "mv: rename Exploring_Data.html to ../notebook_htmls/Plotting_Sequences_in_low_dimensions_v1.html: No such file or directory\n"
     ]
    }
   ],
   "source": [
    "%%bash \n",
    "#jupyter nbconvert --to Plotting_Sequences_in_low_dimensions.ipynb && mv Plotting_Sequences_in_low_dimensions.slides.html ../notebook_slides/Plotting_Sequences_in_low_dimensions_v1.slides.html\n",
    "jupyter nbconvert --to html Plotting_Sequences_in_low_dimensions.ipynb && mv Exploring_Data.html ../notebook_htmls/Plotting_Sequences_in_low_dimensions_v1.html\n",
    "cp Plotting_Sequences_in_low_dimensions.ipynb ../notebook_versions/Plotting_Sequences_in_low_dimensions_v1.ipynb"
   ]
  },
  {
   "cell_type": "code",
   "execution_count": null,
   "metadata": {
    "collapsed": true
   },
   "outputs": [],
   "source": []
  }
 ],
 "metadata": {
  "anaconda-cloud": {},
  "hide_input": false,
  "kernelspec": {
   "display_name": "Python [default]",
   "language": "python",
   "name": "python2"
  },
  "language_info": {
   "codemirror_mode": {
    "name": "ipython",
    "version": 2
   },
   "file_extension": ".py",
   "mimetype": "text/x-python",
   "name": "python",
   "nbconvert_exporter": "python",
   "pygments_lexer": "ipython2",
   "version": "2.7.12"
  },
  "toc": {
   "colors": {
    "hover_highlight": "#DAA520",
    "navigate_num": "#000000",
    "navigate_text": "#333333",
    "running_highlight": "#FF0000",
    "selected_highlight": "#FFD700",
    "sidebar_border": "#EEEEEE",
    "wrapper_background": "#FFFFFF"
   },
   "moveMenuLeft": true,
   "nav_menu": {
    "height": "65px",
    "width": "253px"
   },
   "navigate_menu": true,
   "number_sections": true,
   "sideBar": true,
   "threshold": 4,
   "toc_cell": false,
   "toc_section_display": "block",
   "toc_window_display": true,
   "widenNotebook": false
  }
 },
 "nbformat": 4,
 "nbformat_minor": 2
}
