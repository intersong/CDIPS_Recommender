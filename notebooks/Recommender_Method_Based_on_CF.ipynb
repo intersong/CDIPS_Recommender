{
 "cells": [
  {
   "cell_type": "markdown",
   "metadata": {},
   "source": [
    "# Can we incorporate product content into C.F? \n",
    "\n",
    "\n",
    "model: \n",
    "$$ r_{ij} = u + b_i + b_j + [u_i + \\sum(x_i)]^T v_j $$\n",
    "\n",
    "where \n",
    "- $ u  $ is global mean \n",
    "- $ b_j, b_i $ are user and product biases (would capture popular products)\n",
    "- $ u_i $ is user loadings on latent factors\n",
    "- $ x_i $ are user specific features (like average of past items viewed \n",
    "- $ v_j $ are product loadings on latent factors\n",
    "\n",
    "\n",
    "Issues: \n",
    "- we have a user x product matrix with views (clicks). Are views useful to predict? \n",
    "- we have a user x product matrix with buys (but I think this is one per user)"
   ]
  },
  {
   "cell_type": "markdown",
   "metadata": {
    "collapsed": true
   },
   "source": [
    "## My thoughts about this C.F by CH\n",
    "* Maybe we can use views (clicks) as rating. We can normalized all clicks with average for each user and use it as weights for viewed items."
   ]
  },
  {
   "cell_type": "code",
   "execution_count": null,
   "metadata": {
    "collapsed": true
   },
   "outputs": [],
   "source": []
  }
 ],
 "metadata": {
  "hide_input": false,
  "kernelspec": {
   "display_name": "Python [default]",
   "language": "python",
   "name": "python2"
  },
  "language_info": {
   "codemirror_mode": {
    "name": "ipython",
    "version": 2
   },
   "file_extension": ".py",
   "mimetype": "text/x-python",
   "name": "python",
   "nbconvert_exporter": "python",
   "pygments_lexer": "ipython2",
   "version": "2.7.12"
  },
  "toc": {
   "colors": {
    "hover_highlight": "#DAA520",
    "navigate_num": "#000000",
    "navigate_text": "#333333",
    "running_highlight": "#FF0000",
    "selected_highlight": "#FFD700",
    "sidebar_border": "#EEEEEE",
    "wrapper_background": "#FFFFFF"
   },
   "moveMenuLeft": true,
   "nav_menu": {
    "height": "31px",
    "width": "253px"
   },
   "navigate_menu": true,
   "number_sections": true,
   "sideBar": true,
   "threshold": 4,
   "toc_cell": false,
   "toc_section_display": "block",
   "toc_window_display": false,
   "widenNotebook": false
  }
 },
 "nbformat": 4,
 "nbformat_minor": 2
}
