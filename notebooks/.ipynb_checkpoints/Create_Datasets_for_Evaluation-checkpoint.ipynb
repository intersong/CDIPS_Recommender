{
 "cells": [
  {
   "cell_type": "markdown",
   "metadata": {},
   "source": [
    "# Save out dataset for Evaluation: Dataset Eval 1\n",
    "\n",
    "- this saves out a smaller dataset to compare different recommendation algorithms on\n",
    "- it removes rows with viewed items that do not have features\n",
    "- it removes items viewed less 20 minutes before buying\n",
    "- it then removes users with <5 viewed items before buying. \n",
    "\n",
    "Versions of Dataset: \n",
    "- v1: starting point\n",
    "- v2: removing rows for second items bought by user - I only want want trajectory per user so that I don't mess things up later (calculating similarity etc). \n"
   ]
  },
  {
   "cell_type": "code",
   "execution_count": 1,
   "metadata": {
    "collapsed": true
   },
   "outputs": [],
   "source": [
    "import pandas as pd\n",
    "import numpy as np\n",
    "import matplotlib.pyplot as plt\n",
    "%matplotlib inline"
   ]
  },
  {
   "cell_type": "code",
   "execution_count": 2,
   "metadata": {
    "collapsed": true
   },
   "outputs": [],
   "source": [
    "# get data\n",
    "user_profile = pd.read_csv('../data_user_view_buy/user_profile.csv',sep='\\t',header=None)\n",
    "user_profile.columns = ['user_id','buy_spu','buy_sn','buy_ct3','view_spu','view_sn','view_ct3','time_interval','view_cnt','view_seconds']"
   ]
  },
  {
   "cell_type": "code",
   "execution_count": 3,
   "metadata": {
    "scrolled": true
   },
   "outputs": [
    {
     "data": {
      "text/html": [
       "<div>\n",
       "<style>\n",
       "    .dataframe thead tr:only-child th {\n",
       "        text-align: right;\n",
       "    }\n",
       "\n",
       "    .dataframe thead th {\n",
       "        text-align: left;\n",
       "    }\n",
       "\n",
       "    .dataframe tbody tr th {\n",
       "        vertical-align: top;\n",
       "    }\n",
       "</style>\n",
       "<table border=\"1\" class=\"dataframe\">\n",
       "  <thead>\n",
       "    <tr style=\"text-align: right;\">\n",
       "      <th></th>\n",
       "      <th>user_id</th>\n",
       "      <th>buy_spu</th>\n",
       "      <th>buy_sn</th>\n",
       "      <th>buy_ct3</th>\n",
       "      <th>view_spu</th>\n",
       "      <th>view_sn</th>\n",
       "      <th>view_ct3</th>\n",
       "      <th>time_interval</th>\n",
       "      <th>view_cnt</th>\n",
       "      <th>view_seconds</th>\n",
       "    </tr>\n",
       "  </thead>\n",
       "  <tbody>\n",
       "    <tr>\n",
       "      <th>0</th>\n",
       "      <td>3125745546</td>\n",
       "      <td>3454147345092617</td>\n",
       "      <td>10020201</td>\n",
       "      <td>334</td>\n",
       "      <td>100281596405534762</td>\n",
       "      <td>10029251</td>\n",
       "      <td>334</td>\n",
       "      <td>311066</td>\n",
       "      <td>3</td>\n",
       "      <td>50</td>\n",
       "    </tr>\n",
       "    <tr>\n",
       "      <th>1</th>\n",
       "      <td>3125745546</td>\n",
       "      <td>3454147345092617</td>\n",
       "      <td>10020201</td>\n",
       "      <td>334</td>\n",
       "      <td>104785174046949392</td>\n",
       "      <td>10014206</td>\n",
       "      <td>334</td>\n",
       "      <td>499624</td>\n",
       "      <td>1</td>\n",
       "      <td>7</td>\n",
       "    </tr>\n",
       "    <tr>\n",
       "      <th>2</th>\n",
       "      <td>3125745546</td>\n",
       "      <td>3454147345092617</td>\n",
       "      <td>10020201</td>\n",
       "      <td>334</td>\n",
       "      <td>10491053651988480</td>\n",
       "      <td>10010280</td>\n",
       "      <td>334</td>\n",
       "      <td>409509</td>\n",
       "      <td>2</td>\n",
       "      <td>9</td>\n",
       "    </tr>\n",
       "    <tr>\n",
       "      <th>3</th>\n",
       "      <td>3125745546</td>\n",
       "      <td>3454147345092617</td>\n",
       "      <td>10020201</td>\n",
       "      <td>334</td>\n",
       "      <td>20342683550576642</td>\n",
       "      <td>10015063</td>\n",
       "      <td>334</td>\n",
       "      <td>313623</td>\n",
       "      <td>1</td>\n",
       "      <td>2</td>\n",
       "    </tr>\n",
       "    <tr>\n",
       "      <th>4</th>\n",
       "      <td>3125745546</td>\n",
       "      <td>3454147345092617</td>\n",
       "      <td>10020201</td>\n",
       "      <td>334</td>\n",
       "      <td>224975005672079387</td>\n",
       "      <td>10020201</td>\n",
       "      <td>334</td>\n",
       "      <td>451607</td>\n",
       "      <td>4</td>\n",
       "      <td>12</td>\n",
       "    </tr>\n",
       "  </tbody>\n",
       "</table>\n",
       "</div>"
      ],
      "text/plain": [
       "      user_id           buy_spu    buy_sn  buy_ct3            view_spu  \\\n",
       "0  3125745546  3454147345092617  10020201      334  100281596405534762   \n",
       "1  3125745546  3454147345092617  10020201      334  104785174046949392   \n",
       "2  3125745546  3454147345092617  10020201      334   10491053651988480   \n",
       "3  3125745546  3454147345092617  10020201      334   20342683550576642   \n",
       "4  3125745546  3454147345092617  10020201      334  224975005672079387   \n",
       "\n",
       "    view_sn  view_ct3  time_interval  view_cnt  view_seconds  \n",
       "0  10029251       334         311066         3            50  \n",
       "1  10014206       334         499624         1             7  \n",
       "2  10010280       334         409509         2             9  \n",
       "3  10015063       334         313623         1             2  \n",
       "4  10020201       334         451607         4            12  "
      ]
     },
     "execution_count": 3,
     "metadata": {},
     "output_type": "execute_result"
    }
   ],
   "source": [
    "user_profile.head()"
   ]
  },
  {
   "cell_type": "code",
   "execution_count": 4,
   "metadata": {
    "collapsed": true
   },
   "outputs": [],
   "source": [
    "spu_fea = pd.read_pickle(\"../data_nn_features/spu_fea.pkl\") #takes forever to load "
   ]
  },
  {
   "cell_type": "code",
   "execution_count": 5,
   "metadata": {},
   "outputs": [
    {
     "data": {
      "text/html": [
       "<div>\n",
       "<style>\n",
       "    .dataframe thead tr:only-child th {\n",
       "        text-align: right;\n",
       "    }\n",
       "\n",
       "    .dataframe thead th {\n",
       "        text-align: left;\n",
       "    }\n",
       "\n",
       "    .dataframe tbody tr th {\n",
       "        vertical-align: top;\n",
       "    }\n",
       "</style>\n",
       "<table border=\"1\" class=\"dataframe\">\n",
       "  <thead>\n",
       "    <tr style=\"text-align: right;\">\n",
       "      <th></th>\n",
       "      <th>spu_id</th>\n",
       "      <th>features</th>\n",
       "    </tr>\n",
       "  </thead>\n",
       "  <tbody>\n",
       "    <tr>\n",
       "      <th>1</th>\n",
       "      <td>100000087145246721</td>\n",
       "      <td>[0.009, 0.839, 0.439, 1.673, 0.226, 0.055, 0.1...</td>\n",
       "    </tr>\n",
       "    <tr>\n",
       "      <th>2</th>\n",
       "      <td>100000090992795708</td>\n",
       "      <td>[0.0, 1.878, 0.353, 1.505, 0.047, 0.003, 0.0, ...</td>\n",
       "    </tr>\n",
       "    <tr>\n",
       "      <th>4</th>\n",
       "      <td>100281553839460375</td>\n",
       "      <td>[0.661, 1.84, 0.028, 1.128, 0.172, 1.097, 1.45...</td>\n",
       "    </tr>\n",
       "    <tr>\n",
       "      <th>8</th>\n",
       "      <td>100844539282133007</td>\n",
       "      <td>[0.444, 0.428, 0.0, 0.342, 0.314, 0.015, 0.529...</td>\n",
       "    </tr>\n",
       "    <tr>\n",
       "      <th>9</th>\n",
       "      <td>101688901872443404</td>\n",
       "      <td>[0.058, 2.361, 0.0, 1.037, 0.013, 1.009, 1.543...</td>\n",
       "    </tr>\n",
       "  </tbody>\n",
       "</table>\n",
       "</div>"
      ],
      "text/plain": [
       "               spu_id                                           features\n",
       "1  100000087145246721  [0.009, 0.839, 0.439, 1.673, 0.226, 0.055, 0.1...\n",
       "2  100000090992795708  [0.0, 1.878, 0.353, 1.505, 0.047, 0.003, 0.0, ...\n",
       "4  100281553839460375  [0.661, 1.84, 0.028, 1.128, 0.172, 1.097, 1.45...\n",
       "8  100844539282133007  [0.444, 0.428, 0.0, 0.342, 0.314, 0.015, 0.529...\n",
       "9  101688901872443404  [0.058, 2.361, 0.0, 1.037, 0.013, 1.009, 1.543..."
      ]
     },
     "execution_count": 5,
     "metadata": {},
     "output_type": "execute_result"
    }
   ],
   "source": [
    "spu_fea.head()"
   ]
  },
  {
   "cell_type": "code",
   "execution_count": 6,
   "metadata": {
    "collapsed": true
   },
   "outputs": [],
   "source": [
    "spu_fea = spu_fea.reset_index()"
   ]
  },
  {
   "cell_type": "markdown",
   "metadata": {},
   "source": [
    "## Merge user data with feature data"
   ]
  },
  {
   "cell_type": "code",
   "execution_count": 7,
   "metadata": {
    "collapsed": true
   },
   "outputs": [],
   "source": [
    "spu_fea['view_spu']=spu_fea['spu_id']\n"
   ]
  },
  {
   "cell_type": "code",
   "execution_count": 8,
   "metadata": {},
   "outputs": [
    {
     "name": "stdout",
     "output_type": "stream",
     "text": [
      "before merge nrow: 6538474\n",
      "after merge nrows:6538474\n"
     ]
    }
   ],
   "source": [
    "spu_fea['view_spu']=spu_fea['spu_id']\n",
    "user_profile_w_features = user_profile.merge(spu_fea,on='view_spu',how='left')\n",
    "print('before merge nrow: {0}').format(len(user_profile))\n",
    "print('after merge nrows:{0}').format(len(user_profile_w_features))"
   ]
  },
  {
   "cell_type": "code",
   "execution_count": 9,
   "metadata": {},
   "outputs": [
    {
     "data": {
      "text/html": [
       "<div>\n",
       "<style>\n",
       "    .dataframe thead tr:only-child th {\n",
       "        text-align: right;\n",
       "    }\n",
       "\n",
       "    .dataframe thead th {\n",
       "        text-align: left;\n",
       "    }\n",
       "\n",
       "    .dataframe tbody tr th {\n",
       "        vertical-align: top;\n",
       "    }\n",
       "</style>\n",
       "<table border=\"1\" class=\"dataframe\">\n",
       "  <thead>\n",
       "    <tr style=\"text-align: right;\">\n",
       "      <th></th>\n",
       "      <th>user_id</th>\n",
       "      <th>buy_spu</th>\n",
       "      <th>buy_sn</th>\n",
       "      <th>buy_ct3</th>\n",
       "      <th>view_spu</th>\n",
       "      <th>view_sn</th>\n",
       "      <th>view_ct3</th>\n",
       "      <th>time_interval</th>\n",
       "      <th>view_cnt</th>\n",
       "      <th>view_seconds</th>\n",
       "      <th>index</th>\n",
       "      <th>spu_id</th>\n",
       "      <th>features</th>\n",
       "    </tr>\n",
       "  </thead>\n",
       "  <tbody>\n",
       "    <tr>\n",
       "      <th>0</th>\n",
       "      <td>3125745546</td>\n",
       "      <td>3454147345092617</td>\n",
       "      <td>10020201</td>\n",
       "      <td>334</td>\n",
       "      <td>100281596405534762</td>\n",
       "      <td>10029251</td>\n",
       "      <td>334</td>\n",
       "      <td>311066</td>\n",
       "      <td>3</td>\n",
       "      <td>50</td>\n",
       "      <td>74770.0</td>\n",
       "      <td>1.002816e+17</td>\n",
       "      <td>[0.0, 0.442, 0.0, 3.436, 0.061, 0.328, 0.262, ...</td>\n",
       "    </tr>\n",
       "    <tr>\n",
       "      <th>1</th>\n",
       "      <td>3125745546</td>\n",
       "      <td>3454147345092617</td>\n",
       "      <td>10020201</td>\n",
       "      <td>334</td>\n",
       "      <td>104785174046949392</td>\n",
       "      <td>10014206</td>\n",
       "      <td>334</td>\n",
       "      <td>499624</td>\n",
       "      <td>1</td>\n",
       "      <td>7</td>\n",
       "      <td>NaN</td>\n",
       "      <td>NaN</td>\n",
       "      <td>NaN</td>\n",
       "    </tr>\n",
       "    <tr>\n",
       "      <th>2</th>\n",
       "      <td>3125745546</td>\n",
       "      <td>3454147345092617</td>\n",
       "      <td>10020201</td>\n",
       "      <td>334</td>\n",
       "      <td>10491053651988480</td>\n",
       "      <td>10010280</td>\n",
       "      <td>334</td>\n",
       "      <td>409509</td>\n",
       "      <td>2</td>\n",
       "      <td>9</td>\n",
       "      <td>NaN</td>\n",
       "      <td>NaN</td>\n",
       "      <td>NaN</td>\n",
       "    </tr>\n",
       "    <tr>\n",
       "      <th>3</th>\n",
       "      <td>3125745546</td>\n",
       "      <td>3454147345092617</td>\n",
       "      <td>10020201</td>\n",
       "      <td>334</td>\n",
       "      <td>20342683550576642</td>\n",
       "      <td>10015063</td>\n",
       "      <td>334</td>\n",
       "      <td>313623</td>\n",
       "      <td>1</td>\n",
       "      <td>2</td>\n",
       "      <td>NaN</td>\n",
       "      <td>NaN</td>\n",
       "      <td>NaN</td>\n",
       "    </tr>\n",
       "    <tr>\n",
       "      <th>4</th>\n",
       "      <td>3125745546</td>\n",
       "      <td>3454147345092617</td>\n",
       "      <td>10020201</td>\n",
       "      <td>334</td>\n",
       "      <td>224975005672079387</td>\n",
       "      <td>10020201</td>\n",
       "      <td>334</td>\n",
       "      <td>451607</td>\n",
       "      <td>4</td>\n",
       "      <td>12</td>\n",
       "      <td>78708.0</td>\n",
       "      <td>2.249750e+17</td>\n",
       "      <td>[0.133, 0.082, 0.776, 0.481, 0.077, 0.256, 0.0...</td>\n",
       "    </tr>\n",
       "    <tr>\n",
       "      <th>5</th>\n",
       "      <td>3125745546</td>\n",
       "      <td>3454147345092617</td>\n",
       "      <td>10020201</td>\n",
       "      <td>334</td>\n",
       "      <td>232293356547952640</td>\n",
       "      <td>10015864</td>\n",
       "      <td>334</td>\n",
       "      <td>228407</td>\n",
       "      <td>1</td>\n",
       "      <td>2</td>\n",
       "      <td>39362.0</td>\n",
       "      <td>2.322934e+17</td>\n",
       "      <td>[0.083, 0.985, 0.501, 0.353, 0.097, 0.0, 0.914...</td>\n",
       "    </tr>\n",
       "    <tr>\n",
       "      <th>6</th>\n",
       "      <td>3125745546</td>\n",
       "      <td>3454147345092617</td>\n",
       "      <td>10020201</td>\n",
       "      <td>334</td>\n",
       "      <td>243833829111693330</td>\n",
       "      <td>10020201</td>\n",
       "      <td>334</td>\n",
       "      <td>499375</td>\n",
       "      <td>1</td>\n",
       "      <td>10</td>\n",
       "      <td>44426.0</td>\n",
       "      <td>2.438338e+17</td>\n",
       "      <td>[0.074, 0.114, 0.055, 0.153, 0.117, 0.0, 0.424...</td>\n",
       "    </tr>\n",
       "    <tr>\n",
       "      <th>7</th>\n",
       "      <td>3125745546</td>\n",
       "      <td>3454147345092617</td>\n",
       "      <td>10020201</td>\n",
       "      <td>334</td>\n",
       "      <td>245804153948667933</td>\n",
       "      <td>10020201</td>\n",
       "      <td>334</td>\n",
       "      <td>499347</td>\n",
       "      <td>1</td>\n",
       "      <td>2</td>\n",
       "      <td>62393.0</td>\n",
       "      <td>2.458042e+17</td>\n",
       "      <td>[0.098, 0.685, 0.072, 0.203, 0.009, 0.009, 0.7...</td>\n",
       "    </tr>\n",
       "    <tr>\n",
       "      <th>8</th>\n",
       "      <td>3125745546</td>\n",
       "      <td>3454147345092617</td>\n",
       "      <td>10020201</td>\n",
       "      <td>334</td>\n",
       "      <td>25127771918368778</td>\n",
       "      <td>10014206</td>\n",
       "      <td>334</td>\n",
       "      <td>499525</td>\n",
       "      <td>1</td>\n",
       "      <td>5</td>\n",
       "      <td>1554.0</td>\n",
       "      <td>2.512777e+16</td>\n",
       "      <td>[0.063, 0.121, 0.028, 0.0, 0.0, 0.054, 0.006, ...</td>\n",
       "    </tr>\n",
       "    <tr>\n",
       "      <th>9</th>\n",
       "      <td>3125745546</td>\n",
       "      <td>3454147345092617</td>\n",
       "      <td>10020201</td>\n",
       "      <td>334</td>\n",
       "      <td>299284399610007558</td>\n",
       "      <td>10024895</td>\n",
       "      <td>334</td>\n",
       "      <td>273848</td>\n",
       "      <td>1</td>\n",
       "      <td>4</td>\n",
       "      <td>70129.0</td>\n",
       "      <td>2.992844e+17</td>\n",
       "      <td>[0.556, 0.275, 0.349, 0.796, 1.001, 0.334, 0.0...</td>\n",
       "    </tr>\n",
       "    <tr>\n",
       "      <th>10</th>\n",
       "      <td>3125745546</td>\n",
       "      <td>3454147345092617</td>\n",
       "      <td>10020201</td>\n",
       "      <td>334</td>\n",
       "      <td>4017128505085958</td>\n",
       "      <td>10003609</td>\n",
       "      <td>334</td>\n",
       "      <td>21229</td>\n",
       "      <td>1</td>\n",
       "      <td>4</td>\n",
       "      <td>NaN</td>\n",
       "      <td>NaN</td>\n",
       "      <td>NaN</td>\n",
       "    </tr>\n",
       "    <tr>\n",
       "      <th>11</th>\n",
       "      <td>3125745546</td>\n",
       "      <td>3454147345092617</td>\n",
       "      <td>10020201</td>\n",
       "      <td>334</td>\n",
       "      <td>445369919971500040</td>\n",
       "      <td>10029139</td>\n",
       "      <td>334</td>\n",
       "      <td>54618</td>\n",
       "      <td>1</td>\n",
       "      <td>4</td>\n",
       "      <td>9577.0</td>\n",
       "      <td>4.453699e+17</td>\n",
       "      <td>[0.248, 0.657, 0.136, 0.57, 0.164, 0.0, 0.104,...</td>\n",
       "    </tr>\n",
       "    <tr>\n",
       "      <th>12</th>\n",
       "      <td>3125745546</td>\n",
       "      <td>3454147345092617</td>\n",
       "      <td>10020201</td>\n",
       "      <td>334</td>\n",
       "      <td>448466135488008195</td>\n",
       "      <td>10020201</td>\n",
       "      <td>334</td>\n",
       "      <td>282023</td>\n",
       "      <td>1</td>\n",
       "      <td>4</td>\n",
       "      <td>34846.0</td>\n",
       "      <td>4.484661e+17</td>\n",
       "      <td>[0.102, 0.629, 0.264, 0.145, 0.067, 0.118, 0.1...</td>\n",
       "    </tr>\n",
       "    <tr>\n",
       "      <th>13</th>\n",
       "      <td>3125745546</td>\n",
       "      <td>3454147345092617</td>\n",
       "      <td>10020201</td>\n",
       "      <td>334</td>\n",
       "      <td>464510191750230038</td>\n",
       "      <td>10000646</td>\n",
       "      <td>334</td>\n",
       "      <td>437330</td>\n",
       "      <td>1</td>\n",
       "      <td>10</td>\n",
       "      <td>59116.0</td>\n",
       "      <td>4.645102e+17</td>\n",
       "      <td>[0.272, 0.945, 0.384, 0.135, 0.289, 0.017, 0.0...</td>\n",
       "    </tr>\n",
       "    <tr>\n",
       "      <th>14</th>\n",
       "      <td>3125745546</td>\n",
       "      <td>3454147345092617</td>\n",
       "      <td>10020201</td>\n",
       "      <td>334</td>\n",
       "      <td>5006108822169149442</td>\n",
       "      <td>10003609</td>\n",
       "      <td>334</td>\n",
       "      <td>21355</td>\n",
       "      <td>2</td>\n",
       "      <td>6</td>\n",
       "      <td>NaN</td>\n",
       "      <td>NaN</td>\n",
       "      <td>NaN</td>\n",
       "    </tr>\n",
       "    <tr>\n",
       "      <th>15</th>\n",
       "      <td>3125745546</td>\n",
       "      <td>3454147345092617</td>\n",
       "      <td>10020201</td>\n",
       "      <td>334</td>\n",
       "      <td>5142995081465887</td>\n",
       "      <td>10020201</td>\n",
       "      <td>334</td>\n",
       "      <td>263745</td>\n",
       "      <td>5</td>\n",
       "      <td>37</td>\n",
       "      <td>24881.0</td>\n",
       "      <td>5.142995e+15</td>\n",
       "      <td>[0.148, 1.524, 0.0, 0.068, 0.072, 0.0, 0.292, ...</td>\n",
       "    </tr>\n",
       "    <tr>\n",
       "      <th>16</th>\n",
       "      <td>3125745546</td>\n",
       "      <td>3454147345092617</td>\n",
       "      <td>10020201</td>\n",
       "      <td>334</td>\n",
       "      <td>79170908361687055</td>\n",
       "      <td>10020201</td>\n",
       "      <td>334</td>\n",
       "      <td>281834</td>\n",
       "      <td>1</td>\n",
       "      <td>4</td>\n",
       "      <td>NaN</td>\n",
       "      <td>NaN</td>\n",
       "      <td>NaN</td>\n",
       "    </tr>\n",
       "    <tr>\n",
       "      <th>17</th>\n",
       "      <td>3125745546</td>\n",
       "      <td>3454147345092617</td>\n",
       "      <td>10020201</td>\n",
       "      <td>334</td>\n",
       "      <td>83955982965768208</td>\n",
       "      <td>10020201</td>\n",
       "      <td>334</td>\n",
       "      <td>281817</td>\n",
       "      <td>1</td>\n",
       "      <td>9</td>\n",
       "      <td>NaN</td>\n",
       "      <td>NaN</td>\n",
       "      <td>NaN</td>\n",
       "    </tr>\n",
       "    <tr>\n",
       "      <th>18</th>\n",
       "      <td>3125745546</td>\n",
       "      <td>3454147345092617</td>\n",
       "      <td>10020201</td>\n",
       "      <td>334</td>\n",
       "      <td>94370557104062470</td>\n",
       "      <td>10020201</td>\n",
       "      <td>334</td>\n",
       "      <td>71695</td>\n",
       "      <td>27</td>\n",
       "      <td>127</td>\n",
       "      <td>NaN</td>\n",
       "      <td>NaN</td>\n",
       "      <td>NaN</td>\n",
       "    </tr>\n",
       "    <tr>\n",
       "      <th>19</th>\n",
       "      <td>3125745546</td>\n",
       "      <td>3454147345092617</td>\n",
       "      <td>10020201</td>\n",
       "      <td>334</td>\n",
       "      <td>97466840982310922</td>\n",
       "      <td>10028697</td>\n",
       "      <td>334</td>\n",
       "      <td>101524</td>\n",
       "      <td>1</td>\n",
       "      <td>3</td>\n",
       "      <td>7393.0</td>\n",
       "      <td>9.746684e+16</td>\n",
       "      <td>[0.131, 0.41, 0.0, 0.702, 0.052, 0.018, 0.843,...</td>\n",
       "    </tr>\n",
       "  </tbody>\n",
       "</table>\n",
       "</div>"
      ],
      "text/plain": [
       "       user_id           buy_spu    buy_sn  buy_ct3             view_spu  \\\n",
       "0   3125745546  3454147345092617  10020201      334   100281596405534762   \n",
       "1   3125745546  3454147345092617  10020201      334   104785174046949392   \n",
       "2   3125745546  3454147345092617  10020201      334    10491053651988480   \n",
       "3   3125745546  3454147345092617  10020201      334    20342683550576642   \n",
       "4   3125745546  3454147345092617  10020201      334   224975005672079387   \n",
       "5   3125745546  3454147345092617  10020201      334   232293356547952640   \n",
       "6   3125745546  3454147345092617  10020201      334   243833829111693330   \n",
       "7   3125745546  3454147345092617  10020201      334   245804153948667933   \n",
       "8   3125745546  3454147345092617  10020201      334    25127771918368778   \n",
       "9   3125745546  3454147345092617  10020201      334   299284399610007558   \n",
       "10  3125745546  3454147345092617  10020201      334     4017128505085958   \n",
       "11  3125745546  3454147345092617  10020201      334   445369919971500040   \n",
       "12  3125745546  3454147345092617  10020201      334   448466135488008195   \n",
       "13  3125745546  3454147345092617  10020201      334   464510191750230038   \n",
       "14  3125745546  3454147345092617  10020201      334  5006108822169149442   \n",
       "15  3125745546  3454147345092617  10020201      334     5142995081465887   \n",
       "16  3125745546  3454147345092617  10020201      334    79170908361687055   \n",
       "17  3125745546  3454147345092617  10020201      334    83955982965768208   \n",
       "18  3125745546  3454147345092617  10020201      334    94370557104062470   \n",
       "19  3125745546  3454147345092617  10020201      334    97466840982310922   \n",
       "\n",
       "     view_sn  view_ct3  time_interval  view_cnt  view_seconds    index  \\\n",
       "0   10029251       334         311066         3            50  74770.0   \n",
       "1   10014206       334         499624         1             7      NaN   \n",
       "2   10010280       334         409509         2             9      NaN   \n",
       "3   10015063       334         313623         1             2      NaN   \n",
       "4   10020201       334         451607         4            12  78708.0   \n",
       "5   10015864       334         228407         1             2  39362.0   \n",
       "6   10020201       334         499375         1            10  44426.0   \n",
       "7   10020201       334         499347         1             2  62393.0   \n",
       "8   10014206       334         499525         1             5   1554.0   \n",
       "9   10024895       334         273848         1             4  70129.0   \n",
       "10  10003609       334          21229         1             4      NaN   \n",
       "11  10029139       334          54618         1             4   9577.0   \n",
       "12  10020201       334         282023         1             4  34846.0   \n",
       "13  10000646       334         437330         1            10  59116.0   \n",
       "14  10003609       334          21355         2             6      NaN   \n",
       "15  10020201       334         263745         5            37  24881.0   \n",
       "16  10020201       334         281834         1             4      NaN   \n",
       "17  10020201       334         281817         1             9      NaN   \n",
       "18  10020201       334          71695        27           127      NaN   \n",
       "19  10028697       334         101524         1             3   7393.0   \n",
       "\n",
       "          spu_id                                           features  \n",
       "0   1.002816e+17  [0.0, 0.442, 0.0, 3.436, 0.061, 0.328, 0.262, ...  \n",
       "1            NaN                                                NaN  \n",
       "2            NaN                                                NaN  \n",
       "3            NaN                                                NaN  \n",
       "4   2.249750e+17  [0.133, 0.082, 0.776, 0.481, 0.077, 0.256, 0.0...  \n",
       "5   2.322934e+17  [0.083, 0.985, 0.501, 0.353, 0.097, 0.0, 0.914...  \n",
       "6   2.438338e+17  [0.074, 0.114, 0.055, 0.153, 0.117, 0.0, 0.424...  \n",
       "7   2.458042e+17  [0.098, 0.685, 0.072, 0.203, 0.009, 0.009, 0.7...  \n",
       "8   2.512777e+16  [0.063, 0.121, 0.028, 0.0, 0.0, 0.054, 0.006, ...  \n",
       "9   2.992844e+17  [0.556, 0.275, 0.349, 0.796, 1.001, 0.334, 0.0...  \n",
       "10           NaN                                                NaN  \n",
       "11  4.453699e+17  [0.248, 0.657, 0.136, 0.57, 0.164, 0.0, 0.104,...  \n",
       "12  4.484661e+17  [0.102, 0.629, 0.264, 0.145, 0.067, 0.118, 0.1...  \n",
       "13  4.645102e+17  [0.272, 0.945, 0.384, 0.135, 0.289, 0.017, 0.0...  \n",
       "14           NaN                                                NaN  \n",
       "15  5.142995e+15  [0.148, 1.524, 0.0, 0.068, 0.072, 0.0, 0.292, ...  \n",
       "16           NaN                                                NaN  \n",
       "17           NaN                                                NaN  \n",
       "18           NaN                                                NaN  \n",
       "19  9.746684e+16  [0.131, 0.41, 0.0, 0.702, 0.052, 0.018, 0.843,...  "
      ]
     },
     "execution_count": 9,
     "metadata": {},
     "output_type": "execute_result"
    }
   ],
   "source": [
    "user_profile_w_features.head(20)\n"
   ]
  },
  {
   "cell_type": "code",
   "execution_count": 10,
   "metadata": {
    "collapsed": true
   },
   "outputs": [],
   "source": [
    "# takes too long\n",
    "# user_profile_w_features.to_csv('../../data_user_view_buy/user_profile_items_with_features.csv') # I think this takes to long to save. "
   ]
  },
  {
   "cell_type": "markdown",
   "metadata": {},
   "source": [
    "## Eliminate Rows with viewed items that don't have features\n",
    "\n",
    "- this may break up some trajectories (view1,view2,view3-removed, view4,buy). "
   ]
  },
  {
   "cell_type": "code",
   "execution_count": 11,
   "metadata": {},
   "outputs": [
    {
     "data": {
      "text/plain": [
       "6538474"
      ]
     },
     "execution_count": 11,
     "metadata": {},
     "output_type": "execute_result"
    }
   ],
   "source": [
    "len(user_profile_w_features)"
   ]
  },
  {
   "cell_type": "code",
   "execution_count": 12,
   "metadata": {},
   "outputs": [
    {
     "data": {
      "text/plain": [
       "4784587"
      ]
     },
     "execution_count": 12,
     "metadata": {},
     "output_type": "execute_result"
    }
   ],
   "source": [
    "user_profile_w_features_nonnull = user_profile_w_features.loc[~user_profile_w_features.features.isnull(),]\n",
    "len(user_profile_w_features_nonnull)"
   ]
  },
  {
   "cell_type": "markdown",
   "metadata": {},
   "source": [
    "## Eliminate Rows with bought items that don't have features \n",
    "\n",
    "- this will eliminate whole trajectories (view1,view2,view3,buy), because each of these rows is labeled with the buy id"
   ]
  },
  {
   "cell_type": "code",
   "execution_count": 13,
   "metadata": {
    "collapsed": true
   },
   "outputs": [],
   "source": [
    "spus_with_features =user_profile_w_features_nonnull.spu_id.unique() #\n",
    "user_profile_w_features_nonnull = user_profile_w_features_nonnull[user_profile_w_features_nonnull['buy_spu'].isin(spus_with_features)]"
   ]
  },
  {
   "cell_type": "code",
   "execution_count": 14,
   "metadata": {},
   "outputs": [
    {
     "data": {
      "text/plain": [
       "614560"
      ]
     },
     "execution_count": 14,
     "metadata": {},
     "output_type": "execute_result"
    }
   ],
   "source": [
    "len(user_profile_w_features_nonnull)"
   ]
  },
  {
   "cell_type": "markdown",
   "metadata": {},
   "source": [
    "## Eliminate Rows <20 minutes before buy"
   ]
  },
  {
   "cell_type": "code",
   "execution_count": 15,
   "metadata": {},
   "outputs": [
    {
     "data": {
      "text/plain": [
       "550834"
      ]
     },
     "execution_count": 15,
     "metadata": {},
     "output_type": "execute_result"
    }
   ],
   "source": [
    "# remove rows <20 minutes before\n",
    "user_profile_w_features_nonnull_20  = user_profile_w_features_nonnull.loc[(user_profile_w_features_nonnull.time_interval/60.0)>20.0]\n",
    "len(user_profile_w_features_nonnull_20)"
   ]
  },
  {
   "cell_type": "markdown",
   "metadata": {},
   "source": [
    "## Eliminate Users with <5 previously viewed items"
   ]
  },
  {
   "cell_type": "code",
   "execution_count": 16,
   "metadata": {},
   "outputs": [
    {
     "data": {
      "text/html": [
       "<div>\n",
       "<style>\n",
       "    .dataframe thead tr:only-child th {\n",
       "        text-align: right;\n",
       "    }\n",
       "\n",
       "    .dataframe thead th {\n",
       "        text-align: left;\n",
       "    }\n",
       "\n",
       "    .dataframe tbody tr th {\n",
       "        vertical-align: top;\n",
       "    }\n",
       "</style>\n",
       "<table border=\"1\" class=\"dataframe\">\n",
       "  <thead>\n",
       "    <tr>\n",
       "      <th></th>\n",
       "      <th>view_spu</th>\n",
       "    </tr>\n",
       "    <tr>\n",
       "      <th></th>\n",
       "      <th>count</th>\n",
       "    </tr>\n",
       "    <tr>\n",
       "      <th>user_id</th>\n",
       "      <th></th>\n",
       "    </tr>\n",
       "  </thead>\n",
       "  <tbody>\n",
       "    <tr>\n",
       "      <th>149036</th>\n",
       "      <td>28</td>\n",
       "    </tr>\n",
       "    <tr>\n",
       "      <th>814009</th>\n",
       "      <td>102</td>\n",
       "    </tr>\n",
       "    <tr>\n",
       "      <th>827915</th>\n",
       "      <td>77</td>\n",
       "    </tr>\n",
       "    <tr>\n",
       "      <th>1064602</th>\n",
       "      <td>2</td>\n",
       "    </tr>\n",
       "    <tr>\n",
       "      <th>1097992</th>\n",
       "      <td>5</td>\n",
       "    </tr>\n",
       "  </tbody>\n",
       "</table>\n",
       "</div>"
      ],
      "text/plain": [
       "        view_spu\n",
       "           count\n",
       "user_id         \n",
       "149036        28\n",
       "814009       102\n",
       "827915        77\n",
       "1064602        2\n",
       "1097992        5"
      ]
     },
     "execution_count": 16,
     "metadata": {},
     "output_type": "execute_result"
    }
   ],
   "source": [
    "view_counts_per_user = user_profile_w_features_nonnull_20[['user_id','view_spu']].groupby(['user_id']).agg(['count'])\n",
    "view_counts_per_user.head()\n"
   ]
  },
  {
   "cell_type": "code",
   "execution_count": 17,
   "metadata": {},
   "outputs": [
    {
     "name": "stderr",
     "output_type": "stream",
     "text": [
      "/Users/chris/anaconda/envs/virtenv/lib/python2.7/site-packages/pandas/core/reshape/merge.py:551: UserWarning: merging between different levels can give an unintended result (1 levels on the left, 2 on the right)\n",
      "  warnings.warn(msg, UserWarning)\n"
     ]
    },
    {
     "data": {
      "text/html": [
       "<div>\n",
       "<style>\n",
       "    .dataframe thead tr:only-child th {\n",
       "        text-align: right;\n",
       "    }\n",
       "\n",
       "    .dataframe thead th {\n",
       "        text-align: left;\n",
       "    }\n",
       "\n",
       "    .dataframe tbody tr th {\n",
       "        vertical-align: top;\n",
       "    }\n",
       "</style>\n",
       "<table border=\"1\" class=\"dataframe\">\n",
       "  <thead>\n",
       "    <tr style=\"text-align: right;\">\n",
       "      <th></th>\n",
       "      <th>user_id</th>\n",
       "      <th>buy_spu</th>\n",
       "      <th>buy_sn</th>\n",
       "      <th>buy_ct3</th>\n",
       "      <th>view_spu</th>\n",
       "      <th>view_sn</th>\n",
       "      <th>view_ct3</th>\n",
       "      <th>time_interval</th>\n",
       "      <th>view_cnt</th>\n",
       "      <th>view_seconds</th>\n",
       "      <th>index</th>\n",
       "      <th>spu_id</th>\n",
       "      <th>features</th>\n",
       "      <th>view_spu_count</th>\n",
       "    </tr>\n",
       "  </thead>\n",
       "  <tbody>\n",
       "    <tr>\n",
       "      <th>89</th>\n",
       "      <td>960980006</td>\n",
       "      <td>2463545257346113536</td>\n",
       "      <td>10015294</td>\n",
       "      <td>334</td>\n",
       "      <td>107318456632717316</td>\n",
       "      <td>10015294</td>\n",
       "      <td>334</td>\n",
       "      <td>17345</td>\n",
       "      <td>1</td>\n",
       "      <td>5</td>\n",
       "      <td>69776.0</td>\n",
       "      <td>1.073185e+17</td>\n",
       "      <td>[0.31, 0.741, 0.066, 0.868, 0.266, 0.0, 0.086,...</td>\n",
       "      <td>139</td>\n",
       "    </tr>\n",
       "    <tr>\n",
       "      <th>90</th>\n",
       "      <td>960980006</td>\n",
       "      <td>2463545257346113536</td>\n",
       "      <td>10015294</td>\n",
       "      <td>334</td>\n",
       "      <td>107318460592529411</td>\n",
       "      <td>10007066</td>\n",
       "      <td>334</td>\n",
       "      <td>193314</td>\n",
       "      <td>1</td>\n",
       "      <td>5</td>\n",
       "      <td>17665.0</td>\n",
       "      <td>1.073185e+17</td>\n",
       "      <td>[0.0, 2.812, 0.284, 0.462, 0.002, 0.0, 0.417, ...</td>\n",
       "      <td>139</td>\n",
       "    </tr>\n",
       "    <tr>\n",
       "      <th>91</th>\n",
       "      <td>960980006</td>\n",
       "      <td>2463545257346113536</td>\n",
       "      <td>10015294</td>\n",
       "      <td>334</td>\n",
       "      <td>1376488951765147648</td>\n",
       "      <td>10015294</td>\n",
       "      <td>334</td>\n",
       "      <td>449577</td>\n",
       "      <td>2</td>\n",
       "      <td>43</td>\n",
       "      <td>51881.0</td>\n",
       "      <td>1.376489e+18</td>\n",
       "      <td>[0.563, 0.661, 0.162, 0.813, 0.149, 0.899, 0.5...</td>\n",
       "      <td>139</td>\n",
       "    </tr>\n",
       "    <tr>\n",
       "      <th>92</th>\n",
       "      <td>960980006</td>\n",
       "      <td>2463545257346113536</td>\n",
       "      <td>10015294</td>\n",
       "      <td>334</td>\n",
       "      <td>1600824511410274307</td>\n",
       "      <td>10015294</td>\n",
       "      <td>334</td>\n",
       "      <td>450245</td>\n",
       "      <td>1</td>\n",
       "      <td>7</td>\n",
       "      <td>53203.0</td>\n",
       "      <td>1.600825e+18</td>\n",
       "      <td>[0.421, 0.454, 0.0, 0.295, 1.546, 0.36, 0.102,...</td>\n",
       "      <td>139</td>\n",
       "    </tr>\n",
       "    <tr>\n",
       "      <th>93</th>\n",
       "      <td>960980006</td>\n",
       "      <td>2463545257346113536</td>\n",
       "      <td>10015294</td>\n",
       "      <td>334</td>\n",
       "      <td>1683296679586492416</td>\n",
       "      <td>10015294</td>\n",
       "      <td>334</td>\n",
       "      <td>16038</td>\n",
       "      <td>1</td>\n",
       "      <td>9</td>\n",
       "      <td>66087.0</td>\n",
       "      <td>1.683297e+18</td>\n",
       "      <td>[0.144, 1.025, 0.064, 1.208, 0.117, 0.205, 0.3...</td>\n",
       "      <td>139</td>\n",
       "    </tr>\n",
       "  </tbody>\n",
       "</table>\n",
       "</div>"
      ],
      "text/plain": [
       "      user_id              buy_spu    buy_sn  buy_ct3             view_spu  \\\n",
       "89  960980006  2463545257346113536  10015294      334   107318456632717316   \n",
       "90  960980006  2463545257346113536  10015294      334   107318460592529411   \n",
       "91  960980006  2463545257346113536  10015294      334  1376488951765147648   \n",
       "92  960980006  2463545257346113536  10015294      334  1600824511410274307   \n",
       "93  960980006  2463545257346113536  10015294      334  1683296679586492416   \n",
       "\n",
       "     view_sn  view_ct3  time_interval  view_cnt  view_seconds    index  \\\n",
       "89  10015294       334          17345         1             5  69776.0   \n",
       "90  10007066       334         193314         1             5  17665.0   \n",
       "91  10015294       334         449577         2            43  51881.0   \n",
       "92  10015294       334         450245         1             7  53203.0   \n",
       "93  10015294       334          16038         1             9  66087.0   \n",
       "\n",
       "          spu_id                                           features  \\\n",
       "89  1.073185e+17  [0.31, 0.741, 0.066, 0.868, 0.266, 0.0, 0.086,...   \n",
       "90  1.073185e+17  [0.0, 2.812, 0.284, 0.462, 0.002, 0.0, 0.417, ...   \n",
       "91  1.376489e+18  [0.563, 0.661, 0.162, 0.813, 0.149, 0.899, 0.5...   \n",
       "92  1.600825e+18  [0.421, 0.454, 0.0, 0.295, 1.546, 0.36, 0.102,...   \n",
       "93  1.683297e+18  [0.144, 1.025, 0.064, 1.208, 0.117, 0.205, 0.3...   \n",
       "\n",
       "    view_spu_count  \n",
       "89             139  \n",
       "90             139  \n",
       "91             139  \n",
       "92             139  \n",
       "93             139  "
      ]
     },
     "execution_count": 17,
     "metadata": {},
     "output_type": "execute_result"
    }
   ],
   "source": [
    "user_profile_w_features_nonnull_20_5 = user_profile_w_features_nonnull_20.join(view_counts_per_user, on='user_id', rsuffix='_r')\n",
    "columns = user_profile_w_features_nonnull_20_5.columns.values\n",
    "columns[-1]='view_spu_count'\n",
    "user_profile_w_features_nonnull_20_5.columns=columns\n",
    "user_profile_w_features_nonnull_20_5.head()"
   ]
  },
  {
   "cell_type": "code",
   "execution_count": 18,
   "metadata": {
    "collapsed": true
   },
   "outputs": [],
   "source": [
    "user_profile_w_features_nonnull_20_5 = user_profile_w_features_nonnull_20_5.loc[user_profile_w_features_nonnull_20_5.view_spu_count>5,]"
   ]
  },
  {
   "cell_type": "code",
   "execution_count": 19,
   "metadata": {},
   "outputs": [
    {
     "data": {
      "text/plain": [
       "544913"
      ]
     },
     "execution_count": 19,
     "metadata": {},
     "output_type": "execute_result"
    }
   ],
   "source": [
    "len(user_profile_w_features_nonnull_20_5)"
   ]
  },
  {
   "cell_type": "markdown",
   "metadata": {},
   "source": [
    "## Only use First Buy per User"
   ]
  },
  {
   "cell_type": "code",
   "execution_count": 20,
   "metadata": {},
   "outputs": [
    {
     "data": {
      "text/plain": [
       "array([ 960980006, 4085513489, 3787002243, ..., 2818983094, 1272821118,\n",
       "       2992930768])"
      ]
     },
     "execution_count": 20,
     "metadata": {},
     "output_type": "execute_result"
    }
   ],
   "source": [
    "user_profile_w_features_nonnull_20_5.user_id.unique()"
   ]
  },
  {
   "cell_type": "code",
   "execution_count": 21,
   "metadata": {
    "collapsed": true
   },
   "outputs": [],
   "source": [
    "# (super slow way of doing it)\n",
    "user_profile_w_features_nonnull_20_5['drop']=0\n",
    "for user_id in user_profile_w_features_nonnull_20_5.user_id.unique(): \n",
    "    \n",
    "    # get bought items per user\n",
    "    buy_spus = user_profile_w_features_nonnull_20_5.loc[user_profile_w_features_nonnull_20_5.user_id==user_id,'buy_spu'].unique()\n",
    "    \n",
    "    # eliminate second, third .. purchases\n",
    "    if len(buy_spus)>1:\n",
    "        for buy_spu in buy_spus[1::]:\n",
    "            user_profile_w_features_nonnull_20_5.loc[(user_profile_w_features_nonnull_20_5.user_id==user_id)&(user_profile_w_features_nonnull_20_5.buy_spu==buy_spu),'drop']=1\n",
    "        "
   ]
  },
  {
   "cell_type": "code",
   "execution_count": 26,
   "metadata": {},
   "outputs": [
    {
     "data": {
      "text/plain": [
       "505723"
      ]
     },
     "execution_count": 26,
     "metadata": {},
     "output_type": "execute_result"
    }
   ],
   "source": [
    "print(len(user_profile_w_features_nonnull_20_5))\n",
    "user_profile_w_features_nonnull_20_5 = user_profile_w_features_nonnull_20_5.loc[user_profile_w_features_nonnull_20_5['drop']!=1]\n",
    "print(len(user_profile_w_features_nonnull_20_5))"
   ]
  },
  {
   "cell_type": "markdown",
   "metadata": {},
   "source": [
    "## Remove Features from DF before Saving"
   ]
  },
  {
   "cell_type": "code",
   "execution_count": 32,
   "metadata": {
    "collapsed": true
   },
   "outputs": [],
   "source": [
    "user_profile_w_features_nonnull_20_5_nofeatures = user_profile_w_features_nonnull_20_5.drop('features',axis=1)"
   ]
  },
  {
   "cell_type": "markdown",
   "metadata": {},
   "source": [
    "## Save Out"
   ]
  },
  {
   "cell_type": "code",
   "execution_count": 34,
   "metadata": {
    "collapsed": true
   },
   "outputs": [],
   "source": [
    "user_profile_w_features_nonnull_20_5_nofeatures.to_pickle('../data_user_view_buy/user_profile_items_nonnull_features_20_mins_5_views_v2.pkl')"
   ]
  },
  {
   "cell_type": "markdown",
   "metadata": {},
   "source": [
    "# Sub-Sample (save out v1000)"
   ]
  },
  {
   "cell_type": "code",
   "execution_count": 49,
   "metadata": {},
   "outputs": [
    {
     "name": "stdout",
     "output_type": "stream",
     "text": [
      "[1773431893 2634598191 1635456877 1053049783 2941097388 3039276910\n",
      " 4064302909 2969332315  243745077 1530120165]\n",
      "40141\n",
      "961\n"
     ]
    }
   ],
   "source": [
    "# sample 1000 users \n",
    "np.random.seed(1000)\n",
    "users_sample = np.random.choice(user_profile_w_features_nonnull_20_5_nofeatures.user_id.unique(),size=1000)\n",
    "print(users_sample[0:10])\n",
    "user_profile_sample = user_profile_w_features_nonnull_20_5_nofeatures.loc[user_profile_w_features_nonnull_20_5_nofeatures.user_id.isin(users_sample),]\n",
    "print(len(user_profile_sample))\n",
    "print(len(user_profile_sample.user_id.unique()))"
   ]
  },
  {
   "cell_type": "code",
   "execution_count": 37,
   "metadata": {
    "collapsed": true
   },
   "outputs": [],
   "source": [
    "user_profile_sample.to_pickle('../data_user_view_buy/user_profile_items_nonnull_features_20_mins_5_views_v2_sample1000.pkl')"
   ]
  },
  {
   "cell_type": "markdown",
   "metadata": {},
   "source": [
    "## Create Smaller spu_fea for subsample"
   ]
  },
  {
   "cell_type": "code",
   "execution_count": 44,
   "metadata": {
    "collapsed": true
   },
   "outputs": [],
   "source": [
    "intersection_of_spus = set(list(user_profile_sample.view_spu.unique())+list(user_profile_sample.buy_spu.unique()))\n",
    "spu_fea_sample = spu_fea.loc[spu_fea['spu_id'].isin(list(intersection_of_spus))]"
   ]
  },
  {
   "cell_type": "code",
   "execution_count": 47,
   "metadata": {},
   "outputs": [
    {
     "data": {
      "text/plain": [
       "58820"
      ]
     },
     "execution_count": 47,
     "metadata": {},
     "output_type": "execute_result"
    }
   ],
   "source": [
    "len(spu_fea)"
   ]
  },
  {
   "cell_type": "code",
   "execution_count": 46,
   "metadata": {},
   "outputs": [
    {
     "data": {
      "text/plain": [
       "17987"
      ]
     },
     "execution_count": 46,
     "metadata": {},
     "output_type": "execute_result"
    }
   ],
   "source": [
    "len(spu_fea_sample)"
   ]
  },
  {
   "cell_type": "code",
   "execution_count": 45,
   "metadata": {
    "collapsed": true
   },
   "outputs": [],
   "source": [
    "spu_fea_sample.to_pickle('../data_nn_features/spu_fea_sample1000.pkl')"
   ]
  }
 ],
 "metadata": {
  "anaconda-cloud": {},
  "hide_input": false,
  "kernelspec": {
   "display_name": "Python 2",
   "language": "python",
   "name": "python2"
  },
  "language_info": {
   "codemirror_mode": {
    "name": "ipython",
    "version": 2
   },
   "file_extension": ".py",
   "mimetype": "text/x-python",
   "name": "python",
   "nbconvert_exporter": "python",
   "pygments_lexer": "ipython2",
   "version": "2.7.13"
  },
  "toc": {
   "colors": {
    "hover_highlight": "#DAA520",
    "navigate_num": "#000000",
    "navigate_text": "#333333",
    "running_highlight": "#FF0000",
    "selected_highlight": "#FFD700",
    "sidebar_border": "#EEEEEE",
    "wrapper_background": "#FFFFFF"
   },
   "moveMenuLeft": true,
   "nav_menu": {
    "height": "65px",
    "width": "253px"
   },
   "navigate_menu": true,
   "number_sections": false,
   "sideBar": true,
   "threshold": 4,
   "toc_cell": false,
   "toc_section_display": "block",
   "toc_window_display": true,
   "widenNotebook": false
  }
 },
 "nbformat": 4,
 "nbformat_minor": 2
}
