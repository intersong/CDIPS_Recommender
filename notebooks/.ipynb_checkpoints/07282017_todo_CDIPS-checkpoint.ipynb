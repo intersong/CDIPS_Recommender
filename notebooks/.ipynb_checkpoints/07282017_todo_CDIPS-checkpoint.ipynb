{
 "cells": [
  {
   "cell_type": "markdown",
   "metadata": {},
   "source": [
    "## To do for 07282017:\n",
    "1. User_filter:\n",
    "   Filter user based on certain features, e.g., \n",
    "   consistent with theme, certain time of viewing, \n",
    "   or certain time interval before each item viewing.\n",
    "2. Recommendation core:\n",
    "   It will basically be the collaborative filter (CF),\n",
    "   but instead of using real items, I'd like to use \n",
    "   features extracted from CNN and dimension-reduced\n",
    "   by tSNE to maybe 20 D.\n",
    "3. Processor:\n",
    "   Input are\n",
    "   a. log of user history\n",
    "   b. item features\n",
    "   Output are\n",
    "   a. Top N rank of recommendation item for each user\n",
    "4. Evaluator:\n",
    "   Evaluate whether the user buy the item within the top\n",
    "   N rank of recommended items."
   ]
  },
  {
   "cell_type": "markdown",
   "metadata": {},
   "source": [
    "## After trial run:\n",
    "* tSNE for this amount of sample and the dimension we want may not be feasible. Need to try small portion and time it or try PCA instead"
   ]
  },
  {
   "cell_type": "code",
   "execution_count": 1,
   "metadata": {
    "collapsed": true
   },
   "outputs": [],
   "source": [
    "import pandas as pd\n",
    "import numpy as np\n",
    "import os\n",
    "from sklearn.manifold import TSNE\n",
    "from sklearn.decomposition import PCA"
   ]
  },
  {
   "cell_type": "code",
   "execution_count": 2,
   "metadata": {
    "collapsed": false
   },
   "outputs": [],
   "source": [
    "os.chdir('/Users/Walkon302/Desktop/deep-learning-models-master/view2buy')"
   ]
  },
  {
   "cell_type": "code",
   "execution_count": 3,
   "metadata": {
    "collapsed": true
   },
   "outputs": [],
   "source": [
    "# Read the preprocessed file, containing the user profile and item features from view2buy folder\n",
    "df = pd.read_pickle('user_fea_for_eval.pkl')"
   ]
  },
  {
   "cell_type": "code",
   "execution_count": 4,
   "metadata": {
    "collapsed": false
   },
   "outputs": [],
   "source": [
    "# Drop the first column, which is the original data format.\n",
    "df.drop('0', axis = 1, inplace = True)"
   ]
  },
  {
   "cell_type": "code",
   "execution_count": 5,
   "metadata": {
    "collapsed": false
   },
   "outputs": [
    {
     "data": {
      "text/html": [
       "<div>\n",
       "<table border=\"1\" class=\"dataframe\">\n",
       "  <thead>\n",
       "    <tr style=\"text-align: right;\">\n",
       "      <th></th>\n",
       "      <th>user_id</th>\n",
       "      <th>buy_spu</th>\n",
       "      <th>buy_sn</th>\n",
       "      <th>buy_ct3</th>\n",
       "      <th>view_spu</th>\n",
       "      <th>view_sn</th>\n",
       "      <th>view_ct3</th>\n",
       "      <th>time_interval</th>\n",
       "      <th>view_cnt</th>\n",
       "      <th>view_secondes</th>\n",
       "      <th>view_features</th>\n",
       "      <th>buy_features</th>\n",
       "    </tr>\n",
       "  </thead>\n",
       "  <tbody>\n",
       "    <tr>\n",
       "      <th>0</th>\n",
       "      <td>2469583035</td>\n",
       "      <td>4199682998971011301</td>\n",
       "      <td>10013436</td>\n",
       "      <td>334</td>\n",
       "      <td>220189917005230097</td>\n",
       "      <td>10013861</td>\n",
       "      <td>334</td>\n",
       "      <td>37496</td>\n",
       "      <td>7</td>\n",
       "      <td>45</td>\n",
       "      <td>[0.621, 0.542, 0.0, 0.369, 0.062, 0.039, 0.103...</td>\n",
       "      <td>[0.091, 0.805, 0.0, 0.591, 0.981, 0.026, 0.757...</td>\n",
       "    </tr>\n",
       "    <tr>\n",
       "      <th>1</th>\n",
       "      <td>2469583035</td>\n",
       "      <td>4199682998971011301</td>\n",
       "      <td>10013436</td>\n",
       "      <td>334</td>\n",
       "      <td>234826617504419925</td>\n",
       "      <td>10003862</td>\n",
       "      <td>334</td>\n",
       "      <td>170826</td>\n",
       "      <td>2</td>\n",
       "      <td>23</td>\n",
       "      <td>[0.15, 0.98, 0.104, 1.295, 0.111, 0.0, 0.0, 0....</td>\n",
       "      <td>[0.091, 0.805, 0.0, 0.591, 0.981, 0.026, 0.757...</td>\n",
       "    </tr>\n",
       "    <tr>\n",
       "      <th>2</th>\n",
       "      <td>2469583035</td>\n",
       "      <td>4199682998971011301</td>\n",
       "      <td>10013436</td>\n",
       "      <td>334</td>\n",
       "      <td>235671027621670949</td>\n",
       "      <td>10003862</td>\n",
       "      <td>334</td>\n",
       "      <td>426968</td>\n",
       "      <td>2</td>\n",
       "      <td>11</td>\n",
       "      <td>[0.106, 0.027, 0.0, 1.398, 0.096, 0.021, 0.072...</td>\n",
       "      <td>[0.091, 0.805, 0.0, 0.591, 0.981, 0.026, 0.757...</td>\n",
       "    </tr>\n",
       "    <tr>\n",
       "      <th>3</th>\n",
       "      <td>1488725183</td>\n",
       "      <td>4199682998971011301</td>\n",
       "      <td>10013436</td>\n",
       "      <td>334</td>\n",
       "      <td>235671027621670949</td>\n",
       "      <td>10003862</td>\n",
       "      <td>334</td>\n",
       "      <td>180564</td>\n",
       "      <td>1</td>\n",
       "      <td>22</td>\n",
       "      <td>[0.106, 0.027, 0.0, 1.398, 0.096, 0.021, 0.072...</td>\n",
       "      <td>[0.091, 0.805, 0.0, 0.591, 0.981, 0.026, 0.757...</td>\n",
       "    </tr>\n",
       "    <tr>\n",
       "      <th>4</th>\n",
       "      <td>2469583035</td>\n",
       "      <td>4199682998971011301</td>\n",
       "      <td>10013436</td>\n",
       "      <td>334</td>\n",
       "      <td>245522675097001998</td>\n",
       "      <td>10026364</td>\n",
       "      <td>334</td>\n",
       "      <td>83993</td>\n",
       "      <td>2</td>\n",
       "      <td>7</td>\n",
       "      <td>[0.019, 1.415, 0.007, 0.088, 0.055, 0.015, 0.0...</td>\n",
       "      <td>[0.091, 0.805, 0.0, 0.591, 0.981, 0.026, 0.757...</td>\n",
       "    </tr>\n",
       "  </tbody>\n",
       "</table>\n",
       "</div>"
      ],
      "text/plain": [
       "      user_id              buy_spu    buy_sn  buy_ct3            view_spu  \\\n",
       "0  2469583035  4199682998971011301  10013436      334  220189917005230097   \n",
       "1  2469583035  4199682998971011301  10013436      334  234826617504419925   \n",
       "2  2469583035  4199682998971011301  10013436      334  235671027621670949   \n",
       "3  1488725183  4199682998971011301  10013436      334  235671027621670949   \n",
       "4  2469583035  4199682998971011301  10013436      334  245522675097001998   \n",
       "\n",
       "    view_sn  view_ct3  time_interval  view_cnt  view_secondes  \\\n",
       "0  10013861       334          37496         7             45   \n",
       "1  10003862       334         170826         2             23   \n",
       "2  10003862       334         426968         2             11   \n",
       "3  10003862       334         180564         1             22   \n",
       "4  10026364       334          83993         2              7   \n",
       "\n",
       "                                       view_features  \\\n",
       "0  [0.621, 0.542, 0.0, 0.369, 0.062, 0.039, 0.103...   \n",
       "1  [0.15, 0.98, 0.104, 1.295, 0.111, 0.0, 0.0, 0....   \n",
       "2  [0.106, 0.027, 0.0, 1.398, 0.096, 0.021, 0.072...   \n",
       "3  [0.106, 0.027, 0.0, 1.398, 0.096, 0.021, 0.072...   \n",
       "4  [0.019, 1.415, 0.007, 0.088, 0.055, 0.015, 0.0...   \n",
       "\n",
       "                                        buy_features  \n",
       "0  [0.091, 0.805, 0.0, 0.591, 0.981, 0.026, 0.757...  \n",
       "1  [0.091, 0.805, 0.0, 0.591, 0.981, 0.026, 0.757...  \n",
       "2  [0.091, 0.805, 0.0, 0.591, 0.981, 0.026, 0.757...  \n",
       "3  [0.091, 0.805, 0.0, 0.591, 0.981, 0.026, 0.757...  \n",
       "4  [0.091, 0.805, 0.0, 0.591, 0.981, 0.026, 0.757...  "
      ]
     },
     "execution_count": 5,
     "metadata": {},
     "output_type": "execute_result"
    }
   ],
   "source": [
    "# Check the data\n",
    "df.head()"
   ]
  },
  {
   "cell_type": "code",
   "execution_count": 6,
   "metadata": {
    "collapsed": false
   },
   "outputs": [],
   "source": [
    "# Calculate the average view sec for all view items per user\n",
    "avg_view_sec = pd.DataFrame(df.groupby(['user_id', 'buy_spu'])['view_secondes'].mean())"
   ]
  },
  {
   "cell_type": "code",
   "execution_count": 7,
   "metadata": {
    "collapsed": false
   },
   "outputs": [],
   "source": [
    "# Reset the index and rename the column\n",
    "avg_view_sec.reset_index(inplace=True)\n",
    "avg_view_sec.rename(columns = {'view_secondes':'avg_view_sec'}, inplace=True)"
   ]
  },
  {
   "cell_type": "code",
   "execution_count": 8,
   "metadata": {
    "collapsed": false
   },
   "outputs": [
    {
     "data": {
      "text/html": [
       "<div>\n",
       "<table border=\"1\" class=\"dataframe\">\n",
       "  <thead>\n",
       "    <tr style=\"text-align: right;\">\n",
       "      <th></th>\n",
       "      <th>user_id</th>\n",
       "      <th>buy_spu</th>\n",
       "      <th>avg_view_sec</th>\n",
       "    </tr>\n",
       "  </thead>\n",
       "  <tbody>\n",
       "    <tr>\n",
       "      <th>0</th>\n",
       "      <td>88224</td>\n",
       "      <td>91837317697974354</td>\n",
       "      <td>13.000000</td>\n",
       "    </tr>\n",
       "    <tr>\n",
       "      <th>1</th>\n",
       "      <td>149036</td>\n",
       "      <td>9928117558321210</td>\n",
       "      <td>29.750000</td>\n",
       "    </tr>\n",
       "    <tr>\n",
       "      <th>2</th>\n",
       "      <td>187458</td>\n",
       "      <td>296751091217272878</td>\n",
       "      <td>24.537255</td>\n",
       "    </tr>\n",
       "    <tr>\n",
       "      <th>3</th>\n",
       "      <td>187458</td>\n",
       "      <td>308010090285679082</td>\n",
       "      <td>28.190299</td>\n",
       "    </tr>\n",
       "    <tr>\n",
       "      <th>4</th>\n",
       "      <td>187458</td>\n",
       "      <td>7364869139418243104</td>\n",
       "      <td>28.230483</td>\n",
       "    </tr>\n",
       "  </tbody>\n",
       "</table>\n",
       "</div>"
      ],
      "text/plain": [
       "   user_id              buy_spu  avg_view_sec\n",
       "0    88224    91837317697974354     13.000000\n",
       "1   149036     9928117558321210     29.750000\n",
       "2   187458   296751091217272878     24.537255\n",
       "3   187458   308010090285679082     28.190299\n",
       "4   187458  7364869139418243104     28.230483"
      ]
     },
     "execution_count": 8,
     "metadata": {},
     "output_type": "execute_result"
    }
   ],
   "source": [
    "# Check the data\n",
    "avg_view_sec.head()"
   ]
  },
  {
   "cell_type": "code",
   "execution_count": 9,
   "metadata": {
    "collapsed": false
   },
   "outputs": [],
   "source": [
    "# Merge avg item view into data\n",
    "df = pd.merge(df, avg_view_sec, on=['user_id', 'buy_spu'])"
   ]
  },
  {
   "cell_type": "code",
   "execution_count": 10,
   "metadata": {
    "collapsed": false
   },
   "outputs": [],
   "source": [
    "# Calculate the weights for view item vec\n",
    "df['weight_of_view'] = df['view_secondes']/df['avg_view_sec']"
   ]
  },
  {
   "cell_type": "code",
   "execution_count": 11,
   "metadata": {
    "collapsed": false
   },
   "outputs": [
    {
     "data": {
      "text/html": [
       "<div>\n",
       "<table border=\"1\" class=\"dataframe\">\n",
       "  <thead>\n",
       "    <tr style=\"text-align: right;\">\n",
       "      <th></th>\n",
       "      <th>user_id</th>\n",
       "      <th>buy_spu</th>\n",
       "      <th>buy_sn</th>\n",
       "      <th>buy_ct3</th>\n",
       "      <th>view_spu</th>\n",
       "      <th>view_sn</th>\n",
       "      <th>view_ct3</th>\n",
       "      <th>time_interval</th>\n",
       "      <th>view_cnt</th>\n",
       "      <th>view_secondes</th>\n",
       "      <th>view_features</th>\n",
       "      <th>buy_features</th>\n",
       "      <th>avg_view_sec</th>\n",
       "      <th>weight_of_view</th>\n",
       "    </tr>\n",
       "  </thead>\n",
       "  <tbody>\n",
       "    <tr>\n",
       "      <th>0</th>\n",
       "      <td>2469583035</td>\n",
       "      <td>4199682998971011301</td>\n",
       "      <td>10013436</td>\n",
       "      <td>334</td>\n",
       "      <td>220189917005230097</td>\n",
       "      <td>10013861</td>\n",
       "      <td>334</td>\n",
       "      <td>37496</td>\n",
       "      <td>7</td>\n",
       "      <td>45</td>\n",
       "      <td>[0.621, 0.542, 0.0, 0.369, 0.062, 0.039, 0.103...</td>\n",
       "      <td>[0.091, 0.805, 0.0, 0.591, 0.981, 0.026, 0.757...</td>\n",
       "      <td>30.520833</td>\n",
       "      <td>1.474403</td>\n",
       "    </tr>\n",
       "    <tr>\n",
       "      <th>1</th>\n",
       "      <td>2469583035</td>\n",
       "      <td>4199682998971011301</td>\n",
       "      <td>10013436</td>\n",
       "      <td>334</td>\n",
       "      <td>234826617504419925</td>\n",
       "      <td>10003862</td>\n",
       "      <td>334</td>\n",
       "      <td>170826</td>\n",
       "      <td>2</td>\n",
       "      <td>23</td>\n",
       "      <td>[0.15, 0.98, 0.104, 1.295, 0.111, 0.0, 0.0, 0....</td>\n",
       "      <td>[0.091, 0.805, 0.0, 0.591, 0.981, 0.026, 0.757...</td>\n",
       "      <td>30.520833</td>\n",
       "      <td>0.753584</td>\n",
       "    </tr>\n",
       "    <tr>\n",
       "      <th>2</th>\n",
       "      <td>2469583035</td>\n",
       "      <td>4199682998971011301</td>\n",
       "      <td>10013436</td>\n",
       "      <td>334</td>\n",
       "      <td>235671027621670949</td>\n",
       "      <td>10003862</td>\n",
       "      <td>334</td>\n",
       "      <td>426968</td>\n",
       "      <td>2</td>\n",
       "      <td>11</td>\n",
       "      <td>[0.106, 0.027, 0.0, 1.398, 0.096, 0.021, 0.072...</td>\n",
       "      <td>[0.091, 0.805, 0.0, 0.591, 0.981, 0.026, 0.757...</td>\n",
       "      <td>30.520833</td>\n",
       "      <td>0.360410</td>\n",
       "    </tr>\n",
       "    <tr>\n",
       "      <th>3</th>\n",
       "      <td>2469583035</td>\n",
       "      <td>4199682998971011301</td>\n",
       "      <td>10013436</td>\n",
       "      <td>334</td>\n",
       "      <td>245522675097001998</td>\n",
       "      <td>10026364</td>\n",
       "      <td>334</td>\n",
       "      <td>83993</td>\n",
       "      <td>2</td>\n",
       "      <td>7</td>\n",
       "      <td>[0.019, 1.415, 0.007, 0.088, 0.055, 0.015, 0.0...</td>\n",
       "      <td>[0.091, 0.805, 0.0, 0.591, 0.981, 0.026, 0.757...</td>\n",
       "      <td>30.520833</td>\n",
       "      <td>0.229352</td>\n",
       "    </tr>\n",
       "    <tr>\n",
       "      <th>4</th>\n",
       "      <td>2469583035</td>\n",
       "      <td>4199682998971011301</td>\n",
       "      <td>10013436</td>\n",
       "      <td>334</td>\n",
       "      <td>296751124749754369</td>\n",
       "      <td>10005367</td>\n",
       "      <td>334</td>\n",
       "      <td>427866</td>\n",
       "      <td>2</td>\n",
       "      <td>12</td>\n",
       "      <td>[0.066, 0.328, 0.043, 0.0, 0.062, 0.016, 0.303...</td>\n",
       "      <td>[0.091, 0.805, 0.0, 0.591, 0.981, 0.026, 0.757...</td>\n",
       "      <td>30.520833</td>\n",
       "      <td>0.393174</td>\n",
       "    </tr>\n",
       "  </tbody>\n",
       "</table>\n",
       "</div>"
      ],
      "text/plain": [
       "      user_id              buy_spu    buy_sn  buy_ct3            view_spu  \\\n",
       "0  2469583035  4199682998971011301  10013436      334  220189917005230097   \n",
       "1  2469583035  4199682998971011301  10013436      334  234826617504419925   \n",
       "2  2469583035  4199682998971011301  10013436      334  235671027621670949   \n",
       "3  2469583035  4199682998971011301  10013436      334  245522675097001998   \n",
       "4  2469583035  4199682998971011301  10013436      334  296751124749754369   \n",
       "\n",
       "    view_sn  view_ct3  time_interval  view_cnt  view_secondes  \\\n",
       "0  10013861       334          37496         7             45   \n",
       "1  10003862       334         170826         2             23   \n",
       "2  10003862       334         426968         2             11   \n",
       "3  10026364       334          83993         2              7   \n",
       "4  10005367       334         427866         2             12   \n",
       "\n",
       "                                       view_features  \\\n",
       "0  [0.621, 0.542, 0.0, 0.369, 0.062, 0.039, 0.103...   \n",
       "1  [0.15, 0.98, 0.104, 1.295, 0.111, 0.0, 0.0, 0....   \n",
       "2  [0.106, 0.027, 0.0, 1.398, 0.096, 0.021, 0.072...   \n",
       "3  [0.019, 1.415, 0.007, 0.088, 0.055, 0.015, 0.0...   \n",
       "4  [0.066, 0.328, 0.043, 0.0, 0.062, 0.016, 0.303...   \n",
       "\n",
       "                                        buy_features  avg_view_sec  \\\n",
       "0  [0.091, 0.805, 0.0, 0.591, 0.981, 0.026, 0.757...     30.520833   \n",
       "1  [0.091, 0.805, 0.0, 0.591, 0.981, 0.026, 0.757...     30.520833   \n",
       "2  [0.091, 0.805, 0.0, 0.591, 0.981, 0.026, 0.757...     30.520833   \n",
       "3  [0.091, 0.805, 0.0, 0.591, 0.981, 0.026, 0.757...     30.520833   \n",
       "4  [0.091, 0.805, 0.0, 0.591, 0.981, 0.026, 0.757...     30.520833   \n",
       "\n",
       "   weight_of_view  \n",
       "0        1.474403  \n",
       "1        0.753584  \n",
       "2        0.360410  \n",
       "3        0.229352  \n",
       "4        0.393174  "
      ]
     },
     "execution_count": 11,
     "metadata": {},
     "output_type": "execute_result"
    }
   ],
   "source": [
    "df.head()"
   ]
  },
  {
   "cell_type": "code",
   "execution_count": 12,
   "metadata": {
    "collapsed": false
   },
   "outputs": [],
   "source": [
    "# Generate TSNE model\n",
    "model = TSNE(n_components=10, random_state=0)"
   ]
  },
  {
   "cell_type": "code",
   "execution_count": 13,
   "metadata": {
    "collapsed": true
   },
   "outputs": [],
   "source": [
    "# Fit to view_item_vec\n",
    "view_item_vec = df['view_features']"
   ]
  },
  {
   "cell_type": "code",
   "execution_count": 14,
   "metadata": {
    "collapsed": false
   },
   "outputs": [
    {
     "data": {
      "text/plain": [
       "3176676"
      ]
     },
     "execution_count": 14,
     "metadata": {},
     "output_type": "execute_result"
    }
   ],
   "source": [
    "len(view_item_vec)"
   ]
  },
  {
   "cell_type": "markdown",
   "metadata": {},
   "source": [
    "## Try TSNE and time it\n",
    "* It turns out that TSNE is too time consuming."
   ]
  },
  {
   "cell_type": "code",
   "execution_count": null,
   "metadata": {
    "collapsed": true
   },
   "outputs": [],
   "source": [
    "# Generate TSNE model\n",
    "model = PCA(n_components=200, random_state=0)"
   ]
  },
  {
   "cell_type": "code",
   "execution_count": 121,
   "metadata": {
    "collapsed": false
   },
   "outputs": [
    {
     "name": "stdout",
     "output_type": "stream",
     "text": [
      "CPU times: user 22.3 s, sys: 501 ms, total: 22.8 s\n",
      "Wall time: 22.8 s\n"
     ]
    }
   ],
   "source": [
    "# Time the tSNE with 250 samples\n",
    "%%time\n",
    "a = pd.DataFrame()\n",
    "for i, j in enumerate(view_item_vec.iloc[0:250]):\n",
    "    a = pd.concat([a, pd.DataFrame(j).transpose()], axis = 0)\n",
    "vt = model.fit_transform(a)"
   ]
  },
  {
   "cell_type": "code",
   "execution_count": 114,
   "metadata": {
    "collapsed": false
   },
   "outputs": [
    {
     "name": "stdout",
     "output_type": "stream",
     "text": [
      "CPU times: user 1min 23s, sys: 2.57 s, total: 1min 25s\n",
      "Wall time: 1min 31s\n"
     ]
    }
   ],
   "source": [
    "# Time the tSNE with 500 samples\n",
    "%%time\n",
    "a = pd.DataFrame()\n",
    "for i, j in enumerate(view_item_vec.iloc[0:500]):\n",
    "    a = pd.concat([a, pd.DataFrame(j).transpose()], axis = 0)\n",
    "vt = model.fit_transform(a)"
   ]
  },
  {
   "cell_type": "code",
   "execution_count": 113,
   "metadata": {
    "collapsed": false
   },
   "outputs": [
    {
     "name": "stdout",
     "output_type": "stream",
     "text": [
      "CPU times: user 4min 25s, sys: 6.05 s, total: 4min 31s\n",
      "Wall time: 4min 33s\n"
     ]
    }
   ],
   "source": [
    "# Time the tSNE with 1000 samples\n",
    "%%time\n",
    "a = pd.DataFrame()\n",
    "for i, j in enumerate(view_item_vec.iloc[0:1000]):\n",
    "    a = pd.concat([a, pd.DataFrame(j).transpose()], axis = 0)\n",
    "vt = model.fit_transform(a)"
   ]
  },
  {
   "cell_type": "markdown",
   "metadata": {},
   "source": [
    "## Try PCA instead\n",
    "* PCA looks resonable. We can process 500k data around 90 secs. I will proceed with this setting for first try"
   ]
  },
  {
   "cell_type": "code",
   "execution_count": 22,
   "metadata": {
    "collapsed": false
   },
   "outputs": [],
   "source": [
    "# Generate TSNE model\n",
    "model = PCA(n_components=200, random_state=0)"
   ]
  },
  {
   "cell_type": "code",
   "execution_count": 18,
   "metadata": {
    "collapsed": false
   },
   "outputs": [
    {
     "name": "stdout",
     "output_type": "stream",
     "text": [
      "CPU times: user 34.1 s, sys: 12.5 s, total: 46.6 s\n",
      "Wall time: 1min 12s\n"
     ]
    }
   ],
   "source": [
    "%%time\n",
    "a = []\n",
    "for i in view_item_vec.iloc[0:500000]:\n",
    "    a.append(i)\n",
    "b = np.array(a)"
   ]
  },
  {
   "cell_type": "code",
   "execution_count": 21,
   "metadata": {
    "collapsed": false
   },
   "outputs": [
    {
     "ename": "KeyboardInterrupt",
     "evalue": "",
     "output_type": "error",
     "traceback": [
      "\u001b[0;31m---------------------------------------------------------------------------\u001b[0m",
      "\u001b[0;31mKeyboardInterrupt\u001b[0m                         Traceback (most recent call last)",
      "\u001b[0;32m<ipython-input-21-9242178c40fa>\u001b[0m in \u001b[0;36m<module>\u001b[0;34m()\u001b[0m\n\u001b[0;32m----> 1\u001b[0;31m \u001b[0mget_ipython\u001b[0m\u001b[0;34m(\u001b[0m\u001b[0;34m)\u001b[0m\u001b[0;34m.\u001b[0m\u001b[0mrun_cell_magic\u001b[0m\u001b[0;34m(\u001b[0m\u001b[0;34mu'time'\u001b[0m\u001b[0;34m,\u001b[0m \u001b[0;34mu''\u001b[0m\u001b[0;34m,\u001b[0m \u001b[0;34mu'pca_vec = model.fit_transform(b)'\u001b[0m\u001b[0;34m)\u001b[0m\u001b[0;34m\u001b[0m\u001b[0m\n\u001b[0m",
      "\u001b[0;32m/Users/Walkon302/anaconda/lib/python2.7/site-packages/IPython/core/interactiveshell.pyc\u001b[0m in \u001b[0;36mrun_cell_magic\u001b[0;34m(self, magic_name, line, cell)\u001b[0m\n\u001b[1;32m   2113\u001b[0m             \u001b[0mmagic_arg_s\u001b[0m \u001b[0;34m=\u001b[0m \u001b[0mself\u001b[0m\u001b[0;34m.\u001b[0m\u001b[0mvar_expand\u001b[0m\u001b[0;34m(\u001b[0m\u001b[0mline\u001b[0m\u001b[0;34m,\u001b[0m \u001b[0mstack_depth\u001b[0m\u001b[0;34m)\u001b[0m\u001b[0;34m\u001b[0m\u001b[0m\n\u001b[1;32m   2114\u001b[0m             \u001b[0;32mwith\u001b[0m \u001b[0mself\u001b[0m\u001b[0;34m.\u001b[0m\u001b[0mbuiltin_trap\u001b[0m\u001b[0;34m:\u001b[0m\u001b[0;34m\u001b[0m\u001b[0m\n\u001b[0;32m-> 2115\u001b[0;31m                 \u001b[0mresult\u001b[0m \u001b[0;34m=\u001b[0m \u001b[0mfn\u001b[0m\u001b[0;34m(\u001b[0m\u001b[0mmagic_arg_s\u001b[0m\u001b[0;34m,\u001b[0m \u001b[0mcell\u001b[0m\u001b[0;34m)\u001b[0m\u001b[0;34m\u001b[0m\u001b[0m\n\u001b[0m\u001b[1;32m   2116\u001b[0m             \u001b[0;32mreturn\u001b[0m \u001b[0mresult\u001b[0m\u001b[0;34m\u001b[0m\u001b[0m\n\u001b[1;32m   2117\u001b[0m \u001b[0;34m\u001b[0m\u001b[0m\n",
      "\u001b[0;32m<decorator-gen-59>\u001b[0m in \u001b[0;36mtime\u001b[0;34m(self, line, cell, local_ns)\u001b[0m\n",
      "\u001b[0;32m/Users/Walkon302/anaconda/lib/python2.7/site-packages/IPython/core/magic.pyc\u001b[0m in \u001b[0;36m<lambda>\u001b[0;34m(f, *a, **k)\u001b[0m\n\u001b[1;32m    186\u001b[0m     \u001b[0;31m# but it's overkill for just that one bit of state.\u001b[0m\u001b[0;34m\u001b[0m\u001b[0;34m\u001b[0m\u001b[0m\n\u001b[1;32m    187\u001b[0m     \u001b[0;32mdef\u001b[0m \u001b[0mmagic_deco\u001b[0m\u001b[0;34m(\u001b[0m\u001b[0marg\u001b[0m\u001b[0;34m)\u001b[0m\u001b[0;34m:\u001b[0m\u001b[0;34m\u001b[0m\u001b[0m\n\u001b[0;32m--> 188\u001b[0;31m         \u001b[0mcall\u001b[0m \u001b[0;34m=\u001b[0m \u001b[0;32mlambda\u001b[0m \u001b[0mf\u001b[0m\u001b[0;34m,\u001b[0m \u001b[0;34m*\u001b[0m\u001b[0ma\u001b[0m\u001b[0;34m,\u001b[0m \u001b[0;34m**\u001b[0m\u001b[0mk\u001b[0m\u001b[0;34m:\u001b[0m \u001b[0mf\u001b[0m\u001b[0;34m(\u001b[0m\u001b[0;34m*\u001b[0m\u001b[0ma\u001b[0m\u001b[0;34m,\u001b[0m \u001b[0;34m**\u001b[0m\u001b[0mk\u001b[0m\u001b[0;34m)\u001b[0m\u001b[0;34m\u001b[0m\u001b[0m\n\u001b[0m\u001b[1;32m    189\u001b[0m \u001b[0;34m\u001b[0m\u001b[0m\n\u001b[1;32m    190\u001b[0m         \u001b[0;32mif\u001b[0m \u001b[0mcallable\u001b[0m\u001b[0;34m(\u001b[0m\u001b[0marg\u001b[0m\u001b[0;34m)\u001b[0m\u001b[0;34m:\u001b[0m\u001b[0;34m\u001b[0m\u001b[0m\n",
      "\u001b[0;32m/Users/Walkon302/anaconda/lib/python2.7/site-packages/IPython/core/magics/execution.pyc\u001b[0m in \u001b[0;36mtime\u001b[0;34m(self, line, cell, local_ns)\u001b[0m\n\u001b[1;32m   1178\u001b[0m         \u001b[0;32melse\u001b[0m\u001b[0;34m:\u001b[0m\u001b[0;34m\u001b[0m\u001b[0m\n\u001b[1;32m   1179\u001b[0m             \u001b[0mst\u001b[0m \u001b[0;34m=\u001b[0m \u001b[0mclock2\u001b[0m\u001b[0;34m(\u001b[0m\u001b[0;34m)\u001b[0m\u001b[0;34m\u001b[0m\u001b[0m\n\u001b[0;32m-> 1180\u001b[0;31m             \u001b[0;32mexec\u001b[0m\u001b[0;34m(\u001b[0m\u001b[0mcode\u001b[0m\u001b[0;34m,\u001b[0m \u001b[0mglob\u001b[0m\u001b[0;34m,\u001b[0m \u001b[0mlocal_ns\u001b[0m\u001b[0;34m)\u001b[0m\u001b[0;34m\u001b[0m\u001b[0m\n\u001b[0m\u001b[1;32m   1181\u001b[0m             \u001b[0mend\u001b[0m \u001b[0;34m=\u001b[0m \u001b[0mclock2\u001b[0m\u001b[0;34m(\u001b[0m\u001b[0;34m)\u001b[0m\u001b[0;34m\u001b[0m\u001b[0m\n\u001b[1;32m   1182\u001b[0m             \u001b[0mout\u001b[0m \u001b[0;34m=\u001b[0m \u001b[0mNone\u001b[0m\u001b[0;34m\u001b[0m\u001b[0m\n",
      "\u001b[0;32m<timed exec>\u001b[0m in \u001b[0;36m<module>\u001b[0;34m()\u001b[0m\n",
      "\u001b[0;32m/Users/Walkon302/anaconda/lib/python2.7/site-packages/sklearn/decomposition/pca.pyc\u001b[0m in \u001b[0;36mfit_transform\u001b[0;34m(self, X, y)\u001b[0m\n\u001b[1;32m    322\u001b[0m \u001b[0;34m\u001b[0m\u001b[0m\n\u001b[1;32m    323\u001b[0m         \"\"\"\n\u001b[0;32m--> 324\u001b[0;31m         \u001b[0mU\u001b[0m\u001b[0;34m,\u001b[0m \u001b[0mS\u001b[0m\u001b[0;34m,\u001b[0m \u001b[0mV\u001b[0m \u001b[0;34m=\u001b[0m \u001b[0mself\u001b[0m\u001b[0;34m.\u001b[0m\u001b[0m_fit\u001b[0m\u001b[0;34m(\u001b[0m\u001b[0mX\u001b[0m\u001b[0;34m)\u001b[0m\u001b[0;34m\u001b[0m\u001b[0m\n\u001b[0m\u001b[1;32m    325\u001b[0m         \u001b[0mU\u001b[0m \u001b[0;34m=\u001b[0m \u001b[0mU\u001b[0m\u001b[0;34m[\u001b[0m\u001b[0;34m:\u001b[0m\u001b[0;34m,\u001b[0m \u001b[0;34m:\u001b[0m\u001b[0mself\u001b[0m\u001b[0;34m.\u001b[0m\u001b[0mn_components_\u001b[0m\u001b[0;34m]\u001b[0m\u001b[0;34m\u001b[0m\u001b[0m\n\u001b[1;32m    326\u001b[0m \u001b[0;34m\u001b[0m\u001b[0m\n",
      "\u001b[0;32m/Users/Walkon302/anaconda/lib/python2.7/site-packages/sklearn/decomposition/pca.pyc\u001b[0m in \u001b[0;36m_fit\u001b[0;34m(self, X)\u001b[0m\n\u001b[1;32m    344\u001b[0m \u001b[0;34m\u001b[0m\u001b[0m\n\u001b[1;32m    345\u001b[0m         X = check_array(X, dtype=[np.float64], ensure_2d=True,\n\u001b[0;32m--> 346\u001b[0;31m                         copy=self.copy)\n\u001b[0m\u001b[1;32m    347\u001b[0m \u001b[0;34m\u001b[0m\u001b[0m\n\u001b[1;32m    348\u001b[0m         \u001b[0;31m# Handle n_components==None\u001b[0m\u001b[0;34m\u001b[0m\u001b[0;34m\u001b[0m\u001b[0m\n",
      "\u001b[0;32m/Users/Walkon302/anaconda/lib/python2.7/site-packages/sklearn/utils/validation.pyc\u001b[0m in \u001b[0;36mcheck_array\u001b[0;34m(array, accept_sparse, dtype, order, copy, force_all_finite, ensure_2d, allow_nd, ensure_min_samples, ensure_min_features, warn_on_dtype, estimator)\u001b[0m\n\u001b[1;32m    396\u001b[0m             \u001b[0marray\u001b[0m \u001b[0;34m=\u001b[0m \u001b[0mnp\u001b[0m\u001b[0;34m.\u001b[0m\u001b[0matleast_2d\u001b[0m\u001b[0;34m(\u001b[0m\u001b[0marray\u001b[0m\u001b[0;34m)\u001b[0m\u001b[0;34m\u001b[0m\u001b[0m\n\u001b[1;32m    397\u001b[0m             \u001b[0;31m# To ensure that array flags are maintained\u001b[0m\u001b[0;34m\u001b[0m\u001b[0;34m\u001b[0m\u001b[0m\n\u001b[0;32m--> 398\u001b[0;31m             \u001b[0marray\u001b[0m \u001b[0;34m=\u001b[0m \u001b[0mnp\u001b[0m\u001b[0;34m.\u001b[0m\u001b[0marray\u001b[0m\u001b[0;34m(\u001b[0m\u001b[0marray\u001b[0m\u001b[0;34m,\u001b[0m \u001b[0mdtype\u001b[0m\u001b[0;34m=\u001b[0m\u001b[0mdtype\u001b[0m\u001b[0;34m,\u001b[0m \u001b[0morder\u001b[0m\u001b[0;34m=\u001b[0m\u001b[0morder\u001b[0m\u001b[0;34m,\u001b[0m \u001b[0mcopy\u001b[0m\u001b[0;34m=\u001b[0m\u001b[0mcopy\u001b[0m\u001b[0;34m)\u001b[0m\u001b[0;34m\u001b[0m\u001b[0m\n\u001b[0m\u001b[1;32m    399\u001b[0m \u001b[0;34m\u001b[0m\u001b[0m\n\u001b[1;32m    400\u001b[0m         \u001b[0;31m# make sure we actually converted to numeric:\u001b[0m\u001b[0;34m\u001b[0m\u001b[0;34m\u001b[0m\u001b[0m\n",
      "\u001b[0;31mKeyboardInterrupt\u001b[0m: "
     ]
    }
   ],
   "source": [
    "%%time\n",
    "pca_vec = model.fit_transform(b)"
   ]
  },
  {
   "cell_type": "code",
   "execution_count": 19,
   "metadata": {
    "collapsed": false
   },
   "outputs": [
    {
     "data": {
      "text/plain": [
       "0.8508820736566447"
      ]
     },
     "execution_count": 19,
     "metadata": {},
     "output_type": "execute_result"
    }
   ],
   "source": [
    "# 200 dimensions of PCA can explain 85% of variables. Beyond that, e.g., 300 D, my computer will run out of memory (8g)\n",
    "sum(model.explained_variance_ratio_)"
   ]
  },
  {
   "cell_type": "code",
   "execution_count": 19,
   "metadata": {
    "collapsed": false
   },
   "outputs": [
    {
     "data": {
      "text/plain": [
       "(3176676,)"
      ]
     },
     "execution_count": 19,
     "metadata": {},
     "output_type": "execute_result"
    }
   ],
   "source": [
    "view_item_vec.shape"
   ]
  },
  {
   "cell_type": "code",
   "execution_count": null,
   "metadata": {
    "collapsed": true
   },
   "outputs": [],
   "source": []
  }
 ],
 "metadata": {
  "anaconda-cloud": {},
  "kernelspec": {
   "display_name": "Python [conda root]",
   "language": "python",
   "name": "conda-root-py"
  },
  "language_info": {
   "codemirror_mode": {
    "name": "ipython",
    "version": 2
   },
   "file_extension": ".py",
   "mimetype": "text/x-python",
   "name": "python",
   "nbconvert_exporter": "python",
   "pygments_lexer": "ipython2",
   "version": "2.7.12"
  }
 },
 "nbformat": 4,
 "nbformat_minor": 2
}
