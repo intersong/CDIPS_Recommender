{
 "cells": [
  {
   "cell_type": "markdown",
   "metadata": {},
   "source": [
    "# To do for 07282017:\n",
    "1. User_filter:\n",
    "   Filter user based on certain features, e.g., \n",
    "   consistent with theme, certain time of viewing, \n",
    "   or certain time interval before each item viewing.\n",
    "2. Recommendation core:\n",
    "   It will basically be the collaborative filter (CF),\n",
    "   but instead of using real items, I'd like to use \n",
    "   features extracted from CNN and dimension-reduced\n",
    "   by tSNE to maybe 20 D.\n",
    "3. Processor:\n",
    "   Input are\n",
    "   a. log of user history\n",
    "   b. item features\n",
    "   Output are\n",
    "   a. Top N rank of recommendation item for each user\n",
    "4. Evaluator:\n",
    "   Evaluate whether the user buy the item within the top\n",
    "   N rank of recommended items."
   ]
  },
  {
   "cell_type": "markdown",
   "metadata": {},
   "source": [
    "# After trial run:\n",
    "* tSNE for this amount of sample and the dimension we want may not be feasible. Need to try small portion and time it or try PCA instead"
   ]
  },
  {
   "cell_type": "code",
   "execution_count": 1,
   "metadata": {
    "collapsed": true
   },
   "outputs": [],
   "source": [
    "import pandas as pd\n",
    "import numpy as np\n",
    "import os\n",
    "from sklearn.manifold import TSNE\n",
    "from sklearn.decomposition import PCA"
   ]
  },
  {
   "cell_type": "code",
   "execution_count": 2,
   "metadata": {
    "collapsed": false
   },
   "outputs": [],
   "source": [
    "os.chdir('/Users/Walkon302/Desktop/deep-learning-models-master/view2buy')"
   ]
  },
  {
   "cell_type": "code",
   "execution_count": 3,
   "metadata": {
    "collapsed": true
   },
   "outputs": [],
   "source": [
    "# Read the preprocessed file, containing the user profile and item features from view2buy folder\n",
    "df = pd.read_pickle('user_fea_for_eval.pkl')"
   ]
  },
  {
   "cell_type": "code",
   "execution_count": 4,
   "metadata": {
    "collapsed": false
   },
   "outputs": [],
   "source": [
    "# Drop the first column, which is the original data format.\n",
    "df.drop('0', axis = 1, inplace = True)"
   ]
  },
  {
   "cell_type": "code",
   "execution_count": 5,
   "metadata": {
    "collapsed": false
   },
   "outputs": [
    {
     "data": {
      "text/html": [
       "<div>\n",
       "<table border=\"1\" class=\"dataframe\">\n",
       "  <thead>\n",
       "    <tr style=\"text-align: right;\">\n",
       "      <th></th>\n",
       "      <th>user_id</th>\n",
       "      <th>buy_spu</th>\n",
       "      <th>buy_sn</th>\n",
       "      <th>buy_ct3</th>\n",
       "      <th>view_spu</th>\n",
       "      <th>view_sn</th>\n",
       "      <th>view_ct3</th>\n",
       "      <th>time_interval</th>\n",
       "      <th>view_cnt</th>\n",
       "      <th>view_secondes</th>\n",
       "      <th>view_features</th>\n",
       "      <th>buy_features</th>\n",
       "    </tr>\n",
       "  </thead>\n",
       "  <tbody>\n",
       "    <tr>\n",
       "      <th>0</th>\n",
       "      <td>2469583035</td>\n",
       "      <td>4199682998971011301</td>\n",
       "      <td>10013436</td>\n",
       "      <td>334</td>\n",
       "      <td>220189917005230097</td>\n",
       "      <td>10013861</td>\n",
       "      <td>334</td>\n",
       "      <td>37496</td>\n",
       "      <td>7</td>\n",
       "      <td>45</td>\n",
       "      <td>[0.621, 0.542, 0.0, 0.369, 0.062, 0.039, 0.103...</td>\n",
       "      <td>[0.091, 0.805, 0.0, 0.591, 0.981, 0.026, 0.757...</td>\n",
       "    </tr>\n",
       "    <tr>\n",
       "      <th>1</th>\n",
       "      <td>2469583035</td>\n",
       "      <td>4199682998971011301</td>\n",
       "      <td>10013436</td>\n",
       "      <td>334</td>\n",
       "      <td>234826617504419925</td>\n",
       "      <td>10003862</td>\n",
       "      <td>334</td>\n",
       "      <td>170826</td>\n",
       "      <td>2</td>\n",
       "      <td>23</td>\n",
       "      <td>[0.15, 0.98, 0.104, 1.295, 0.111, 0.0, 0.0, 0....</td>\n",
       "      <td>[0.091, 0.805, 0.0, 0.591, 0.981, 0.026, 0.757...</td>\n",
       "    </tr>\n",
       "    <tr>\n",
       "      <th>2</th>\n",
       "      <td>2469583035</td>\n",
       "      <td>4199682998971011301</td>\n",
       "      <td>10013436</td>\n",
       "      <td>334</td>\n",
       "      <td>235671027621670949</td>\n",
       "      <td>10003862</td>\n",
       "      <td>334</td>\n",
       "      <td>426968</td>\n",
       "      <td>2</td>\n",
       "      <td>11</td>\n",
       "      <td>[0.106, 0.027, 0.0, 1.398, 0.096, 0.021, 0.072...</td>\n",
       "      <td>[0.091, 0.805, 0.0, 0.591, 0.981, 0.026, 0.757...</td>\n",
       "    </tr>\n",
       "    <tr>\n",
       "      <th>3</th>\n",
       "      <td>1488725183</td>\n",
       "      <td>4199682998971011301</td>\n",
       "      <td>10013436</td>\n",
       "      <td>334</td>\n",
       "      <td>235671027621670949</td>\n",
       "      <td>10003862</td>\n",
       "      <td>334</td>\n",
       "      <td>180564</td>\n",
       "      <td>1</td>\n",
       "      <td>22</td>\n",
       "      <td>[0.106, 0.027, 0.0, 1.398, 0.096, 0.021, 0.072...</td>\n",
       "      <td>[0.091, 0.805, 0.0, 0.591, 0.981, 0.026, 0.757...</td>\n",
       "    </tr>\n",
       "    <tr>\n",
       "      <th>4</th>\n",
       "      <td>2469583035</td>\n",
       "      <td>4199682998971011301</td>\n",
       "      <td>10013436</td>\n",
       "      <td>334</td>\n",
       "      <td>245522675097001998</td>\n",
       "      <td>10026364</td>\n",
       "      <td>334</td>\n",
       "      <td>83993</td>\n",
       "      <td>2</td>\n",
       "      <td>7</td>\n",
       "      <td>[0.019, 1.415, 0.007, 0.088, 0.055, 0.015, 0.0...</td>\n",
       "      <td>[0.091, 0.805, 0.0, 0.591, 0.981, 0.026, 0.757...</td>\n",
       "    </tr>\n",
       "  </tbody>\n",
       "</table>\n",
       "</div>"
      ],
      "text/plain": [
       "      user_id              buy_spu    buy_sn  buy_ct3            view_spu  \\\n",
       "0  2469583035  4199682998971011301  10013436      334  220189917005230097   \n",
       "1  2469583035  4199682998971011301  10013436      334  234826617504419925   \n",
       "2  2469583035  4199682998971011301  10013436      334  235671027621670949   \n",
       "3  1488725183  4199682998971011301  10013436      334  235671027621670949   \n",
       "4  2469583035  4199682998971011301  10013436      334  245522675097001998   \n",
       "\n",
       "    view_sn  view_ct3  time_interval  view_cnt  view_secondes  \\\n",
       "0  10013861       334          37496         7             45   \n",
       "1  10003862       334         170826         2             23   \n",
       "2  10003862       334         426968         2             11   \n",
       "3  10003862       334         180564         1             22   \n",
       "4  10026364       334          83993         2              7   \n",
       "\n",
       "                                       view_features  \\\n",
       "0  [0.621, 0.542, 0.0, 0.369, 0.062, 0.039, 0.103...   \n",
       "1  [0.15, 0.98, 0.104, 1.295, 0.111, 0.0, 0.0, 0....   \n",
       "2  [0.106, 0.027, 0.0, 1.398, 0.096, 0.021, 0.072...   \n",
       "3  [0.106, 0.027, 0.0, 1.398, 0.096, 0.021, 0.072...   \n",
       "4  [0.019, 1.415, 0.007, 0.088, 0.055, 0.015, 0.0...   \n",
       "\n",
       "                                        buy_features  \n",
       "0  [0.091, 0.805, 0.0, 0.591, 0.981, 0.026, 0.757...  \n",
       "1  [0.091, 0.805, 0.0, 0.591, 0.981, 0.026, 0.757...  \n",
       "2  [0.091, 0.805, 0.0, 0.591, 0.981, 0.026, 0.757...  \n",
       "3  [0.091, 0.805, 0.0, 0.591, 0.981, 0.026, 0.757...  \n",
       "4  [0.091, 0.805, 0.0, 0.591, 0.981, 0.026, 0.757...  "
      ]
     },
     "execution_count": 5,
     "metadata": {},
     "output_type": "execute_result"
    }
   ],
   "source": [
    "# Check the data\n",
    "df.head()"
   ]
  },
  {
   "cell_type": "code",
   "execution_count": 6,
   "metadata": {
    "collapsed": true
   },
   "outputs": [],
   "source": [
    "# Slice the data into 100k items\n",
    "df = df.iloc[0:100000, :]"
   ]
  },
  {
   "cell_type": "code",
   "execution_count": 7,
   "metadata": {
    "collapsed": false
   },
   "outputs": [],
   "source": [
    "# Calculate the average view sec for all view items per user\n",
    "avg_view_sec = pd.DataFrame(df.groupby(['user_id', 'buy_spu'])['view_secondes'].mean())"
   ]
  },
  {
   "cell_type": "code",
   "execution_count": 8,
   "metadata": {
    "collapsed": false
   },
   "outputs": [],
   "source": [
    "# Reset the index and rename the column\n",
    "avg_view_sec.reset_index(inplace=True)\n",
    "avg_view_sec.rename(columns = {'view_secondes':'avg_view_sec'}, inplace=True)"
   ]
  },
  {
   "cell_type": "code",
   "execution_count": 9,
   "metadata": {
    "collapsed": false
   },
   "outputs": [
    {
     "data": {
      "text/html": [
       "<div>\n",
       "<table border=\"1\" class=\"dataframe\">\n",
       "  <thead>\n",
       "    <tr style=\"text-align: right;\">\n",
       "      <th></th>\n",
       "      <th>user_id</th>\n",
       "      <th>buy_spu</th>\n",
       "      <th>avg_view_sec</th>\n",
       "    </tr>\n",
       "  </thead>\n",
       "  <tbody>\n",
       "    <tr>\n",
       "      <th>0</th>\n",
       "      <td>512596</td>\n",
       "      <td>300691773357412424</td>\n",
       "      <td>15.222222</td>\n",
       "    </tr>\n",
       "    <tr>\n",
       "      <th>1</th>\n",
       "      <td>814009</td>\n",
       "      <td>77763563263074335</td>\n",
       "      <td>13.128440</td>\n",
       "    </tr>\n",
       "    <tr>\n",
       "      <th>2</th>\n",
       "      <td>1165283</td>\n",
       "      <td>77200616039542809</td>\n",
       "      <td>14.714286</td>\n",
       "    </tr>\n",
       "    <tr>\n",
       "      <th>3</th>\n",
       "      <td>2164430</td>\n",
       "      <td>32446112180051996</td>\n",
       "      <td>13.486486</td>\n",
       "    </tr>\n",
       "    <tr>\n",
       "      <th>4</th>\n",
       "      <td>3603923</td>\n",
       "      <td>25972195386798122</td>\n",
       "      <td>22.380952</td>\n",
       "    </tr>\n",
       "  </tbody>\n",
       "</table>\n",
       "</div>"
      ],
      "text/plain": [
       "   user_id             buy_spu  avg_view_sec\n",
       "0   512596  300691773357412424     15.222222\n",
       "1   814009   77763563263074335     13.128440\n",
       "2  1165283   77200616039542809     14.714286\n",
       "3  2164430   32446112180051996     13.486486\n",
       "4  3603923   25972195386798122     22.380952"
      ]
     },
     "execution_count": 9,
     "metadata": {},
     "output_type": "execute_result"
    }
   ],
   "source": [
    "# Check the data\n",
    "avg_view_sec.head()"
   ]
  },
  {
   "cell_type": "code",
   "execution_count": 10,
   "metadata": {
    "collapsed": false
   },
   "outputs": [],
   "source": [
    "# Merge avg item view into data\n",
    "df = pd.merge(df, avg_view_sec, on=['user_id', 'buy_spu'])"
   ]
  },
  {
   "cell_type": "code",
   "execution_count": 11,
   "metadata": {
    "collapsed": false
   },
   "outputs": [],
   "source": [
    "# Calculate the weights for view item vec\n",
    "df['weight_of_view'] = df['view_secondes']/df['avg_view_sec']"
   ]
  },
  {
   "cell_type": "code",
   "execution_count": 12,
   "metadata": {
    "collapsed": false
   },
   "outputs": [
    {
     "data": {
      "text/html": [
       "<div>\n",
       "<table border=\"1\" class=\"dataframe\">\n",
       "  <thead>\n",
       "    <tr style=\"text-align: right;\">\n",
       "      <th></th>\n",
       "      <th>user_id</th>\n",
       "      <th>buy_spu</th>\n",
       "      <th>buy_sn</th>\n",
       "      <th>buy_ct3</th>\n",
       "      <th>view_spu</th>\n",
       "      <th>view_sn</th>\n",
       "      <th>view_ct3</th>\n",
       "      <th>time_interval</th>\n",
       "      <th>view_cnt</th>\n",
       "      <th>view_secondes</th>\n",
       "      <th>view_features</th>\n",
       "      <th>buy_features</th>\n",
       "      <th>avg_view_sec</th>\n",
       "      <th>weight_of_view</th>\n",
       "    </tr>\n",
       "  </thead>\n",
       "  <tbody>\n",
       "    <tr>\n",
       "      <th>0</th>\n",
       "      <td>2469583035</td>\n",
       "      <td>4199682998971011301</td>\n",
       "      <td>10013436</td>\n",
       "      <td>334</td>\n",
       "      <td>220189917005230097</td>\n",
       "      <td>10013861</td>\n",
       "      <td>334</td>\n",
       "      <td>37496</td>\n",
       "      <td>7</td>\n",
       "      <td>45</td>\n",
       "      <td>[0.621, 0.542, 0.0, 0.369, 0.062, 0.039, 0.103...</td>\n",
       "      <td>[0.091, 0.805, 0.0, 0.591, 0.981, 0.026, 0.757...</td>\n",
       "      <td>30.520833</td>\n",
       "      <td>1.474403</td>\n",
       "    </tr>\n",
       "    <tr>\n",
       "      <th>1</th>\n",
       "      <td>2469583035</td>\n",
       "      <td>4199682998971011301</td>\n",
       "      <td>10013436</td>\n",
       "      <td>334</td>\n",
       "      <td>234826617504419925</td>\n",
       "      <td>10003862</td>\n",
       "      <td>334</td>\n",
       "      <td>170826</td>\n",
       "      <td>2</td>\n",
       "      <td>23</td>\n",
       "      <td>[0.15, 0.98, 0.104, 1.295, 0.111, 0.0, 0.0, 0....</td>\n",
       "      <td>[0.091, 0.805, 0.0, 0.591, 0.981, 0.026, 0.757...</td>\n",
       "      <td>30.520833</td>\n",
       "      <td>0.753584</td>\n",
       "    </tr>\n",
       "    <tr>\n",
       "      <th>2</th>\n",
       "      <td>2469583035</td>\n",
       "      <td>4199682998971011301</td>\n",
       "      <td>10013436</td>\n",
       "      <td>334</td>\n",
       "      <td>235671027621670949</td>\n",
       "      <td>10003862</td>\n",
       "      <td>334</td>\n",
       "      <td>426968</td>\n",
       "      <td>2</td>\n",
       "      <td>11</td>\n",
       "      <td>[0.106, 0.027, 0.0, 1.398, 0.096, 0.021, 0.072...</td>\n",
       "      <td>[0.091, 0.805, 0.0, 0.591, 0.981, 0.026, 0.757...</td>\n",
       "      <td>30.520833</td>\n",
       "      <td>0.360410</td>\n",
       "    </tr>\n",
       "    <tr>\n",
       "      <th>3</th>\n",
       "      <td>2469583035</td>\n",
       "      <td>4199682998971011301</td>\n",
       "      <td>10013436</td>\n",
       "      <td>334</td>\n",
       "      <td>245522675097001998</td>\n",
       "      <td>10026364</td>\n",
       "      <td>334</td>\n",
       "      <td>83993</td>\n",
       "      <td>2</td>\n",
       "      <td>7</td>\n",
       "      <td>[0.019, 1.415, 0.007, 0.088, 0.055, 0.015, 0.0...</td>\n",
       "      <td>[0.091, 0.805, 0.0, 0.591, 0.981, 0.026, 0.757...</td>\n",
       "      <td>30.520833</td>\n",
       "      <td>0.229352</td>\n",
       "    </tr>\n",
       "    <tr>\n",
       "      <th>4</th>\n",
       "      <td>2469583035</td>\n",
       "      <td>4199682998971011301</td>\n",
       "      <td>10013436</td>\n",
       "      <td>334</td>\n",
       "      <td>296751124749754369</td>\n",
       "      <td>10005367</td>\n",
       "      <td>334</td>\n",
       "      <td>427866</td>\n",
       "      <td>2</td>\n",
       "      <td>12</td>\n",
       "      <td>[0.066, 0.328, 0.043, 0.0, 0.062, 0.016, 0.303...</td>\n",
       "      <td>[0.091, 0.805, 0.0, 0.591, 0.981, 0.026, 0.757...</td>\n",
       "      <td>30.520833</td>\n",
       "      <td>0.393174</td>\n",
       "    </tr>\n",
       "  </tbody>\n",
       "</table>\n",
       "</div>"
      ],
      "text/plain": [
       "      user_id              buy_spu    buy_sn  buy_ct3            view_spu  \\\n",
       "0  2469583035  4199682998971011301  10013436      334  220189917005230097   \n",
       "1  2469583035  4199682998971011301  10013436      334  234826617504419925   \n",
       "2  2469583035  4199682998971011301  10013436      334  235671027621670949   \n",
       "3  2469583035  4199682998971011301  10013436      334  245522675097001998   \n",
       "4  2469583035  4199682998971011301  10013436      334  296751124749754369   \n",
       "\n",
       "    view_sn  view_ct3  time_interval  view_cnt  view_secondes  \\\n",
       "0  10013861       334          37496         7             45   \n",
       "1  10003862       334         170826         2             23   \n",
       "2  10003862       334         426968         2             11   \n",
       "3  10026364       334          83993         2              7   \n",
       "4  10005367       334         427866         2             12   \n",
       "\n",
       "                                       view_features  \\\n",
       "0  [0.621, 0.542, 0.0, 0.369, 0.062, 0.039, 0.103...   \n",
       "1  [0.15, 0.98, 0.104, 1.295, 0.111, 0.0, 0.0, 0....   \n",
       "2  [0.106, 0.027, 0.0, 1.398, 0.096, 0.021, 0.072...   \n",
       "3  [0.019, 1.415, 0.007, 0.088, 0.055, 0.015, 0.0...   \n",
       "4  [0.066, 0.328, 0.043, 0.0, 0.062, 0.016, 0.303...   \n",
       "\n",
       "                                        buy_features  avg_view_sec  \\\n",
       "0  [0.091, 0.805, 0.0, 0.591, 0.981, 0.026, 0.757...     30.520833   \n",
       "1  [0.091, 0.805, 0.0, 0.591, 0.981, 0.026, 0.757...     30.520833   \n",
       "2  [0.091, 0.805, 0.0, 0.591, 0.981, 0.026, 0.757...     30.520833   \n",
       "3  [0.091, 0.805, 0.0, 0.591, 0.981, 0.026, 0.757...     30.520833   \n",
       "4  [0.091, 0.805, 0.0, 0.591, 0.981, 0.026, 0.757...     30.520833   \n",
       "\n",
       "   weight_of_view  \n",
       "0        1.474403  \n",
       "1        0.753584  \n",
       "2        0.360410  \n",
       "3        0.229352  \n",
       "4        0.393174  "
      ]
     },
     "execution_count": 12,
     "metadata": {},
     "output_type": "execute_result"
    }
   ],
   "source": [
    "df.head()"
   ]
  },
  {
   "cell_type": "code",
   "execution_count": 13,
   "metadata": {
    "collapsed": true
   },
   "outputs": [],
   "source": [
    "# Generate view_item_vec and buy_item_vec\n",
    "view_item_vec = df['view_features']\n",
    "buy_item_vec = df['buy_features']"
   ]
  },
  {
   "cell_type": "code",
   "execution_count": 14,
   "metadata": {
    "collapsed": false
   },
   "outputs": [
    {
     "name": "stdout",
     "output_type": "stream",
     "text": [
      "view_item 100000 buy_item 100000\n"
     ]
    }
   ],
   "source": [
    "print 'view_item', len(view_item_vec), 'buy_item', len(buy_item_vec)"
   ]
  },
  {
   "cell_type": "markdown",
   "metadata": {},
   "source": [
    "## Try TSNE and time it\n",
    "* It turns out that TSNE is too time consuming even for small set of data. It is also because of how I transformed the data. Thus, in the PCA, I used list in the beginning and then transform all data into numpy array at once, which is much faster."
   ]
  },
  {
   "cell_type": "code",
   "execution_count": null,
   "metadata": {
    "collapsed": true
   },
   "outputs": [],
   "source": [
    "# Generate TSNE model\n",
    "model = TSNE(n_components=10, random_state=0)"
   ]
  },
  {
   "cell_type": "code",
   "execution_count": 121,
   "metadata": {
    "collapsed": false
   },
   "outputs": [
    {
     "name": "stdout",
     "output_type": "stream",
     "text": [
      "CPU times: user 22.3 s, sys: 501 ms, total: 22.8 s\n",
      "Wall time: 22.8 s\n"
     ]
    }
   ],
   "source": [
    "# Time the tSNE with 250 samples\n",
    "%%time\n",
    "a = pd.DataFrame()\n",
    "for i, j in enumerate(view_item_vec.iloc[0:250]):\n",
    "    a = pd.concat([a, pd.DataFrame(j).transpose()], axis = 0)\n",
    "vt = model.fit_transform(a)"
   ]
  },
  {
   "cell_type": "code",
   "execution_count": 114,
   "metadata": {
    "collapsed": false
   },
   "outputs": [
    {
     "name": "stdout",
     "output_type": "stream",
     "text": [
      "CPU times: user 1min 23s, sys: 2.57 s, total: 1min 25s\n",
      "Wall time: 1min 31s\n"
     ]
    }
   ],
   "source": [
    "# Time the tSNE with 500 samples\n",
    "%%time\n",
    "a = pd.DataFrame()\n",
    "for i, j in enumerate(view_item_vec.iloc[0:500]):\n",
    "    a = pd.concat([a, pd.DataFrame(j).transpose()], axis = 0)\n",
    "vt = model.fit_transform(a)"
   ]
  },
  {
   "cell_type": "code",
   "execution_count": 113,
   "metadata": {
    "collapsed": false
   },
   "outputs": [
    {
     "name": "stdout",
     "output_type": "stream",
     "text": [
      "CPU times: user 4min 25s, sys: 6.05 s, total: 4min 31s\n",
      "Wall time: 4min 33s\n"
     ]
    }
   ],
   "source": [
    "# Time the tSNE with 1000 samples\n",
    "%%time\n",
    "a = pd.DataFrame()\n",
    "for i, j in enumerate(view_item_vec.iloc[0:1000]):\n",
    "    a = pd.concat([a, pd.DataFrame(j).transpose()], axis = 0)\n",
    "vt = model.fit_transform(a)"
   ]
  },
  {
   "cell_type": "markdown",
   "metadata": {},
   "source": [
    "## Try PCA instead\n",
    "* PCA looks resonable. We can process 300k data around 30 secs if it does not blow up my RAM. I will proceed with this setting for first try"
   ]
  },
  {
   "cell_type": "code",
   "execution_count": 17,
   "metadata": {
    "collapsed": false
   },
   "outputs": [],
   "source": [
    "# Generate TSNE model\n",
    "model = PCA(n_components=200, random_state=0)"
   ]
  },
  {
   "cell_type": "markdown",
   "metadata": {},
   "source": [
    "# Append all view_items for PCA processing"
   ]
  },
  {
   "cell_type": "code",
   "execution_count": 18,
   "metadata": {
    "collapsed": false
   },
   "outputs": [
    {
     "name": "stdout",
     "output_type": "stream",
     "text": [
      "CPU times: user 5.93 s, sys: 1.15 s, total: 7.08 s\n",
      "Wall time: 7.1 s\n"
     ]
    }
   ],
   "source": [
    "%%time\n",
    "view_item = []\n",
    "for i in view_item_vec:\n",
    "    view_item.append(i)\n",
    "view_item= np.array(view_item)"
   ]
  },
  {
   "cell_type": "code",
   "execution_count": 19,
   "metadata": {
    "collapsed": false
   },
   "outputs": [
    {
     "name": "stdout",
     "output_type": "stream",
     "text": [
      "CPU times: user 1min 1s, sys: 10.3 s, total: 1min 11s\n",
      "Wall time: 47.3 s\n"
     ]
    }
   ],
   "source": [
    "%%time\n",
    "pca_view_vec = model.fit_transform(view_item)"
   ]
  },
  {
   "cell_type": "code",
   "execution_count": 20,
   "metadata": {
    "collapsed": false
   },
   "outputs": [
    {
     "data": {
      "text/plain": [
       "0.84791818306676126"
      ]
     },
     "execution_count": 20,
     "metadata": {},
     "output_type": "execute_result"
    }
   ],
   "source": [
    "# 200 dimensions of PCA can explain 85% of variables. Beyond that, e.g., 300 D, my computer will run out of memory (8g)\n",
    "sum(model.explained_variance_ratio_)"
   ]
  },
  {
   "cell_type": "markdown",
   "metadata": {},
   "source": [
    "# Append all buy_items for PCA processing"
   ]
  },
  {
   "cell_type": "code",
   "execution_count": 22,
   "metadata": {
    "collapsed": false
   },
   "outputs": [
    {
     "name": "stdout",
     "output_type": "stream",
     "text": [
      "CPU times: user 4.83 s, sys: 656 ms, total: 5.49 s\n",
      "Wall time: 5.54 s\n"
     ]
    }
   ],
   "source": [
    "%%time\n",
    "buy_item = []\n",
    "for i in buy_item_vec:\n",
    "    buy_item.append(i)\n",
    "buy_item= np.array(buy_item)"
   ]
  },
  {
   "cell_type": "code",
   "execution_count": 23,
   "metadata": {
    "collapsed": false
   },
   "outputs": [
    {
     "name": "stdout",
     "output_type": "stream",
     "text": [
      "CPU times: user 1min 2s, sys: 10.6 s, total: 1min 12s\n",
      "Wall time: 52.3 s\n"
     ]
    }
   ],
   "source": [
    "%%time\n",
    "pca_buy_vec = model.fit_transform(buy_item)"
   ]
  },
  {
   "cell_type": "code",
   "execution_count": 24,
   "metadata": {
    "collapsed": false
   },
   "outputs": [],
   "source": [
    "# Incert pca result to data\n",
    "df['pca_view'] = pca_view_vec.tolist()\n",
    "df['pca_buy'] = pca_buy_vec.tolist()"
   ]
  },
  {
   "cell_type": "code",
   "execution_count": 25,
   "metadata": {
    "collapsed": false
   },
   "outputs": [
    {
     "data": {
      "text/html": [
       "<div>\n",
       "<table border=\"1\" class=\"dataframe\">\n",
       "  <thead>\n",
       "    <tr style=\"text-align: right;\">\n",
       "      <th></th>\n",
       "      <th>user_id</th>\n",
       "      <th>buy_spu</th>\n",
       "      <th>buy_sn</th>\n",
       "      <th>buy_ct3</th>\n",
       "      <th>view_spu</th>\n",
       "      <th>view_sn</th>\n",
       "      <th>view_ct3</th>\n",
       "      <th>time_interval</th>\n",
       "      <th>view_cnt</th>\n",
       "      <th>view_secondes</th>\n",
       "      <th>view_features</th>\n",
       "      <th>buy_features</th>\n",
       "      <th>avg_view_sec</th>\n",
       "      <th>weight_of_view</th>\n",
       "      <th>pca_view</th>\n",
       "      <th>pca_buy</th>\n",
       "    </tr>\n",
       "  </thead>\n",
       "  <tbody>\n",
       "    <tr>\n",
       "      <th>0</th>\n",
       "      <td>2469583035</td>\n",
       "      <td>4199682998971011301</td>\n",
       "      <td>10013436</td>\n",
       "      <td>334</td>\n",
       "      <td>220189917005230097</td>\n",
       "      <td>10013861</td>\n",
       "      <td>334</td>\n",
       "      <td>37496</td>\n",
       "      <td>7</td>\n",
       "      <td>45</td>\n",
       "      <td>[0.621, 0.542, 0.0, 0.369, 0.062, 0.039, 0.103...</td>\n",
       "      <td>[0.091, 0.805, 0.0, 0.591, 0.981, 0.026, 0.757...</td>\n",
       "      <td>30.520833</td>\n",
       "      <td>1.474403</td>\n",
       "      <td>[-5.74788202222, 6.52824387495, -5.06289858541...</td>\n",
       "      <td>[-2.17288636144, -2.94799496304, 2.39064835946...</td>\n",
       "    </tr>\n",
       "    <tr>\n",
       "      <th>1</th>\n",
       "      <td>2469583035</td>\n",
       "      <td>4199682998971011301</td>\n",
       "      <td>10013436</td>\n",
       "      <td>334</td>\n",
       "      <td>234826617504419925</td>\n",
       "      <td>10003862</td>\n",
       "      <td>334</td>\n",
       "      <td>170826</td>\n",
       "      <td>2</td>\n",
       "      <td>23</td>\n",
       "      <td>[0.15, 0.98, 0.104, 1.295, 0.111, 0.0, 0.0, 0....</td>\n",
       "      <td>[0.091, 0.805, 0.0, 0.591, 0.981, 0.026, 0.757...</td>\n",
       "      <td>30.520833</td>\n",
       "      <td>0.753584</td>\n",
       "      <td>[1.43729181654, 1.08420451467, 7.66008274012, ...</td>\n",
       "      <td>[-2.17288636144, -2.94799496305, 2.39064835945...</td>\n",
       "    </tr>\n",
       "    <tr>\n",
       "      <th>2</th>\n",
       "      <td>2469583035</td>\n",
       "      <td>4199682998971011301</td>\n",
       "      <td>10013436</td>\n",
       "      <td>334</td>\n",
       "      <td>235671027621670949</td>\n",
       "      <td>10003862</td>\n",
       "      <td>334</td>\n",
       "      <td>426968</td>\n",
       "      <td>2</td>\n",
       "      <td>11</td>\n",
       "      <td>[0.106, 0.027, 0.0, 1.398, 0.096, 0.021, 0.072...</td>\n",
       "      <td>[0.091, 0.805, 0.0, 0.591, 0.981, 0.026, 0.757...</td>\n",
       "      <td>30.520833</td>\n",
       "      <td>0.360410</td>\n",
       "      <td>[1.94162062285, -2.13649823253, 10.3696365616,...</td>\n",
       "      <td>[-2.17288636142, -2.94799496302, 2.39064835945...</td>\n",
       "    </tr>\n",
       "    <tr>\n",
       "      <th>3</th>\n",
       "      <td>2469583035</td>\n",
       "      <td>4199682998971011301</td>\n",
       "      <td>10013436</td>\n",
       "      <td>334</td>\n",
       "      <td>245522675097001998</td>\n",
       "      <td>10026364</td>\n",
       "      <td>334</td>\n",
       "      <td>83993</td>\n",
       "      <td>2</td>\n",
       "      <td>7</td>\n",
       "      <td>[0.019, 1.415, 0.007, 0.088, 0.055, 0.015, 0.0...</td>\n",
       "      <td>[0.091, 0.805, 0.0, 0.591, 0.981, 0.026, 0.757...</td>\n",
       "      <td>30.520833</td>\n",
       "      <td>0.229352</td>\n",
       "      <td>[-7.96945015131, 5.27389714219, -0.67157260350...</td>\n",
       "      <td>[-2.17288636144, -2.94799496305, 2.39064835948...</td>\n",
       "    </tr>\n",
       "    <tr>\n",
       "      <th>4</th>\n",
       "      <td>2469583035</td>\n",
       "      <td>4199682998971011301</td>\n",
       "      <td>10013436</td>\n",
       "      <td>334</td>\n",
       "      <td>296751124749754369</td>\n",
       "      <td>10005367</td>\n",
       "      <td>334</td>\n",
       "      <td>427866</td>\n",
       "      <td>2</td>\n",
       "      <td>12</td>\n",
       "      <td>[0.066, 0.328, 0.043, 0.0, 0.062, 0.016, 0.303...</td>\n",
       "      <td>[0.091, 0.805, 0.0, 0.591, 0.981, 0.026, 0.757...</td>\n",
       "      <td>30.520833</td>\n",
       "      <td>0.393174</td>\n",
       "      <td>[9.4119644988, 2.66645049386, 7.34774326651, 2...</td>\n",
       "      <td>[-2.17288636142, -2.94799496304, 2.39064835947...</td>\n",
       "    </tr>\n",
       "  </tbody>\n",
       "</table>\n",
       "</div>"
      ],
      "text/plain": [
       "      user_id              buy_spu    buy_sn  buy_ct3            view_spu  \\\n",
       "0  2469583035  4199682998971011301  10013436      334  220189917005230097   \n",
       "1  2469583035  4199682998971011301  10013436      334  234826617504419925   \n",
       "2  2469583035  4199682998971011301  10013436      334  235671027621670949   \n",
       "3  2469583035  4199682998971011301  10013436      334  245522675097001998   \n",
       "4  2469583035  4199682998971011301  10013436      334  296751124749754369   \n",
       "\n",
       "    view_sn  view_ct3  time_interval  view_cnt  view_secondes  \\\n",
       "0  10013861       334          37496         7             45   \n",
       "1  10003862       334         170826         2             23   \n",
       "2  10003862       334         426968         2             11   \n",
       "3  10026364       334          83993         2              7   \n",
       "4  10005367       334         427866         2             12   \n",
       "\n",
       "                                       view_features  \\\n",
       "0  [0.621, 0.542, 0.0, 0.369, 0.062, 0.039, 0.103...   \n",
       "1  [0.15, 0.98, 0.104, 1.295, 0.111, 0.0, 0.0, 0....   \n",
       "2  [0.106, 0.027, 0.0, 1.398, 0.096, 0.021, 0.072...   \n",
       "3  [0.019, 1.415, 0.007, 0.088, 0.055, 0.015, 0.0...   \n",
       "4  [0.066, 0.328, 0.043, 0.0, 0.062, 0.016, 0.303...   \n",
       "\n",
       "                                        buy_features  avg_view_sec  \\\n",
       "0  [0.091, 0.805, 0.0, 0.591, 0.981, 0.026, 0.757...     30.520833   \n",
       "1  [0.091, 0.805, 0.0, 0.591, 0.981, 0.026, 0.757...     30.520833   \n",
       "2  [0.091, 0.805, 0.0, 0.591, 0.981, 0.026, 0.757...     30.520833   \n",
       "3  [0.091, 0.805, 0.0, 0.591, 0.981, 0.026, 0.757...     30.520833   \n",
       "4  [0.091, 0.805, 0.0, 0.591, 0.981, 0.026, 0.757...     30.520833   \n",
       "\n",
       "   weight_of_view                                           pca_view  \\\n",
       "0        1.474403  [-5.74788202222, 6.52824387495, -5.06289858541...   \n",
       "1        0.753584  [1.43729181654, 1.08420451467, 7.66008274012, ...   \n",
       "2        0.360410  [1.94162062285, -2.13649823253, 10.3696365616,...   \n",
       "3        0.229352  [-7.96945015131, 5.27389714219, -0.67157260350...   \n",
       "4        0.393174  [9.4119644988, 2.66645049386, 7.34774326651, 2...   \n",
       "\n",
       "                                             pca_buy  \n",
       "0  [-2.17288636144, -2.94799496304, 2.39064835946...  \n",
       "1  [-2.17288636144, -2.94799496305, 2.39064835945...  \n",
       "2  [-2.17288636142, -2.94799496302, 2.39064835945...  \n",
       "3  [-2.17288636144, -2.94799496305, 2.39064835948...  \n",
       "4  [-2.17288636142, -2.94799496304, 2.39064835947...  "
      ]
     },
     "execution_count": 25,
     "metadata": {},
     "output_type": "execute_result"
    }
   ],
   "source": [
    "# Check the data\n",
    "df.head()"
   ]
  },
  {
   "cell_type": "code",
   "execution_count": 15,
   "metadata": {
    "collapsed": true
   },
   "outputs": [],
   "source": [
    "df = pd.read_pickle('df_weighted.pkl')"
   ]
  },
  {
   "cell_type": "code",
   "execution_count": 123,
   "metadata": {
    "collapsed": false
   },
   "outputs": [],
   "source": [
    "# Calculate the weighted pca_view\n",
    "df['weighted_view_pca'] = df.apply(lambda x: [y*x['weight_of_view'] for y in x['pca_view']], axis=1)"
   ]
  },
  {
   "cell_type": "code",
   "execution_count": 16,
   "metadata": {
    "collapsed": false
   },
   "outputs": [],
   "source": [
    "# Calculate the weighted pca_buy\n",
    "df['weighted_buy_pca'] = df.apply(lambda x: [y*x['weight_of_view'] for y in x['pca_buy']], axis=1)"
   ]
  },
  {
   "cell_type": "code",
   "execution_count": 20,
   "metadata": {
    "collapsed": false
   },
   "outputs": [
    {
     "data": {
      "text/html": [
       "<div>\n",
       "<table border=\"1\" class=\"dataframe\">\n",
       "  <thead>\n",
       "    <tr style=\"text-align: right;\">\n",
       "      <th></th>\n",
       "      <th>user_id</th>\n",
       "      <th>buy_spu</th>\n",
       "      <th>buy_sn</th>\n",
       "      <th>buy_ct3</th>\n",
       "      <th>view_spu</th>\n",
       "      <th>view_sn</th>\n",
       "      <th>view_ct3</th>\n",
       "      <th>time_interval</th>\n",
       "      <th>view_cnt</th>\n",
       "      <th>view_secondes</th>\n",
       "      <th>view_features</th>\n",
       "      <th>buy_features</th>\n",
       "      <th>avg_view_sec</th>\n",
       "      <th>weight_of_view</th>\n",
       "      <th>pca_view</th>\n",
       "      <th>pca_buy</th>\n",
       "      <th>weighted_view_pca</th>\n",
       "    </tr>\n",
       "  </thead>\n",
       "  <tbody>\n",
       "    <tr>\n",
       "      <th>0</th>\n",
       "      <td>2469583035</td>\n",
       "      <td>4199682998971011301</td>\n",
       "      <td>10013436</td>\n",
       "      <td>334</td>\n",
       "      <td>220189917005230097</td>\n",
       "      <td>10013861</td>\n",
       "      <td>334</td>\n",
       "      <td>37496</td>\n",
       "      <td>7</td>\n",
       "      <td>45</td>\n",
       "      <td>[0.621, 0.542, 0.0, 0.369, 0.062, 0.039, 0.103...</td>\n",
       "      <td>[0.091, 0.805, 0.0, 0.591, 0.981, 0.026, 0.757...</td>\n",
       "      <td>30.520833</td>\n",
       "      <td>1.474403</td>\n",
       "      <td>[-5.74788202222, 6.52824387495, -5.06289858541...</td>\n",
       "      <td>[-2.17288636144, -2.94799496304, 2.39064835946...</td>\n",
       "      <td>[-8.47469294744, 9.62526059379, -7.46475149794...</td>\n",
       "    </tr>\n",
       "    <tr>\n",
       "      <th>1</th>\n",
       "      <td>2469583035</td>\n",
       "      <td>4199682998971011301</td>\n",
       "      <td>10013436</td>\n",
       "      <td>334</td>\n",
       "      <td>234826617504419925</td>\n",
       "      <td>10003862</td>\n",
       "      <td>334</td>\n",
       "      <td>170826</td>\n",
       "      <td>2</td>\n",
       "      <td>23</td>\n",
       "      <td>[0.15, 0.98, 0.104, 1.295, 0.111, 0.0, 0.0, 0....</td>\n",
       "      <td>[0.091, 0.805, 0.0, 0.591, 0.981, 0.026, 0.757...</td>\n",
       "      <td>30.520833</td>\n",
       "      <td>0.753584</td>\n",
       "      <td>[1.43729181654, 1.08420451467, 7.66008274012, ...</td>\n",
       "      <td>[-2.17288636144, -2.94799496305, 2.39064835945...</td>\n",
       "      <td>[1.08311956687, 0.817038760544, 5.77251286354,...</td>\n",
       "    </tr>\n",
       "    <tr>\n",
       "      <th>2</th>\n",
       "      <td>2469583035</td>\n",
       "      <td>4199682998971011301</td>\n",
       "      <td>10013436</td>\n",
       "      <td>334</td>\n",
       "      <td>235671027621670949</td>\n",
       "      <td>10003862</td>\n",
       "      <td>334</td>\n",
       "      <td>426968</td>\n",
       "      <td>2</td>\n",
       "      <td>11</td>\n",
       "      <td>[0.106, 0.027, 0.0, 1.398, 0.096, 0.021, 0.072...</td>\n",
       "      <td>[0.091, 0.805, 0.0, 0.591, 0.981, 0.026, 0.757...</td>\n",
       "      <td>30.520833</td>\n",
       "      <td>0.360410</td>\n",
       "      <td>[1.94162062285, -2.13649823253, 10.3696365616,...</td>\n",
       "      <td>[-2.17288636142, -2.94799496302, 2.39064835945...</td>\n",
       "      <td>[0.699778627213, -0.770014380052, 3.7373161122...</td>\n",
       "    </tr>\n",
       "    <tr>\n",
       "      <th>3</th>\n",
       "      <td>2469583035</td>\n",
       "      <td>4199682998971011301</td>\n",
       "      <td>10013436</td>\n",
       "      <td>334</td>\n",
       "      <td>245522675097001998</td>\n",
       "      <td>10026364</td>\n",
       "      <td>334</td>\n",
       "      <td>83993</td>\n",
       "      <td>2</td>\n",
       "      <td>7</td>\n",
       "      <td>[0.019, 1.415, 0.007, 0.088, 0.055, 0.015, 0.0...</td>\n",
       "      <td>[0.091, 0.805, 0.0, 0.591, 0.981, 0.026, 0.757...</td>\n",
       "      <td>30.520833</td>\n",
       "      <td>0.229352</td>\n",
       "      <td>[-7.96945015131, 5.27389714219, -0.67157260350...</td>\n",
       "      <td>[-2.17288636144, -2.94799496305, 2.39064835948...</td>\n",
       "      <td>[-1.82780563197, 1.2095764094, -0.154026208039...</td>\n",
       "    </tr>\n",
       "    <tr>\n",
       "      <th>4</th>\n",
       "      <td>2469583035</td>\n",
       "      <td>4199682998971011301</td>\n",
       "      <td>10013436</td>\n",
       "      <td>334</td>\n",
       "      <td>296751124749754369</td>\n",
       "      <td>10005367</td>\n",
       "      <td>334</td>\n",
       "      <td>427866</td>\n",
       "      <td>2</td>\n",
       "      <td>12</td>\n",
       "      <td>[0.066, 0.328, 0.043, 0.0, 0.062, 0.016, 0.303...</td>\n",
       "      <td>[0.091, 0.805, 0.0, 0.591, 0.981, 0.026, 0.757...</td>\n",
       "      <td>30.520833</td>\n",
       "      <td>0.393174</td>\n",
       "      <td>[9.4119644988, 2.66645049386, 7.34774326651, 2...</td>\n",
       "      <td>[-2.17288636142, -2.94799496304, 2.39064835947...</td>\n",
       "      <td>[3.70054030806, 1.04837917028, 2.88894206247, ...</td>\n",
       "    </tr>\n",
       "  </tbody>\n",
       "</table>\n",
       "</div>"
      ],
      "text/plain": [
       "      user_id              buy_spu    buy_sn  buy_ct3            view_spu  \\\n",
       "0  2469583035  4199682998971011301  10013436      334  220189917005230097   \n",
       "1  2469583035  4199682998971011301  10013436      334  234826617504419925   \n",
       "2  2469583035  4199682998971011301  10013436      334  235671027621670949   \n",
       "3  2469583035  4199682998971011301  10013436      334  245522675097001998   \n",
       "4  2469583035  4199682998971011301  10013436      334  296751124749754369   \n",
       "\n",
       "    view_sn  view_ct3  time_interval  view_cnt  view_secondes  \\\n",
       "0  10013861       334          37496         7             45   \n",
       "1  10003862       334         170826         2             23   \n",
       "2  10003862       334         426968         2             11   \n",
       "3  10026364       334          83993         2              7   \n",
       "4  10005367       334         427866         2             12   \n",
       "\n",
       "                                       view_features  \\\n",
       "0  [0.621, 0.542, 0.0, 0.369, 0.062, 0.039, 0.103...   \n",
       "1  [0.15, 0.98, 0.104, 1.295, 0.111, 0.0, 0.0, 0....   \n",
       "2  [0.106, 0.027, 0.0, 1.398, 0.096, 0.021, 0.072...   \n",
       "3  [0.019, 1.415, 0.007, 0.088, 0.055, 0.015, 0.0...   \n",
       "4  [0.066, 0.328, 0.043, 0.0, 0.062, 0.016, 0.303...   \n",
       "\n",
       "                                        buy_features  avg_view_sec  \\\n",
       "0  [0.091, 0.805, 0.0, 0.591, 0.981, 0.026, 0.757...     30.520833   \n",
       "1  [0.091, 0.805, 0.0, 0.591, 0.981, 0.026, 0.757...     30.520833   \n",
       "2  [0.091, 0.805, 0.0, 0.591, 0.981, 0.026, 0.757...     30.520833   \n",
       "3  [0.091, 0.805, 0.0, 0.591, 0.981, 0.026, 0.757...     30.520833   \n",
       "4  [0.091, 0.805, 0.0, 0.591, 0.981, 0.026, 0.757...     30.520833   \n",
       "\n",
       "   weight_of_view                                           pca_view  \\\n",
       "0        1.474403  [-5.74788202222, 6.52824387495, -5.06289858541...   \n",
       "1        0.753584  [1.43729181654, 1.08420451467, 7.66008274012, ...   \n",
       "2        0.360410  [1.94162062285, -2.13649823253, 10.3696365616,...   \n",
       "3        0.229352  [-7.96945015131, 5.27389714219, -0.67157260350...   \n",
       "4        0.393174  [9.4119644988, 2.66645049386, 7.34774326651, 2...   \n",
       "\n",
       "                                             pca_buy  \\\n",
       "0  [-2.17288636144, -2.94799496304, 2.39064835946...   \n",
       "1  [-2.17288636144, -2.94799496305, 2.39064835945...   \n",
       "2  [-2.17288636142, -2.94799496302, 2.39064835945...   \n",
       "3  [-2.17288636144, -2.94799496305, 2.39064835948...   \n",
       "4  [-2.17288636142, -2.94799496304, 2.39064835947...   \n",
       "\n",
       "                                   weighted_view_pca  \n",
       "0  [-8.47469294744, 9.62526059379, -7.46475149794...  \n",
       "1  [1.08311956687, 0.817038760544, 5.77251286354,...  \n",
       "2  [0.699778627213, -0.770014380052, 3.7373161122...  \n",
       "3  [-1.82780563197, 1.2095764094, -0.154026208039...  \n",
       "4  [3.70054030806, 1.04837917028, 2.88894206247, ...  "
      ]
     },
     "execution_count": 20,
     "metadata": {},
     "output_type": "execute_result"
    }
   ],
   "source": [
    "# Check the data\n",
    "df.head()"
   ]
  },
  {
   "cell_type": "markdown",
   "metadata": {},
   "source": [
    "# Save the file for further processing"
   ]
  },
  {
   "cell_type": "code",
   "execution_count": null,
   "metadata": {
    "collapsed": false
   },
   "outputs": [],
   "source": [
    "df.to_pickle('top100k_user_pca.pkl')"
   ]
  },
  {
   "cell_type": "code",
   "execution_count": null,
   "metadata": {
    "collapsed": true
   },
   "outputs": [],
   "source": []
  }
 ],
 "metadata": {
  "anaconda-cloud": {},
  "kernelspec": {
   "display_name": "Python [conda root]",
   "language": "python",
   "name": "conda-root-py"
  },
  "language_info": {
   "codemirror_mode": {
    "name": "ipython",
    "version": 2
   },
   "file_extension": ".py",
   "mimetype": "text/x-python",
   "name": "python",
   "nbconvert_exporter": "python",
   "pygments_lexer": "ipython2",
   "version": "2.7.12"
  }
 },
 "nbformat": 4,
 "nbformat_minor": 2
}
