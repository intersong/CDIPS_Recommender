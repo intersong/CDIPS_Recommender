{
 "cells": [
  {
   "cell_type": "raw",
   "metadata": {},
   "source": [
    "<script>\n",
    "  function code_toggle() {\n",
    "    if (code_shown){\n",
    "      $('div.input').hide('500');\n",
    "      $('#toggleButton').val('Show Code')\n",
    "    } else {\n",
    "      $('div.input').show('500');\n",
    "      $('#toggleButton').val('Hide Code')\n",
    "    }\n",
    "    code_shown = !code_shown\n",
    "  }\n",
    "\n",
    "  $( document ).ready(function(){\n",
    "    code_shown=false;\n",
    "    $('div.input').hide()\n",
    "  });\n",
    "</script>\n",
    "<form action=\"javascript:code_toggle()\"><input type=\"submit\" id=\"toggleButton\" value=\"Show Code\"></form>"
   ]
  },
  {
   "cell_type": "markdown",
   "metadata": {},
   "source": [
    "# NN Item Category Prediction \n",
    "\n",
    "Is resnet 50 doing a reasonable job at classifying these images? \n",
    "\n",
    "- loop through a set of images, predict and print out their resnet labels"
   ]
  },
  {
   "cell_type": "code",
   "execution_count": 3,
   "metadata": {},
   "outputs": [
    {
     "name": "stderr",
     "output_type": "stream",
     "text": [
      "Using TensorFlow backend.\n"
     ]
    }
   ],
   "source": [
    "import sys \n",
    "import os\n",
    "sys.path.append(os.getcwd()+'/../')\n",
    "\n",
    "# our lib\n",
    "from lib.resnet50 import ResNet50\n",
    "from lib.imagenet_utils import preprocess_input, decode_predictions\n",
    "\n",
    "#keras \n",
    "from keras.preprocessing import image\n",
    "from keras.models import Model\n",
    "\n",
    "# sklearn\n",
    "import sklearn\n",
    "from sklearn.linear_model import LogisticRegression\n",
    "from sklearn.model_selection import permutation_test_score\n",
    "\n",
    "# other\n",
    "import numpy as np\n",
    "import glob\n",
    "import pandas as pd\n",
    "import ntpath\n",
    "\n",
    "# plotting\n",
    "import seaborn as sns\n",
    "import matplotlib.pyplot as plt\n",
    "%matplotlib inline"
   ]
  },
  {
   "cell_type": "code",
   "execution_count": 4,
   "metadata": {
    "collapsed": true
   },
   "outputs": [],
   "source": [
    "def preprocess_img(img_path):\n",
    "    img = image.load_img(img_path, target_size=(224, 224))\n",
    "    x = image.img_to_array(img)\n",
    "    x = np.expand_dims(x, axis=0)\n",
    "    x = preprocess_input(x)\n",
    "    return(x,img)\n"
   ]
  },
  {
   "cell_type": "code",
   "execution_count": 5,
   "metadata": {
    "collapsed": true
   },
   "outputs": [],
   "source": [
    "def perf_measure(y_actual, y_hat):\n",
    "    TP = 0\n",
    "    FP = 0\n",
    "    TN = 0\n",
    "    FN = 0\n",
    "\n",
    "    for i in range(len(y_hat)): \n",
    "        if y_actual[i]==y_hat[i]==1:\n",
    "           TP += 1\n",
    "    for i in range(len(y_hat)): \n",
    "        if (y_hat[i]==1) and (y_actual[i]!=y_hat[i]):\n",
    "           FP += 1\n",
    "    for i in range(len(y_hat)): \n",
    "        if y_actual[i]==y_hat[i]==0:\n",
    "           TN += 1\n",
    "    for i in range(len(y_hat)): \n",
    "        if (y_hat[i]==0) and (y_actual[i]!=y_hat[i]):\n",
    "           FN += 1\n",
    "\n",
    "    return(TP, FP, TN, FN)"
   ]
  },
  {
   "cell_type": "code",
   "execution_count": 6,
   "metadata": {},
   "outputs": [
    {
     "data": {
      "text/plain": [
       "['../original_img/BAIYI-B1008N289-5.jpg',\n",
       " '../original_img/BAIYI-B1008N299-5.jpg',\n",
       " '../original_img/BAIYI-B1010N356-5.jpg']"
      ]
     },
     "execution_count": 6,
     "metadata": {},
     "output_type": "execute_result"
    }
   ],
   "source": [
    "img_paths = glob.glob('../original_img/BAIYI*')\n",
    "img_paths[0:3]"
   ]
  },
  {
   "cell_type": "markdown",
   "metadata": {},
   "source": [
    "load baiyi brand"
   ]
  },
  {
   "cell_type": "code",
   "execution_count": 7,
   "metadata": {},
   "outputs": [
    {
     "name": "stderr",
     "output_type": "stream",
     "text": [
      "/Users/chris/Desktop/CDIPS_Recommender/notebooks/../lib/resnet50.py:165: UserWarning: Update your `Conv2D` call to the Keras 2 API: `Conv2D(64, (7, 7), strides=(2, 2), name=\"conv1\")`\n",
      "  x = Convolution2D(64, 7, 7, subsample=(2, 2), name='conv1')(x)\n",
      "/Users/chris/Desktop/CDIPS_Recommender/notebooks/../lib/resnet50.py:90: UserWarning: Update your `Conv2D` call to the Keras 2 API: `Conv2D(64, (1, 1), strides=(1, 1), name=\"res2a_branch2a\")`\n",
      "  name=conv_name_base + '2a')(input_tensor)\n",
      "/Users/chris/Desktop/CDIPS_Recommender/notebooks/../lib/resnet50.py:95: UserWarning: Update your `Conv2D` call to the Keras 2 API: `Conv2D(64, (3, 3), padding=\"same\", name=\"res2a_branch2b\")`\n",
      "  name=conv_name_base + '2b')(x)\n",
      "/Users/chris/Desktop/CDIPS_Recommender/notebooks/../lib/resnet50.py:99: UserWarning: Update your `Conv2D` call to the Keras 2 API: `Conv2D(256, (1, 1), name=\"res2a_branch2c\")`\n",
      "  x = Convolution2D(nb_filter3, 1, 1, name=conv_name_base + '2c')(x)\n",
      "/Users/chris/Desktop/CDIPS_Recommender/notebooks/../lib/resnet50.py:103: UserWarning: Update your `Conv2D` call to the Keras 2 API: `Conv2D(256, (1, 1), strides=(1, 1), name=\"res2a_branch1\")`\n",
      "  name=conv_name_base + '1')(input_tensor)\n",
      "/Users/chris/Desktop/CDIPS_Recommender/notebooks/../lib/resnet50.py:106: UserWarning: The `merge` function is deprecated and will be removed after 08/2017. Use instead layers from `keras.layers.merge`, e.g. `add`, `concatenate`, etc.\n",
      "  x = merge([x, shortcut], mode='sum')\n",
      "/Users/chris/anaconda/envs/virtenv/lib/python2.7/site-packages/keras/legacy/layers.py:456: UserWarning: The `Merge` layer is deprecated and will be removed after 08/2017. Use instead layers from `keras.layers.merge`, e.g. `add`, `concatenate`, etc.\n",
      "  name=name)\n",
      "/Users/chris/Desktop/CDIPS_Recommender/notebooks/../lib/resnet50.py:51: UserWarning: Update your `Conv2D` call to the Keras 2 API: `Conv2D(64, (1, 1), name=\"res2b_branch2a\")`\n",
      "  x = Convolution2D(nb_filter1, 1, 1, name=conv_name_base + '2a')(input_tensor)\n",
      "/Users/chris/Desktop/CDIPS_Recommender/notebooks/../lib/resnet50.py:56: UserWarning: Update your `Conv2D` call to the Keras 2 API: `Conv2D(64, (3, 3), padding=\"same\", name=\"res2b_branch2b\")`\n",
      "  border_mode='same', name=conv_name_base + '2b')(x)\n",
      "/Users/chris/Desktop/CDIPS_Recommender/notebooks/../lib/resnet50.py:60: UserWarning: Update your `Conv2D` call to the Keras 2 API: `Conv2D(256, (1, 1), name=\"res2b_branch2c\")`\n",
      "  x = Convolution2D(nb_filter3, 1, 1, name=conv_name_base + '2c')(x)\n",
      "/Users/chris/Desktop/CDIPS_Recommender/notebooks/../lib/resnet50.py:63: UserWarning: The `merge` function is deprecated and will be removed after 08/2017. Use instead layers from `keras.layers.merge`, e.g. `add`, `concatenate`, etc.\n",
      "  x = merge([x, input_tensor], mode='sum')\n",
      "/Users/chris/Desktop/CDIPS_Recommender/notebooks/../lib/resnet50.py:51: UserWarning: Update your `Conv2D` call to the Keras 2 API: `Conv2D(64, (1, 1), name=\"res2c_branch2a\")`\n",
      "  x = Convolution2D(nb_filter1, 1, 1, name=conv_name_base + '2a')(input_tensor)\n",
      "/Users/chris/Desktop/CDIPS_Recommender/notebooks/../lib/resnet50.py:56: UserWarning: Update your `Conv2D` call to the Keras 2 API: `Conv2D(64, (3, 3), padding=\"same\", name=\"res2c_branch2b\")`\n",
      "  border_mode='same', name=conv_name_base + '2b')(x)\n",
      "/Users/chris/Desktop/CDIPS_Recommender/notebooks/../lib/resnet50.py:60: UserWarning: Update your `Conv2D` call to the Keras 2 API: `Conv2D(256, (1, 1), name=\"res2c_branch2c\")`\n",
      "  x = Convolution2D(nb_filter3, 1, 1, name=conv_name_base + '2c')(x)\n",
      "/Users/chris/Desktop/CDIPS_Recommender/notebooks/../lib/resnet50.py:90: UserWarning: Update your `Conv2D` call to the Keras 2 API: `Conv2D(128, (1, 1), strides=(2, 2), name=\"res3a_branch2a\")`\n",
      "  name=conv_name_base + '2a')(input_tensor)\n",
      "/Users/chris/Desktop/CDIPS_Recommender/notebooks/../lib/resnet50.py:95: UserWarning: Update your `Conv2D` call to the Keras 2 API: `Conv2D(128, (3, 3), padding=\"same\", name=\"res3a_branch2b\")`\n",
      "  name=conv_name_base + '2b')(x)\n",
      "/Users/chris/Desktop/CDIPS_Recommender/notebooks/../lib/resnet50.py:99: UserWarning: Update your `Conv2D` call to the Keras 2 API: `Conv2D(512, (1, 1), name=\"res3a_branch2c\")`\n",
      "  x = Convolution2D(nb_filter3, 1, 1, name=conv_name_base + '2c')(x)\n",
      "/Users/chris/Desktop/CDIPS_Recommender/notebooks/../lib/resnet50.py:103: UserWarning: Update your `Conv2D` call to the Keras 2 API: `Conv2D(512, (1, 1), strides=(2, 2), name=\"res3a_branch1\")`\n",
      "  name=conv_name_base + '1')(input_tensor)\n",
      "/Users/chris/Desktop/CDIPS_Recommender/notebooks/../lib/resnet50.py:51: UserWarning: Update your `Conv2D` call to the Keras 2 API: `Conv2D(128, (1, 1), name=\"res3b_branch2a\")`\n",
      "  x = Convolution2D(nb_filter1, 1, 1, name=conv_name_base + '2a')(input_tensor)\n",
      "/Users/chris/Desktop/CDIPS_Recommender/notebooks/../lib/resnet50.py:56: UserWarning: Update your `Conv2D` call to the Keras 2 API: `Conv2D(128, (3, 3), padding=\"same\", name=\"res3b_branch2b\")`\n",
      "  border_mode='same', name=conv_name_base + '2b')(x)\n",
      "/Users/chris/Desktop/CDIPS_Recommender/notebooks/../lib/resnet50.py:60: UserWarning: Update your `Conv2D` call to the Keras 2 API: `Conv2D(512, (1, 1), name=\"res3b_branch2c\")`\n",
      "  x = Convolution2D(nb_filter3, 1, 1, name=conv_name_base + '2c')(x)\n",
      "/Users/chris/Desktop/CDIPS_Recommender/notebooks/../lib/resnet50.py:51: UserWarning: Update your `Conv2D` call to the Keras 2 API: `Conv2D(128, (1, 1), name=\"res3c_branch2a\")`\n",
      "  x = Convolution2D(nb_filter1, 1, 1, name=conv_name_base + '2a')(input_tensor)\n",
      "/Users/chris/Desktop/CDIPS_Recommender/notebooks/../lib/resnet50.py:56: UserWarning: Update your `Conv2D` call to the Keras 2 API: `Conv2D(128, (3, 3), padding=\"same\", name=\"res3c_branch2b\")`\n",
      "  border_mode='same', name=conv_name_base + '2b')(x)\n",
      "/Users/chris/Desktop/CDIPS_Recommender/notebooks/../lib/resnet50.py:60: UserWarning: Update your `Conv2D` call to the Keras 2 API: `Conv2D(512, (1, 1), name=\"res3c_branch2c\")`\n",
      "  x = Convolution2D(nb_filter3, 1, 1, name=conv_name_base + '2c')(x)\n",
      "/Users/chris/Desktop/CDIPS_Recommender/notebooks/../lib/resnet50.py:51: UserWarning: Update your `Conv2D` call to the Keras 2 API: `Conv2D(128, (1, 1), name=\"res3d_branch2a\")`\n",
      "  x = Convolution2D(nb_filter1, 1, 1, name=conv_name_base + '2a')(input_tensor)\n",
      "/Users/chris/Desktop/CDIPS_Recommender/notebooks/../lib/resnet50.py:56: UserWarning: Update your `Conv2D` call to the Keras 2 API: `Conv2D(128, (3, 3), padding=\"same\", name=\"res3d_branch2b\")`\n",
      "  border_mode='same', name=conv_name_base + '2b')(x)\n",
      "/Users/chris/Desktop/CDIPS_Recommender/notebooks/../lib/resnet50.py:60: UserWarning: Update your `Conv2D` call to the Keras 2 API: `Conv2D(512, (1, 1), name=\"res3d_branch2c\")`\n",
      "  x = Convolution2D(nb_filter3, 1, 1, name=conv_name_base + '2c')(x)\n",
      "/Users/chris/Desktop/CDIPS_Recommender/notebooks/../lib/resnet50.py:90: UserWarning: Update your `Conv2D` call to the Keras 2 API: `Conv2D(256, (1, 1), strides=(2, 2), name=\"res4a_branch2a\")`\n",
      "  name=conv_name_base + '2a')(input_tensor)\n",
      "/Users/chris/Desktop/CDIPS_Recommender/notebooks/../lib/resnet50.py:95: UserWarning: Update your `Conv2D` call to the Keras 2 API: `Conv2D(256, (3, 3), padding=\"same\", name=\"res4a_branch2b\")`\n",
      "  name=conv_name_base + '2b')(x)\n",
      "/Users/chris/Desktop/CDIPS_Recommender/notebooks/../lib/resnet50.py:99: UserWarning: Update your `Conv2D` call to the Keras 2 API: `Conv2D(1024, (1, 1), name=\"res4a_branch2c\")`\n",
      "  x = Convolution2D(nb_filter3, 1, 1, name=conv_name_base + '2c')(x)\n",
      "/Users/chris/Desktop/CDIPS_Recommender/notebooks/../lib/resnet50.py:103: UserWarning: Update your `Conv2D` call to the Keras 2 API: `Conv2D(1024, (1, 1), strides=(2, 2), name=\"res4a_branch1\")`\n",
      "  name=conv_name_base + '1')(input_tensor)\n",
      "/Users/chris/Desktop/CDIPS_Recommender/notebooks/../lib/resnet50.py:51: UserWarning: Update your `Conv2D` call to the Keras 2 API: `Conv2D(256, (1, 1), name=\"res4b_branch2a\")`\n",
      "  x = Convolution2D(nb_filter1, 1, 1, name=conv_name_base + '2a')(input_tensor)\n",
      "/Users/chris/Desktop/CDIPS_Recommender/notebooks/../lib/resnet50.py:56: UserWarning: Update your `Conv2D` call to the Keras 2 API: `Conv2D(256, (3, 3), padding=\"same\", name=\"res4b_branch2b\")`\n",
      "  border_mode='same', name=conv_name_base + '2b')(x)\n",
      "/Users/chris/Desktop/CDIPS_Recommender/notebooks/../lib/resnet50.py:60: UserWarning: Update your `Conv2D` call to the Keras 2 API: `Conv2D(1024, (1, 1), name=\"res4b_branch2c\")`\n",
      "  x = Convolution2D(nb_filter3, 1, 1, name=conv_name_base + '2c')(x)\n",
      "/Users/chris/Desktop/CDIPS_Recommender/notebooks/../lib/resnet50.py:51: UserWarning: Update your `Conv2D` call to the Keras 2 API: `Conv2D(256, (1, 1), name=\"res4c_branch2a\")`\n",
      "  x = Convolution2D(nb_filter1, 1, 1, name=conv_name_base + '2a')(input_tensor)\n",
      "/Users/chris/Desktop/CDIPS_Recommender/notebooks/../lib/resnet50.py:56: UserWarning: Update your `Conv2D` call to the Keras 2 API: `Conv2D(256, (3, 3), padding=\"same\", name=\"res4c_branch2b\")`\n",
      "  border_mode='same', name=conv_name_base + '2b')(x)\n",
      "/Users/chris/Desktop/CDIPS_Recommender/notebooks/../lib/resnet50.py:60: UserWarning: Update your `Conv2D` call to the Keras 2 API: `Conv2D(1024, (1, 1), name=\"res4c_branch2c\")`\n",
      "  x = Convolution2D(nb_filter3, 1, 1, name=conv_name_base + '2c')(x)\n",
      "/Users/chris/Desktop/CDIPS_Recommender/notebooks/../lib/resnet50.py:51: UserWarning: Update your `Conv2D` call to the Keras 2 API: `Conv2D(256, (1, 1), name=\"res4d_branch2a\")`\n",
      "  x = Convolution2D(nb_filter1, 1, 1, name=conv_name_base + '2a')(input_tensor)\n"
     ]
    },
    {
     "name": "stderr",
     "output_type": "stream",
     "text": [
      "/Users/chris/Desktop/CDIPS_Recommender/notebooks/../lib/resnet50.py:56: UserWarning: Update your `Conv2D` call to the Keras 2 API: `Conv2D(256, (3, 3), padding=\"same\", name=\"res4d_branch2b\")`\n",
      "  border_mode='same', name=conv_name_base + '2b')(x)\n",
      "/Users/chris/Desktop/CDIPS_Recommender/notebooks/../lib/resnet50.py:60: UserWarning: Update your `Conv2D` call to the Keras 2 API: `Conv2D(1024, (1, 1), name=\"res4d_branch2c\")`\n",
      "  x = Convolution2D(nb_filter3, 1, 1, name=conv_name_base + '2c')(x)\n",
      "/Users/chris/Desktop/CDIPS_Recommender/notebooks/../lib/resnet50.py:51: UserWarning: Update your `Conv2D` call to the Keras 2 API: `Conv2D(256, (1, 1),"
     ]
    },
    {
     "data": {
      "text/html": [
       "<b>limit_output extension: Maximum message size of 10000 exceeded with 10596 characters</b>"
      ]
     },
     "metadata": {},
     "output_type": "display_data"
    }
   ],
   "source": [
    "# instantiate model \n",
    "classifier_model = ResNet50(include_top=True, weights='imagenet') #this will pull the weights from the folder \n"
   ]
  },
  {
   "cell_type": "code",
   "execution_count": 8,
   "metadata": {
    "collapsed": true
   },
   "outputs": [],
   "source": [
    "# predict labels \n",
    "list_of_listed_predictions = []\n",
    "for img_path in img_paths:\n",
    "    x,img = preprocess_img(img_path) # preprocess\n",
    "    predictions = classifier_model.predict(x) # predict labels \n",
    "    decoded_predictions = decode_predictions(predictions)[0] # decode label\n",
    "    decoded_predictions_less = [p[1:3] for p in decoded_predictions] # remove the first tag\n",
    "    listed_predictions = ' \\n '.join([str(x) for x in decoded_predictions_less]) # combine as a big string\n",
    "    list_of_listed_predictions.append(listed_predictions)"
   ]
  },
  {
   "cell_type": "code",
   "execution_count": 9,
   "metadata": {},
   "outputs": [
    {
     "data": {
      "text/plain": [
       "[\"(u'miniskirt', 0.50684178) \\n (u'pajama', 0.38959837) \\n (u'cowboy_boot', 0.029757397) \\n (u'gown', 0.012776351) \\n (u'overskirt', 0.0056670494)\",\n",
       " \"(u'miniskirt', 0.7834428) \\n (u'cowboy_boot', 0.18969896) \\n (u'sunglasses', 0.0030272522) \\n (u'feather_boa', 0.0021650565) \\n (u'suit', 0.0019254024)\",\n",
       " \"(u'miniskirt', 0.90721846) \\n (u'velvet', 0.034521211) \\n (u'overskirt', 0.026562247) \\n (u'hoopskirt', 0.019950993) \\n (u'fur_coat', 0.0015607165)\"]"
      ]
     },
     "execution_count": 9,
     "metadata": {},
     "output_type": "execute_result"
    }
   ],
   "source": [
    "list_of_listed_predictions[0:3]"
   ]
  },
  {
   "cell_type": "code",
   "execution_count": 13,
   "metadata": {},
   "outputs": [
    {
     "data": {
      "text/plain": [
       "'../original_img/BAIYI-B1061N026-5.jpg'"
      ]
     },
     "execution_count": 13,
     "metadata": {},
     "output_type": "execute_result"
    }
   ],
   "source": [
    "img_path"
   ]
  },
  {
   "cell_type": "code",
   "execution_count": 14,
   "metadata": {
    "collapsed": true
   },
   "outputs": [],
   "source": [
    "# create HTML file \n",
    "newfile = '../figures/ResNet_Category_Predictions.html'\n",
    "with open(newfile, 'w') as outfile:\n",
    "    outfile.write(\"<!DOCTYPE html><html><head><style>\")\n",
    "    outfile.write(\"table.app {border:1px solid #d4d4d4;}\")\n",
    "    \n",
    "    # open table\n",
    "    outfile.write(\"#circle {border-radius:50% 50% 50% 50%;}</style></head><body background-color: transparent;><table class='app'>\")\n",
    "    \n",
    "    # write image #\n",
    "    for i,img_path in enumerate(img_paths):\n",
    "        outfile.write(\"<tr>\")\n",
    "        outfile.write(\"<td><img id='circle' src='\" + img_path + \"' style='height:150px; width:150px' /></td>\")\n",
    "\n",
    "        outfile.write(\"<td><p>\"+list_of_listed_predictions[i]+\"</p>\")\n",
    "        outfile.write(\"</tr>\")\n",
    "    \n",
    "    # close table. \n",
    "    outfile.write(\"</table></body>\")\n",
    "    \n",
    "    "
   ]
  },
  {
   "cell_type": "markdown",
   "metadata": {},
   "source": [
    "# Results\n",
    "\n",
    "[Category Predictions](../figures/ResNet_Category_Predictions.html)"
   ]
  },
  {
   "cell_type": "code",
   "execution_count": 15,
   "metadata": {},
   "outputs": [
    {
     "name": "stderr",
     "output_type": "stream",
     "text": [
      "[NbConvertApp] Converting notebook Labeling_Pictures_with_ResNet50.ipynb to html\n",
      "[NbConvertApp] Writing 280398 bytes to Labeling_Pictures_with_ResNet50.html\n"
     ]
    }
   ],
   "source": [
    "%%bash \n",
    "jupyter nbconvert --to html Labeling_Pictures_with_ResNet50.ipynb && mv Labeling_Pictures_with_ResNet50.html ../notebook_htmls/Labeling_Pictures_with_ResNet50_v1.html\n"
   ]
  }
 ],
 "metadata": {
  "hide_input": false,
  "kernelspec": {
   "display_name": "Python 2",
   "language": "python",
   "name": "python2"
  },
  "language_info": {
   "codemirror_mode": {
    "name": "ipython",
    "version": 2
   },
   "file_extension": ".py",
   "mimetype": "text/x-python",
   "name": "python",
   "nbconvert_exporter": "python",
   "pygments_lexer": "ipython2",
   "version": "2.7.13"
  },
  "toc": {
   "colors": {
    "hover_highlight": "#DAA520",
    "navigate_num": "#000000",
    "navigate_text": "#333333",
    "running_highlight": "#FF0000",
    "selected_highlight": "#FFD700",
    "sidebar_border": "#EEEEEE",
    "wrapper_background": "#FFFFFF"
   },
   "moveMenuLeft": true,
   "nav_menu": {
    "height": "13px",
    "width": "253px"
   },
   "navigate_menu": true,
   "number_sections": false,
   "sideBar": true,
   "threshold": 4,
   "toc_cell": false,
   "toc_section_display": "block",
   "toc_window_display": true,
   "widenNotebook": false
  }
 },
 "nbformat": 4,
 "nbformat_minor": 1
}
