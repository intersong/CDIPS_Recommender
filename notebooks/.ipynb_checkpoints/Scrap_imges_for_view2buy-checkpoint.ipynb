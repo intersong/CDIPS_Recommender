{
 "cells": [
  {
   "cell_type": "code",
   "execution_count": 120,
   "metadata": {
    "collapsed": true
   },
   "outputs": [],
   "source": [
    "import pandas as pd\n",
    "import numpy as np\n",
    "import os\n",
    "from urllib import urlretrieve\n",
    "import time\n",
    "import glob"
   ]
  },
  {
   "cell_type": "code",
   "execution_count": 3,
   "metadata": {
    "collapsed": false
   },
   "outputs": [],
   "source": [
    "os.chdir('/Users/Walkon302/Desktop/deep-learning-models-master/view2buy')"
   ]
  },
  {
   "cell_type": "code",
   "execution_count": 10,
   "metadata": {
    "collapsed": false
   },
   "outputs": [],
   "source": [
    "# load the image url file\n",
    "url = pd.read_csv('eval_img_url.csv', header=None)"
   ]
  },
  {
   "cell_type": "code",
   "execution_count": 15,
   "metadata": {
    "collapsed": false
   },
   "outputs": [
    {
     "data": {
      "text/html": [
       "<div>\n",
       "<table border=\"1\" class=\"dataframe\">\n",
       "  <thead>\n",
       "    <tr style=\"text-align: right;\">\n",
       "      <th></th>\n",
       "      <th>spu</th>\n",
       "      <th>url</th>\n",
       "    </tr>\n",
       "  </thead>\n",
       "  <tbody>\n",
       "    <tr>\n",
       "      <th>0</th>\n",
       "      <td>100000000317431808</td>\n",
       "      <td>http://a.vpimg2.com/upload/merchandise/pdc/808...</td>\n",
       "    </tr>\n",
       "    <tr>\n",
       "      <th>1</th>\n",
       "      <td>100000001066491904</td>\n",
       "      <td>http://a.vpimg2.com/upload/merchandise/pdc/904...</td>\n",
       "    </tr>\n",
       "    <tr>\n",
       "      <th>2</th>\n",
       "      <td>100000005622976512</td>\n",
       "      <td>http://a.vpimg2.com/upload/merchandise/pdc/512...</td>\n",
       "    </tr>\n",
       "    <tr>\n",
       "      <th>3</th>\n",
       "      <td>100000009136676865</td>\n",
       "      <td>http://a.vpimg2.com/upload/merchandise/pdcvis/...</td>\n",
       "    </tr>\n",
       "    <tr>\n",
       "      <th>4</th>\n",
       "      <td>100000009494401198</td>\n",
       "      <td>http://a.vpimg2.com/upload/merchandise/pdcvis/...</td>\n",
       "    </tr>\n",
       "  </tbody>\n",
       "</table>\n",
       "</div>"
      ],
      "text/plain": [
       "                  spu                                                url\n",
       "0  100000000317431808  http://a.vpimg2.com/upload/merchandise/pdc/808...\n",
       "1  100000001066491904  http://a.vpimg2.com/upload/merchandise/pdc/904...\n",
       "2  100000005622976512  http://a.vpimg2.com/upload/merchandise/pdc/512...\n",
       "3  100000009136676865  http://a.vpimg2.com/upload/merchandise/pdcvis/...\n",
       "4  100000009494401198  http://a.vpimg2.com/upload/merchandise/pdcvis/..."
      ]
     },
     "execution_count": 15,
     "metadata": {},
     "output_type": "execute_result"
    }
   ],
   "source": [
    "# Check the url file\n",
    "url.head()"
   ]
  },
  {
   "cell_type": "code",
   "execution_count": 7,
   "metadata": {
    "collapsed": true
   },
   "outputs": [],
   "source": [
    "# Load the filtered view2buy file containing around 300k files.\n",
    "df = pd.read_pickle('user_fea_for_eval.pkl')"
   ]
  },
  {
   "cell_type": "code",
   "execution_count": 29,
   "metadata": {
    "collapsed": false
   },
   "outputs": [],
   "source": [
    "# Filtered view2buy data againg and select the items that we have url for.\n",
    "df_url_count = df[(df['buy_spu'].isin(url['spu'])) & (df['view_spu'].isin(url['spu']))].groupby('user_id').count()"
   ]
  },
  {
   "cell_type": "code",
   "execution_count": 54,
   "metadata": {
    "collapsed": true
   },
   "outputs": [],
   "source": [
    "df_url = df[(df['buy_spu'].isin(url['spu'])) & (df['view_spu'].isin(url['spu']))]"
   ]
  },
  {
   "cell_type": "code",
   "execution_count": 53,
   "metadata": {
    "collapsed": false
   },
   "outputs": [
    {
     "data": {
      "text/plain": [
       "(30203, 13)"
      ]
     },
     "execution_count": 53,
     "metadata": {},
     "output_type": "execute_result"
    }
   ],
   "source": [
    "df[(df['buy_spu'].isin(url['spu'])) & (df['view_spu'].isin(url['spu'])) & (df['buy_spu'] == df['view_spu'])].shape"
   ]
  },
  {
   "cell_type": "code",
   "execution_count": 39,
   "metadata": {
    "collapsed": false
   },
   "outputs": [],
   "source": [
    "# Reset the index\n",
    "df_url_count = df_url_count.reset_index()"
   ]
  },
  {
   "cell_type": "code",
   "execution_count": 44,
   "metadata": {
    "collapsed": false
   },
   "outputs": [],
   "source": [
    "# Save the id that contains more than 20 browing history. for frther examination. We get around \n",
    "user_id = df_url_count[df_url_count['view_spu'] > 20]['user_id']"
   ]
  },
  {
   "cell_type": "code",
   "execution_count": 70,
   "metadata": {
    "collapsed": false
   },
   "outputs": [],
   "source": [
    "# Select data with selected parameters\n",
    "df_url = df_url[(df_url['user_id'].isin(user_id))]"
   ]
  },
  {
   "cell_type": "code",
   "execution_count": 73,
   "metadata": {
    "collapsed": false
   },
   "outputs": [],
   "source": [
    "df_url2 = pd.merge(df_url, url, left_on='view_spu', right_on='spu')"
   ]
  },
  {
   "cell_type": "code",
   "execution_count": 79,
   "metadata": {
    "collapsed": false
   },
   "outputs": [
    {
     "data": {
      "text/html": [
       "<div>\n",
       "<table border=\"1\" class=\"dataframe\">\n",
       "  <thead>\n",
       "    <tr style=\"text-align: right;\">\n",
       "      <th></th>\n",
       "      <th>0</th>\n",
       "      <th>user_id</th>\n",
       "      <th>buy_spu</th>\n",
       "      <th>buy_sn</th>\n",
       "      <th>buy_ct3</th>\n",
       "      <th>view_spu</th>\n",
       "      <th>view_sn</th>\n",
       "      <th>view_ct3</th>\n",
       "      <th>time_interval</th>\n",
       "      <th>view_cnt</th>\n",
       "      <th>view_secondes</th>\n",
       "      <th>view_features</th>\n",
       "      <th>buy_features</th>\n",
       "      <th>spu</th>\n",
       "      <th>url</th>\n",
       "    </tr>\n",
       "  </thead>\n",
       "  <tbody>\n",
       "    <tr>\n",
       "      <th>0</th>\n",
       "      <td>4209887493\\t453532580309307392\\t10004616\\t334\\...</td>\n",
       "      <td>4209887493</td>\n",
       "      <td>453532580309307392</td>\n",
       "      <td>10004616</td>\n",
       "      <td>334</td>\n",
       "      <td>14150170026959126</td>\n",
       "      <td>10010102</td>\n",
       "      <td>334</td>\n",
       "      <td>21114</td>\n",
       "      <td>1</td>\n",
       "      <td>11</td>\n",
       "      <td>[0.135, 1.078, 0.06, 0.241, 0.213, 0.22, 0.039...</td>\n",
       "      <td>[0.1, 1.804, 0.049, 0.883, 0.092, 0.053, 0.042...</td>\n",
       "      <td>14150170026959126</td>\n",
       "      <td>http://a.vpimg2.com/upload/merchandise/pdcvis/...</td>\n",
       "    </tr>\n",
       "    <tr>\n",
       "      <th>1</th>\n",
       "      <td>529805243\\t103096245561765919\\t10010102\\t334\\t...</td>\n",
       "      <td>529805243</td>\n",
       "      <td>103096245561765919</td>\n",
       "      <td>10010102</td>\n",
       "      <td>334</td>\n",
       "      <td>14150170026959126</td>\n",
       "      <td>10010102</td>\n",
       "      <td>334</td>\n",
       "      <td>37794</td>\n",
       "      <td>4</td>\n",
       "      <td>66</td>\n",
       "      <td>[0.135, 1.078, 0.06, 0.241, 0.213, 0.22, 0.039...</td>\n",
       "      <td>[0.467, 0.385, 0.0, 0.043, 0.292, 0.0, 0.448, ...</td>\n",
       "      <td>14150170026959126</td>\n",
       "      <td>http://a.vpimg2.com/upload/merchandise/pdcvis/...</td>\n",
       "    </tr>\n",
       "    <tr>\n",
       "      <th>2</th>\n",
       "      <td>3748045464\\t446777176556679168\\t10005711\\t334\\...</td>\n",
       "      <td>3748045464</td>\n",
       "      <td>446777176556679168</td>\n",
       "      <td>10005711</td>\n",
       "      <td>334</td>\n",
       "      <td>14150170026959126</td>\n",
       "      <td>10010102</td>\n",
       "      <td>334</td>\n",
       "      <td>18820</td>\n",
       "      <td>1</td>\n",
       "      <td>34</td>\n",
       "      <td>[0.135, 1.078, 0.06, 0.241, 0.213, 0.22, 0.039...</td>\n",
       "      <td>[0.018, 0.161, 0.088, 0.141, 0.231, 0.0, 0.036...</td>\n",
       "      <td>14150170026959126</td>\n",
       "      <td>http://a.vpimg2.com/upload/merchandise/pdcvis/...</td>\n",
       "    </tr>\n",
       "    <tr>\n",
       "      <th>3</th>\n",
       "      <td>4209887493\\t438895881520357521\\t10004616\\t334\\...</td>\n",
       "      <td>4209887493</td>\n",
       "      <td>438895881520357521</td>\n",
       "      <td>10004616</td>\n",
       "      <td>334</td>\n",
       "      <td>14150170026959126</td>\n",
       "      <td>10010102</td>\n",
       "      <td>334</td>\n",
       "      <td>13978</td>\n",
       "      <td>1</td>\n",
       "      <td>11</td>\n",
       "      <td>[0.135, 1.078, 0.06, 0.241, 0.213, 0.22, 0.039...</td>\n",
       "      <td>[0.036, 0.439, 0.0, 0.074, 0.194, 0.0, 0.331, ...</td>\n",
       "      <td>14150170026959126</td>\n",
       "      <td>http://a.vpimg2.com/upload/merchandise/pdcvis/...</td>\n",
       "    </tr>\n",
       "    <tr>\n",
       "      <th>4</th>\n",
       "      <td>4209887493\\t74104320184119307\\t10004616\\t334\\t...</td>\n",
       "      <td>4209887493</td>\n",
       "      <td>74104320184119307</td>\n",
       "      <td>10004616</td>\n",
       "      <td>334</td>\n",
       "      <td>14150170026959126</td>\n",
       "      <td>10010102</td>\n",
       "      <td>334</td>\n",
       "      <td>14313</td>\n",
       "      <td>1</td>\n",
       "      <td>11</td>\n",
       "      <td>[0.135, 1.078, 0.06, 0.241, 0.213, 0.22, 0.039...</td>\n",
       "      <td>[0.078, 2.304, 0.132, 0.191, 0.0, 0.087, 0.341...</td>\n",
       "      <td>14150170026959126</td>\n",
       "      <td>http://a.vpimg2.com/upload/merchandise/pdcvis/...</td>\n",
       "    </tr>\n",
       "  </tbody>\n",
       "</table>\n",
       "</div>"
      ],
      "text/plain": [
       "                                                   0     user_id  \\\n",
       "0  4209887493\\t453532580309307392\\t10004616\\t334\\...  4209887493   \n",
       "1  529805243\\t103096245561765919\\t10010102\\t334\\t...   529805243   \n",
       "2  3748045464\\t446777176556679168\\t10005711\\t334\\...  3748045464   \n",
       "3  4209887493\\t438895881520357521\\t10004616\\t334\\...  4209887493   \n",
       "4  4209887493\\t74104320184119307\\t10004616\\t334\\t...  4209887493   \n",
       "\n",
       "              buy_spu    buy_sn  buy_ct3           view_spu   view_sn  \\\n",
       "0  453532580309307392  10004616      334  14150170026959126  10010102   \n",
       "1  103096245561765919  10010102      334  14150170026959126  10010102   \n",
       "2  446777176556679168  10005711      334  14150170026959126  10010102   \n",
       "3  438895881520357521  10004616      334  14150170026959126  10010102   \n",
       "4   74104320184119307  10004616      334  14150170026959126  10010102   \n",
       "\n",
       "   view_ct3  time_interval  view_cnt  view_secondes  \\\n",
       "0       334          21114         1             11   \n",
       "1       334          37794         4             66   \n",
       "2       334          18820         1             34   \n",
       "3       334          13978         1             11   \n",
       "4       334          14313         1             11   \n",
       "\n",
       "                                       view_features  \\\n",
       "0  [0.135, 1.078, 0.06, 0.241, 0.213, 0.22, 0.039...   \n",
       "1  [0.135, 1.078, 0.06, 0.241, 0.213, 0.22, 0.039...   \n",
       "2  [0.135, 1.078, 0.06, 0.241, 0.213, 0.22, 0.039...   \n",
       "3  [0.135, 1.078, 0.06, 0.241, 0.213, 0.22, 0.039...   \n",
       "4  [0.135, 1.078, 0.06, 0.241, 0.213, 0.22, 0.039...   \n",
       "\n",
       "                                        buy_features                spu  \\\n",
       "0  [0.1, 1.804, 0.049, 0.883, 0.092, 0.053, 0.042...  14150170026959126   \n",
       "1  [0.467, 0.385, 0.0, 0.043, 0.292, 0.0, 0.448, ...  14150170026959126   \n",
       "2  [0.018, 0.161, 0.088, 0.141, 0.231, 0.0, 0.036...  14150170026959126   \n",
       "3  [0.036, 0.439, 0.0, 0.074, 0.194, 0.0, 0.331, ...  14150170026959126   \n",
       "4  [0.078, 2.304, 0.132, 0.191, 0.0, 0.087, 0.341...  14150170026959126   \n",
       "\n",
       "                                                 url  \n",
       "0  http://a.vpimg2.com/upload/merchandise/pdcvis/...  \n",
       "1  http://a.vpimg2.com/upload/merchandise/pdcvis/...  \n",
       "2  http://a.vpimg2.com/upload/merchandise/pdcvis/...  \n",
       "3  http://a.vpimg2.com/upload/merchandise/pdcvis/...  \n",
       "4  http://a.vpimg2.com/upload/merchandise/pdcvis/...  "
      ]
     },
     "execution_count": 79,
     "metadata": {},
     "output_type": "execute_result"
    }
   ],
   "source": [
    "df_url2.head()"
   ]
  },
  {
   "cell_type": "code",
   "execution_count": 76,
   "metadata": {
    "collapsed": true
   },
   "outputs": [],
   "source": [
    "#df_url2.to_pickle('view2buy_url.pkl')"
   ]
  },
  {
   "cell_type": "code",
   "execution_count": 110,
   "metadata": {
    "collapsed": false
   },
   "outputs": [],
   "source": [
    "view_url = pd.DataFrame(df_url2.groupby(['view_spu', 'url']).count().reset_index()[['view_spu', 'url']])"
   ]
  },
  {
   "cell_type": "code",
   "execution_count": 111,
   "metadata": {
    "collapsed": false
   },
   "outputs": [
    {
     "data": {
      "text/html": [
       "<div>\n",
       "<table border=\"1\" class=\"dataframe\">\n",
       "  <thead>\n",
       "    <tr style=\"text-align: right;\">\n",
       "      <th></th>\n",
       "      <th>view_spu</th>\n",
       "      <th>url</th>\n",
       "    </tr>\n",
       "  </thead>\n",
       "  <tbody>\n",
       "    <tr>\n",
       "      <th>0</th>\n",
       "      <td>357872333107204</td>\n",
       "      <td>http://a.vpimg2.com/upload/merchandise/pdc/204...</td>\n",
       "    </tr>\n",
       "    <tr>\n",
       "      <th>1</th>\n",
       "      <td>357875526680651</td>\n",
       "      <td>http://a.vpimg2.com/upload/merchandise/pdcvis/...</td>\n",
       "    </tr>\n",
       "    <tr>\n",
       "      <th>2</th>\n",
       "      <td>357882254983171</td>\n",
       "      <td>http://a.vpimg2.com/upload/merchandise/pdcvis/...</td>\n",
       "    </tr>\n",
       "    <tr>\n",
       "      <th>3</th>\n",
       "      <td>357901107539985</td>\n",
       "      <td>http://a.vpimg2.com/upload/merchandise/pdcvis/...</td>\n",
       "    </tr>\n",
       "    <tr>\n",
       "      <th>4</th>\n",
       "      <td>639360131194904</td>\n",
       "      <td>http://a.vpimg2.com/upload/merchandise/pdcvis/...</td>\n",
       "    </tr>\n",
       "    <tr>\n",
       "      <th>5</th>\n",
       "      <td>639369692328147</td>\n",
       "      <td>http://a.vpimg2.com/upload/merchandise/pdcvis/...</td>\n",
       "    </tr>\n",
       "    <tr>\n",
       "      <th>6</th>\n",
       "      <td>639371126526005</td>\n",
       "      <td>http://a.vpimg2.com/upload/merchandise/pdcvis/...</td>\n",
       "    </tr>\n",
       "    <tr>\n",
       "      <th>7</th>\n",
       "      <td>639371126526005</td>\n",
       "      <td>http://a.vpimg2.com/upload/merchandise/pdcvis/...</td>\n",
       "    </tr>\n",
       "    <tr>\n",
       "      <th>8</th>\n",
       "      <td>639389503180805</td>\n",
       "      <td>http://a.vpimg2.com/upload/merchandise/pdcvis/...</td>\n",
       "    </tr>\n",
       "    <tr>\n",
       "      <th>9</th>\n",
       "      <td>639389503180805</td>\n",
       "      <td>http://a.vpimg2.com/upload/merchandise/pdcvis/...</td>\n",
       "    </tr>\n",
       "    <tr>\n",
       "      <th>10</th>\n",
       "      <td>639392717246493</td>\n",
       "      <td>http://a.vpimg2.com/upload/merchandise/pdcvis/...</td>\n",
       "    </tr>\n",
       "    <tr>\n",
       "      <th>11</th>\n",
       "      <td>920816362999808</td>\n",
       "      <td>http://a.vpimg2.com/upload/merchandise/pdcvis/...</td>\n",
       "    </tr>\n",
       "    <tr>\n",
       "      <th>12</th>\n",
       "      <td>920832942268416</td>\n",
       "      <td>http://a.vpimg2.com/upload/merchandise/pdcvis/...</td>\n",
       "    </tr>\n",
       "    <tr>\n",
       "      <th>13</th>\n",
       "      <td>920846404657158</td>\n",
       "      <td>http://a.vpimg2.com/upload/merchandise/pdcvis/...</td>\n",
       "    </tr>\n",
       "    <tr>\n",
       "      <th>14</th>\n",
       "      <td>1202299096490170</td>\n",
       "      <td>http://a.vpimg2.com/upload/merchandise/pdcvis/...</td>\n",
       "    </tr>\n",
       "    <tr>\n",
       "      <th>15</th>\n",
       "      <td>1202310084616220</td>\n",
       "      <td>http://a.vpimg2.com/upload/merchandise/pdcvis/...</td>\n",
       "    </tr>\n",
       "    <tr>\n",
       "      <th>16</th>\n",
       "      <td>1202315469205505</td>\n",
       "      <td>http://a.vpimg2.com/upload/merchandise/pdcvis/...</td>\n",
       "    </tr>\n",
       "    <tr>\n",
       "      <th>17</th>\n",
       "      <td>1202326037671948</td>\n",
       "      <td>http://a.vpimg2.com/upload/merchandise/pdcvis/...</td>\n",
       "    </tr>\n",
       "    <tr>\n",
       "      <th>18</th>\n",
       "      <td>1202342670667978</td>\n",
       "      <td>http://a.vpimg2.com/upload/merchandise/pdcvis/...</td>\n",
       "    </tr>\n",
       "    <tr>\n",
       "      <th>19</th>\n",
       "      <td>1202342670671910</td>\n",
       "      <td>http://a.vpimg2.com/upload/merchandise/pdcvis/...</td>\n",
       "    </tr>\n",
       "    <tr>\n",
       "      <th>20</th>\n",
       "      <td>1483782161825904</td>\n",
       "      <td>http://a.vpimg2.com/upload/merchandise/pdcvis/...</td>\n",
       "    </tr>\n",
       "    <tr>\n",
       "      <th>21</th>\n",
       "      <td>1765254792024080</td>\n",
       "      <td>http://a.vpimg2.com/upload/merchandise/pdcvis/...</td>\n",
       "    </tr>\n",
       "    <tr>\n",
       "      <th>22</th>\n",
       "      <td>2046724026622135</td>\n",
       "      <td>http://a.vpimg2.com/upload/merchandise/pdcvis/...</td>\n",
       "    </tr>\n",
       "    <tr>\n",
       "      <th>23</th>\n",
       "      <td>2046767967338535</td>\n",
       "      <td>http://a.vpimg2.com/upload/merchandise/pdcvis/...</td>\n",
       "    </tr>\n",
       "    <tr>\n",
       "      <th>24</th>\n",
       "      <td>2046769978417582</td>\n",
       "      <td>http://a.vpimg2.com/upload/merchandise/pdcvis/...</td>\n",
       "    </tr>\n",
       "    <tr>\n",
       "      <th>25</th>\n",
       "      <td>2609679722156042</td>\n",
       "      <td>http://a.vpimg2.com/upload/merchandise/pdcvis/...</td>\n",
       "    </tr>\n",
       "    <tr>\n",
       "      <th>26</th>\n",
       "      <td>2891145450029056</td>\n",
       "      <td>http://a.vpimg2.com/upload/merchandise/pdcvis/...</td>\n",
       "    </tr>\n",
       "    <tr>\n",
       "      <th>27</th>\n",
       "      <td>2891152447287296</td>\n",
       "      <td>http://a.vpimg2.com/upload/merchandise/pdcvis/...</td>\n",
       "    </tr>\n",
       "    <tr>\n",
       "      <th>28</th>\n",
       "      <td>2891160600990330</td>\n",
       "      <td>http://a.vpimg2.com/upload/merchandise/pdcvis/...</td>\n",
       "    </tr>\n",
       "    <tr>\n",
       "      <th>29</th>\n",
       "      <td>2891169552208298</td>\n",
       "      <td>http://a.vpimg2.com/upload/merchandise/pdcvis/...</td>\n",
       "    </tr>\n",
       "    <tr>\n",
       "      <th>...</th>\n",
       "      <td>...</td>\n",
       "      <td>...</td>\n",
       "    </tr>\n",
       "    <tr>\n",
       "      <th>2567</th>\n",
       "      <td>9014593909249236993</td>\n",
       "      <td>http://a.vpimg2.com/upload/merchandise/pdc/993...</td>\n",
       "    </tr>\n",
       "    <tr>\n",
       "      <th>2568</th>\n",
       "      <td>9015719808079347717</td>\n",
       "      <td>http://a.vpimg2.com/upload/merchandise/pdcvis/...</td>\n",
       "    </tr>\n",
       "    <tr>\n",
       "      <th>2569</th>\n",
       "      <td>9016845703713148936</td>\n",
       "      <td>http://a.vpimg2.com/upload/merchandise/pdcvis/...</td>\n",
       "    </tr>\n",
       "    <tr>\n",
       "      <th>2570</th>\n",
       "      <td>9017127181215457486</td>\n",
       "      <td>http://a.vpimg2.com/upload/merchandise/pdc/486...</td>\n",
       "    </tr>\n",
       "    <tr>\n",
       "      <th>2571</th>\n",
       "      <td>9017971603620016137</td>\n",
       "      <td>http://a.vpimg2.com/upload/merchandise/pdc/137...</td>\n",
       "    </tr>\n",
       "    <tr>\n",
       "      <th>2572</th>\n",
       "      <td>9017971606044979200</td>\n",
       "      <td>http://a.vpimg2.com/upload/merchandise/pdc/200...</td>\n",
       "    </tr>\n",
       "    <tr>\n",
       "      <th>2573</th>\n",
       "      <td>9018816028550127616</td>\n",
       "      <td>http://a.vpimg2.com/upload/merchandise/pdc/616...</td>\n",
       "    </tr>\n",
       "    <tr>\n",
       "      <th>2574</th>\n",
       "      <td>9022193728259383296</td>\n",
       "      <td>http://a.vpimg2.com/upload/merchandise/pdc/296...</td>\n",
       "    </tr>\n",
       "    <tr>\n",
       "      <th>2575</th>\n",
       "      <td>9022475203247398916</td>\n",
       "      <td>http://a.vpimg2.com/upload/merchandise/pdc/916...</td>\n",
       "    </tr>\n",
       "    <tr>\n",
       "      <th>2576</th>\n",
       "      <td>9022756682497105932</td>\n",
       "      <td>http://a.vpimg2.com/upload/merchandise/pdcvis/...</td>\n",
       "    </tr>\n",
       "    <tr>\n",
       "      <th>2577</th>\n",
       "      <td>9023882578131013643</td>\n",
       "      <td>http://a.vpimg2.com/upload/merchandise/pdc/643...</td>\n",
       "    </tr>\n",
       "    <tr>\n",
       "      <th>2578</th>\n",
       "      <td>9024727008410832903</td>\n",
       "      <td>http://a.vpimg2.com/upload/merchandise/pdcvis/...</td>\n",
       "    </tr>\n",
       "    <tr>\n",
       "      <th>2579</th>\n",
       "      <td>9026415852921315334</td>\n",
       "      <td>http://a.vpimg2.com/upload/merchandise/pdc/334...</td>\n",
       "    </tr>\n",
       "    <tr>\n",
       "      <th>2580</th>\n",
       "      <td>9026697332171030534</td>\n",
       "      <td>http://a.vpimg2.com/upload/merchandise/pdcvis/...</td>\n",
       "    </tr>\n",
       "    <tr>\n",
       "      <th>2581</th>\n",
       "      <td>9027823227804868619</td>\n",
       "      <td>http://a.vpimg2.com/upload/merchandise/pdc/619...</td>\n",
       "    </tr>\n",
       "    <tr>\n",
       "      <th>2582</th>\n",
       "      <td>9031763960910209025</td>\n",
       "      <td>http://a.vpimg2.com/upload/merchandise/pdc/025...</td>\n",
       "    </tr>\n",
       "    <tr>\n",
       "      <th>2583</th>\n",
       "      <td>9033171252362444801</td>\n",
       "      <td>http://a.vpimg2.com/upload/merchandise/pdcvis/...</td>\n",
       "    </tr>\n",
       "    <tr>\n",
       "      <th>2584</th>\n",
       "      <td>9033734206588821512</td>\n",
       "      <td>http://a.vpimg2.com/upload/merchandise/pdcvis/...</td>\n",
       "    </tr>\n",
       "    <tr>\n",
       "      <th>2585</th>\n",
       "      <td>9035141577199349769</td>\n",
       "      <td>http://a.vpimg2.com/upload/merchandise/pdcvis/...</td>\n",
       "    </tr>\n",
       "    <tr>\n",
       "      <th>2586</th>\n",
       "      <td>9036830509787594752</td>\n",
       "      <td>http://a.vpimg2.com/upload/merchandise/pdc/752...</td>\n",
       "    </tr>\n",
       "    <tr>\n",
       "      <th>2587</th>\n",
       "      <td>9037674851989819400</td>\n",
       "      <td>http://a.vpimg2.com/upload/merchandise/pdcvis/...</td>\n",
       "    </tr>\n",
       "    <tr>\n",
       "      <th>2588</th>\n",
       "      <td>9038237806216196097</td>\n",
       "      <td>http://a.vpimg2.com/upload/merchandise/pdc/097...</td>\n",
       "    </tr>\n",
       "    <tr>\n",
       "      <th>2589</th>\n",
       "      <td>9039645182176481286</td>\n",
       "      <td>http://a.vpimg2.com/upload/merchandise/pdc/286...</td>\n",
       "    </tr>\n",
       "    <tr>\n",
       "      <th>2590</th>\n",
       "      <td>9039926651803541506</td>\n",
       "      <td>http://a.vpimg2.com/upload/merchandise/pdc/506...</td>\n",
       "    </tr>\n",
       "    <tr>\n",
       "      <th>2591</th>\n",
       "      <td>9041615583843246080</td>\n",
       "      <td>http://a.vpimg2.com/upload/merchandise/pdc/080...</td>\n",
       "    </tr>\n",
       "    <tr>\n",
       "      <th>2592</th>\n",
       "      <td>9088621908743286785</td>\n",
       "      <td>http://a.vpimg2.com/upload/merchandise/pdc/785...</td>\n",
       "    </tr>\n",
       "    <tr>\n",
       "      <th>2593</th>\n",
       "      <td>9089747807251402752</td>\n",
       "      <td>http://a.vpimg2.com/upload/merchandise/pdc/752...</td>\n",
       "    </tr>\n",
       "    <tr>\n",
       "      <th>2594</th>\n",
       "      <td>9090029283626840066</td>\n",
       "      <td>http://a.vpimg2.com/upload/merchandise/pdc/066...</td>\n",
       "    </tr>\n",
       "    <tr>\n",
       "      <th>2595</th>\n",
       "      <td>9090592232181542912</td>\n",
       "      <td>http://a.vpimg2.com/upload/merchandise/pdcvis/...</td>\n",
       "    </tr>\n",
       "    <tr>\n",
       "      <th>2596</th>\n",
       "      <td>9094251405871296512</td>\n",
       "      <td>http://a.vpimg2.com/upload/merchandise/pdc/512...</td>\n",
       "    </tr>\n",
       "  </tbody>\n",
       "</table>\n",
       "<p>2597 rows × 2 columns</p>\n",
       "</div>"
      ],
      "text/plain": [
       "                 view_spu                                                url\n",
       "0         357872333107204  http://a.vpimg2.com/upload/merchandise/pdc/204...\n",
       "1         357875526680651  http://a.vpimg2.com/upload/merchandise/pdcvis/...\n",
       "2         357882254983171  http://a.vpimg2.com/upload/merchandise/pdcvis/...\n",
       "3         357901107539985  http://a.vpimg2.com/upload/merchandise/pdcvis/...\n",
       "4         639360131194904  http://a.vpimg2.com/upload/merchandise/pdcvis/...\n",
       "5         639369692328147  http://a.vpimg2.com/upload/merchandise/pdcvis/...\n",
       "6         639371126526005  http://a.vpimg2.com/upload/merchandise/pdcvis/...\n",
       "7         639371126526005  http://a.vpimg2.com/upload/merchandise/pdcvis/...\n",
       "8         639389503180805  http://a.vpimg2.com/upload/merchandise/pdcvis/...\n",
       "9         639389503180805  http://a.vpimg2.com/upload/merchandise/pdcvis/...\n",
       "10        639392717246493  http://a.vpimg2.com/upload/merchandise/pdcvis/...\n",
       "11        920816362999808  http://a.vpimg2.com/upload/merchandise/pdcvis/...\n",
       "12        920832942268416  http://a.vpimg2.com/upload/merchandise/pdcvis/...\n",
       "13        920846404657158  http://a.vpimg2.com/upload/merchandise/pdcvis/...\n",
       "14       1202299096490170  http://a.vpimg2.com/upload/merchandise/pdcvis/...\n",
       "15       1202310084616220  http://a.vpimg2.com/upload/merchandise/pdcvis/...\n",
       "16       1202315469205505  http://a.vpimg2.com/upload/merchandise/pdcvis/...\n",
       "17       1202326037671948  http://a.vpimg2.com/upload/merchandise/pdcvis/...\n",
       "18       1202342670667978  http://a.vpimg2.com/upload/merchandise/pdcvis/...\n",
       "19       1202342670671910  http://a.vpimg2.com/upload/merchandise/pdcvis/...\n",
       "20       1483782161825904  http://a.vpimg2.com/upload/merchandise/pdcvis/...\n",
       "21       1765254792024080  http://a.vpimg2.com/upload/merchandise/pdcvis/...\n",
       "22       2046724026622135  http://a.vpimg2.com/upload/merchandise/pdcvis/...\n",
       "23       2046767967338535  http://a.vpimg2.com/upload/merchandise/pdcvis/...\n",
       "24       2046769978417582  http://a.vpimg2.com/upload/merchandise/pdcvis/...\n",
       "25       2609679722156042  http://a.vpimg2.com/upload/merchandise/pdcvis/...\n",
       "26       2891145450029056  http://a.vpimg2.com/upload/merchandise/pdcvis/...\n",
       "27       2891152447287296  http://a.vpimg2.com/upload/merchandise/pdcvis/...\n",
       "28       2891160600990330  http://a.vpimg2.com/upload/merchandise/pdcvis/...\n",
       "29       2891169552208298  http://a.vpimg2.com/upload/merchandise/pdcvis/...\n",
       "...                   ...                                                ...\n",
       "2567  9014593909249236993  http://a.vpimg2.com/upload/merchandise/pdc/993...\n",
       "2568  9015719808079347717  http://a.vpimg2.com/upload/merchandise/pdcvis/...\n",
       "2569  9016845703713148936  http://a.vpimg2.com/upload/merchandise/pdcvis/...\n",
       "2570  9017127181215457486  http://a.vpimg2.com/upload/merchandise/pdc/486...\n",
       "2571  9017971603620016137  http://a.vpimg2.com/upload/merchandise/pdc/137...\n",
       "2572  9017971606044979200  http://a.vpimg2.com/upload/merchandise/pdc/200...\n",
       "2573  9018816028550127616  http://a.vpimg2.com/upload/merchandise/pdc/616...\n",
       "2574  9022193728259383296  http://a.vpimg2.com/upload/merchandise/pdc/296...\n",
       "2575  9022475203247398916  http://a.vpimg2.com/upload/merchandise/pdc/916...\n",
       "2576  9022756682497105932  http://a.vpimg2.com/upload/merchandise/pdcvis/...\n",
       "2577  9023882578131013643  http://a.vpimg2.com/upload/merchandise/pdc/643...\n",
       "2578  9024727008410832903  http://a.vpimg2.com/upload/merchandise/pdcvis/...\n",
       "2579  9026415852921315334  http://a.vpimg2.com/upload/merchandise/pdc/334...\n",
       "2580  9026697332171030534  http://a.vpimg2.com/upload/merchandise/pdcvis/...\n",
       "2581  9027823227804868619  http://a.vpimg2.com/upload/merchandise/pdc/619...\n",
       "2582  9031763960910209025  http://a.vpimg2.com/upload/merchandise/pdc/025...\n",
       "2583  9033171252362444801  http://a.vpimg2.com/upload/merchandise/pdcvis/...\n",
       "2584  9033734206588821512  http://a.vpimg2.com/upload/merchandise/pdcvis/...\n",
       "2585  9035141577199349769  http://a.vpimg2.com/upload/merchandise/pdcvis/...\n",
       "2586  9036830509787594752  http://a.vpimg2.com/upload/merchandise/pdc/752...\n",
       "2587  9037674851989819400  http://a.vpimg2.com/upload/merchandise/pdcvis/...\n",
       "2588  9038237806216196097  http://a.vpimg2.com/upload/merchandise/pdc/097...\n",
       "2589  9039645182176481286  http://a.vpimg2.com/upload/merchandise/pdc/286...\n",
       "2590  9039926651803541506  http://a.vpimg2.com/upload/merchandise/pdc/506...\n",
       "2591  9041615583843246080  http://a.vpimg2.com/upload/merchandise/pdc/080...\n",
       "2592  9088621908743286785  http://a.vpimg2.com/upload/merchandise/pdc/785...\n",
       "2593  9089747807251402752  http://a.vpimg2.com/upload/merchandise/pdc/752...\n",
       "2594  9090029283626840066  http://a.vpimg2.com/upload/merchandise/pdc/066...\n",
       "2595  9090592232181542912  http://a.vpimg2.com/upload/merchandise/pdcvis/...\n",
       "2596  9094251405871296512  http://a.vpimg2.com/upload/merchandise/pdc/512...\n",
       "\n",
       "[2597 rows x 2 columns]"
      ]
     },
     "execution_count": 111,
     "metadata": {},
     "output_type": "execute_result"
    }
   ],
   "source": [
    "view_url"
   ]
  },
  {
   "cell_type": "code",
   "execution_count": 114,
   "metadata": {
    "collapsed": false
   },
   "outputs": [
    {
     "name": "stdout",
     "output_type": "stream",
     "text": [
      "index:2, filename: 357882254983171, url: http://a.vpimg2.com/upload/merchandise/pdcvis/2016/09/19/38/4dd42d3c-ac7f-47f4-9e00-787e63dce01e.jpg\n",
      "exception type: <class 'urllib.ContentTooShortError'>, args: ('retrieval incomplete: got only 4380 out of 60704 bytes',), exception: retrieval incomplete: got only 4380 out of 60704 bytes\n",
      "index:13, filename: 920846404657158, url: http://a.vpimg2.com/upload/merchandise/pdcvis/2016/10/29/68/a40ef312-845c-41d5-a852-8401d16c1a59.jpg\n",
      "exception type: <type 'exceptions.IOError'>, args: ('http protocol error', 0, 'got a bad status line', None), exception: ('http protocol error', 0, 'got a bad status line', None)\n",
      "index:15, filename: 1202310084616220, url: http://a.vpimg2.com/upload/merchandise/pdcvis/2016/10/07/130/9a5a7f60-14f6-42d3-8ba0-302a0c4e6dc9.jpg\n",
      "exception type: <class 'urllib.ContentTooShortError'>, args: ('retrieval incomplete: got only 0 out of 50167 bytes',), exception: retrieval incomplete: got only 0 out of 50167 bytes\n",
      "index:22, filename: 2046724026622135, url: http://a.vpimg2.com/upload/merchandise/pdcvis/2016/08/27/35/8b7971f0-ad0b-466d-aa32-7902f85189fb.jpg\n",
      "exception type: <class 'urllib.ContentTooShortError'>, args: ('retrieval incomplete: got only 1460 out of 25366 bytes',), exception: retrieval incomplete: got only 1460 out of 25366 bytes\n",
      "index:27, filename: 2891152447287296, url: http://a.vpimg2.com/upload/merchandise/pdcvis/2016/09/06/13/bbe7d4f9-1758-4bb6-9527-26813985d859.jpg\n",
      "exception type: <class 'urllib.ContentTooShortError'>, args: ('retrieval incomplete: got only 40444 out of 58193 bytes',), exception: retrieval incomplete: got only 40444 out of 58193 bytes\n",
      "index:216, filename: 24001791427289098, url: http://a.vpimg2.com/upload/merchandise/pdc/098/289/24001791427289098/1/1YY3035460050-5.jpg\n",
      "exception type: <class 'urllib.ContentTooShortError'>, args: ('retrieval incomplete: got only 12572 out of 33562 bytes',), exception: retrieval incomplete: got only 12572 out of 33562 bytes\n",
      "index:320, filename: 34134875562242082, url: http://a.vpimg2.com/upload/merchandise/pdcvis/2016/09/08/136/7883e8f6-2b89-4303-b0cb-4094f3c12416.jpg\n",
      "exception type: <class 'urllib.ContentTooShortError'>, args: ('retrieval incomplete: got only 13768 out of 71537 bytes',), exception: retrieval incomplete: got only 13768 out of 71537 bytes\n",
      "index:329, filename: 34697864820551702, url: http://a.vpimg2.com/upload/merchandise/pdcvis/2016/12/30/17/20ca2d85-f7d3-4b72-ad5b-df7cce6d052e.jpg\n",
      "exception type: <class 'urllib.ContentTooShortError'>, args: ('retrieval incomplete: got only 4096 out of 56464 bytes',), exception: retrieval incomplete: got only 4096 out of 56464 bytes\n",
      "index:341, filename: 72415513913565187, url: http://a.vpimg2.com/upload/merchandise/pdcvis/2016/11/14/153/4f8105f6-6838-41a6-8982-36887e6cb9fe.jpg\n",
      "exception type: <class 'urllib.ContentTooShortError'>, args: ('retrieval incomplete: got only 4942 out of 31535 bytes',), exception: retrieval incomplete: got only 4942 out of 31535 bytes\n",
      "index:514, filename: 89304008517624104, url: http://a.vpimg2.com/upload/merchandise/pdcvis/2016/12/23/175/9dadc353-0dfb-4a71-9ca3-d08f0c949707.jpg\n",
      "exception type: <type 'exceptions.IOError'>, args: ('http protocol error', 0, 'got a bad status line', None), exception: ('http protocol error', 0, 'got a bad status line', None)\n",
      "index:601, filename: 97185265860571162, url: http://a.vpimg2.com/upload/merchandise/pdcvis/2016/08/26/64/8c23e513-ce72-499d-bc62-218d2bc78304.jpg\n",
      "exception type: <class 'urllib.ContentTooShortError'>, args: ('retrieval incomplete: got only 4380 out of 25253 bytes',), exception: retrieval incomplete: got only 4380 out of 25253 bytes\n",
      "index:770, filename: 294217768972480514, url: http://a.vpimg2.com/upload/merchandise/pdcvis/2016/10/25/109/2225d9da-eef5-4014-b9e3-df23bf0a4fc8.jpg\n",
      "exception type: <class 'urllib.ContentTooShortError'>, args: ('retrieval incomplete: got only 8760 out of 72331 bytes',), exception: retrieval incomplete: got only 8760 out of 72331 bytes\n",
      "index:829, filename: 298439914808242231, url: http://a.vpimg2.com/upload/merchandise/pdcvis/2016/10/19/65/098476fc-706b-4882-bd41-df02b2dbe844.jpg\n",
      "exception type: <type 'exceptions.IOError'>, args: ('http protocol error', 0, 'got a bad status line', None), exception: ('http protocol error', 0, 'got a bad status line', None)\n",
      "index:1046, filename: 316735778810167299, url: http://a.vpimg2.com/upload/merchandise/pdcvis/2016/11/23/103/0c26dc30-5b38-4893-be67-4d747e9f5208.jpg\n",
      "exception type: <type 'exceptions.IOError'>, args: ('http protocol error', 0, 'got a bad status line', None), exception: ('http protocol error', 0, 'got a bad status line', None)\n",
      "index:1072, filename: 319550517313740802, url: http://a.vpimg2.com/upload/merchandise/pdcvis/2016/10/23/5/51fff803-0eaf-432c-8f2d-188f11a4d7ec.jpg\n",
      "exception type: <class 'urllib.ContentTooShortError'>, args: ('retrieval incomplete: got only 0 out of 14962 bytes',), exception: retrieval incomplete: got only 0 out of 14962 bytes\n",
      "index:1170, filename: 438614409363570705, url: http://a.vpimg2.com/upload/merchandise/pdcvis/2016/09/01/91/c87ecf96-b1fb-44c4-83ac-2693d546d578.jpg\n",
      "exception type: <class 'urllib.ContentTooShortError'>, args: ('retrieval incomplete: got only 7016 out of 41875 bytes',), exception: retrieval incomplete: got only 7016 out of 41875 bytes\n",
      "index:1172, filename: 438614435236745234, url: http://a.vpimg2.com/upload/merchandise/pdcvis/2016/11/01/136/ba7c3051-469d-43fd-91f0-41023fa1caf1.jpg\n",
      "exception type: <class 'urllib.ContentTooShortError'>, args: ('retrieval incomplete: got only 2920 out of 46864 bytes',), exception: retrieval incomplete: got only 2920 out of 46864 bytes\n",
      "index:1179, filename: 439458834293702666, url: http://a.vpimg2.com/upload/merchandise/pdcvis/2016/09/14/118/91645600-82b6-4790-b56d-ed1074915229.jpg\n",
      "exception type: <class 'urllib.ContentTooShortError'>, args: ('retrieval incomplete: got only 25448 out of 37777 bytes',), exception: retrieval incomplete: got only 25448 out of 37777 bytes\n",
      "index:1182, filename: 439458877074387002, url: http://a.vpimg2.com/upload/merchandise/pdcvis/2016/12/14/63/4c25d43d-d240-47bd-8467-1326bfea3959.jpg\n",
      "exception type: <class 'urllib.ContentTooShortError'>, args: ('retrieval incomplete: got only 13768 out of 45119 bytes',), exception: retrieval incomplete: got only 13768 out of 45119 bytes\n",
      "index:1420, filename: 457191792472825882, url: http://a.vpimg2.com/upload/merchandise/pdcvis/2016/12/05/19/693e7396-b294-463a-acc2-01de3498c72b.jpg\n",
      "exception type: <class 'urllib.ContentTooShortError'>, args: ('retrieval incomplete: got only 29200 out of 39912 bytes',), exception: retrieval incomplete: got only 29200 out of 39912 bytes\n",
      "index:1467, filename: 461413925257830545, url: http://a.vpimg2.com/upload/merchandise/pdcvis/2016/11/24/94/bb9d4d9c-a99a-492a-80ea-444288151669.jpg\n",
      "exception type: <type 'exceptions.IOError'>, args: ('http protocol error', 0, 'got a bad status line', None), exception: ('http protocol error', 0, 'got a bad status line', None)\n",
      "index:1468, filename: 461695358101766158, url: http://a.vpimg2.com/upload/merchandise/pdcvis/2016/08/23/33/5e31957b-7d46-4c4f-93ac-ef8c76cbc6aa.jpg\n",
      "exception type: <type 'exceptions.IOError'>, args: ('http protocol error', 0, 'got a bad status line', None), exception: ('http protocol error', 0, 'got a bad status line', None)\n",
      "index:1583, filename: 963565080649408512, url: http://a.vpimg2.com/upload/merchandise/pdcvis/2016/10/25/6/597de7ee-205a-47bf-9622-90806598dee5.jpg\n",
      "exception type: <class 'urllib.ContentTooShortError'>, args: ('retrieval incomplete: got only 4380 out of 16794 bytes',), exception: retrieval incomplete: got only 4380 out of 16794 bytes\n",
      "index:1619, filename: 1082629013079781376, url: http://a.vpimg2.com/upload/merchandise/pdc/376/781/1082629013079781376/1/1051190-5.jpg\n",
      "exception type: <class 'urllib.ContentTooShortError'>, args: ('retrieval incomplete: got only 0 out of 19793 bytes',), exception: retrieval incomplete: got only 0 out of 19793 bytes\n",
      "index:1722, filename: 2191359016057393152, url: http://a.vpimg2.com/upload/merchandise/pdc/152/393/2191359016057393152/0/1682430-5.jpg\n",
      "exception type: <class 'urllib.ContentTooShortError'>, args: ('retrieval incomplete: got only 7300 out of 22591 bytes',), exception: retrieval incomplete: got only 7300 out of 22591 bytes\n",
      "index:1850, filename: 2826929451589525504, url: http://a.vpimg2.com/upload/merchandise/pdcvis/2016/11/09/138/57b8d95c-2270-4efc-af22-44adda57040d_t.jpg\n",
      "exception type: <class 'urllib.ContentTooShortError'>, args: ('retrieval incomplete: got only 0 out of 98835 bytes',), exception: retrieval incomplete: got only 0 out of 98835 bytes\n",
      "index:1852, filename: 2827492402281959424, url: http://a.vpimg2.com/upload/merchandise/pdc/424/959/2827492402281959424/0/1060546-5.jpg\n",
      "exception type: <class 'urllib.ContentTooShortError'>, args: ('retrieval incomplete: got only 0 out of 26327 bytes',), exception: retrieval incomplete: got only 0 out of 26327 bytes\n",
      "index:1862, filename: 2832840426724958208, url: http://a.vpimg2.com/upload/merchandise/pdc/208/958/2832840426724958208/0/fd38ee57-7a10-4230-a078-cc3433e93abf.jpg\n",
      "exception type: <class 'urllib.ContentTooShortError'>, args: ('retrieval incomplete: got only 0 out of 278 bytes',), exception: retrieval incomplete: got only 0 out of 278 bytes\n",
      "index:1875, filename: 2836781075773157376, url: http://a.vpimg2.com/upload/merchandise/pdcvis/2016/10/10/157/cf97fe2b-1b9d-448d-8cfe-a2b4c72a5e25.jpg\n",
      "exception type: <class 'urllib.ContentTooShortError'>, args: ('retrieval incomplete: got only 2920 out of 25230 bytes',), exception: retrieval incomplete: got only 2920 out of 25230 bytes\n",
      "index:1887, filename: 2845506800768520192, url: http://a.vpimg2.com/upload/merchandise/pdcvis/2016/11/09/7/6c5695d8-5188-4efa-9bf6-0d2a495c239d_t.jpg\n",
      "exception type: <class 'urllib.ContentTooShortError'>, args: ('retrieval incomplete: got only 41508 out of 96337 bytes',), exception: retrieval incomplete: got only 41508 out of 96337 bytes\n",
      "index:1997, filename: 3822225051725512705, url: http://a.vpimg2.com/upload/merchandise/pdc/705/512/3822225051725512705/0/1901500-5.jpg\n",
      "exception type: <class 'urllib.ContentTooShortError'>, args: ('retrieval incomplete: got only 14600 out of 18553 bytes',), exception: retrieval incomplete: got only 14600 out of 18553 bytes\n",
      "index:2048, filename: 4063730591896084758, url: http://a.vpimg2.com/upload/merchandise/pdc/758/084/4063730591896084758/3/1759647-5.jpg\n",
      "exception type: <class 'urllib.ContentTooShortError'>, args: ('retrieval incomplete: got only 7016 out of 16669 bytes',), exception: retrieval incomplete: got only 7016 out of 16669 bytes\n",
      "index:2191, filename: 4428803637838594048, url: http://a.vpimg2.com/upload/merchandise/pdc/048/594/4428803637838594048/0/2123114-5.jpg\n",
      "exception type: <class 'urllib.ContentTooShortError'>, args: ('retrieval incomplete: got only 14168 out of 14506 bytes',), exception: retrieval incomplete: got only 14168 out of 14506 bytes\n",
      "index:2200, filename: 4496076157272420353, url: http://a.vpimg2.com/upload/merchandise/pdc/353/420/4496076157272420353/0/2123099-5.jpg\n",
      "exception type: <class 'urllib.ContentTooShortError'>, args: ('retrieval incomplete: got only 13160 out of 17378 bytes',), exception: retrieval incomplete: got only 13160 out of 17378 bytes\n",
      "index:2203, filename: 4627806448492449792, url: http://a.vpimg2.com/upload/merchandise/pdc/792/449/4627806448492449792/0/1755203-5.jpg\n",
      "exception type: <class 'urllib.ContentTooShortError'>, args: ('retrieval incomplete: got only 12626 out of 19516 bytes',), exception: retrieval incomplete: got only 12626 out of 19516 bytes\n",
      "index:2209, filename: 4706619441972056064, url: http://a.vpimg2.com/upload/merchandise/pdc/064/056/4706619441972056064/1/1755209-5.jpg\n",
      "exception type: <class 'urllib.ContentTooShortError'>, args: ('retrieval incomplete: got only 5556 out of 15390 bytes',), exception: retrieval incomplete: got only 5556 out of 15390 bytes\n",
      "index:2300, filename: 6586027870691340619, url: http://a.vpimg2.com/upload/merchandise/pdc/619/340/6586027870691340619/0/1587363-5.jpg\n",
      "exception type: <type 'exceptions.IOError'>, args: ('http protocol error', 0, 'got a bad status line', None), exception: ('http protocol error', 0, 'got a bad status line', None)\n",
      "index:2314, filename: 6853429096767770624, url: http://a.vpimg2.com/upload/merchandise/pdc/624/770/6853429096767770624/0/1903601-5.jpg\n",
      "exception type: <type 'exceptions.IOError'>, args: ('http protocol error', 0, 'got a bad status line', None), exception: ('http protocol error', 0, 'got a bad status line', None)\n",
      "index:2414, filename: 8462621471316647936, url: http://a.vpimg2.com/upload/merchandise/pdcvis/2016/10/24/97/a8c9d912-2f59-4c20-8fe7-977e2d3f8a2e_t.jpg\n",
      "exception type: <type 'exceptions.IOError'>, args: ('http protocol error', 0, 'got a bad status line', None), exception: ('http protocol error', 0, 'got a bad status line', None)\n"
     ]
    }
   ],
   "source": [
    "for index, row in view_url.iterrows():                                      \n",
    "    try:\n",
    "        urlretrieve(row['url'], 'view_data_image/{}.jpg'.format(row['view_spu']))\n",
    "        time.sleep(10)\n",
    "    except Exception as e:\n",
    "        print 'index:{}, filename: {}, url: {}'.format(index, row['view_spu'], row['url'])\n",
    "        print 'exception type: {}, args: {}, exception: {}'.format(type(e), e.args, e)\n",
    "        "
   ]
  },
  {
   "cell_type": "code",
   "execution_count": 182,
   "metadata": {
    "collapsed": false
   },
   "outputs": [],
   "source": [
    "needfixed = glob.glob('NeedFixed/*.jpg')"
   ]
  },
  {
   "cell_type": "code",
   "execution_count": 183,
   "metadata": {
    "collapsed": false
   },
   "outputs": [],
   "source": [
    "a = pd.DataFrame([x[10:-4] for x in needfixed])"
   ]
  },
  {
   "cell_type": "code",
   "execution_count": 184,
   "metadata": {
    "collapsed": false
   },
   "outputs": [],
   "source": [
    "a.columns = ['spu']"
   ]
  },
  {
   "cell_type": "code",
   "execution_count": 188,
   "metadata": {
    "collapsed": true
   },
   "outputs": [],
   "source": [
    "a['spu']= a['spu'].astype(int)"
   ]
  },
  {
   "cell_type": "code",
   "execution_count": 189,
   "metadata": {
    "collapsed": false
   },
   "outputs": [],
   "source": [
    "b = pd.merge(a, view_url, left_on='spu', right_on='view_spu')"
   ]
  },
  {
   "cell_type": "code",
   "execution_count": 191,
   "metadata": {
    "collapsed": false
   },
   "outputs": [
    {
     "data": {
      "text/html": [
       "<div>\n",
       "<table border=\"1\" class=\"dataframe\">\n",
       "  <thead>\n",
       "    <tr style=\"text-align: right;\">\n",
       "      <th></th>\n",
       "      <th>spu</th>\n",
       "      <th>view_spu</th>\n",
       "      <th>url</th>\n",
       "    </tr>\n",
       "  </thead>\n",
       "  <tbody>\n",
       "    <tr>\n",
       "      <th>0</th>\n",
       "      <td>10491016902120013</td>\n",
       "      <td>10491016902120013</td>\n",
       "      <td>http://a.vpimg2.com/upload/merchandise/pdcvis/...</td>\n",
       "    </tr>\n",
       "    <tr>\n",
       "      <th>1</th>\n",
       "      <td>1202342670667978</td>\n",
       "      <td>1202342670667978</td>\n",
       "      <td>http://a.vpimg2.com/upload/merchandise/pdcvis/...</td>\n",
       "    </tr>\n",
       "    <tr>\n",
       "      <th>2</th>\n",
       "      <td>1202342670671910</td>\n",
       "      <td>1202342670671910</td>\n",
       "      <td>http://a.vpimg2.com/upload/merchandise/pdcvis/...</td>\n",
       "    </tr>\n",
       "    <tr>\n",
       "      <th>3</th>\n",
       "      <td>12461341739094214</td>\n",
       "      <td>12461341739094214</td>\n",
       "      <td>http://a.vpimg2.com/upload/merchandise/pdcvis/...</td>\n",
       "    </tr>\n",
       "    <tr>\n",
       "      <th>4</th>\n",
       "      <td>16120516436332544</td>\n",
       "      <td>16120516436332544</td>\n",
       "      <td>http://a.vpimg2.com/upload/merchandise/pdcvis/...</td>\n",
       "    </tr>\n",
       "  </tbody>\n",
       "</table>\n",
       "</div>"
      ],
      "text/plain": [
       "                 spu           view_spu  \\\n",
       "0  10491016902120013  10491016902120013   \n",
       "1   1202342670667978   1202342670667978   \n",
       "2   1202342670671910   1202342670671910   \n",
       "3  12461341739094214  12461341739094214   \n",
       "4  16120516436332544  16120516436332544   \n",
       "\n",
       "                                                 url  \n",
       "0  http://a.vpimg2.com/upload/merchandise/pdcvis/...  \n",
       "1  http://a.vpimg2.com/upload/merchandise/pdcvis/...  \n",
       "2  http://a.vpimg2.com/upload/merchandise/pdcvis/...  \n",
       "3  http://a.vpimg2.com/upload/merchandise/pdcvis/...  \n",
       "4  http://a.vpimg2.com/upload/merchandise/pdcvis/...  "
      ]
     },
     "execution_count": 191,
     "metadata": {},
     "output_type": "execute_result"
    }
   ],
   "source": [
    "b.head()"
   ]
  },
  {
   "cell_type": "code",
   "execution_count": 192,
   "metadata": {
    "collapsed": false
   },
   "outputs": [
    {
     "data": {
      "text/plain": [
       "(51, 3)"
      ]
     },
     "execution_count": 192,
     "metadata": {},
     "output_type": "execute_result"
    }
   ],
   "source": [
    "b.shape"
   ]
  },
  {
   "cell_type": "code",
   "execution_count": 193,
   "metadata": {
    "collapsed": false
   },
   "outputs": [
    {
     "name": "stdout",
     "output_type": "stream",
     "text": [
      "index:29, filename: 448747540332511261, url: http://a.vpimg2.com/upload/merchandise/pdcvis/2016/11/18/138/95c7b5ec-73f8-440a-a1f1-3086dcdc32fa.jpg\n",
      "exception type: <type 'exceptions.IOError'>, args: ('http protocol error', 0, 'got a bad status line', None), exception: ('http protocol error', 0, 'got a bad status line', None)\n",
      "index:30, filename: 449873443790426124, url: http://a.vpimg2.com/upload/merchandise/pdcvis/2016/11/28/45/cf305005-cd37-4ab1-9c94-f62141686804.jpg\n",
      "exception type: <type 'exceptions.IOError'>, args: ('http protocol error', 0, 'got a bad status line', None), exception: ('http protocol error', 0, 'got a bad status line', None)\n",
      "index:31, filename: 450154915216064523, url: http://a.vpimg2.com/upload/merchandise/pdcvis/2016/11/18/156/fb3eb7cb-da23-4011-9976-1dcf46d86e7d.jpg\n",
      "exception type: <type 'exceptions.IOError'>, args: ('http protocol error', 0, 'got a bad status line', None), exception: ('http protocol error', 0, 'got a bad status line', None)\n",
      "index:32, filename: 451843765076328474, url: http://a.vpimg2.com/upload/merchandise/pdcvis/2016/11/18/140/3db1a419-59c3-4a44-8deb-04f066383ce2.jpg\n",
      "exception type: <type 'exceptions.IOError'>, args: ('http protocol error', 0, 'got a bad status line', None), exception: ('http protocol error', 0, 'got a bad status line', None)\n"
     ]
    }
   ],
   "source": [
    "for index, row in b.iterrows():                                      \n",
    "    try:\n",
    "        urlretrieve(row['url'], 'fixed_data_image/{}.jpg'.format(row['view_spu']))\n",
    "        time.sleep(3)\n",
    "    except Exception as e:\n",
    "        print 'index:{}, filename: {}, url: {}'.format(index, row['view_spu'], row['url'])\n",
    "        print 'exception type: {}, args: {}, exception: {}'.format(type(e), e.args, e)"
   ]
  },
  {
   "cell_type": "code",
   "execution_count": null,
   "metadata": {
    "collapsed": true
   },
   "outputs": [],
   "source": []
  }
 ],
 "metadata": {
  "anaconda-cloud": {},
  "kernelspec": {
   "display_name": "Python [conda root]",
   "language": "python",
   "name": "conda-root-py"
  },
  "language_info": {
   "codemirror_mode": {
    "name": "ipython",
    "version": 2
   },
   "file_extension": ".py",
   "mimetype": "text/x-python",
   "name": "python",
   "nbconvert_exporter": "python",
   "pygments_lexer": "ipython2",
   "version": "2.7.12"
  }
 },
 "nbformat": 4,
 "nbformat_minor": 2
}
