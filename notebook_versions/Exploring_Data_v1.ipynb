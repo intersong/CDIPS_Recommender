{
 "cells": [
  {
   "cell_type": "raw",
   "metadata": {},
   "source": [
    "<script>\n",
    "  function code_toggle() {\n",
    "    if (code_shown){\n",
    "      $('div.input').hide('500');\n",
    "      $('#toggleButton').val('Show Code')\n",
    "    } else {\n",
    "      $('div.input').show('500');\n",
    "      $('#toggleButton').val('Hide Code')\n",
    "    }\n",
    "    code_shown = !code_shown\n",
    "  }\n",
    "\n",
    "  $( document ).ready(function(){\n",
    "    code_shown=false;\n",
    "    $('div.input').hide()\n",
    "  });\n",
    "</script>\n",
    "<form action=\"javascript:code_toggle()\"><input type=\"submit\" id=\"toggleButton\" value=\"Show Code\"></form>"
   ]
  },
  {
   "cell_type": "markdown",
   "metadata": {
    "slideshow": {
     "slide_type": "slide"
    }
   },
   "source": [
    "# Data Exploration\n",
    "\n"
   ]
  },
  {
   "cell_type": "code",
   "execution_count": 2,
   "metadata": {
    "slideshow": {
     "slide_type": "skip"
    }
   },
   "outputs": [
    {
     "name": "stderr",
     "output_type": "stream",
     "text": [
      "Using TensorFlow backend.\n"
     ]
    }
   ],
   "source": [
    "import sys \n",
    "import os\n",
    "sys.path.append(os.getcwd()+'/../')\n",
    "\n",
    "# other\n",
    "import numpy as np\n",
    "import glob\n",
    "import pandas as pd\n",
    "import ntpath\n",
    "\n",
    "#keras\n",
    "from keras.preprocessing import image\n",
    "\n",
    "# plotting\n",
    "import seaborn as sns\n",
    "sns.set_style('white')\n",
    "import matplotlib.pyplot as plt\n",
    "%matplotlib inline\n",
    "\n",
    "# debuggin\n",
    "from IPython.core.debugger import Tracer\n",
    "\n",
    "#stats\n",
    "import scipy.stats as stats\n",
    "\n",
    "import bqplot.pyplot as bqplt"
   ]
  },
  {
   "cell_type": "markdown",
   "metadata": {
    "slideshow": {
     "slide_type": "slide"
    }
   },
   "source": [
    "# Data File"
   ]
  },
  {
   "cell_type": "code",
   "execution_count": 10,
   "metadata": {
    "collapsed": true,
    "slideshow": {
     "slide_type": "skip"
    }
   },
   "outputs": [],
   "source": [
    "user_profile = pd.read_csv('../data_user_view_buy/user_profile.csv',sep='\\t',header=None)\n"
   ]
  },
  {
   "cell_type": "code",
   "execution_count": 11,
   "metadata": {
    "collapsed": true,
    "slideshow": {
     "slide_type": "skip"
    }
   },
   "outputs": [],
   "source": [
    "user_profile.columns = ['user_id','buy_spu','buy_sn','buy_ct3','view_spu','view_sn','view_ct3','time_interval','view_cnt','view_seconds']"
   ]
  },
  {
   "cell_type": "code",
   "execution_count": 11,
   "metadata": {
    "slideshow": {
     "slide_type": "skip"
    }
   },
   "outputs": [
    {
     "name": "stdout",
     "output_type": "stream",
     "text": [
      "293936355866378295\n",
      "2939363-55866378295\n"
     ]
    }
   ],
   "source": [
    "string =str(user_profile.buy_spu.as_matrix()[3002])\n",
    "print(string)\n",
    "print(string[0:7]+'-'+string[7::])\n",
    "#print(str(user_profile.buy_spu.as_matrix()[0])[7::])"
   ]
  },
  {
   "cell_type": "code",
   "execution_count": 12,
   "metadata": {
    "slideshow": {
     "slide_type": "fragment"
    }
   },
   "outputs": [
    {
     "data": {
      "text/html": [
       "<div>\n",
       "<style>\n",
       "    .dataframe thead tr:only-child th {\n",
       "        text-align: right;\n",
       "    }\n",
       "\n",
       "    .dataframe thead th {\n",
       "        text-align: left;\n",
       "    }\n",
       "\n",
       "    .dataframe tbody tr th {\n",
       "        vertical-align: top;\n",
       "    }\n",
       "</style>\n",
       "<table border=\"1\" class=\"dataframe\">\n",
       "  <thead>\n",
       "    <tr style=\"text-align: right;\">\n",
       "      <th></th>\n",
       "      <th>user_id</th>\n",
       "      <th>buy_spu</th>\n",
       "      <th>buy_sn</th>\n",
       "      <th>buy_ct3</th>\n",
       "      <th>view_spu</th>\n",
       "      <th>view_sn</th>\n",
       "      <th>view_ct3</th>\n",
       "      <th>time_interval</th>\n",
       "      <th>view_cnt</th>\n",
       "      <th>view_seconds</th>\n",
       "    </tr>\n",
       "  </thead>\n",
       "  <tbody>\n",
       "    <tr>\n",
       "      <th>0</th>\n",
       "      <td>3125745546</td>\n",
       "      <td>3454147345092617</td>\n",
       "      <td>10020201</td>\n",
       "      <td>334</td>\n",
       "      <td>100281596405534762</td>\n",
       "      <td>10029251</td>\n",
       "      <td>334</td>\n",
       "      <td>311066</td>\n",
       "      <td>3</td>\n",
       "      <td>50</td>\n",
       "    </tr>\n",
       "    <tr>\n",
       "      <th>1</th>\n",
       "      <td>3125745546</td>\n",
       "      <td>3454147345092617</td>\n",
       "      <td>10020201</td>\n",
       "      <td>334</td>\n",
       "      <td>104785174046949392</td>\n",
       "      <td>10014206</td>\n",
       "      <td>334</td>\n",
       "      <td>499624</td>\n",
       "      <td>1</td>\n",
       "      <td>7</td>\n",
       "    </tr>\n",
       "    <tr>\n",
       "      <th>2</th>\n",
       "      <td>3125745546</td>\n",
       "      <td>3454147345092617</td>\n",
       "      <td>10020201</td>\n",
       "      <td>334</td>\n",
       "      <td>10491053651988480</td>\n",
       "      <td>10010280</td>\n",
       "      <td>334</td>\n",
       "      <td>409509</td>\n",
       "      <td>2</td>\n",
       "      <td>9</td>\n",
       "    </tr>\n",
       "    <tr>\n",
       "      <th>3</th>\n",
       "      <td>3125745546</td>\n",
       "      <td>3454147345092617</td>\n",
       "      <td>10020201</td>\n",
       "      <td>334</td>\n",
       "      <td>20342683550576642</td>\n",
       "      <td>10015063</td>\n",
       "      <td>334</td>\n",
       "      <td>313623</td>\n",
       "      <td>1</td>\n",
       "      <td>2</td>\n",
       "    </tr>\n",
       "    <tr>\n",
       "      <th>4</th>\n",
       "      <td>3125745546</td>\n",
       "      <td>3454147345092617</td>\n",
       "      <td>10020201</td>\n",
       "      <td>334</td>\n",
       "      <td>224975005672079387</td>\n",
       "      <td>10020201</td>\n",
       "      <td>334</td>\n",
       "      <td>451607</td>\n",
       "      <td>4</td>\n",
       "      <td>12</td>\n",
       "    </tr>\n",
       "    <tr>\n",
       "      <th>5</th>\n",
       "      <td>3125745546</td>\n",
       "      <td>3454147345092617</td>\n",
       "      <td>10020201</td>\n",
       "      <td>334</td>\n",
       "      <td>232293356547952640</td>\n",
       "      <td>10015864</td>\n",
       "      <td>334</td>\n",
       "      <td>228407</td>\n",
       "      <td>1</td>\n",
       "      <td>2</td>\n",
       "    </tr>\n",
       "    <tr>\n",
       "      <th>6</th>\n",
       "      <td>3125745546</td>\n",
       "      <td>3454147345092617</td>\n",
       "      <td>10020201</td>\n",
       "      <td>334</td>\n",
       "      <td>243833829111693330</td>\n",
       "      <td>10020201</td>\n",
       "      <td>334</td>\n",
       "      <td>499375</td>\n",
       "      <td>1</td>\n",
       "      <td>10</td>\n",
       "    </tr>\n",
       "    <tr>\n",
       "      <th>7</th>\n",
       "      <td>3125745546</td>\n",
       "      <td>3454147345092617</td>\n",
       "      <td>10020201</td>\n",
       "      <td>334</td>\n",
       "      <td>245804153948667933</td>\n",
       "      <td>10020201</td>\n",
       "      <td>334</td>\n",
       "      <td>499347</td>\n",
       "      <td>1</td>\n",
       "      <td>2</td>\n",
       "    </tr>\n",
       "    <tr>\n",
       "      <th>8</th>\n",
       "      <td>3125745546</td>\n",
       "      <td>3454147345092617</td>\n",
       "      <td>10020201</td>\n",
       "      <td>334</td>\n",
       "      <td>25127771918368778</td>\n",
       "      <td>10014206</td>\n",
       "      <td>334</td>\n",
       "      <td>499525</td>\n",
       "      <td>1</td>\n",
       "      <td>5</td>\n",
       "    </tr>\n",
       "    <tr>\n",
       "      <th>9</th>\n",
       "      <td>3125745546</td>\n",
       "      <td>3454147345092617</td>\n",
       "      <td>10020201</td>\n",
       "      <td>334</td>\n",
       "      <td>299284399610007558</td>\n",
       "      <td>10024895</td>\n",
       "      <td>334</td>\n",
       "      <td>273848</td>\n",
       "      <td>1</td>\n",
       "      <td>4</td>\n",
       "    </tr>\n",
       "  </tbody>\n",
       "</table>\n",
       "</div>"
      ],
      "text/plain": [
       "      user_id           buy_spu    buy_sn  buy_ct3            view_spu  \\\n",
       "0  3125745546  3454147345092617  10020201      334  100281596405534762   \n",
       "1  3125745546  3454147345092617  10020201      334  104785174046949392   \n",
       "2  3125745546  3454147345092617  10020201      334   10491053651988480   \n",
       "3  3125745546  3454147345092617  10020201      334   20342683550576642   \n",
       "4  3125745546  3454147345092617  10020201      334  224975005672079387   \n",
       "5  3125745546  3454147345092617  10020201      334  232293356547952640   \n",
       "6  3125745546  3454147345092617  10020201      334  243833829111693330   \n",
       "7  3125745546  3454147345092617  10020201      334  245804153948667933   \n",
       "8  3125745546  3454147345092617  10020201      334   25127771918368778   \n",
       "9  3125745546  3454147345092617  10020201      334  299284399610007558   \n",
       "\n",
       "    view_sn  view_ct3  time_interval  view_cnt  view_seconds  \n",
       "0  10029251       334         311066         3            50  \n",
       "1  10014206       334         499624         1             7  \n",
       "2  10010280       334         409509         2             9  \n",
       "3  10015063       334         313623         1             2  \n",
       "4  10020201       334         451607         4            12  \n",
       "5  10015864       334         228407         1             2  \n",
       "6  10020201       334         499375         1            10  \n",
       "7  10020201       334         499347         1             2  \n",
       "8  10014206       334         499525         1             5  \n",
       "9  10024895       334         273848         1             4  "
      ]
     },
     "execution_count": 12,
     "metadata": {},
     "output_type": "execute_result"
    }
   ],
   "source": [
    "user_profile.head(10)"
   ]
  },
  {
   "cell_type": "code",
   "execution_count": 14,
   "metadata": {
    "slideshow": {
     "slide_type": "fragment"
    }
   },
   "outputs": [
    {
     "name": "stdout",
     "output_type": "stream",
     "text": [
      "n rows: 6538474\n"
     ]
    }
   ],
   "source": [
    "print('n rows: {0}').format(len(user_profile))"
   ]
  },
  {
   "cell_type": "markdown",
   "metadata": {},
   "source": [
    "# Plotting Functions"
   ]
  },
  {
   "cell_type": "code",
   "execution_count": 20,
   "metadata": {
    "collapsed": true
   },
   "outputs": [],
   "source": [
    "def plot_trajectory_scatter(user_profile,scatter_color_col=None,samplesize=50,size=10,savedir=None):\n",
    "    plt.figure(figsize=(12,1*samplesize/10))\n",
    "\n",
    "    for ui,user_id in enumerate(np.random.choice(user_profile.user_id.unique(),samplesize)):\n",
    "        trajectory = user_profile.loc[user_profile.user_id==user_id,]\n",
    "\n",
    "        time = 0-trajectory.time_interval.as_matrix()/60.0/60.0/24.0\n",
    "        \n",
    "        # add image or not\n",
    "        if scatter_color_col is not None:\n",
    "            c = trajectory[scatter_color_col].as_matrix()\n",
    "        else:\n",
    "            c = np.ones(len(trajectory))\n",
    "        \n",
    "        plt.scatter(time,np.ones(len(time))*ui,s=size,c=c,edgecolors=\"none\",cmap=\"jet\")\n",
    "        plt.axvline(x=0,linewidth=1)\n",
    "        sns.despine()\n",
    "        plt.title('example user trajectories')\n",
    "        plt.xlabel('days to purchase')\n",
    "        if savedir is not None:\n",
    "            plt.savefig(savedir,dpi=100)"
   ]
  },
  {
   "cell_type": "markdown",
   "metadata": {
    "slideshow": {
     "slide_type": "slide"
    }
   },
   "source": [
    "# Descriptions of Data"
   ]
  },
  {
   "cell_type": "code",
   "execution_count": 13,
   "metadata": {
    "slideshow": {
     "slide_type": "fragment"
    }
   },
   "outputs": [
    {
     "data": {
      "text/html": [
       "<div>\n",
       "<style>\n",
       "    .dataframe thead tr:only-child th {\n",
       "        text-align: right;\n",
       "    }\n",
       "\n",
       "    .dataframe thead th {\n",
       "        text-align: left;\n",
       "    }\n",
       "\n",
       "    .dataframe tbody tr th {\n",
       "        vertical-align: top;\n",
       "    }\n",
       "</style>\n",
       "<table border=\"1\" class=\"dataframe\">\n",
       "  <thead>\n",
       "    <tr style=\"text-align: right;\">\n",
       "      <th></th>\n",
       "      <th>user_id</th>\n",
       "      <th>buy_spu</th>\n",
       "      <th>buy_sn</th>\n",
       "      <th>buy_ct3</th>\n",
       "      <th>view_spu</th>\n",
       "      <th>view_sn</th>\n",
       "      <th>view_ct3</th>\n",
       "      <th>time_interval</th>\n",
       "      <th>view_cnt</th>\n",
       "      <th>view_seconds</th>\n",
       "    </tr>\n",
       "  </thead>\n",
       "  <tbody>\n",
       "    <tr>\n",
       "      <th>count</th>\n",
       "      <td>6.538474e+06</td>\n",
       "      <td>6.538474e+06</td>\n",
       "      <td>6.538474e+06</td>\n",
       "      <td>6538474.0</td>\n",
       "      <td>6.538474e+06</td>\n",
       "      <td>6.538474e+06</td>\n",
       "      <td>6538474.0</td>\n",
       "      <td>6.538474e+06</td>\n",
       "      <td>6.538474e+06</td>\n",
       "      <td>6.538474e+06</td>\n",
       "    </tr>\n",
       "    <tr>\n",
       "      <th>mean</th>\n",
       "      <td>2.157486e+09</td>\n",
       "      <td>7.705014e+17</td>\n",
       "      <td>1.001342e+07</td>\n",
       "      <td>334.0</td>\n",
       "      <td>7.804850e+17</td>\n",
       "      <td>1.001284e+07</td>\n",
       "      <td>334.0</td>\n",
       "      <td>1.695374e+05</td>\n",
       "      <td>2.124666e+00</td>\n",
       "      <td>2.282485e+01</td>\n",
       "    </tr>\n",
       "    <tr>\n",
       "      <th>std</th>\n",
       "      <td>1.235368e+09</td>\n",
       "      <td>1.776139e+18</td>\n",
       "      <td>8.024860e+03</td>\n",
       "      <td>0.0</td>\n",
       "      <td>1.785675e+18</td>\n",
       "      <td>8.012593e+03</td>\n",
       "      <td>0.0</td>\n",
       "      <td>1.727738e+05</td>\n",
       "      <td>3.494220e+00</td>\n",
       "      <td>5.179874e+01</td>\n",
       "    </tr>\n",
       "    <tr>\n",
       "      <th>min</th>\n",
       "      <td>4.079800e+04</td>\n",
       "      <td>3.578723e+14</td>\n",
       "      <td>1.000001e+07</td>\n",
       "      <td>334.0</td>\n",
       "      <td>3.578723e+14</td>\n",
       "      <td>1.000001e+07</td>\n",
       "      <td>334.0</td>\n",
       "      <td>0.000000e+00</td>\n",
       "      <td>1.000000e+00</td>\n",
       "      <td>0.000000e+00</td>\n",
       "    </tr>\n",
       "    <tr>\n",
       "      <th>25%</th>\n",
       "      <td>1.087342e+09</td>\n",
       "      <td>8.536339e+16</td>\n",
       "      <td>1.000595e+07</td>\n",
       "      <td>334.0</td>\n",
       "      <td>8.620783e+16</td>\n",
       "      <td>1.000571e+07</td>\n",
       "      <td>334.0</td>\n",
       "      <td>1.368525e+04</td>\n",
       "      <td>1.000000e+00</td>\n",
       "      <td>4.000000e+00</td>\n",
       "    </tr>\n",
       "    <tr>\n",
       "      <th>50%</th>\n",
       "      <td>2.161190e+09</td>\n",
       "      <td>2.500263e+17</td>\n",
       "      <td>1.001327e+07</td>\n",
       "      <td>334.0</td>\n",
       "      <td>2.511522e+17</td>\n",
       "      <td>1.001232e+07</td>\n",
       "      <td>334.0</td>\n",
       "      <td>9.995600e+04</td>\n",
       "      <td>1.000000e+00</td>\n",
       "      <td>8.000000e+00</td>\n",
       "    </tr>\n",
       "    <tr>\n",
       "      <th>75%</th>\n",
       "      <td>3.224951e+09</td>\n",
       "      <td>4.403034e+17</td>\n",
       "      <td>1.002064e+07</td>\n",
       "      <td>334.0</td>\n",
       "      <td>4.408663e+17</td>\n",
       "      <td>1.002042e+07</td>\n",
       "      <td>334.0</td>\n",
       "      <td>2.967050e+05</td>\n",
       "      <td>2.000000e+00</td>\n",
       "      <td>2.100000e+01</td>\n",
       "    </tr>\n",
       "    <tr>\n",
       "      <th>max</th>\n",
       "      <td>4.294950e+09</td>\n",
       "      <td>9.187062e+18</td>\n",
       "      <td>1.002953e+07</td>\n",
       "      <td>334.0</td>\n",
       "      <td>9.187062e+18</td>\n",
       "      <td>1.002953e+07</td>\n",
       "      <td>334.0</td>\n",
       "      <td>6.047920e+05</td>\n",
       "      <td>9.590000e+02</td>\n",
       "      <td>6.369000e+03</td>\n",
       "    </tr>\n",
       "  </tbody>\n",
       "</table>\n",
       "</div>"
      ],
      "text/plain": [
       "            user_id       buy_spu        buy_sn    buy_ct3      view_spu  \\\n",
       "count  6.538474e+06  6.538474e+06  6.538474e+06  6538474.0  6.538474e+06   \n",
       "mean   2.157486e+09  7.705014e+17  1.001342e+07      334.0  7.804850e+17   \n",
       "std    1.235368e+09  1.776139e+18  8.024860e+03        0.0  1.785675e+18   \n",
       "min    4.079800e+04  3.578723e+14  1.000001e+07      334.0  3.578723e+14   \n",
       "25%    1.087342e+09  8.536339e+16  1.000595e+07      334.0  8.620783e+16   \n",
       "50%    2.161190e+09  2.500263e+17  1.001327e+07      334.0  2.511522e+17   \n",
       "75%    3.224951e+09  4.403034e+17  1.002064e+07      334.0  4.408663e+17   \n",
       "max    4.294950e+09  9.187062e+18  1.002953e+07      334.0  9.187062e+18   \n",
       "\n",
       "            view_sn   view_ct3  time_interval      view_cnt  view_seconds  \n",
       "count  6.538474e+06  6538474.0   6.538474e+06  6.538474e+06  6.538474e+06  \n",
       "mean   1.001284e+07      334.0   1.695374e+05  2.124666e+00  2.282485e+01  \n",
       "std    8.012593e+03        0.0   1.727738e+05  3.494220e+00  5.179874e+01  \n",
       "min    1.000001e+07      334.0   0.000000e+00  1.000000e+00  0.000000e+00  \n",
       "25%    1.000571e+07      334.0   1.368525e+04  1.000000e+00  4.000000e+00  \n",
       "50%    1.001232e+07      334.0   9.995600e+04  1.000000e+00  8.000000e+00  \n",
       "75%    1.002042e+07      334.0   2.967050e+05  2.000000e+00  2.100000e+01  \n",
       "max    1.002953e+07      334.0   6.047920e+05  9.590000e+02  6.369000e+03  "
      ]
     },
     "execution_count": 13,
     "metadata": {},
     "output_type": "execute_result"
    }
   ],
   "source": [
    "user_profile.describe()"
   ]
  },
  {
   "cell_type": "code",
   "execution_count": 14,
   "metadata": {
    "slideshow": {
     "slide_type": "slide"
    }
   },
   "outputs": [
    {
     "name": "stdout",
     "output_type": "stream",
     "text": [
      "unique users:99999\n",
      "unique items viewed:96999\n",
      "unique items bought:32342\n",
      "unique categories viewed:1\n",
      "unique categories bought:1\n",
      "unique brands viewed:727\n",
      "unique brands bought:557\n"
     ]
    }
   ],
   "source": [
    "print('unique users:{0}').format(len(user_profile.user_id.unique()))\n",
    "\n",
    "print('unique items viewed:{0}').format(len(user_profile.view_spu.unique()))\n",
    "print('unique items bought:{0}').format(len(user_profile.buy_spu.unique()))\n",
    "\n",
    "print('unique categories viewed:{0}').format(len(user_profile.view_ct3.unique()))\n",
    "print('unique categories bought:{0}').format(len(user_profile.buy_ct3.unique()))\n",
    "print('unique brands viewed:{0}').format(len(user_profile.view_sn.unique()))\n",
    "print('unique brands bought:{0}').format(len(user_profile.buy_sn.unique()))"
   ]
  },
  {
   "cell_type": "code",
   "execution_count": 15,
   "metadata": {
    "slideshow": {
     "slide_type": "slide"
    }
   },
   "outputs": [
    {
     "data": {
      "text/plain": [
       "<matplotlib.text.Text at 0x11a316210>"
      ]
     },
     "execution_count": 15,
     "metadata": {},
     "output_type": "execute_result"
    },
    {
     "data": {
      "image/png": "[encoded data removed]",
      "text/plain": [
       "<matplotlib.figure.Figure at 0x119060210>"
      ]
     },
     "metadata": {},
     "output_type": "display_data"
    }
   ],
   "source": [
    "samplesize = 2000\n",
    "plt.figure(figsize=(12,4))\n",
    "plt.subplot(1,3,1)\n",
    "plt.hist(np.random.choice(user_profile.time_interval.as_matrix()/60.0/60.0,samplesize))\n",
    "sns.despine()\n",
    "plt.title('sample histogram from \"time interval\"')\n",
    "plt.xlabel('hours from view to buy')\n",
    "plt.ylabel('counts of items')\n",
    "\n",
    "plt.subplot(1,3,2)\n",
    "plt.hist(np.random.choice(user_profile.view_cnt.as_matrix(),samplesize))\n",
    "sns.despine()\n",
    "plt.title('sample histogram from \"view count\"')\n",
    "plt.xlabel('view counts')\n",
    "plt.ylabel('counts of items')\n",
    "\n",
    "plt.subplot(1,3,3)\n",
    "plt.hist(np.random.choice(user_profile.view_seconds.as_matrix(),samplesize))\n",
    "sns.despine()\n",
    "plt.title('sample histogram from \"view lengths\"')\n",
    "plt.xlabel('view lengths (seconds)')\n",
    "plt.ylabel('counts of items')"
   ]
  },
  {
   "cell_type": "markdown",
   "metadata": {
    "slideshow": {
     "slide_type": "fragment"
    }
   },
   "source": [
    "- there are many items that are viewed more than a day before buying\n",
    "- most items are viewed less than 10 times and for less than a couple minutes (though need to zoom in) \n"
   ]
  },
  {
   "cell_type": "code",
   "execution_count": 16,
   "metadata": {
    "slideshow": {
     "slide_type": "slide"
    }
   },
   "outputs": [
    {
     "name": "stdout",
     "output_type": "stream",
     "text": [
      "longest time interval\n",
      "0\n",
      "longest time interval\n",
      "6.99990740741\n"
     ]
    }
   ],
   "source": [
    "print('longest time interval')\n",
    "print(user_profile.time_interval.min())\n",
    "\n",
    "print('longest time interval')\n",
    "print(user_profile.time_interval.max()/60.0/60.0/24)\n"
   ]
  },
  {
   "cell_type": "markdown",
   "metadata": {
    "slideshow": {
     "slide_type": "fragment"
    }
   },
   "source": [
    "- longest span from viewing to buying is 6 days "
   ]
  },
  {
   "cell_type": "markdown",
   "metadata": {
    "slideshow": {
     "slide_type": "slide"
    }
   },
   "source": [
    "###  Average Time for Items Viewed before Being Bought"
   ]
  },
  {
   "cell_type": "code",
   "execution_count": 17,
   "metadata": {
    "collapsed": true,
    "slideshow": {
     "slide_type": "fragment"
    }
   },
   "outputs": [],
   "source": [
    "mean_time_interval = np.array([])\n",
    "samplesize =1000\n",
    "for user_id in np.random.choice(user_profile.user_id.unique(),samplesize):\n",
    "    mean_time_interval = np.append(mean_time_interval, user_profile.loc[user_profile.user_id==user_id,'time_interval'].mean())\n",
    "    "
   ]
  },
  {
   "cell_type": "code",
   "execution_count": 18,
   "metadata": {
    "slideshow": {
     "slide_type": "fragment"
    }
   },
   "outputs": [
    {
     "data": {
      "text/plain": [
       "<matplotlib.text.Text at 0x119017f90>"
      ]
     },
     "execution_count": 18,
     "metadata": {},
     "output_type": "execute_result"
    },
    {
     "data": {
      "image/png": "[encoded data removed]",
      "text/plain": [
       "<matplotlib.figure.Figure at 0x11913c210>"
      ]
     },
     "metadata": {},
     "output_type": "display_data"
    }
   ],
   "source": [
    "plt.figure(figsize=(12,3))\n",
    "plt.hist(mean_time_interval/60.0,bins=200)\n",
    "sns.despine()\n",
    "plt.title('sample histogram of average length for user trajectories\"')\n",
    "plt.xlabel('minutes')\n",
    "plt.ylabel('counts of items out of '+str(samplesize))\n"
   ]
  },
  {
   "cell_type": "markdown",
   "metadata": {
    "slideshow": {
     "slide_type": "fragment"
    }
   },
   "source": [
    "- 5% look like they have relatively short sessions (maybe within one sitting)"
   ]
  },
  {
   "cell_type": "code",
   "execution_count": 19,
   "metadata": {
    "slideshow": {
     "slide_type": "slide"
    }
   },
   "outputs": [
    {
     "data": {
      "text/plain": [
       "<matplotlib.text.Text at 0x11a9a2550>"
      ]
     },
     "execution_count": 19,
     "metadata": {},
     "output_type": "execute_result"
    },
    {
     "data": {
      "image/png": "[encoded data removed]",
      "text/plain": [
       "<matplotlib.figure.Figure at 0x119086fd0>"
      ]
     },
     "metadata": {},
     "output_type": "display_data"
    }
   ],
   "source": [
    "plt.figure(figsize=(12,3))\n",
    "plt.hist(mean_time_interval/60.0,bins=1000)\n",
    "plt.xlim(0,100)\n",
    "sns.despine()\n",
    "plt.title('sample histogram of average length for user trajectories\"')\n",
    "plt.xlabel('minutes')\n",
    "plt.ylabel('counts of items out of '+str(samplesize))\n"
   ]
  },
  {
   "cell_type": "markdown",
   "metadata": {
    "slideshow": {
     "slide_type": "fragment"
    }
   },
   "source": [
    "- zooming in to look at the shortest sessions. \n",
    "- about 7% have sessions <10 minutes"
   ]
  },
  {
   "cell_type": "code",
   "execution_count": 20,
   "metadata": {
    "slideshow": {
     "slide_type": "slide"
    }
   },
   "outputs": [
    {
     "data": {
      "text/plain": [
       "<matplotlib.text.Text at 0x1272da510>"
      ]
     },
     "execution_count": 20,
     "metadata": {},
     "output_type": "execute_result"
    },
    {
     "data": {
      "image/png": "[encoded data removed]",
      "text/plain": [
       "<matplotlib.figure.Figure at 0x11a2e3e50>"
      ]
     },
     "metadata": {},
     "output_type": "display_data"
    }
   ],
   "source": [
    "plt.figure(figsize=(8,3))\n",
    "plt.hist(mean_time_interval/60.0,bins=200,cumulative=True,normed=True)\n",
    "plt.xlim(0,2000)\n",
    "sns.despine()\n",
    "plt.title('sample cdf of average length for user trajectories\"')\n",
    "plt.xlabel('minutes')\n",
    "plt.ylabel('counts of items out of '+str(samplesize))\n"
   ]
  },
  {
   "cell_type": "markdown",
   "metadata": {
    "slideshow": {
     "slide_type": "fragment"
    }
   },
   "source": [
    "- 20% has sessions less <100 minutes"
   ]
  },
  {
   "cell_type": "markdown",
   "metadata": {
    "slideshow": {
     "slide_type": "slide"
    }
   },
   "source": [
    "### Example Trajectories"
   ]
  },
  {
   "cell_type": "code",
   "execution_count": 21,
   "metadata": {
    "slideshow": {
     "slide_type": "fragment"
    }
   },
   "outputs": [
    {
     "data": {
      "text/html": [
       "<div>\n",
       "<style>\n",
       "    .dataframe thead tr:only-child th {\n",
       "        text-align: right;\n",
       "    }\n",
       "\n",
       "    .dataframe thead th {\n",
       "        text-align: left;\n",
       "    }\n",
       "\n",
       "    .dataframe tbody tr th {\n",
       "        vertical-align: top;\n",
       "    }\n",
       "</style>\n",
       "<table border=\"1\" class=\"dataframe\">\n",
       "  <thead>\n",
       "    <tr style=\"text-align: right;\">\n",
       "      <th></th>\n",
       "      <th>user_id</th>\n",
       "      <th>buy_spu</th>\n",
       "      <th>buy_sn</th>\n",
       "      <th>buy_ct3</th>\n",
       "      <th>view_spu</th>\n",
       "      <th>view_sn</th>\n",
       "      <th>view_ct3</th>\n",
       "      <th>time_interval</th>\n",
       "      <th>view_cnt</th>\n",
       "      <th>view_seconds</th>\n",
       "    </tr>\n",
       "  </thead>\n",
       "  <tbody>\n",
       "    <tr>\n",
       "      <th>941700</th>\n",
       "      <td>1606682799</td>\n",
       "      <td>31038742178611202</td>\n",
       "      <td>10021072</td>\n",
       "      <td>334</td>\n",
       "      <td>1483874171215895</td>\n",
       "      <td>10011806</td>\n",
       "      <td>334</td>\n",
       "      <td>1722</td>\n",
       "      <td>1</td>\n",
       "      <td>8</td>\n",
       "    </tr>\n",
       "    <tr>\n",
       "      <th>3122676</th>\n",
       "      <td>1606682799</td>\n",
       "      <td>31038742178611202</td>\n",
       "      <td>10021072</td>\n",
       "      <td>334</td>\n",
       "      <td>244396773139058688</td>\n",
       "      <td>10023064</td>\n",
       "      <td>334</td>\n",
       "      <td>1612</td>\n",
       "      <td>1</td>\n",
       "      <td>7</td>\n",
       "    </tr>\n",
       "    <tr>\n",
       "      <th>3122680</th>\n",
       "      <td>1606682799</td>\n",
       "      <td>31038742178611202</td>\n",
       "      <td>10021072</td>\n",
       "      <td>334</td>\n",
       "      <td>98592737342341127</td>\n",
       "      <td>10020640</td>\n",
       "      <td>334</td>\n",
       "      <td>1599</td>\n",
       "      <td>1</td>\n",
       "      <td>5</td>\n",
       "    </tr>\n",
       "    <tr>\n",
       "      <th>941703</th>\n",
       "      <td>1606682799</td>\n",
       "      <td>31038742178611202</td>\n",
       "      <td>10021072</td>\n",
       "      <td>334</td>\n",
       "      <td>460569523062440054</td>\n",
       "      <td>10013861</td>\n",
       "      <td>334</td>\n",
       "      <td>1568</td>\n",
       "      <td>2</td>\n",
       "      <td>34</td>\n",
       "    </tr>\n",
       "    <tr>\n",
       "      <th>941701</th>\n",
       "      <td>1606682799</td>\n",
       "      <td>31038742178611202</td>\n",
       "      <td>10021072</td>\n",
       "      <td>334</td>\n",
       "      <td>292247513449336850</td>\n",
       "      <td>10013861</td>\n",
       "      <td>334</td>\n",
       "      <td>1533</td>\n",
       "      <td>1</td>\n",
       "      <td>3</td>\n",
       "    </tr>\n",
       "    <tr>\n",
       "      <th>941699</th>\n",
       "      <td>1606682799</td>\n",
       "      <td>31038742178611202</td>\n",
       "      <td>10021072</td>\n",
       "      <td>334</td>\n",
       "      <td>102533392945205253</td>\n",
       "      <td>10020640</td>\n",
       "      <td>334</td>\n",
       "      <td>1507</td>\n",
       "      <td>1</td>\n",
       "      <td>11</td>\n",
       "    </tr>\n",
       "    <tr>\n",
       "      <th>5300612</th>\n",
       "      <td>1606682799</td>\n",
       "      <td>31038742178611202</td>\n",
       "      <td>10021072</td>\n",
       "      <td>334</td>\n",
       "      <td>457754773298602023</td>\n",
       "      <td>10013861</td>\n",
       "      <td>334</td>\n",
       "      <td>1428</td>\n",
       "      <td>1</td>\n",
       "      <td>8</td>\n",
       "    </tr>\n",
       "    <tr>\n",
       "      <th>3122678</th>\n",
       "      <td>1606682799</td>\n",
       "      <td>31038742178611202</td>\n",
       "      <td>10021072</td>\n",
       "      <td>334</td>\n",
       "      <td>295625232722276353</td>\n",
       "      <td>10021072</td>\n",
       "      <td>334</td>\n",
       "      <td>1393</td>\n",
       "      <td>3</td>\n",
       "      <td>82</td>\n",
       "    </tr>\n",
       "    <tr>\n",
       "      <th>941702</th>\n",
       "      <td>1606682799</td>\n",
       "      <td>31038742178611202</td>\n",
       "      <td>10021072</td>\n",
       "      <td>334</td>\n",
       "      <td>323209779688951808</td>\n",
       "      <td>10021072</td>\n",
       "      <td>334</td>\n",
       "      <td>1346</td>\n",
       "      <td>1</td>\n",
       "      <td>1</td>\n",
       "    </tr>\n",
       "    <tr>\n",
       "      <th>3122677</th>\n",
       "      <td>1606682799</td>\n",
       "      <td>31038742178611202</td>\n",
       "      <td>10021072</td>\n",
       "      <td>334</td>\n",
       "      <td>292810475522134093</td>\n",
       "      <td>10028876</td>\n",
       "      <td>334</td>\n",
       "      <td>415</td>\n",
       "      <td>1</td>\n",
       "      <td>6</td>\n",
       "    </tr>\n",
       "    <tr>\n",
       "      <th>3122679</th>\n",
       "      <td>1606682799</td>\n",
       "      <td>31038742178611202</td>\n",
       "      <td>10021072</td>\n",
       "      <td>334</td>\n",
       "      <td>467043461724684336</td>\n",
       "      <td>10022273</td>\n",
       "      <td>334</td>\n",
       "      <td>318</td>\n",
       "      <td>1</td>\n",
       "      <td>29</td>\n",
       "    </tr>\n",
       "    <tr>\n",
       "      <th>5300611</th>\n",
       "      <td>1606682799</td>\n",
       "      <td>31038742178611202</td>\n",
       "      <td>10021072</td>\n",
       "      <td>334</td>\n",
       "      <td>31038742178611202</td>\n",
       "      <td>10021072</td>\n",
       "      <td>334</td>\n",
       "      <td>0</td>\n",
       "      <td>6</td>\n",
       "      <td>229</td>\n",
       "    </tr>\n",
       "  </tbody>\n",
       "</table>\n",
       "</div>"
      ],
      "text/plain": [
       "            user_id            buy_spu    buy_sn  buy_ct3            view_spu  \\\n",
       "941700   1606682799  31038742178611202  10021072      334    1483874171215895   \n",
       "3122676  1606682799  31038742178611202  10021072      334  244396773139058688   \n",
       "3122680  1606682799  31038742178611202  10021072      334   98592737342341127   \n",
       "941703   1606682799  31038742178611202  10021072      334  460569523062440054   \n",
       "941701   1606682799  31038742178611202  10021072      334  292247513449336850   \n",
       "941699   1606682799  31038742178611202  10021072      334  102533392945205253   \n",
       "5300612  1606682799  31038742178611202  10021072      334  457754773298602023   \n",
       "3122678  1606682799  31038742178611202  10021072      334  295625232722276353   \n",
       "941702   1606682799  31038742178611202  10021072      334  323209779688951808   \n",
       "3122677  1606682799  31038742178611202  10021072      334  292810475522134093   \n",
       "3122679  1606682799  31038742178611202  10021072      334  467043461724684336   \n",
       "5300611  1606682799  31038742178611202  10021072      334   31038742178611202   \n",
       "\n",
       "          view_sn  view_ct3  time_interval  view_cnt  view_seconds  \n",
       "941700   10011806       334           1722         1             8  \n",
       "3122676  10023064       334           1612         1             7  \n",
       "3122680  10020640       334           1599         1             5  \n",
       "941703   10013861       334           1568         2            34  \n",
       "941701   10013861       334           1533         1             3  \n",
       "941699   10020640       334           1507         1            11  \n",
       "5300612  10013861       334           1428         1             8  \n",
       "3122678  10021072       334           1393         3            82  \n",
       "941702   10021072       334           1346         1             1  \n",
       "3122677  10028876       334            415         1             6  \n",
       "3122679  10022273       334            318         1            29  \n",
       "5300611  10021072       334              0         6           229  "
      ]
     },
     "execution_count": 21,
     "metadata": {},
     "output_type": "execute_result"
    }
   ],
   "source": [
    "user_id = 1606682799\n",
    "trajectory = user_profile.loc[user_profile.user_id==user_id,]\n",
    "trajectory= trajectory.sort_values(by='time_interval',ascending=False)\n",
    "trajectory"
   ]
  },
  {
   "cell_type": "markdown",
   "metadata": {
    "slideshow": {
     "slide_type": "fragment"
    }
   },
   "source": [
    "- this is an example trajectory of  someone who browsed a few items and then bought item 31.. within the same session. "
   ]
  },
  {
   "cell_type": "code",
   "execution_count": 115,
   "metadata": {
    "slideshow": {
     "slide_type": "slide"
    }
   },
   "outputs": [
    {
     "data": {
      "image/png": "[encoded data removed]",
      "text/plain": [
       "<matplotlib.figure.Figure at 0x1249fee50>"
      ]
     },
     "metadata": {},
     "output_type": "display_data"
    }
   ],
   "source": [
    "plot_trajectory_scatter(user_profile)"
   ]
  },
  {
   "cell_type": "markdown",
   "metadata": {
    "slideshow": {
     "slide_type": "fragment"
    }
   },
   "source": [
    "- here are 50 random subjects and when they view items (could make into an interactive plot)"
   ]
  },
  {
   "cell_type": "markdown",
   "metadata": {
    "slideshow": {
     "slide_type": "skip"
    }
   },
   "source": [
    "### What's the distribution of items that are bought? Are there some items that are much more popular than others? "
   ]
  },
  {
   "cell_type": "code",
   "execution_count": 20,
   "metadata": {
    "collapsed": true
   },
   "outputs": [],
   "source": [
    "samplesize =1000\n",
    "number_of_times_item_bought = np.empty(samplesize)\n",
    "number_of_times_item_viewed = np.empty(samplesize)\n",
    "for ii,item_id in enumerate(np.random.choice(user_profile.view_spu.unique(),samplesize)):\n",
    "    number_of_times_item_bought[ii] = len(user_profile.loc[user_profile.buy_spu==item_id,'user_id'].unique()) # assume the same user would not buy the same product \n",
    "    number_of_times_item_viewed[ii] = len(user_profile.loc[user_profile.view_spu==item_id]) # same user can view the same image more than once for this count\n",
    "    \n",
    "    "
   ]
  },
  {
   "cell_type": "code",
   "execution_count": 39,
   "metadata": {},
   "outputs": [
    {
     "data": {
      "text/plain": [
       "<matplotlib.text.Text at 0x12617ed50>"
      ]
     },
     "execution_count": 39,
     "metadata": {},
     "output_type": "execute_result"
    },
    {
     "data": {
      "image/png": "[encoded data removed]",
      "text/plain": [
       "<matplotlib.figure.Figure at 0x122fbb850>"
      ]
     },
     "metadata": {},
     "output_type": "display_data"
    }
   ],
   "source": [
    "plt.figure(figsize=(12,4))\n",
    "plt.subplot(1,2,1)\n",
    "plt.bar(np.arange(len(number_of_times_item_bought)),number_of_times_item_bought)\n",
    "sns.despine()\n",
    "plt.title('item popularity (purchases)')\n",
    "plt.xlabel('item')\n",
    "plt.ylabel('# of times items were bought')\n",
    "\n",
    "plt.subplot(1,2,2)\n",
    "plt.hist(number_of_times_item_bought,bins=100)\n",
    "sns.despine()\n",
    "plt.title('item popularity (purchases)')\n",
    "plt.xlabel('# of times items were bought sample size='+str(samplesize))\n",
    "plt.ylabel('# of items')"
   ]
  },
  {
   "cell_type": "code",
   "execution_count": 38,
   "metadata": {},
   "outputs": [
    {
     "data": {
      "text/plain": [
       "<matplotlib.text.Text at 0x124742bd0>"
      ]
     },
     "execution_count": 38,
     "metadata": {},
     "output_type": "execute_result"
    },
    {
     "data": {
      "image/png": "[encoded data removed]",
      "text/plain": [
       "<matplotlib.figure.Figure at 0x1230969d0>"
      ]
     },
     "metadata": {},
     "output_type": "display_data"
    }
   ],
   "source": [
    "plt.figure(figsize=(12,4))\n",
    "plt.subplot(1,2,1)\n",
    "plt.bar(np.arange(len(number_of_times_item_viewed)),number_of_times_item_viewed)\n",
    "sns.despine()\n",
    "plt.title('item popularity (views)')\n",
    "plt.xlabel('item')\n",
    "plt.ylabel('# of times items were viewed')\n",
    "\n",
    "plt.subplot(1,2,2)\n",
    "plt.hist(number_of_times_item_bought,bins=100)\n",
    "sns.despine()\n",
    "plt.title('item popularity (views) sample size='+str(samplesize))\n",
    "plt.xlabel('# of times items were viewed')\n",
    "plt.ylabel('# of items')"
   ]
  },
  {
   "cell_type": "code",
   "execution_count": 37,
   "metadata": {},
   "outputs": [
    {
     "data": {
      "text/plain": [
       "<matplotlib.text.Text at 0x12324c110>"
      ]
     },
     "execution_count": 37,
     "metadata": {},
     "output_type": "execute_result"
    },
    {
     "data": {
      "image/png": "[encoded data removed]",
      "text/plain": [
       "<matplotlib.figure.Figure at 0x122d31c50>"
      ]
     },
     "metadata": {},
     "output_type": "display_data"
    }
   ],
   "source": [
    "plt.figure(figsize=(6,4))\n",
    "plt.subplot(1,1,1)\n",
    "thresh =30\n",
    "include = number_of_times_item_bought<thresh\n",
    "plt.scatter(number_of_times_item_viewed[include],number_of_times_item_bought[include],)\n",
    "(r,p) = stats.pearsonr(number_of_times_item_viewed[include],number_of_times_item_bought[include])\n",
    "sns.despine()\n",
    "plt.xlabel('number of times viewed')\n",
    "plt.ylabel('number of times bought')\n",
    "plt.title('r='+str(np.round(r,2))+' data truncated buys<'+str(thresh))"
   ]
  },
  {
   "cell_type": "markdown",
   "metadata": {
    "slideshow": {
     "slide_type": "skip"
    }
   },
   "source": [
    "### Items bought and viewed per user? "
   ]
  },
  {
   "cell_type": "code",
   "execution_count": 9,
   "metadata": {
    "collapsed": true
   },
   "outputs": [],
   "source": [
    "samplesize =1000\n",
    "items_bought_per_user = np.empty(samplesize)\n",
    "items_viewed_per_user = np.empty(samplesize)\n",
    "for ui,user_id in enumerate(np.random.choice(user_profile.user_id.unique(),samplesize)):\n",
    "    items_bought_per_user[ui] = len(user_profile.loc[user_profile.user_id==user_id,'buy_spu'].unique())\n",
    "    items_viewed_per_user[ui] = len(user_profile.loc[user_profile.user_id==user_id,'view_spu'].unique())\n",
    "    "
   ]
  },
  {
   "cell_type": "code",
   "execution_count": 11,
   "metadata": {},
   "outputs": [
    {
     "data": {
      "text/plain": [
       "<matplotlib.text.Text at 0x10d6bd290>"
      ]
     },
     "execution_count": 11,
     "metadata": {},
     "output_type": "execute_result"
    },
    {
     "data": {
      "image/png": "[encoded data removed]",
      "text/plain": [
       "<matplotlib.figure.Figure at 0x10d05ad90>"
      ]
     },
     "metadata": {},
     "output_type": "display_data"
    }
   ],
   "source": [
    "plt.figure(figsize=(12,4))\n",
    "plt.subplot(1,2,1)\n",
    "plt.hist(items_bought_per_user)\n",
    "sns.despine()\n",
    "plt.title('number of items bought per user (sample of 1000)')\n",
    "plt.xlabel('# items bought')\n",
    "plt.ylabel('# users')\n",
    "\n",
    "plt.subplot(1,2,2)\n",
    "plt.hist(items_viewed_per_user)\n",
    "sns.despine()\n",
    "plt.title('number of items viewed per user (sample of 1000)')\n",
    "plt.xlabel('# items viewed')\n",
    "plt.ylabel('# users')"
   ]
  },
  {
   "cell_type": "markdown",
   "metadata": {
    "slideshow": {
     "slide_type": "skip"
    }
   },
   "source": [
    "### How many times did the user buy an item he/she already looked at? "
   ]
  },
  {
   "cell_type": "code",
   "execution_count": null,
   "metadata": {
    "collapsed": true
   },
   "outputs": [],
   "source": []
  },
  {
   "cell_type": "markdown",
   "metadata": {},
   "source": [
    "# Image URLs"
   ]
  },
  {
   "cell_type": "markdown",
   "metadata": {
    "slideshow": {
     "slide_type": "skip"
    }
   },
   "source": [
    "### How many of the SPUs in our dataset (smaller) have urls in our url.csv?"
   ]
  },
  {
   "cell_type": "code",
   "execution_count": 65,
   "metadata": {},
   "outputs": [
    {
     "name": "stdout",
     "output_type": "stream",
     "text": [
      "33662\n"
     ]
    },
    {
     "data": {
      "text/html": [
       "<div>\n",
       "<style>\n",
       "    .dataframe thead tr:only-child th {\n",
       "        text-align: right;\n",
       "    }\n",
       "\n",
       "    .dataframe thead th {\n",
       "        text-align: left;\n",
       "    }\n",
       "\n",
       "    .dataframe tbody tr th {\n",
       "        vertical-align: top;\n",
       "    }\n",
       "</style>\n",
       "<table border=\"1\" class=\"dataframe\">\n",
       "  <thead>\n",
       "    <tr style=\"text-align: right;\">\n",
       "      <th></th>\n",
       "      <th>spu</th>\n",
       "      <th>url</th>\n",
       "    </tr>\n",
       "  </thead>\n",
       "  <tbody>\n",
       "    <tr>\n",
       "      <th>0</th>\n",
       "      <td>100000000317431808</td>\n",
       "      <td>http://a.vpimg2.com/upload/merchandise/pdc/808...</td>\n",
       "    </tr>\n",
       "    <tr>\n",
       "      <th>1</th>\n",
       "      <td>100000001066491904</td>\n",
       "      <td>http://a.vpimg2.com/upload/merchandise/pdc/904...</td>\n",
       "    </tr>\n",
       "    <tr>\n",
       "      <th>2</th>\n",
       "      <td>100000005622976512</td>\n",
       "      <td>http://a.vpimg2.com/upload/merchandise/pdc/512...</td>\n",
       "    </tr>\n",
       "    <tr>\n",
       "      <th>3</th>\n",
       "      <td>100000009136676865</td>\n",
       "      <td>http://a.vpimg2.com/upload/merchandise/pdcvis/...</td>\n",
       "    </tr>\n",
       "    <tr>\n",
       "      <th>4</th>\n",
       "      <td>100000009494401198</td>\n",
       "      <td>http://a.vpimg2.com/upload/merchandise/pdcvis/...</td>\n",
       "    </tr>\n",
       "    <tr>\n",
       "      <th>5</th>\n",
       "      <td>100000019080622267</td>\n",
       "      <td>http://a.vpimg2.com/upload/merchandise/pdcvis/...</td>\n",
       "    </tr>\n",
       "    <tr>\n",
       "      <th>6</th>\n",
       "      <td>100000020837699950</td>\n",
       "      <td>http://a.vpimg2.com/upload/merchandise/pdcvis/...</td>\n",
       "    </tr>\n",
       "    <tr>\n",
       "      <th>7</th>\n",
       "      <td>100000021928063132</td>\n",
       "      <td>http://a.vpimg2.com/upload/merchandise/pdcvis/...</td>\n",
       "    </tr>\n",
       "    <tr>\n",
       "      <th>8</th>\n",
       "      <td>100000030105853978</td>\n",
       "      <td>http://a.vpimg2.com/upload/merchandise/pdcvis/...</td>\n",
       "    </tr>\n",
       "    <tr>\n",
       "      <th>9</th>\n",
       "      <td>100000030491275422</td>\n",
       "      <td>http://a.vpimg2.com/upload/merchandise/pdcvis/...</td>\n",
       "    </tr>\n",
       "  </tbody>\n",
       "</table>\n",
       "</div>"
      ],
      "text/plain": [
       "                  spu                                                url\n",
       "0  100000000317431808  http://a.vpimg2.com/upload/merchandise/pdc/808...\n",
       "1  100000001066491904  http://a.vpimg2.com/upload/merchandise/pdc/904...\n",
       "2  100000005622976512  http://a.vpimg2.com/upload/merchandise/pdc/512...\n",
       "3  100000009136676865  http://a.vpimg2.com/upload/merchandise/pdcvis/...\n",
       "4  100000009494401198  http://a.vpimg2.com/upload/merchandise/pdcvis/...\n",
       "5  100000019080622267  http://a.vpimg2.com/upload/merchandise/pdcvis/...\n",
       "6  100000020837699950  http://a.vpimg2.com/upload/merchandise/pdcvis/...\n",
       "7  100000021928063132  http://a.vpimg2.com/upload/merchandise/pdcvis/...\n",
       "8  100000030105853978  http://a.vpimg2.com/upload/merchandise/pdcvis/...\n",
       "9  100000030491275422  http://a.vpimg2.com/upload/merchandise/pdcvis/..."
      ]
     },
     "execution_count": 65,
     "metadata": {},
     "output_type": "execute_result"
    }
   ],
   "source": [
    "urls = pd.read_csv('../../deep-learning-models-master/img/eval_img_url.csv',header=None)\n",
    "urls.columns = ['spu','url']\n",
    "print(len(urls))\n",
    "urls.head(10)\n"
   ]
  },
  {
   "cell_type": "code",
   "execution_count": 77,
   "metadata": {},
   "outputs": [
    {
     "data": {
      "text/html": [
       "<div>\n",
       "<style>\n",
       "    .dataframe thead tr:only-child th {\n",
       "        text-align: right;\n",
       "    }\n",
       "\n",
       "    .dataframe thead th {\n",
       "        text-align: left;\n",
       "    }\n",
       "\n",
       "    .dataframe tbody tr th {\n",
       "        vertical-align: top;\n",
       "    }\n",
       "</style>\n",
       "<table border=\"1\" class=\"dataframe\">\n",
       "  <thead>\n",
       "    <tr>\n",
       "      <th></th>\n",
       "      <th>url</th>\n",
       "    </tr>\n",
       "    <tr>\n",
       "      <th></th>\n",
       "      <th>count</th>\n",
       "    </tr>\n",
       "    <tr>\n",
       "      <th>spu</th>\n",
       "      <th></th>\n",
       "    </tr>\n",
       "  </thead>\n",
       "  <tbody>\n",
       "    <tr>\n",
       "      <th>357870273655002</th>\n",
       "      <td>2</td>\n",
       "    </tr>\n",
       "    <tr>\n",
       "      <th>357870995513345</th>\n",
       "      <td>1</td>\n",
       "    </tr>\n",
       "    <tr>\n",
       "      <th>357872333107204</th>\n",
       "      <td>1</td>\n",
       "    </tr>\n",
       "    <tr>\n",
       "      <th>357875526676843</th>\n",
       "      <td>1</td>\n",
       "    </tr>\n",
       "    <tr>\n",
       "      <th>357875526680651</th>\n",
       "      <td>1</td>\n",
       "    </tr>\n",
       "  </tbody>\n",
       "</table>\n",
       "</div>"
      ],
      "text/plain": [
       "                  url\n",
       "                count\n",
       "spu                  \n",
       "357870273655002     2\n",
       "357870995513345     1\n",
       "357872333107204     1\n",
       "357875526676843     1\n",
       "357875526680651     1"
      ]
     },
     "execution_count": 77,
     "metadata": {},
     "output_type": "execute_result"
    }
   ],
   "source": [
    "urls[['spu','url']].groupby(['spu']).agg(['count']).head()"
   ]
  },
  {
   "cell_type": "markdown",
   "metadata": {},
   "source": [
    "- items with more than one url?"
   ]
  },
  {
   "cell_type": "code",
   "execution_count": 73,
   "metadata": {},
   "outputs": [
    {
     "data": {
      "text/plain": [
       "array([ 'http://a.vpimg2.com/upload/merchandise/pdcvis/2016/08/19/84/4686fee8-e13c-4f2b-afe5-47fd95d81d06.jpg',\n",
       "       'http://a.vpimg2.com/upload/merchandise/pdcvis/2016/10/12/58/81934e84-b886-40a1-b311-dde38077b19a.jpg'], dtype=object)"
      ]
     },
     "execution_count": 73,
     "metadata": {},
     "output_type": "execute_result"
    }
   ],
   "source": [
    "urls.loc[urls.spu==357870273655002,'url'].as_matrix()"
   ]
  },
  {
   "cell_type": "code",
   "execution_count": 76,
   "metadata": {},
   "outputs": [
    {
     "data": {
      "text/plain": [
       "array([ 'http://a.vpimg2.com/upload/merchandise/pdcvis/2016/10/28/97/77e274ae-96d5-42ec-a8f7-a0d3e9612bd4.jpg',\n",
       "       'http://a.vpimg2.com/upload/merchandise/pdcvis/2016/10/19/171/823f738b-0f0c-49f6-851c-a1c60a4fdd03.jpg',\n",
       "       'http://a.vpimg2.com/upload/merchandise/pdcvis/2016/12/05/37/cdd764f9-48ae-4c57-a715-f9b6763cfc0d.jpg',\n",
       "       'http://a.vpimg2.com/upload/merchandise/pdcvis/2016/11/09/116/d58df0b7-27a2-48ac-b657-1e85f4e863e3.jpg'], dtype=object)"
      ]
     },
     "execution_count": 76,
     "metadata": {},
     "output_type": "execute_result"
    }
   ],
   "source": [
    "urls.loc[urls.spu==357889732772303,'url'].as_matrix()"
   ]
  },
  {
   "cell_type": "markdown",
   "metadata": {},
   "source": [
    "- these are the same item, just different images. "
   ]
  },
  {
   "cell_type": "code",
   "execution_count": 82,
   "metadata": {
    "collapsed": true
   },
   "outputs": [],
   "source": [
    "#urls.loc[urls.spu==1016200950427238422,'url']\n"
   ]
  },
  {
   "cell_type": "code",
   "execution_count": 84,
   "metadata": {},
   "outputs": [
    {
     "data": {
      "text/plain": [
       "array([ 'http://a.vpimg2.com/upload/merchandise/pdc/422/238/1016200950427238422/0/2014138502-1554-5.jpg',\n",
       "       'http://a.vpimg2.com/upload/merchandise/pdc/413/238/1016200950427238413/0/2014138517-9834-5.jpg'], dtype=object)"
      ]
     },
     "execution_count": 84,
     "metadata": {},
     "output_type": "execute_result"
    }
   ],
   "source": [
    "tmp_urls = urls.loc[urls.spu==1016200950427238422,'url'].as_matrix()\n",
    "tmp_urls"
   ]
  },
  {
   "cell_type": "code",
   "execution_count": 83,
   "metadata": {
    "collapsed": true
   },
   "outputs": [],
   "source": [
    "from urllib import urlretrieve\n",
    "import time\n",
    "\n"
   ]
  },
  {
   "cell_type": "code",
   "execution_count": 88,
   "metadata": {
    "collapsed": true
   },
   "outputs": [],
   "source": [
    "# scrape images   \n",
    "for i,tmp_url in enumerate(tmp_urls):\n",
    "    urlretrieve(tmp_url, '../data_img_tmp/{}.jpg'.format(i))\n",
    "    #time.sleep(3)"
   ]
  },
  {
   "cell_type": "code",
   "execution_count": 96,
   "metadata": {},
   "outputs": [
    {
     "name": "stdout",
     "output_type": "stream",
     "text": [
      "two images from url with same spu (ugh)\n"
     ]
    },
    {
     "data": {
      "image/png": "[encoded data removed]",
      "text/plain": [
       "<matplotlib.figure.Figure at 0x125caee50>"
      ]
     },
     "metadata": {},
     "output_type": "display_data"
    }
   ],
   "source": [
    "# plot them. \n",
    "print('two images from url with same spu (ugh)')\n",
    "plt.figure(figsize=(8,3))\n",
    "for i,tmp_url in enumerate(tmp_urls):\n",
    "    img_path= '../data_img_tmp/{}.jpg'.format(i)\n",
    "    img = image.load_img(img_path, target_size=(224, 224))\n",
    "    plt.subplot(1,len(tmp_urls),i+1)\n",
    "    plt.imshow(img)\n",
    "    plt.grid(b=False)"
   ]
  },
  {
   "cell_type": "markdown",
   "metadata": {},
   "source": [
    "- **These are different thought!!**"
   ]
  },
  {
   "cell_type": "code",
   "execution_count": 78,
   "metadata": {},
   "outputs": [
    {
     "data": {
      "text/plain": [
       "100000000317431808"
      ]
     },
     "execution_count": 78,
     "metadata": {},
     "output_type": "execute_result"
    }
   ],
   "source": [
    "urls.spu[0]"
   ]
  },
  {
   "cell_type": "code",
   "execution_count": 54,
   "metadata": {},
   "outputs": [
    {
     "data": {
      "text/plain": [
       "'http://a.vpimg2.com/upload/merchandise/pdc/808/431/100000000317431808/0/2283211-5.jpg'"
      ]
     },
     "execution_count": 54,
     "metadata": {},
     "output_type": "execute_result"
    }
   ],
   "source": [
    "urls.url[0]"
   ]
  },
  {
   "cell_type": "markdown",
   "metadata": {},
   "source": [
    "- the url contains the spu, but I'm not sure what the other numbers are. The goods_num? The category etc? "
   ]
  },
  {
   "cell_type": "code",
   "execution_count": 51,
   "metadata": {},
   "outputs": [
    {
     "name": "stdout",
     "output_type": "stream",
     "text": [
      "0.090299899999\n"
     ]
    }
   ],
   "source": [
    "view_spus = user_profile.view_spu.unique()\n",
    "contained = 0\n",
    "spus_with_url = list(urls.spu.as_matrix())\n",
    "for view_spu in view_spus: \n",
    "    if view_spu in spus_with_url:\n",
    "        contained+=1\n",
    "print(contained/np.float(len(view_spus)))"
   ]
  },
  {
   "cell_type": "code",
   "execution_count": 53,
   "metadata": {},
   "outputs": [
    {
     "name": "stdout",
     "output_type": "stream",
     "text": [
      "0.0732793271906\n"
     ]
    }
   ],
   "source": [
    "buy_spus = user_profile.buy_spu.unique()\n",
    "contained = 0\n",
    "spus_with_url = list(urls.spu.as_matrix())\n",
    "for buy_spu in buy_spus: \n",
    "    if buy_spu in spus_with_url:\n",
    "        contained+=1\n",
    "print(contained/np.float(len(buy_spus)))"
   ]
  },
  {
   "cell_type": "markdown",
   "metadata": {},
   "source": [
    "- we only have the url for 7% of the bought items and 9% of the viewed items"
   ]
  },
  {
   "cell_type": "code",
   "execution_count": 64,
   "metadata": {},
   "outputs": [
    {
     "data": {
      "text/plain": [
       "False"
      ]
     },
     "execution_count": 64,
     "metadata": {},
     "output_type": "execute_result"
    }
   ],
   "source": [
    "buy_spu in spus_with_url"
   ]
  },
  {
   "cell_type": "code",
   "execution_count": 58,
   "metadata": {},
   "outputs": [
    {
     "data": {
      "text/plain": [
       "96999"
      ]
     },
     "execution_count": 58,
     "metadata": {},
     "output_type": "execute_result"
    }
   ],
   "source": [
    "len(urls.spu.unique())\n",
    "len(user_profile.view_spu.unique())"
   ]
  },
  {
   "cell_type": "markdown",
   "metadata": {
    "slideshow": {
     "slide_type": "skip"
    }
   },
   "source": [
    "# Are the images we have in this new dataset?\n",
    "\n",
    "- at the moment, I don't know how to find the spu of the images we have. "
   ]
  },
  {
   "cell_type": "markdown",
   "metadata": {
    "slideshow": {
     "slide_type": "slide"
    }
   },
   "source": [
    "# Viewing DataSet with Feature Data in "
   ]
  },
  {
   "cell_type": "code",
   "execution_count": 3,
   "metadata": {
    "collapsed": true
   },
   "outputs": [],
   "source": [
    "spu_fea = pd.read_pickle(\"../data_nn_features/spu_fea.pkl\") #takes forever to load "
   ]
  },
  {
   "cell_type": "code",
   "execution_count": 4,
   "metadata": {
    "collapsed": true
   },
   "outputs": [],
   "source": [
    "spu_fea['view_spu']=spu_fea['spu_id']"
   ]
  },
  {
   "cell_type": "code",
   "execution_count": 12,
   "metadata": {},
   "outputs": [
    {
     "name": "stdout",
     "output_type": "stream",
     "text": [
      "before merge nrow: 6538474\n",
      "after merge nrows:6538474\n"
     ]
    }
   ],
   "source": [
    "spu_fea['view_spu']=spu_fea['spu_id']\n",
    "user_profile_w_features = user_profile.merge(spu_fea,on='view_spu',how='left')\n",
    "print('before merge nrow: {0}').format(len(user_profile))\n",
    "print('after merge nrows:{0}').format(len(user_profile_w_features))"
   ]
  },
  {
   "cell_type": "code",
   "execution_count": 13,
   "metadata": {},
   "outputs": [
    {
     "name": "stdout",
     "output_type": "stream",
     "text": [
      "number of items with features: 58820\n"
     ]
    }
   ],
   "source": [
    "print('number of items with features: {0}').format(len(spu_fea))"
   ]
  },
  {
   "cell_type": "code",
   "execution_count": 14,
   "metadata": {},
   "outputs": [
    {
     "data": {
      "text/html": [
       "<div>\n",
       "<style>\n",
       "    .dataframe thead tr:only-child th {\n",
       "        text-align: right;\n",
       "    }\n",
       "\n",
       "    .dataframe thead th {\n",
       "        text-align: left;\n",
       "    }\n",
       "\n",
       "    .dataframe tbody tr th {\n",
       "        vertical-align: top;\n",
       "    }\n",
       "</style>\n",
       "<table border=\"1\" class=\"dataframe\">\n",
       "  <thead>\n",
       "    <tr style=\"text-align: right;\">\n",
       "      <th></th>\n",
       "      <th>spu_id</th>\n",
       "      <th>features</th>\n",
       "      <th>view_spu</th>\n",
       "    </tr>\n",
       "  </thead>\n",
       "  <tbody>\n",
       "    <tr>\n",
       "      <th>1</th>\n",
       "      <td>100000087145246721</td>\n",
       "      <td>[0.009, 0.839, 0.439, 1.673, 0.226, 0.055, 0.1...</td>\n",
       "      <td>100000087145246721</td>\n",
       "    </tr>\n",
       "    <tr>\n",
       "      <th>2</th>\n",
       "      <td>100000090992795708</td>\n",
       "      <td>[0.0, 1.878, 0.353, 1.505, 0.047, 0.003, 0.0, ...</td>\n",
       "      <td>100000090992795708</td>\n",
       "    </tr>\n",
       "    <tr>\n",
       "      <th>4</th>\n",
       "      <td>100281553839460375</td>\n",
       "      <td>[0.661, 1.84, 0.028, 1.128, 0.172, 1.097, 1.45...</td>\n",
       "      <td>100281553839460375</td>\n",
       "    </tr>\n",
       "    <tr>\n",
       "      <th>8</th>\n",
       "      <td>100844539282133007</td>\n",
       "      <td>[0.444, 0.428, 0.0, 0.342, 0.314, 0.015, 0.529...</td>\n",
       "      <td>100844539282133007</td>\n",
       "    </tr>\n",
       "    <tr>\n",
       "      <th>9</th>\n",
       "      <td>101688901872443404</td>\n",
       "      <td>[0.058, 2.361, 0.0, 1.037, 0.013, 1.009, 1.543...</td>\n",
       "      <td>101688901872443404</td>\n",
       "    </tr>\n",
       "  </tbody>\n",
       "</table>\n",
       "</div>"
      ],
      "text/plain": [
       "               spu_id                                           features  \\\n",
       "1  100000087145246721  [0.009, 0.839, 0.439, 1.673, 0.226, 0.055, 0.1...   \n",
       "2  100000090992795708  [0.0, 1.878, 0.353, 1.505, 0.047, 0.003, 0.0, ...   \n",
       "4  100281553839460375  [0.661, 1.84, 0.028, 1.128, 0.172, 1.097, 1.45...   \n",
       "8  100844539282133007  [0.444, 0.428, 0.0, 0.342, 0.314, 0.015, 0.529...   \n",
       "9  101688901872443404  [0.058, 2.361, 0.0, 1.037, 0.013, 1.009, 1.543...   \n",
       "\n",
       "             view_spu  \n",
       "1  100000087145246721  \n",
       "2  100000090992795708  \n",
       "4  100281553839460375  \n",
       "8  100844539282133007  \n",
       "9  101688901872443404  "
      ]
     },
     "execution_count": 14,
     "metadata": {},
     "output_type": "execute_result"
    }
   ],
   "source": [
    "spu_fea.head()"
   ]
  },
  {
   "cell_type": "code",
   "execution_count": 15,
   "metadata": {},
   "outputs": [
    {
     "name": "stdout",
     "output_type": "stream",
     "text": [
      "before merge nrow: 6538474\n",
      "after merge nrows:6538474\n"
     ]
    }
   ],
   "source": [
    "# merge with userdata\n",
    "spu_fea['view_spu']=spu_fea['spu_id']\n",
    "user_profile_w_features = user_profile.merge(spu_fea,on='view_spu',how='left')\n",
    "print('before merge nrow: {0}').format(len(user_profile))\n",
    "print('after merge nrows:{0}').format(len(user_profile_w_features))"
   ]
  },
  {
   "cell_type": "code",
   "execution_count": 16,
   "metadata": {
    "collapsed": true
   },
   "outputs": [],
   "source": [
    "user_profile_w_features['has_features']=user_profile_w_features.groupby(['view_spu'])['spu_id'].apply(lambda x: np.isnan(x))"
   ]
  },
  {
   "cell_type": "code",
   "execution_count": 130,
   "metadata": {
    "collapsed": true
   },
   "outputs": [],
   "source": [
    "user_profile_w_features.has_features= user_profile_w_features.has_features.astype('int')"
   ]
  },
  {
   "cell_type": "code",
   "execution_count": 131,
   "metadata": {},
   "outputs": [
    {
     "data": {
      "text/html": [
       "<div>\n",
       "<style>\n",
       "    .dataframe thead tr:only-child th {\n",
       "        text-align: right;\n",
       "    }\n",
       "\n",
       "    .dataframe thead th {\n",
       "        text-align: left;\n",
       "    }\n",
       "\n",
       "    .dataframe tbody tr th {\n",
       "        vertical-align: top;\n",
       "    }\n",
       "</style>\n",
       "<table border=\"1\" class=\"dataframe\">\n",
       "  <thead>\n",
       "    <tr style=\"text-align: right;\">\n",
       "      <th></th>\n",
       "      <th>user_id</th>\n",
       "      <th>buy_spu</th>\n",
       "      <th>buy_sn</th>\n",
       "      <th>buy_ct3</th>\n",
       "      <th>view_spu</th>\n",
       "      <th>view_sn</th>\n",
       "      <th>view_ct3</th>\n",
       "      <th>time_interval</th>\n",
       "      <th>view_cnt</th>\n",
       "      <th>view_seconds</th>\n",
       "      <th>spu_id</th>\n",
       "      <th>features</th>\n",
       "      <th>has_features</th>\n",
       "    </tr>\n",
       "  </thead>\n",
       "  <tbody>\n",
       "    <tr>\n",
       "      <th>0</th>\n",
       "      <td>3125745546</td>\n",
       "      <td>3454147345092617</td>\n",
       "      <td>10020201</td>\n",
       "      <td>334</td>\n",
       "      <td>100281596405534762</td>\n",
       "      <td>10029251</td>\n",
       "      <td>334</td>\n",
       "      <td>311066</td>\n",
       "      <td>3</td>\n",
       "      <td>50</td>\n",
       "      <td>1.002816e+17</td>\n",
       "      <td>[0.0, 0.442, 0.0, 3.436, 0.061, 0.328, 0.262, ...</td>\n",
       "      <td>0</td>\n",
       "    </tr>\n",
       "    <tr>\n",
       "      <th>1</th>\n",
       "      <td>3125745546</td>\n",
       "      <td>3454147345092617</td>\n",
       "      <td>10020201</td>\n",
       "      <td>334</td>\n",
       "      <td>104785174046949392</td>\n",
       "      <td>10014206</td>\n",
       "      <td>334</td>\n",
       "      <td>499624</td>\n",
       "      <td>1</td>\n",
       "      <td>7</td>\n",
       "      <td>NaN</td>\n",
       "      <td>NaN</td>\n",
       "      <td>1</td>\n",
       "    </tr>\n",
       "    <tr>\n",
       "      <th>2</th>\n",
       "      <td>3125745546</td>\n",
       "      <td>3454147345092617</td>\n",
       "      <td>10020201</td>\n",
       "      <td>334</td>\n",
       "      <td>10491053651988480</td>\n",
       "      <td>10010280</td>\n",
       "      <td>334</td>\n",
       "      <td>409509</td>\n",
       "      <td>2</td>\n",
       "      <td>9</td>\n",
       "      <td>NaN</td>\n",
       "      <td>NaN</td>\n",
       "      <td>1</td>\n",
       "    </tr>\n",
       "    <tr>\n",
       "      <th>3</th>\n",
       "      <td>3125745546</td>\n",
       "      <td>3454147345092617</td>\n",
       "      <td>10020201</td>\n",
       "      <td>334</td>\n",
       "      <td>20342683550576642</td>\n",
       "      <td>10015063</td>\n",
       "      <td>334</td>\n",
       "      <td>313623</td>\n",
       "      <td>1</td>\n",
       "      <td>2</td>\n",
       "      <td>NaN</td>\n",
       "      <td>NaN</td>\n",
       "      <td>1</td>\n",
       "    </tr>\n",
       "    <tr>\n",
       "      <th>4</th>\n",
       "      <td>3125745546</td>\n",
       "      <td>3454147345092617</td>\n",
       "      <td>10020201</td>\n",
       "      <td>334</td>\n",
       "      <td>224975005672079387</td>\n",
       "      <td>10020201</td>\n",
       "      <td>334</td>\n",
       "      <td>451607</td>\n",
       "      <td>4</td>\n",
       "      <td>12</td>\n",
       "      <td>2.249750e+17</td>\n",
       "      <td>[0.133, 0.082, 0.776, 0.481, 0.077, 0.256, 0.0...</td>\n",
       "      <td>0</td>\n",
       "    </tr>\n",
       "  </tbody>\n",
       "</table>\n",
       "</div>"
      ],
      "text/plain": [
       "      user_id           buy_spu    buy_sn  buy_ct3            view_spu  \\\n",
       "0  3125745546  3454147345092617  10020201      334  100281596405534762   \n",
       "1  3125745546  3454147345092617  10020201      334  104785174046949392   \n",
       "2  3125745546  3454147345092617  10020201      334   10491053651988480   \n",
       "3  3125745546  3454147345092617  10020201      334   20342683550576642   \n",
       "4  3125745546  3454147345092617  10020201      334  224975005672079387   \n",
       "\n",
       "    view_sn  view_ct3  time_interval  view_cnt  view_seconds        spu_id  \\\n",
       "0  10029251       334         311066         3            50  1.002816e+17   \n",
       "1  10014206       334         499624         1             7           NaN   \n",
       "2  10010280       334         409509         2             9           NaN   \n",
       "3  10015063       334         313623         1             2           NaN   \n",
       "4  10020201       334         451607         4            12  2.249750e+17   \n",
       "\n",
       "                                            features  has_features  \n",
       "0  [0.0, 0.442, 0.0, 3.436, 0.061, 0.328, 0.262, ...             0  \n",
       "1                                                NaN             1  \n",
       "2                                                NaN             1  \n",
       "3                                                NaN             1  \n",
       "4  [0.133, 0.082, 0.776, 0.481, 0.077, 0.256, 0.0...             0  "
      ]
     },
     "execution_count": 131,
     "metadata": {},
     "output_type": "execute_result"
    }
   ],
   "source": [
    "user_profile_w_features.head()"
   ]
  },
  {
   "cell_type": "markdown",
   "metadata": {},
   "source": [
    "## Plotting Trajectories and Seeing How many features we have\n"
   ]
  },
  {
   "cell_type": "code",
   "execution_count": 154,
   "metadata": {},
   "outputs": [
    {
     "data": {
      "image/png": "[encoded data removed]",
      "text/plain": [
       "<matplotlib.figure.Figure at 0x148641790>"
      ]
     },
     "metadata": {},
     "output_type": "display_data"
    }
   ],
   "source": [
    "plot_trajectory_scatter(user_profile_w_features,scatter_color_col='has_features',samplesize=100,size=10,savedir='../../test.png')"
   ]
  },
  {
   "cell_type": "markdown",
   "metadata": {},
   "source": [
    "## What percent of rows have features? \n"
   ]
  },
  {
   "cell_type": "code",
   "execution_count": 108,
   "metadata": {},
   "outputs": [
    {
     "data": {
      "text/plain": [
       "0.73175897005937474"
      ]
     },
     "execution_count": 108,
     "metadata": {},
     "output_type": "execute_result"
    }
   ],
   "source": [
    "1-(user_profile_w_features['features'].isnull()).mean()"
   ]
  },
  {
   "cell_type": "markdown",
   "metadata": {},
   "source": [
    "## What percent of bought items are in the feature list? \n"
   ]
  },
  {
   "cell_type": "code",
   "execution_count": 116,
   "metadata": {},
   "outputs": [
    {
     "data": {
      "text/plain": [
       "0.26824102994062526"
      ]
     },
     "execution_count": 116,
     "metadata": {},
     "output_type": "execute_result"
    }
   ],
   "source": [
    "1-user_profile_w_features.groupby(['view_spu'])['spu_id'].apply(lambda x: np.isnan(x)).mean()"
   ]
  },
  {
   "cell_type": "code",
   "execution_count": 27,
   "metadata": {},
   "outputs": [
    {
     "name": "stdout",
     "output_type": "stream",
     "text": [
      "0.678931420444\n"
     ]
    }
   ],
   "source": [
    "buy_spus = user_profile.buy_spu.unique()\n",
    "contained = 0\n",
    "spus_with_features = list(spu_fea.spu_id.as_matrix())\n",
    "for buy_spu in buy_spus: \n",
    "    if buy_spu in spus_with_features:\n",
    "        contained+=1\n",
    "print(contained/np.float(len(buy_spus)))"
   ]
  },
  {
   "cell_type": "code",
   "execution_count": 28,
   "metadata": {},
   "outputs": [
    {
     "data": {
      "text/plain": [
       "21958"
      ]
     },
     "execution_count": 28,
     "metadata": {},
     "output_type": "execute_result"
    }
   ],
   "source": [
    "contained"
   ]
  },
  {
   "cell_type": "code",
   "execution_count": 29,
   "metadata": {},
   "outputs": [
    {
     "data": {
      "text/plain": [
       "32342"
      ]
     },
     "execution_count": 29,
     "metadata": {},
     "output_type": "execute_result"
    }
   ],
   "source": [
    "len(buy_spus)"
   ]
  },
  {
   "cell_type": "code",
   "execution_count": 30,
   "metadata": {},
   "outputs": [
    {
     "name": "stdout",
     "output_type": "stream",
     "text": [
      "0.606398004103\n"
     ]
    }
   ],
   "source": [
    "view_spus = user_profile.view_spu.unique()\n",
    "contained = 0\n",
    "spus_with_features = list(spu_fea.spu_id.as_matrix())\n",
    "for view_spu in view_spus: \n",
    "    if view_spu in spus_with_features:\n",
    "        contained+=1\n",
    "print(contained/np.float(len(view_spus)))"
   ]
  },
  {
   "cell_type": "code",
   "execution_count": 31,
   "metadata": {},
   "outputs": [
    {
     "data": {
      "text/plain": [
       "96999"
      ]
     },
     "execution_count": 31,
     "metadata": {},
     "output_type": "execute_result"
    }
   ],
   "source": [
    "len(view_spus)\n"
   ]
  },
  {
   "cell_type": "markdown",
   "metadata": {
    "slideshow": {
     "slide_type": "slide"
    }
   },
   "source": [
    "# Evaluation Dataset\n",
    "\n"
   ]
  },
  {
   "cell_type": "code",
   "execution_count": 3,
   "metadata": {
    "slideshow": {
     "slide_type": "fragment"
    }
   },
   "outputs": [],
   "source": [
    "user_profile = pd.read_pickle('../data_user_view_buy/user_profile_items_nonnull_features_20_mins_5_views.pkl')"
   ]
  },
  {
   "cell_type": "code",
   "execution_count": 4,
   "metadata": {
    "slideshow": {
     "slide_type": "fragment"
    }
   },
   "outputs": [
    {
     "data": {
      "text/plain": [
       "544913"
      ]
     },
     "execution_count": 4,
     "metadata": {},
     "output_type": "execute_result"
    }
   ],
   "source": [
    "len(user_profile)"
   ]
  },
  {
   "cell_type": "code",
   "execution_count": 6,
   "metadata": {
    "slideshow": {
     "slide_type": "slide"
    }
   },
   "outputs": [
    {
     "name": "stdout",
     "output_type": "stream",
     "text": [
      "unique users:11903\n",
      "unique items viewed:45668\n",
      "unique items bought:3782\n",
      "unique categories viewed:1\n",
      "unique categories bought:1\n",
      "unique brands viewed:547\n",
      "unique brands bought:354\n"
     ]
    }
   ],
   "source": [
    "print('unique users:{0}').format(len(user_profile.user_id.unique()))\n",
    "\n",
    "print('unique items viewed:{0}').format(len(user_profile.view_spu.unique()))\n",
    "print('unique items bought:{0}').format(len(user_profile.buy_spu.unique()))\n",
    "\n",
    "print('unique categories viewed:{0}').format(len(user_profile.view_ct3.unique()))\n",
    "print('unique categories bought:{0}').format(len(user_profile.buy_ct3.unique()))\n",
    "print('unique brands viewed:{0}').format(len(user_profile.view_sn.unique()))\n",
    "print('unique brands bought:{0}').format(len(user_profile.buy_sn.unique()))"
   ]
  },
  {
   "cell_type": "code",
   "execution_count": 16,
   "metadata": {
    "slideshow": {
     "slide_type": "skip"
    }
   },
   "outputs": [],
   "source": [
    "#user_profile.groupby(['user_id'])['buy_spu'].nunique()"
   ]
  },
  {
   "cell_type": "code",
   "execution_count": 10,
   "metadata": {
    "slideshow": {
     "slide_type": "slide"
    }
   },
   "outputs": [
    {
     "data": {
      "text/plain": [
       "<matplotlib.text.Text at 0x124d72890>"
      ]
     },
     "execution_count": 10,
     "metadata": {},
     "output_type": "execute_result"
    },
    {
     "data": {
      "image/png": "[encoded data removed]",
      "text/plain": [
       "<matplotlib.figure.Figure at 0x124cb0c90>"
      ]
     },
     "metadata": {},
     "output_type": "display_data"
    }
   ],
   "source": [
    "# how many items bought per user in this dataset? \n",
    "plt.figure(figsize=(8,3))\n",
    "plt.hist(user_profile.groupby(['user_id'])['buy_spu'].nunique(),bins=20,normed=False)\n",
    "sns.despine()\n",
    "plt.xlabel('number of items bought per user')\n",
    "plt.ylabel('number of user')"
   ]
  },
  {
   "cell_type": "code",
   "execution_count": 15,
   "metadata": {
    "slideshow": {
     "slide_type": "slide"
    }
   },
   "outputs": [
    {
     "data": {
      "text/html": [
       "<div>\n",
       "<style>\n",
       "    .dataframe thead tr:only-child th {\n",
       "        text-align: right;\n",
       "    }\n",
       "\n",
       "    .dataframe thead th {\n",
       "        text-align: left;\n",
       "    }\n",
       "\n",
       "    .dataframe tbody tr th {\n",
       "        vertical-align: top;\n",
       "    }\n",
       "</style>\n",
       "<table border=\"1\" class=\"dataframe\">\n",
       "  <thead>\n",
       "    <tr style=\"text-align: right;\">\n",
       "      <th></th>\n",
       "      <th>user_id</th>\n",
       "      <th>buy_spu</th>\n",
       "      <th>buy_sn</th>\n",
       "      <th>buy_ct3</th>\n",
       "      <th>view_spu</th>\n",
       "      <th>view_sn</th>\n",
       "      <th>view_ct3</th>\n",
       "      <th>time_interval</th>\n",
       "      <th>view_cnt</th>\n",
       "      <th>view_seconds</th>\n",
       "      <th>index</th>\n",
       "      <th>spu_id</th>\n",
       "      <th>features</th>\n",
       "      <th>view_spu_count</th>\n",
       "    </tr>\n",
       "  </thead>\n",
       "  <tbody>\n",
       "    <tr>\n",
       "      <th>1717617</th>\n",
       "      <td>4283991208</td>\n",
       "      <td>3172717375315987</td>\n",
       "      <td>10026622</td>\n",
       "      <td>334</td>\n",
       "      <td>103940738865885244</td>\n",
       "      <td>10011540</td>\n",
       "      <td>334</td>\n",
       "      <td>93823</td>\n",
       "      <td>1</td>\n",
       "      <td>3</td>\n",
       "      <td>1291.0</td>\n",
       "      <td>1.039407e+17</td>\n",
       "      <td>[0.0, 0.525, 0.101, 0.28, 0.0, 0.0, 0.018, 0.2...</td>\n",
       "      <td>294</td>\n",
       "    </tr>\n",
       "    <tr>\n",
       "      <th>1717621</th>\n",
       "      <td>4283991208</td>\n",
       "      <td>3172717375315987</td>\n",
       "      <td>10026622</td>\n",
       "      <td>334</td>\n",
       "      <td>13305822896521234</td>\n",
       "      <td>10014206</td>\n",
       "      <td>334</td>\n",
       "      <td>75794</td>\n",
       "      <td>1</td>\n",
       "      <td>4</td>\n",
       "      <td>66061.0</td>\n",
       "      <td>1.330582e+16</td>\n",
       "      <td>[0.052, 0.05, 0.002, 0.0, 0.021, 0.0, 0.039, 0...</td>\n",
       "      <td>294</td>\n",
       "    </tr>\n",
       "    <tr>\n",
       "      <th>1717623</th>\n",
       "      <td>4283991208</td>\n",
       "      <td>3172717375315987</td>\n",
       "      <td>10026622</td>\n",
       "      <td>334</td>\n",
       "      <td>1483775526015157</td>\n",
       "      <td>10026622</td>\n",
       "      <td>334</td>\n",
       "      <td>21742</td>\n",
       "      <td>1</td>\n",
       "      <td>26</td>\n",
       "      <td>10175.0</td>\n",
       "      <td>1.483776e+15</td>\n",
       "      <td>[0.267, 0.28, 0.003, 1.297, 0.28, 0.013, 0.162...</td>\n",
       "      <td>294</td>\n",
       "    </tr>\n",
       "    <tr>\n",
       "      <th>1717624</th>\n",
       "      <td>4283991208</td>\n",
       "      <td>3172717375315987</td>\n",
       "      <td>10026622</td>\n",
       "      <td>334</td>\n",
       "      <td>17527905451290635</td>\n",
       "      <td>10014936</td>\n",
       "      <td>334</td>\n",
       "      <td>94170</td>\n",
       "      <td>5</td>\n",
       "      <td>28</td>\n",
       "      <td>7548.0</td>\n",
       "      <td>1.752791e+16</td>\n",
       "      <td>[0.175, 3.27, 0.225, 1.059, 0.561, 0.019, 0.03...</td>\n",
       "      <td>294</td>\n",
       "    </tr>\n",
       "    <tr>\n",
       "      <th>1717625</th>\n",
       "      <td>4283991208</td>\n",
       "      <td>3172717375315987</td>\n",
       "      <td>10026622</td>\n",
       "      <td>334</td>\n",
       "      <td>225537933784404046</td>\n",
       "      <td>10005711</td>\n",
       "      <td>334</td>\n",
       "      <td>103261</td>\n",
       "      <td>1</td>\n",
       "      <td>5</td>\n",
       "      <td>80000.0</td>\n",
       "      <td>2.255379e+17</td>\n",
       "      <td>[0.651, 0.679, 0.0, 0.598, 0.215, 0.001, 0.04,...</td>\n",
       "      <td>294</td>\n",
       "    </tr>\n",
       "    <tr>\n",
       "      <th>1717627</th>\n",
       "      <td>4283991208</td>\n",
       "      <td>3172717375315987</td>\n",
       "      <td>10026622</td>\n",
       "      <td>334</td>\n",
       "      <td>226945303689633846</td>\n",
       "      <td>10011540</td>\n",
       "      <td>334</td>\n",
       "      <td>93076</td>\n",
       "      <td>2</td>\n",
       "      <td>13</td>\n",
       "      <td>83804.0</td>\n",
       "      <td>2.269453e+17</td>\n",
       "      <td>[0.078, 0.471, 0.0, 0.562, 0.04, 0.0, 0.169, 0...</td>\n",
       "      <td>294</td>\n",
       "    </tr>\n",
       "    <tr>\n",
       "      <th>1717628</th>\n",
       "      <td>4283991208</td>\n",
       "      <td>3172717375315987</td>\n",
       "      <td>10026622</td>\n",
       "      <td>334</td>\n",
       "      <td>23157348732739802</td>\n",
       "      <td>10026622</td>\n",
       "      <td>334</td>\n",
       "      <td>23232</td>\n",
       "      <td>2</td>\n",
       "      <td>23</td>\n",
       "      <td>15309.0</td>\n",
       "      <td>2.315735e+16</td>\n",
       "      <td>[0.123, 1.018, 0.0, 0.241, 0.037, 0.0, 0.794, ...</td>\n",
       "      <td>294</td>\n",
       "    </tr>\n",
       "    <tr>\n",
       "      <th>1717629</th>\n",
       "      <td>4283991208</td>\n",
       "      <td>3172717375315987</td>\n",
       "      <td>10026622</td>\n",
       "      <td>334</td>\n",
       "      <td>23157423020531740</td>\n",
       "      <td>10010458</td>\n",
       "      <td>334</td>\n",
       "      <td>95105</td>\n",
       "      <td>1</td>\n",
       "      <td>6</td>\n",
       "      <td>1458.0</td>\n",
       "      <td>2.315742e+16</td>\n",
       "      <td>[0.313, 0.473, 0.205, 0.15, 0.36, 0.041, 0.167...</td>\n",
       "      <td>294</td>\n",
       "    </tr>\n",
       "    <tr>\n",
       "      <th>1717631</th>\n",
       "      <td>4283991208</td>\n",
       "      <td>3172717375315987</td>\n",
       "      <td>10026622</td>\n",
       "      <td>334</td>\n",
       "      <td>243270852316745762</td>\n",
       "      <td>10011540</td>\n",
       "      <td>334</td>\n",
       "      <td>85515</td>\n",
       "      <td>4</td>\n",
       "      <td>81</td>\n",
       "      <td>2731.0</td>\n",
       "      <td>2.432709e+17</td>\n",
       "      <td>[0.064, 2.257, 0.057, 0.246, 0.024, 0.0, 0.27,...</td>\n",
       "      <td>294</td>\n",
       "    </tr>\n",
       "    <tr>\n",
       "      <th>1717632</th>\n",
       "      <td>4283991208</td>\n",
       "      <td>3172717375315987</td>\n",
       "      <td>10026622</td>\n",
       "      <td>334</td>\n",
       "      <td>247774475044470785</td>\n",
       "      <td>10026622</td>\n",
       "      <td>334</td>\n",
       "      <td>83427</td>\n",
       "      <td>1</td>\n",
       "      <td>3</td>\n",
       "      <td>61120.0</td>\n",
       "      <td>2.477745e+17</td>\n",
       "      <td>[0.016, 2.397, 0.092, 0.378, 0.223, 0.006, 0.5...</td>\n",
       "      <td>294</td>\n",
       "    </tr>\n",
       "    <tr>\n",
       "      <th>1717633</th>\n",
       "      <td>4283991208</td>\n",
       "      <td>3172717375315987</td>\n",
       "      <td>10026622</td>\n",
       "      <td>334</td>\n",
       "      <td>250307726756618325</td>\n",
       "      <td>10011540</td>\n",
       "      <td>334</td>\n",
       "      <td>93012</td>\n",
       "      <td>2</td>\n",
       "      <td>22</td>\n",
       "      <td>45725.0</td>\n",
       "      <td>2.503077e+17</td>\n",
       "      <td>[0.53, 0.019, 0.024, 0.297, 0.033, 0.0, 0.561,...</td>\n",
       "      <td>294</td>\n",
       "    </tr>\n",
       "    <tr>\n",
       "      <th>1717634</th>\n",
       "      <td>4283991208</td>\n",
       "      <td>3172717375315987</td>\n",
       "      <td>10026622</td>\n",
       "      <td>334</td>\n",
       "      <td>250870682408312845</td>\n",
       "      <td>10010782</td>\n",
       "      <td>334</td>\n",
       "      <td>100583</td>\n",
       "      <td>1</td>\n",
       "      <td>3</td>\n",
       "      <td>55919.0</td>\n",
       "      <td>2.508707e+17</td>\n",
       "      <td>[0.179, 0.112, 0.129, 3.025, 0.0, 0.277, 0.057...</td>\n",
       "      <td>294</td>\n",
       "    </tr>\n",
       "    <tr>\n",
       "      <th>1717635</th>\n",
       "      <td>4283991208</td>\n",
       "      <td>3172717375315987</td>\n",
       "      <td>10026622</td>\n",
       "      <td>334</td>\n",
       "      <td>27379572116287490</td>\n",
       "      <td>10026622</td>\n",
       "      <td>334</td>\n",
       "      <td>29001</td>\n",
       "      <td>2</td>\n",
       "      <td>28</td>\n",
       "      <td>9125.0</td>\n",
       "      <td>2.737957e+16</td>\n",
       "      <td>[0.128, 0.42, 0.208, 0.254, 0.288, 0.0, 0.622,...</td>\n",
       "      <td>294</td>\n",
       "    </tr>\n",
       "    <tr>\n",
       "      <th>1717636</th>\n",
       "      <td>4283991208</td>\n",
       "      <td>3172717375315987</td>\n",
       "      <td>10026622</td>\n",
       "      <td>334</td>\n",
       "      <td>290277175168847890</td>\n",
       "      <td>10014206</td>\n",
       "      <td>334</td>\n",
       "      <td>75201</td>\n",
       "      <td>7</td>\n",
       "      <td>132</td>\n",
       "      <td>23007.0</td>\n",
       "      <td>2.902772e+17</td>\n",
       "      <td>[0.109, 0.75, 0.0, 0.181, 0.045, 0.045, 0.0, 0...</td>\n",
       "      <td>294</td>\n",
       "    </tr>\n",
       "    <tr>\n",
       "      <th>1717637</th>\n",
       "      <td>4283991208</td>\n",
       "      <td>3172717375315987</td>\n",
       "      <td>10026622</td>\n",
       "      <td>334</td>\n",
       "      <td>295906672964997127</td>\n",
       "      <td>10011540</td>\n",
       "      <td>334</td>\n",
       "      <td>93126</td>\n",
       "      <td>1</td>\n",
       "      <td>3</td>\n",
       "      <td>61225.0</td>\n",
       "      <td>2.959067e+17</td>\n",
       "      <td>[0.047, 0.259, 0.0, 0.234, 0.0, 0.0, 0.264, 0....</td>\n",
       "      <td>294</td>\n",
       "    </tr>\n",
       "    <tr>\n",
       "      <th>1717638</th>\n",
       "      <td>4283991208</td>\n",
       "      <td>3172717375315987</td>\n",
       "      <td>10026622</td>\n",
       "      <td>334</td>\n",
       "      <td>298158464936345758</td>\n",
       "      <td>10008016</td>\n",
       "      <td>334</td>\n",
       "      <td>100428</td>\n",
       "      <td>2</td>\n",
       "      <td>42</td>\n",
       "      <td>10511.0</td>\n",
       "      <td>2.981585e+17</td>\n",
       "      <td>[0.0, 0.163, 0.901, 0.43, 0.351, 0.016, 1.724,...</td>\n",
       "      <td>294</td>\n",
       "    </tr>\n",
       "    <tr>\n",
       "      <th>1717639</th>\n",
       "      <td>4283991208</td>\n",
       "      <td>3172717375315987</td>\n",
       "      <td>10026622</td>\n",
       "      <td>334</td>\n",
       "      <td>299284391731855366</td>\n",
       "      <td>10014206</td>\n",
       "      <td>334</td>\n",
       "      <td>75661</td>\n",
       "      <td>1</td>\n",
       "      <td>4</td>\n",
       "      <td>32011.0</td>\n",
       "      <td>2.992844e+17</td>\n",
       "      <td>[0.102, 0.857, 0.46, 0.488, 0.001, 0.027, 0.0,...</td>\n",
       "      <td>294</td>\n",
       "    </tr>\n",
       "    <tr>\n",
       "      <th>1717640</th>\n",
       "      <td>4283991208</td>\n",
       "      <td>3172717375315987</td>\n",
       "      <td>10026622</td>\n",
       "      <td>334</td>\n",
       "      <td>301817662738743306</td>\n",
       "      <td>10026622</td>\n",
       "      <td>334</td>\n",
       "      <td>25487</td>\n",
       "      <td>1</td>\n",
       "      <td>3</td>\n",
       "      <td>87865.0</td>\n",
       "      <td>3.018177e+17</td>\n",
       "      <td>[0.208, 1.086, 0.011, 1.154, 0.195, 0.0, 0.03,...</td>\n",
       "      <td>294</td>\n",
       "    </tr>\n",
       "    <tr>\n",
       "      <th>1717641</th>\n",
       "      <td>4283991208</td>\n",
       "      <td>3172717375315987</td>\n",
       "      <td>10026622</td>\n",
       "      <td>334</td>\n",
       "      <td>309698873616236948</td>\n",
       "      <td>10021212</td>\n",
       "      <td>334</td>\n",
       "      <td>100076</td>\n",
       "      <td>4</td>\n",
       "      <td>17</td>\n",
       "      <td>19302.0</td>\n",
       "      <td>3.096989e+17</td>\n",
       "      <td>[0.097, 1.086, 0.233, 2.249, 0.264, 0.155, 0.4...</td>\n",
       "      <td>294</td>\n",
       "    </tr>\n",
       "    <tr>\n",
       "      <th>1717642</th>\n",
       "      <td>4283991208</td>\n",
       "      <td>3172717375315987</td>\n",
       "      <td>10026622</td>\n",
       "      <td>334</td>\n",
       "      <td>31038746813526032</td>\n",
       "      <td>10026622</td>\n",
       "      <td>334</td>\n",
       "      <td>14686</td>\n",
       "      <td>1</td>\n",
       "      <td>3</td>\n",
       "      <td>42189.0</td>\n",
       "      <td>3.103875e+16</td>\n",
       "      <td>[0.0, 0.87, 0.0, 0.427, 0.175, 0.068, 0.492, 0...</td>\n",
       "      <td>294</td>\n",
       "    </tr>\n",
       "    <tr>\n",
       "      <th>1717643</th>\n",
       "      <td>4283991208</td>\n",
       "      <td>3172717375315987</td>\n",
       "      <td>10026622</td>\n",
       "      <td>334</td>\n",
       "      <td>310543387016773641</td>\n",
       "      <td>10026622</td>\n",
       "      <td>334</td>\n",
       "      <td>25300</td>\n",
       "      <td>7</td>\n",
       "      <td>96</td>\n",
       "      <td>21854.0</td>\n",
       "      <td>3.105434e+17</td>\n",
       "      <td>[0.0, 0.995, 0.0, 0.565, 0.152, 0.006, 0.236, ...</td>\n",
       "      <td>294</td>\n",
       "    </tr>\n",
       "    <tr>\n",
       "      <th>1717644</th>\n",
       "      <td>4283991208</td>\n",
       "      <td>3172717375315987</td>\n",
       "      <td>10026622</td>\n",
       "      <td>334</td>\n",
       "      <td>310543401807400960</td>\n",
       "      <td>10012454</td>\n",
       "      <td>334</td>\n",
       "      <td>94139</td>\n",
       "      <td>5</td>\n",
       "      <td>73</td>\n",
       "      <td>60043.0</td>\n",
       "      <td>3.105434e+17</td>\n",
       "      <td>[0.11, 0.677, 0.149, 0.154, 0.0, 0.019, 0.204,...</td>\n",
       "      <td>294</td>\n",
       "    </tr>\n",
       "    <tr>\n",
       "      <th>1717645</th>\n",
       "      <td>4283991208</td>\n",
       "      <td>3172717375315987</td>\n",
       "      <td>10026622</td>\n",
       "      <td>334</td>\n",
       "      <td>310824846744035366</td>\n",
       "      <td>10011540</td>\n",
       "      <td>334</td>\n",
       "      <td>93271</td>\n",
       "      <td>1</td>\n",
       "      <td>3</td>\n",
       "      <td>52322.0</td"
      ],
      "text/plain": [
       "            user_id            buy_spu    buy_sn  buy_ct3  \\\n",
       "1717617  4283991208   3172717375315987  10026622      334   \n",
       "1717621  4283991208   3172717375315987  10026622      334   \n",
       "1717623  4283991208   3172717375315987  10026622      334   \n",
       "1717624  4283991208   3172717375315987  10026622      334   \n",
       "1717625  4283991208   3172717375315987  10026622      334   \n",
       "1717627  4283991208   3172717375315987  10026622      334   \n",
       "1717628  4283991208   3172717375315987  10026622      334   \n",
       "1717629  4283991208   3172717375315987  10026622      334   \n",
       "1717631  4283991208   3172717375315987  10026622      334   \n",
       "1717632  4283991208   3172717375315987  10026622      334   \n",
       "1717633  4283991208   3172717375315987  10026622      334   \n",
       "1717634  4283991208   3172717375315987  10026622      334   \n",
       "1717635  4283991208   3172717375315987  10026622      334   \n",
       "1717636  4283991208   3172717375315987  10026622      334   \n",
       "1717637  4283991208   3172717375315987  10026622      334   \n",
       "1717638  4283991208   3172717375315987  10026622      334   \n",
       "1717639  4283991208   3172717375315987  10026622      334   \n",
       "1717640  4283991208   3172717375315987  10026622      334   \n",
       "1717641  4283991208   3172717375315987  10026622      334   \n",
       "1717642  4283991208   3172717375315987  10026622      334   \n",
       "1717643  4283991208   3172717375315987  10026622      334   \n",
       "1717644  4283991208   3172717375315987  10026622      334   \n",
       "1717645  4283991208   3172717375315987  10026622      334   \n",
       "1717647  4283991208   3172717375315987  10026622      334   \n",
       "1717650  4283991208   3172717375315987  10026622      334   \n",
       "1717652  4283991208   3172717375315987  10026622      334   \n",
       "1717654  4283991208   3172717375315987  10026622      334   \n",
       "1717655  4283991208   3172717375315987  10026622      334   \n",
       "1717656  4283991208   3172717375315987  10026622      334   \n",
       "1717657  4283991208   3172717375315987  10026622      334   \n",
       "...             ...                ...       ...      ...   \n",
       "6073633  4283991208  83674563621408768  10026622      334   \n",
       "6073634  4283991208  83674563621408768  10026622      334   \n",
       "6073636  4283991208  83674563621408768  10026622      334   \n",
       "6073638  4283991208  83674563621408768  10026622      334   \n",
       "6073641  4283991208  83674563621408768  10026622      334   \n",
       "6073643  4283991208  83674563621408768  10026622      334   \n",
       "6073644  4283991208  83674563621408768  10026622      334   \n",
       "6073645  4283991208  83674563621408768  10026622      334   \n",
       "6073647  4283991208  83674563621408768  10026622      334   \n",
       "6073648  4283991208  83674563621408768  10026622      334   \n",
       "6073650  4283991208  83674563621408768  10026622      334   \n",
       "6073651  4283991208  83674563621408768  10026622      334   \n",
       "6073652  4283991208  83674563621408768  10026622      334   \n",
       "6073653  4283991208  83674563621408768  10026622      334   \n",
       "6073654  4283991208  83674563621408768  10026622      334   \n",
       "6073655  4283991208  83674563621408768  10026622      334   \n",
       "6073657  4283991208  83674563621408768  10026622      334   \n",
       "6073658  4283991208  83674563621408768  10026622      334   \n",
       "6073659  4283991208  83674563621408768  10026622      334   \n",
       "6073660  4283991208  83674563621408768  10026622      334   \n",
       "6073661  4283991208  83674563621408768  10026622      334   \n",
       "6073662  4283991208  83674563621408768  10026622      334   \n",
       "6073663  4283991208  83674563621408768  10026622      334   \n",
       "6073664  4283991208  83674563621408768  10026622      334   \n",
       "6073665  4283991208  83674563621408768  10026622      334   \n",
       "6073667  4283991208  83674563621408768  10026622      334   \n",
       "6073668  4283991208  83674563621408768  10026622      334   \n",
       "6073669  4283991208  83674563621408768  10026622      334   \n",
       "6073670  4283991208  83674563621408768  10026622      334   \n",
       "6073671  4283991208  83674563621408768  10026622      334   \n",
       "\n",
       "                    view_spu   view_sn  view_ct3  time_interval  view_cnt  \\\n",
       "1717617   103940738865885244  10011540       334          93823         1   \n",
       "1717621    13305822896521234  10014206       334          75794         1   \n",
       "1717623     1483775526015157  10026622       334          21742         1   \n",
       "1717624    17527905451290635  10014936       334          94170         5   \n",
       "1717625   225537933784404046  10005711       334         103261         1   \n",
       "1717627   226945303689633846  10011540       334          93076         2   \n",
       "1717628    23157348732739802  10026622       334          23232         2   \n",
       "1717629    23157423020531740  10010458       334          95105         1   \n",
       "1717631   243270852316745762  10011540       334          85515         4   \n",
       "1717632   247774475044470785  10026622       334          83427         1   \n",
       "1717633   250307726756618325  10011540       334          93012         2   \n",
       "1717634   250870682408312845  10010782       334         100583         1   \n",
       "1717635    27379572116287490  10026622       334          29001         2   \n",
       "1717636   290277175168847890  10014206       334          75201         7   \n",
       "1717637   295906672964997127  10011540       334          93126         1   \n",
       "1717638   298158464936345758  10008016       334         100428         2   \n",
       "1717639   299284391731855366  10014206       334          75661         1   \n",
       "1717640   301817662738743306  10026622       334          25487         1   \n",
       "1717641   309698873616236948  10021212       334         100076         4   \n",
       "1717642    31038746813526032  10026622       334          14686         1   \n",
       "1717643   310543387016773641  10026622       334          25300         7   \n",
       "1717644   310543401807400960  10012454       334          94139         5   \n",
       "1717645   310824846744035366  10011540       334          93271         1   \n",
       "1717647   316172861782548483  10026622       334          28385         2   \n",
       "1717650   319550573431463943  10011540       334          93623         1   \n",
       "1717652    33853496580632586  10026622       334          77172        10   \n",
       "1717654   439458894785597443  10026622       334          29387         2   \n",
       "1717655   452969675307434010  10013185       334          99085         1   \n",
       "1717656   452969716744327193  10026622       334          28838         1   \n",
       "1717657  7007958860772094113  10014937       334          93990         3   \n",
       "...                      ...       ...       ...            ...       ...   \n",
       "6073633   310543401807400960  10012454       334          94003         5   \n",
       "6073634   310824846744035366  10011540       334          93135         1   \n",
       "6073636     3172717375315987  10026622       334          28673         3   \n",
       "6073638   319550573431463943  10011540       334          93487         1   \n",
       "6073641    33853496580632586  10026622       334          77036        10   \n",
       "6073643   438051553892519936  10014937       334          94723         1   \n",
       "6073644   439458894785597443  10026622       334          29251         2   \n",
       "6073645   449592004248477701  10003301       334         100216         1   \n",
       "6073647   452969675307434010  10013185       334          98949         1   \n",
       "6073648   452969716744327193  10026622       334          28702         1   \n",
       "6073650   459162194924863553  10013415       334         100454         1   \n",
       "6073651   461132491424415749  10000351       334         100494         1   \n",
       "6073652  4762914438493188103  10005949       334         100677         1   \n",
       "6073653  7007958860772094113  10014937       334          93854         3   \n",
       "6073654    73259976655355933  10014206       334          75501         1   \n",
       "6073655  7518273000606171136  10013185       334          99027         1   \n",
       "6073657    76074734167040011  10026622       334          83121         1   \n",
       "6073658    76637667911548932  10026622       334          83824         2   \n",
       "6073659  7794681344845856769  10013436       334          77570         1   \n",
       "6073660    78608011143708680  10014206       334          75661         1   \n",
       "6073661    79452438970748933  10026622       334          83191         1   \n",
       "6073662    81704215705739292  10011540       334          93004         1   \n",
       "6073663    82830115252322364  10000474       334         103215         1   \n",
       "6073664    88741108119019540  10026622       334          23388         1   \n",
       "6073665    89585533049151504  10026622       334          14394         1   \n",
       "6073667    93244689750876200  10011540       334          93402         1   \n",
       "6073668    93526164727586878  10011540       334          93198         1   \n",
       "6073669   959905939475775491  10013185       334          98986         1   \n",
       "6073670    96059458626445313  10012320       334         100637         1   \n",
       "6073671    96059461467115525  10014206       334          75272         1   \n",
       "\n",
       "         view_seconds    index        spu_id  \\\n",
       "1717617             3   1291.0  1.039407e+17   \n",
       "1717621             4  66061.0  1.330582e+16   \n",
       "1717623            26  10175.0  1.483776e+15   \n",
       "1717624            28   7548.0  1.752791e+16   \n",
       "1717625             5  80000.0  2.255379e+17   \n",
       "1717627            13  83804.0  2.269453e+17   \n",
       "1717628            23  15309.0  2.315735e+16   \n",
       "1717629             6   1458.0  2.315742e+16   \n",
       "1717631            81   2731.0  2.432709e+17   \n",
       "1717632             3  61120.0  2.477745e+17   \n",
       "1717633            22  45725.0  2.503077e+17   \n",
       "1717634             3  55919.0  2.508707e+17   \n",
       "1717635            28   9125.0  2.737957e+16   \n",
       "1717636           132  23007.0  2.902772e+17   \n",
       "1717637             3  61225.0  2.959067e+17   \n",
       "1717638            42  10511.0  2.981585e+17   \n",
       "1717639             4  32011.0  2.992844e+17   \n",
       "1717640             3  87865.0  3.018177e+17   \n",
       "1717641            17  19302.0  3.096989e+17   \n",
       "1717642             3  42189.0  3.103875e+16   \n",
       "1717643            96  21854.0  3.105434e+17   \n",
       "1717644            73  60043.0  3.105434e+17   \n",
       "1717645             3  52322.0  3.108248e+17   \n",
       "1717647             6   2991.0  3.161729e+17   \n",
       "1717650             3  60116.0  3.195506e+17   \n",
       "1717652           142  77835.0  3.385350e+16   \n",
       "1717654            65  48701.0  4.394589e+17   \n",
       "1717655             5  44922.0  4.529697e+17   \n",
       "1717656             9  41280.0  4.529697e+17   \n",
       "17"
      ]
     },
     "execution_count": 15,
     "metadata": {},
     "output_type": "execute_result"
    },
    {
     "data": {
      "text/html": [
       "<b>limit_output extension: Maximum message size of 10000 exceeded with 25694 characters</b>"
      ]
     },
     "metadata": {},
     "output_type": "display_data"
    }
   ],
   "source": [
    "user_profile.loc[user_profile.user_id==4283991208,]"
   ]
  },
  {
   "cell_type": "markdown",
   "metadata": {
    "slideshow": {
     "slide_type": "fragment"
    }
   },
   "source": [
    "- some people have longer viewing trajectories. first item was viewed 28hours ahead of time. "
   ]
  },
  {
   "cell_type": "code",
   "execution_count": 14,
   "metadata": {
    "slideshow": {
     "slide_type": "slide"
    }
   },
   "outputs": [
    {
     "data": {
      "text/html": [
       "<div>\n",
       "<style>\n",
       "    .dataframe thead tr:only-child th {\n",
       "        text-align: right;\n",
       "    }\n",
       "\n",
       "    .dataframe thead th {\n",
       "        text-align: left;\n",
       "    }\n",
       "\n",
       "    .dataframe tbody tr th {\n",
       "        vertical-align: top;\n",
       "    }\n",
       "</style>\n",
       "<table border=\"1\" class=\"dataframe\">\n",
       "  <thead>\n",
       "    <tr style=\"text-align: right;\">\n",
       "      <th></th>\n",
       "      <th>user_id</th>\n",
       "      <th>buy_spu</th>\n",
       "      <th>buy_sn</th>\n",
       "      <th>buy_ct3</th>\n",
       "      <th>view_spu</th>\n",
       "      <th>view_sn</th>\n",
       "      <th>view_ct3</th>\n",
       "      <th>time_interval</th>\n",
       "      <th>view_cnt</th>\n",
       "      <th>view_seconds</th>\n",
       "      <th>index</th>\n",
       "      <th>spu_id</th>\n",
       "      <th>features</th>\n",
       "      <th>view_spu_count</th>\n",
       "    </tr>\n",
       "  </thead>\n",
       "  <tbody>\n",
       "    <tr>\n",
       "      <th>1909703</th>\n",
       "      <td>6539296</td>\n",
       "      <td>4714500743357079552</td>\n",
       "      <td>10015678</td>\n",
       "      <td>334</td>\n",
       "      <td>230604513463791633</td>\n",
       "      <td>10028297</td>\n",
       "      <td>334</td>\n",
       "      <td>393376</td>\n",
       "      <td>2</td>\n",
       "      <td>38</td>\n",
       "      <td>17816.0</td>\n",
       "      <td>2.306045e+17</td>\n",
       "      <td>[0.09, 0.061, 0.0, 0.109, 0.486, 0.034, 0.108,...</td>\n",
       "      <td>67</td>\n",
       "    </tr>\n",
       "    <tr>\n",
       "      <th>1909704</th>\n",
       "      <td>6539296</td>\n",
       "      <td>4714500743357079552</td>\n",
       "      <td>10015678</td>\n",
       "      <td>334</td>\n",
       "      <td>238204332051542018</td>\n",
       "      <td>10028297</td>\n",
       "      <td>334</td>\n",
       "      <td>393455</td>\n",
       "      <td>1</td>\n",
       "      <td>4</td>\n",
       "      <td>1497.0</td>\n",
       "      <td>2.382043e+17</td>\n",
       "      <td>[0.048, 0.326, 0.063, 0.302, 0.178, 0.319, 0.8...</td>\n",
       "      <td>67</td>\n",
       "    </tr>\n",
       "    <tr>\n",
       "      <th>1909707</th>\n",
       "      <td>6539296</td>\n",
       "      <td>4714500743357079552</td>\n",
       "      <td>10015678</td>\n",
       "      <td>334</td>\n",
       "      <td>292529005121761410</td>\n",
       "      <td>10016791</td>\n",
       "      <td>334</td>\n",
       "      <td>280246</td>\n",
       "      <td>1</td>\n",
       "      <td>5</td>\n",
       "      <td>11737.0</td>\n",
       "      <td>2.925290e+17</td>\n",
       "      <td>[0.0, 1.925, 0.281, 0.025, 0.476, 0.0, 0.204, ...</td>\n",
       "      <td>67</td>\n",
       "    </tr>\n",
       "    <tr>\n",
       "      <th>1909708</th>\n",
       "      <td>6539296</td>\n",
       "      <td>4714500743357079552</td>\n",
       "      <td>10015678</td>\n",
       "      <td>334</td>\n",
       "      <td>296188153247072271</td>\n",
       "      <td>10001351</td>\n",
       "      <td>334</td>\n",
       "      <td>576605</td>\n",
       "      <td>1</td>\n",
       "      <td>20</td>\n",
       "      <td>38219.0</td>\n",
       "      <td>2.961882e+17</td>\n",
       "      <td>[0.234, 0.398, 0.178, 2.219, 0.321, 0.048, 0.0...</td>\n",
       "      <td>67</td>\n",
       "    </tr>\n",
       "    <tr>\n",
       "      <th>1909709</th>\n",
       "      <td>6539296</td>\n",
       "      <td>4714500743357079552</td>\n",
       "      <td>10015678</td>\n",
       "      <td>334</td>\n",
       "      <td>302662074473369605</td>\n",
       "      <td>10015636</td>\n",
       "      <td>334</td>\n",
       "      <td>264693</td>\n",
       "      <td>2</td>\n",
       "      <td>33</td>\n",
       "      <td>58662.0</td>\n",
       "      <td>3.026621e+17</td>\n",
       "      <td>[0.474, 0.197, 0.0, 0.978, 0.06, 0.0, 0.011, 0...</td>\n",
       "      <td>67</td>\n",
       "    </tr>\n",
       "    <tr>\n",
       "      <th>1909710</th>\n",
       "      <td>6539296</td>\n",
       "      <td>4714500743357079552</td>\n",
       "      <td>10015678</td>\n",
       "      <td>334</td>\n",
       "      <td>307165668905115683</td>\n",
       "      <td>10004555</td>\n",
       "      <td>334</td>\n",
       "      <td>430709</td>\n",
       "      <td>1</td>\n",
       "      <td>21</td>\n",
       "      <td>86666.0</td>\n",
       "      <td>3.071657e+17</td>\n",
       "      <td>[0.173, 0.031, 0.013, 2.349, 0.376, 0.106, 0.1...</td>\n",
       "      <td>67</td>\n",
       "    </tr>\n",
       "    <tr>\n",
       "      <th>1909711</th>\n",
       "      <td>6539296</td>\n",
       "      <td>4714500743357079552</td>\n",
       "      <td>10015678</td>\n",
       "      <td>334</td>\n",
       "      <td>307728624054161408</td>\n",
       "      <td>10015636</td>\n",
       "      <td>334</td>\n",
       "      <td>392614</td>\n",
       "      <td>1</td>\n",
       "      <td>11</td>\n",
       "      <td>53553.0</td>\n",
       "      <td>3.077286e+17</td>\n",
       "      <td>[0.044, 1.257, 0.0, 0.449, 0.333, 0.0, 0.649, ...</td>\n",
       "      <td>67</td>\n",
       "    </tr>\n",
       "    <tr>\n",
       "      <th>1909712</th>\n",
       "      <td>6539296</td>\n",
       "      <td>4714500743357079552</td>\n",
       "      <td>10015678</td>\n",
       "      <td>334</td>\n",
       "      <td>321239449850023952</td>\n",
       "      <td>10020640</td>\n",
       "      <td>334</td>\n",
       "      <td>479555</td>\n",
       "      <td>1</td>\n",
       "      <td>5</td>\n",
       "      <td>44680.0</td>\n",
       "      <td>3.212394e+17</td>\n",
       "      <td>[0.0, 0.0, 0.0, 0.005, 0.263, 0.0, 0.22, 0.174...</td>\n",
       "      <td>67</td>\n",
       "    </tr>\n",
       "    <tr>\n",
       "      <th>1909714</th>\n",
       "      <td>6539296</td>\n",
       "      <td>4714500743357079552</td>\n",
       "      <td>10015678</td>\n",
       "      <td>334</td>\n",
       "      <td>438051570214809601</td>\n",
       "      <td>10020640</td>\n",
       "      <td>334</td>\n",
       "      <td>479535</td>\n",
       "      <td>1</td>\n",
       "      <td>5</td>\n",
       "      <td>42373.0</td>\n",
       "      <td>4.380516e+17</td>\n",
       "      <td>[0.026, 0.954, 0.11, 0.632, 0.117, 0.113, 0.00...</td>\n",
       "      <td>67</td>\n",
       "    </tr>\n",
       "    <tr>\n",
       "      <th>1909715</th>\n",
       "      <td>6539296</td>\n",
       "      <td>4714500743357079552</td>\n",
       "      <td>10015678</td>\n",
       "      <td>334</td>\n",
       "      <td>446777294492839942</td>\n",
       "      <td>10020640</td>\n",
       "      <td>334</td>\n",
       "      <td>479581</td>\n",
       "      <td>1</td>\n",
       "      <td>5</td>\n",
       "      <td>770.0</td>\n",
       "      <td>4.467773e+17</td>\n",
       "      <td>[0.188, 0.451, 0.02, 0.174, 0.106, 0.024, 0.20...</td>\n",
       "      <td>67</td>\n",
       "    </tr>\n",
       "    <tr>\n",
       "      <th>1909719</th>\n",
       "      <td>6539296</td>\n",
       "      <td>4714500743357079552</td>\n",
       "      <td>10015678</td>\n",
       "      <td>334</td>\n",
       "      <td>6867784324568485888</td>\n",
       "      <td>10005149</td>\n",
       "      <td>334</td>\n",
       "      <td>264581</td>\n",
       "      <td>2</td>\n",
       "      <td>25</td>\n",
       "      <td>22329.0</td>\n",
       "      <td>6.867784e+18</td>\n",
       "      <td>[0.063, 0.309, 0.0, 0.36, 0.04, 0.044, 0.189, ...</td>\n",
       "      <td>67</td>\n",
       "    </tr>\n",
       "    <tr>\n",
       "      <th>1909723</th>\n",
       "      <td>6539296</td>\n",
       "      <td>4714500743357079552</td>\n",
       "      <td>10015678</td>\n",
       "      <td>334</td>\n",
       "      <td>89585515455168564</td>\n",
       "      <td>10015678</td>\n",
       "      <td>334</td>\n",
       "      <td>129900</td>\n",
       "      <td>1</td>\n",
       "      <td>4</td>\n",
       "      <td>25143.0</td>\n",
       "      <td>8.958552e+16</td>\n",
       "      <td>[0.114, 0.313, 0.025, 0.679, 0.127, 0.042, 1.1...</td>\n",
       "      <td>67</td>\n",
       "    </tr>\n",
       "    <tr>\n",
       "      <th>1909725</th>\n",
       "      <td>6539296</td>\n",
       "      <td>4714500743357079552</td>\n",
       "      <td>10015678</td>\n",
       "      <td>334</td>\n",
       "      <td>96622389872934948</td>\n",
       "      <td>10015678</td>\n",
       "      <td>334</td>\n",
       "      <td>39642</td>\n",
       "      <td>1</td>\n",
       "      <td>6</td>\n",
       "      <td>30247.0</td>\n",
       "      <td>9.662239e+16</td>\n",
       "      <td>[0.254, 0.25, 0.021, 1.455, 0.137, 0.005, 1.77...</td>\n",
       "      <td>67</td>\n",
       "    </tr>\n",
       "    <tr>\n",
       "      <th>1909727</th>\n",
       "      <td>6539296</td>\n",
       "      <td>88741090525036576</td>\n",
       "      <td>10015678</td>\n",
       "      <td>334</td>\n",
       "      <td>18935283870048281</td>\n",
       "      <td>10000351</td>\n",
       "      <td>334</td>\n",
       "      <td>576751</td>\n",
       "      <td>1</td>\n",
       "      <td>10</td>\n",
       "      <td>55708.0</td>\n",
       "      <td>1.893528e+16</td>\n",
       "      <td>[0.036, 0.25, 0.0, 1.639, 0.0, 0.061, 0.499, 0...</td>\n",
       "      <td>67</td>\n",
       "    </tr>\n",
       "    <tr>\n",
       "      <th>1909729</th>\n",
       "      <td>6539296</td>\n",
       "      <td>88741090525036576</td>\n",
       "      <td>10015678</td>\n",
       "      <td>334</td>\n",
       "      <td>23438889895616669</td>\n",
       "      <td>10004555</td>\n",
       "      <td>334</td>\n",
       "      <td>430998</td>\n",
       "      <td>2</td>\n",
       "      <td>27</td>\n",
       "      <td>72492.0</td>\n",
       "      <td>2.343889e+16</td>\n",
       "      <td>[0.13, 0.409, 0.595, 1.369, 0.103, 0.024, 0.24...</td>\n",
       "      <td>67</td>\n",
       "    </tr>\n",
       "    <tr>\n",
       "      <th>1909730</th>\n",
       "      <td>6539296</td>\n",
       "      <td>88741090525036576</td>\n",
       "      <td>10015678</td>\n",
       "      <td>334</td>\n",
       "      <td>23438905780764691</td>\n",
       "      <td>10015678</td>\n",
       "      <td>334</td>\n",
       "      <td>129763</td>\n",
       "      <td>2</td>\n",
       "      <td>7</td>\n",
       "      <td>19058.0</td>\n",
       "      <td>2.343891e+16</td>\n",
       "      <td>[0.074, 1.258, 0.029, 0.001, 0.567, 0.014, 0.8...</td>\n",
       "      <td>67</td>\n",
       "    </tr>\n",
       "    <tr>\n",
       "      <th>1909731</th>\n",
       "      <td>6539296</td>\n",
       "      <td>88741090525036576</td>\n",
       "      <td>10015678</td>\n",
       "      <td>334</td>\n",
       "      <td>238204332051542018</td>\n",
       "      <td>10028297</td>\n",
       "      <td>334</td>\n",
       "      <td>393467</td>\n",
       "      <td>1</td>\n",
       "      <td>4</td>\n",
       "      <td>1497.0</td>\n",
       "      <td>2.382043e+17</td>\n",
       "      <td>[0.048, 0.326, 0.063, 0.302, 0.178, 0.319, 0.8...</td>\n",
       "      <td>67</td>\n",
       "    </tr>\n",
       "    <tr>\n",
       "      <th>1909732</th>\n",
       "      <td>6539296</td>\n",
       "      <td>88741090525036576</td>\n",
       "      <td>10015678</td>\n",
       "      <td>334</td>\n",
       "      <td>29068390742786093</td>\n",
       "      <td>10012635</td>\n",
       "      <td>334</td>\n",
       "      <td>576642</td>\n",
       "      <td>1</td>\n",
       "      <td>12</td>\n",
       "      <td>33210.0</td>\n",
       "      <td>2.906839e+16</td>\n",
       "      <td>[0.666, 1.926, 0.006, 0.425, 0.864, 0.063, 0.3...</td>\n",
       "      <td>67</td>\n",
       "    </tr>\n",
       "    <tr>\n",
       "      <th>1909733</th>\n",
       "      <td>6539296</td>\n",
       "      <td>88741090525036576</td>\n",
       "      <td>10015678</td>\n",
       "      <td>334</td>\n",
       "      <td>314765487213334554</td>\n",
       "      <td>10004555</td>\n",
       "      <td>334</td>\n",
       "      <td>430617</td>\n",
       "      <td>1</td>\n",
       "      <td>21</td>\n",
       "      <td>87956.0</td>\n",
       "      <td>3.147655e+17</td>\n",
       "      <td>[0.177, 0.294, 0.635, 1.745, 0.026, 0.25, 0.0,...</td>\n",
       "      <td>67</td>\n",
       "    </tr>\n",
       "    <tr>\n",
       "      <th>1909735</th>\n",
       "      <td>6539296</td>\n",
       "      <td>88741090525036576</td>\n",
       "      <td>10015678</td>\n",
       "      <td>334</td>\n",
       "      <td>437770078308651009</td>\n",
       "      <td>10000683</td>\n",
       "      <td>334</td>\n",
       "      <td>576671</td>\n",
       "      <td>1</td>\n",
       "      <td>12</td>\n",
       "      <td>72995.0</td>\n",
       "      <td>4.377701e+17</td>\n",
       "      <td>[0.068, 0.641, 0.0, 2.952, 0.499, 0.134, 0.0, ...</td>\n",
       "      <td>67</td>\n",
       "    </tr>\n",
       "    <tr>\n",
       "      <th>1909736</th>\n",
       "      <td>6539296</td>\n",
       "      <td>88741090525036576</td>\n",
       "      <td>10015678</td>\n",
       "      <td>334</td>\n",
       "      <td>450436452539129891</td>\n",
       "      <td>10003719</td>\n",
       "      <td>334</td>\n",
       "      <td>576825</td>\n",
       "      <td>2</td>\n",
       "      <td>33</td>\n",
       "      <td>52617.0</td>\n",
       "      <td>4.504365e+17</td>\n",
       "      <td>[0.43, 0.137, 0.0, 0.01, 0.006, 0.0, 0.039, 0....</td>\n",
       "      <td>67</td>\n",
       "    </tr>\n",
       "    <tr>\n",
       "      <th>1909737</th>\n",
       "      <td>6539296</td>\n",
       "      <td>88741090525036576</td>\n",
       "      <td>10015678</td>\n",
       "      <td>334</td>\n",
       "      <td>453532675442028551</td>\n",
       "      <td>10020640</td>\n",
       "      <td>334</td>\n",
       "      <td>479560</td>\n",
       "      <td>1</td>\n",
       "      <td>3</td>\n",
       "      <td>4512.0</td>\n",
       "      <td>4.535327e+17</td>\n",
       "      <td>[0.489, 0.432, 0.059, 0.128, 0.097, 0.298, 0.0...</td>\n",
       "      <td>67</td>\n",
       "    </tr>\n",
       "    <tr>\n",
       "      <th>1909738</th>\n",
       "      <td>6539296</td>\n",
       "      <td>88741090525036576</td>\n",
       "      <td>10015678</td>\n",
       "      <td>334</td>\n",
       "      <td>468450827688092121</td>\n",
       "      <td>10003301</td>\n",
       "      <td>334</td>\n",
       "      <td>576541</td>\n",
       "      <td>2</td>\n",
       "      <td>20</td>\n",
       "      <td>21012.0</td>\n",
       "      <td>4.684508e"
      ],
      "text/plain": [
       "         user_id              buy_spu    buy_sn  buy_ct3             view_spu  \\\n",
       "1909703  6539296  4714500743357079552  10015678      334   230604513463791633   \n",
       "1909704  6539296  4714500743357079552  10015678      334   238204332051542018   \n",
       "1909707  6539296  4714500743357079552  10015678      334   292529005121761410   \n",
       "1909708  6539296  4714500743357079552  10015678      334   296188153247072271   \n",
       "1909709  6539296  4714500743357079552  10015678      334   302662074473369605   \n",
       "1909710  6539296  4714500743357079552  10015678      334   307165668905115683   \n",
       "1909711  6539296  4714500743357079552  10015678      334   307728624054161408   \n",
       "1909712  6539296  4714500743357079552  10015678      334   321239449850023952   \n",
       "1909714  6539296  4714500743357079552  10015678      334   438051570214809601   \n",
       "1909715  6539296  4714500743357079552  10015678      334   446777294492839942   \n",
       "1909719  6539296  4714500743357079552  10015678      334  6867784324568485888   \n",
       "1909723  6539296  4714500743357079552  10015678      334    89585515455168564   \n",
       "1909725  6539296  4714500743357079552  10015678      334    96622389872934948   \n",
       "1909727  6539296    88741090525036576  10015678      334    18935283870048281   \n",
       "1909729  6539296    88741090525036576  10015678      334    23438889895616669   \n",
       "1909730  6539296    88741090525036576  10015678      334    23438905780764691   \n",
       "1909731  6539296    88741090525036576  10015678      334   238204332051542018   \n",
       "1909732  6539296    88741090525036576  10015678      334    29068390742786093   \n",
       "1909733  6539296    88741090525036576  10015678      334   314765487213334554   \n",
       "1909735  6539296    88741090525036576  10015678      334   437770078308651009   \n",
       "1909736  6539296    88741090525036576  10015678      334   450436452539129891   \n",
       "1909737  6539296    88741090525036576  10015678      334   453532675442028551   \n",
       "1909738  6539296    88741090525036576  10015678      334   468450827688092121   \n",
       "1909739  6539296    88741090525036576  10015678      334    89022582753042484   \n",
       "4088468  6539296  4714500743357079552  10015678      334   102533392945205253   \n",
       "4088469  6539296  4714500743357079552  10015678      334   227226793911504923   \n",
       "4088470  6539296  4714500743357079552  10015678      334   234826617504419925   \n",
       "4088471  6539296  4714500743357079552  10015678      334   235389584840667141   \n",
       "4088472  6539296  4714500743357079552  10015678      334   237078421892820992   \n",
       "4088476  6539296  4714500743357079552  10015678      334   318424676005457935   \n",
       "...          ...                  ...       ...      ...                  ...   \n",
       "4088490  6539296    88741090525036576  10015678      334   302662074473369605   \n",
       "4088491  6539296    88741090525036576  10015678      334   307165668905115683   \n",
       "4088492  6539296    88741090525036576  10015678      334   307728624054161408   \n",
       "4088493  6539296    88741090525036576  10015678      334   321239449850023952   \n",
       "4088494  6539296    88741090525036576  10015678      334   322646824733577236   \n",
       "4088496  6539296    88741090525036576  10015678      334   438051570214809601   \n",
       "4088497  6539296    88741090525036576  10015678      334   446777294492839942   \n",
       "4088501  6539296    88741090525036576  10015678      334  6867784324568485888   \n",
       "4088505  6539296    88741090525036576  10015678      334    89585515455168564   \n",
       "4088507  6539296    88741090525036576  10015678      334    96622389872934948   \n",
       "6265208  6539296  4714500743357079552  10015678      334    18935283870048281   \n",
       "6265210  6539296  4714500743357079552  10015678      334    23438889895616669   \n",
       "6265211  6539296  4714500743357079552  10015678      334    23438905780764691   \n",
       "6265212  6539296  4714500743357079552  10015678      334    29068390742786093   \n",
       "6265213  6539296  4714500743357079552  10015678      334   314765487213334554   \n",
       "6265215  6539296  4714500743357079552  10015678      334   437770078308651009   \n",
       "6265216  6539296  4714500743357079552  10015678      334   450436452539129891   \n",
       "6265217  6539296  4714500743357079552  10015678      334   450717913010946049   \n",
       "6265218  6539296  4714500743357079552  10015678      334   453532675442028551   \n",
       "6265219  6539296  4714500743357079552  10015678      334   468450827688092121   \n",
       "6265220  6539296  4714500743357079552  10015678      334    89022582753042484   \n",
       "6265221  6539296    88741090525036576  10015678      334   102533392945205253   \n",
       "6265222  6539296    88741090525036576  10015678      334   227226793911504923   \n",
       "6265223  6539296    88741090525036576  10015678      334   234826617504419925   \n",
       "6265224  6539296    88741090525036576  10015678      334   235389584840667141   \n",
       "6265225  6539296    88741090525036576  10015678      334   237078421892820992   \n",
       "6265229  6539296    88741090525036576  10015678      334   318424676005457935   \n",
       "6265230  6539296    88741090525036576  10015678      334   318706175059628045   \n",
       "6265231  6539296    88741090525036576  10015678      334   450717913010946049   \n",
       "6265235  6539296    88741090525036576  10015678      334    84518962683629604   \n",
       "\n",
       "          view_sn  view_ct3  time_interval  view_cnt  view_seconds    index  \\\n",
       "1909703  10028297       334         393376         2            38  17816.0   \n",
       "1909704  10028297       334         393455         1             4   1497.0   \n",
       "1909707  10016791       334         280246         1             5  11737.0   \n",
       "1909708  10001351       334         576605         1            20  38219.0   \n",
       "1909709  10015636       334         264693         2            33  58662.0   \n",
       "1909710  10004555       334         430709         1            21  86666.0   \n",
       "1909711  10015636       334         392614         1            11  53553.0   \n",
       "1909712  10020640       334         479555         1             5  44680.0   \n",
       "1909714  10020640       334         479535         1             5  42373.0   \n",
       "1909715  10020640       334         479581         1             5    770.0   \n",
       "1909719  10005149       334         264581         2            25  22329.0   \n",
       "1909723  10015678       334         129900         1             4  25143.0   \n",
       "1909725  10015678       334          39642         1             6  30247.0   \n",
       "1909727  10000351       334         576751         1            10  55708.0   \n",
       "1909729  10004555       334         430998         2            27  72492.0   \n",
       "1909730  10015678       334         129763         2             7  19058.0   \n",
       "1909731  10028297       334         393467         1             4   1497.0   \n",
       "1909732  10012635       334         576642         1            12  33210.0   \n",
       "1909733  10004555       334         430617         1            21  87956.0   \n",
       "1909735  10000683       334         576671         1            12  72995.0   \n",
       "1909736  10003719       334         576825         2            33  52617.0   \n",
       "1909737  10020640       334         479560         1             3   4512.0   \n",
       "1909738  10003301       334         576541         2            20  21012.0   \n",
       "1909739  10005711       334         576399         1             8  14966.0   \n",
       "4088468  10020640       334         479568         1             9  55583.0   \n",
       "4088469  10001310       334         576513         1            16  77454.0   \n",
       "4088470  10003862       334         576686         1             6  50748.0   \n",
       "4088471  10020640       334         479430         1             2  36812.0   \n",
       "4088472  10003862       334         264566         1            20  69975.0   \n",
       "4088476  10021264       334         576573         1             9  54901.0   \n",
       "...           ...       ...            ...       ...           ...      ...   \n",
       "4088490  10015636       334         264705         2            33  58662.0   \n",
       "4088491  10004555       334         430721         1            21  86666.0   \n",
       "4088492  10015636       334         392626         1            11  53553.0   \n",
       "4088493  10020640       334         479567         1             5  44680.0   \n",
       "4088494  10020640       334         265012         1             4  35944.0   \n",
       "4088496  10020640       334         479547         1             5  42373.0   \n",
       "4088497  10020640       334         479593         1             5    770.0   \n",
       "4088501  10005149       334         264593         2            25  22329.0   \n",
       "4088505  10015678       334         129912         1             4  25143.0   \n",
       "4088507  10015678       334          39654         1             6  30247.0   \n",
       "6265208  10000351       334         576739         1            10  55708.0   \n",
       "6265210  10004555       334         430986         2            27  72492.0   \n",
       "6265211  10015678       334         129751         2             7  19058.0   \n",
       "6265212  10012635       334         576630         1            12  33210.0   \n",
       "6265213  10004555       334         430605         1            21  87956.0   \n",
       "6265215  10000683       334         576659         1            12  72995.0   \n",
       "6265216  10003719       334         576813         2            33  52617.0   \n",
       "6265217  10015636       334         393070         1             4  25966.0   \n",
       "6265218  10020640       334         479548         1             3   4512.0   \n",
       "6265219  10003301       334         576529         2            20  21012.0   \n",
       "6265220  10005711       334         576387         1             8  14966.0   \n",
       "6265221  10020640       334         479580         1             9  55583.0   \n",
       "6265222  10001310       334         576525         1            16  77454.0   \n",
       "6265223  10003862       334         576698         1             6  50748.0   \n",
       "6265224  10020640       334         479442         1             2  36812.0   \n",
       "6265225  10003862       334         264578         1            20  69975.0   \n",
       "6265229  10021264       334         576585         1             9  54901.0   \n",
       "6265230  10020640       334         264321         2            79  79092.0   \n",
       "6265231  10015636       334         393082         1             4  25966.0   \n",
       "6265235  10015678       334          39781         2            16  27571.0   \n",
       "\n",
       "               spu_id                                           features  \\\n",
       "19"
      ]
     },
     "execution_count": 14,
     "metadata": {},
     "output_type": "execute_result"
    },
    {
     "data": {
      "text/html": [
       "<b>limit_output extension: Maximum message size of 10000 exceeded with 25594 characters</b>"
      ]
     },
     "metadata": {},
     "output_type": "display_data"
    }
   ],
   "source": [
    "user_profile.loc[user_profile.user_id==6539296,]"
   ]
  },
  {
   "cell_type": "markdown",
   "metadata": {
    "slideshow": {
     "slide_type": "fragment"
    }
   },
   "source": [
    "- this person bought two items. "
   ]
  },
  {
   "cell_type": "code",
   "execution_count": 21,
   "metadata": {
    "slideshow": {
     "slide_type": "slide"
    }
   },
   "outputs": [
    {
     "data": {
      "image/png": "[encoded data removed]",
      "text/plain": [
       "<matplotlib.figure.Figure at 0x128e09bd0>"
      ]
     },
     "metadata": {},
     "output_type": "display_data"
    }
   ],
   "source": [
    "plot_trajectory_scatter(user_profile,samplesize=100,size=10,savedir='../figures/trajectories_evaluation_dataset.png')"
   ]
  },
  {
   "cell_type": "markdown",
   "metadata": {
    "slideshow": {
     "slide_type": "fragment"
    }
   },
   "source": [
    "- I'd like to make this figure better - easier to tell which rows people are on"
   ]
  },
  {
   "cell_type": "markdown",
   "metadata": {
    "slideshow": {
     "slide_type": "skip"
    }
   },
   "source": [
    "# Save Notebook"
   ]
  },
  {
   "cell_type": "code",
   "execution_count": null,
   "metadata": {
    "slideshow": {
     "slide_type": "skip"
    }
   },
   "outputs": [],
   "source": [
    "%%bash \n",
    "jupyter nbconvert --to slides Exploring_Data.ipynb && mv Exploring_Data.slides.html ../notebook_slides/Exploring_Data_v1.slides.html\n",
    "jupyter nbconvert --to html Exploring_Data.ipynb && mv Exploring_Data.html ../notebook_htmls/Exploring_Data_v1.html\n",
    "cp Exploring_Data.ipynb ../notebook_versions/Exploring_Data_v1.ipynb"
   ]
  },
  {
   "cell_type": "code",
   "execution_count": 38,
   "metadata": {
    "slideshow": {
     "slide_type": "skip"
    }
   },
   "outputs": [
    {
     "name": "stdout",
     "output_type": "stream",
     "text": [
      ".................."
     ]
    }
   ],
   "source": [
    "# push to s3 \n",
    "import sys\n",
    "import os\n",
    "sys.path.append(os.getcwd()+'/../')\n",
    "from src import s3_data_management\n",
    "s3_data_management.push_results_to_s3('Exploring_Data_v1.html','../notebook_htmls/Exploring_Data_v1.html')\n",
    "s3_data_management.push_results_to_s3('Exporing_Data_v1.slides.html','../notebook_slides/Exploring_Data_v1.slides.html')\n"
   ]
  }
 ],
 "metadata": {
  "celltoolbar": "Slideshow",
  "hide_input": false,
  "kernelspec": {
   "display_name": "Python 2",
   "language": "python",
   "name": "python2"
  },
  "language_info": {
   "codemirror_mode": {
    "name": "ipython",
    "version": 2
   },
   "file_extension": ".py",
   "mimetype": "text/x-python",
   "name": "python",
   "nbconvert_exporter": "python",
   "pygments_lexer": "ipython2",
   "version": "2.7.13"
  },
  "toc": {
   "colors": {
    "hover_highlight": "#DAA520",
    "navigate_num": "#000000",
    "navigate_text": "#333333",
    "running_highlight": "#FF0000",
    "selected_highlight": "#FFD700",
    "sidebar_border": "#EEEEEE",
    "wrapper_background": "#FFFFFF"
   },
   "moveMenuLeft": true,
   "nav_menu": {
    "height": "117px",
    "width": "253px"
   },
   "navigate_menu": true,
   "number_sections": false,
   "sideBar": false,
   "threshold": 4,
   "toc_cell": false,
   "toc_position": {
    "height": "436px",
    "left": "1px",
    "right": "20px",
    "top": "109px",
    "width": "212px"
   },
   "toc_section_display": "block",
   "toc_window_display": true,
   "widenNotebook": false
  }
 },
 "nbformat": 4,
 "nbformat_minor": 2
}
