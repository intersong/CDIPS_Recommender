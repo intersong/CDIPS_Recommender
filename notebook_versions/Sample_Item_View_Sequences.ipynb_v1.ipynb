{
 "cells": [
  {
   "cell_type": "raw",
   "metadata": {},
   "source": [
    "<script>\n",
    "  function code_toggle() {\n",
    "    if (code_shown){\n",
    "      $('div.input').hide('500');\n",
    "      $('#toggleButton').val('Show Code')\n",
    "    } else {\n",
    "      $('div.input').show('500');\n",
    "      $('#toggleButton').val('Hide Code')\n",
    "    }\n",
    "    code_shown = !code_shown\n",
    "  }\n",
    "\n",
    "  $( document ).ready(function(){\n",
    "    code_shown=false;\n",
    "    $('div.input').hide()\n",
    "  });\n",
    "</script>\n",
    "<form action=\"javascript:code_toggle()\"><input type=\"submit\" id=\"toggleButton\" value=\"Show Code\"></form>"
   ]
  },
  {
   "cell_type": "code",
   "execution_count": 1,
   "metadata": {},
   "outputs": [
    {
     "name": "stderr",
     "output_type": "stream",
     "text": [
      "Using TensorFlow backend.\n"
     ]
    }
   ],
   "source": [
    "import sys \n",
    "import os\n",
    "sys.path.append(os.getcwd()+'/../')\n",
    "# other\n",
    "import numpy as np\n",
    "import glob\n",
    "import pandas as pd\n",
    "import ntpath\n",
    "\n",
    "#keras\n",
    "from keras.preprocessing import image\n",
    "\n",
    "# plotting\n",
    "import seaborn as sns\n",
    "sns.set_style('white')\n",
    "import matplotlib.pyplot as plt\n",
    "%matplotlib inline\n",
    "%load_ext autoreload\n",
    "\n",
    "# debuggin\n",
    "from IPython.core.debugger import Tracer\n",
    "\n",
    "#stats\n",
    "import scipy.stats as stats\n"
   ]
  },
  {
   "cell_type": "code",
   "execution_count": 2,
   "metadata": {
    "collapsed": true
   },
   "outputs": [],
   "source": [
    "%autoreload 2"
   ]
  },
  {
   "cell_type": "code",
   "execution_count": 6,
   "metadata": {
    "collapsed": true
   },
   "outputs": [],
   "source": [
    "folder='../data_img_sample_item_view_sequences/'"
   ]
  },
  {
   "cell_type": "code",
   "execution_count": 34,
   "metadata": {},
   "outputs": [
    {
     "data": {
      "text/html": [
       "<div>\n",
       "<style>\n",
       "    .dataframe thead tr:only-child th {\n",
       "        text-align: right;\n",
       "    }\n",
       "\n",
       "    .dataframe thead th {\n",
       "        text-align: left;\n",
       "    }\n",
       "\n",
       "    .dataframe tbody tr th {\n",
       "        vertical-align: top;\n",
       "    }\n",
       "</style>\n",
       "<table border=\"1\" class=\"dataframe\">\n",
       "  <thead>\n",
       "    <tr style=\"text-align: right;\">\n",
       "      <th></th>\n",
       "      <th>user_id</th>\n",
       "      <th>view_position</th>\n",
       "      <th>spu</th>\n",
       "      <th>view_seconds</th>\n",
       "      <th>tag</th>\n",
       "      <th>jpg</th>\n",
       "    </tr>\n",
       "  </thead>\n",
       "  <tbody>\n",
       "    <tr>\n",
       "      <th>0</th>\n",
       "      <td>1026336619</td>\n",
       "      <td>10</td>\n",
       "      <td>18935327703625752</td>\n",
       "      <td>30</td>\n",
       "      <td>view</td>\n",
       "      <td>.jpg</td>\n",
       "    </tr>\n",
       "    <tr>\n",
       "      <th>1</th>\n",
       "      <td>1026336619</td>\n",
       "      <td>11</td>\n",
       "      <td>225819416539443204</td>\n",
       "      <td>8</td>\n",
       "      <td>view</td>\n",
       "      <td>.jpg</td>\n",
       "    </tr>\n",
       "    <tr>\n",
       "      <th>2</th>\n",
       "      <td>1026336619</td>\n",
       "      <td>12</td>\n",
       "      <td>452688254114283543</td>\n",
       "      <td>7</td>\n",
       "      <td>view</td>\n",
       "      <td>.jpg</td>\n",
       "    </tr>\n",
       "    <tr>\n",
       "      <th>3</th>\n",
       "      <td>1026336619</td>\n",
       "      <td>13</td>\n",
       "      <td>308854529632018448</td>\n",
       "      <td>14</td>\n",
       "      <td>view</td>\n",
       "      <td>.jpg</td>\n",
       "    </tr>\n",
       "    <tr>\n",
       "      <th>4</th>\n",
       "      <td>1026336619</td>\n",
       "      <td>14</td>\n",
       "      <td>323209760887509007</td>\n",
       "      <td>13</td>\n",
       "      <td>view</td>\n",
       "      <td>.jpg</td>\n",
       "    </tr>\n",
       "  </tbody>\n",
       "</table>\n",
       "</div>"
      ],
      "text/plain": [
       "      user_id  view_position                 spu  view_seconds   tag   jpg\n",
       "0  1026336619             10   18935327703625752            30  view  .jpg\n",
       "1  1026336619             11  225819416539443204             8  view  .jpg\n",
       "2  1026336619             12  452688254114283543             7  view  .jpg\n",
       "3  1026336619             13  308854529632018448            14  view  .jpg\n",
       "4  1026336619             14  323209760887509007            13  view  .jpg"
      ]
     },
     "execution_count": 34,
     "metadata": {},
     "output_type": "execute_result"
    }
   ],
   "source": [
    "from src.data_management import get_meta_data_from_sequence_data\n",
    "df = get_meta_data_from_sequence_data(folder)\n",
    "df.head()"
   ]
  },
  {
   "cell_type": "markdown",
   "metadata": {},
   "source": [
    "# Plotting to  HTML Function"
   ]
  },
  {
   "cell_type": "code",
   "execution_count": 45,
   "metadata": {
    "collapsed": true
   },
   "outputs": [],
   "source": [
    "def make_html(user_set,newfile):\n",
    "    with open(newfile, 'w') as outfile:\n",
    "            outfile.write(\"<!DOCTYPE html><html><head><style>\")\n",
    "            outfile.write(\"table.app {border:1px solid #d4d4d4;}\")\n",
    "\n",
    "            # open table\n",
    "            outfile.write(\"#circle {border-radius:50% 50% 50% 50%;}</style></head><body background-color: transparent;><table class='app'>\")\n",
    "\n",
    "\n",
    "            # loop through users #\n",
    "            for user_id in user_set:\n",
    "                print(user_id)\n",
    "                outfile.write(\"<tr>\") # new row\n",
    "\n",
    "                # loop through his/her views \n",
    "                view_positions = np.sort(df.loc[df.user_id==user_id,'view_position'].unique())\n",
    "                for view_pos in view_positions:\n",
    "\n",
    "                    # get info\n",
    "                    view_seconds = df.loc[(df.user_id==user_id)&(df.view_position==view_pos),'view_seconds'].as_matrix()[0]\n",
    "                    tag = df.loc[(df.user_id==user_id)&(df.view_position==view_pos),'tag'].as_matrix()[0]\n",
    "                    spu = df.loc[(df.user_id==user_id)&(df.view_position==view_pos),'spu'].as_matrix()[0]\n",
    "\n",
    "                    # get img path\n",
    "                    img_path = glob.glob(folder+str(user_id)+'_'+str(view_pos)+'_'+str(spu)+'_'+str(view_seconds)+'_'+str(tag)+'*')[0]\n",
    "                    outfile.write(\"<td><img id='circle' src='\" + img_path + \"' style='height:150px; width:150px' /><p>user_id: \"+str(user_id)+' pos: '+str(view_pos)+' '+str(view_seconds)+'secs '+tag+\"</p></td>\")\n",
    "\n",
    "                outfile.write(\"</tr>\") # close row\n",
    "\n",
    "            # close table. \n",
    "            outfile.write(\"</table></body>\")"
   ]
  },
  {
   "cell_type": "markdown",
   "metadata": {},
   "source": [
    "# Plotting Sets"
   ]
  },
  {
   "cell_type": "code",
   "execution_count": 44,
   "metadata": {
    "scrolled": true
   },
   "outputs": [
    {
     "name": "stdout",
     "output_type": "stream",
     "text": [
      "0\n",
      "1026336619\n",
      "106144465\n",
      "1201108847\n",
      "1254629014\n",
      "1259361786\n",
      "1286454902\n",
      "1331111242\n",
      "139443270\n",
      "1407961481\n",
      "1411185938\n",
      "1\n",
      "1430062320\n",
      "1446553986\n",
      "1538001568\n",
      "1540542657\n",
      "1564790759\n",
      "1581036046\n",
      "1619537657\n",
      "1622470454\n",
      "1721873627\n",
      "1749603486\n",
      "2\n",
      "1806454700\n",
      "1826303654\n",
      "183331960\n",
      "1835355513\n",
      "1849825115\n",
      "1850538288\n",
      "1867621197\n",
      "1906109738\n",
      "195542015\n",
      "2001762092\n",
      "3\n",
      "2025210815\n",
      "2163409455\n",
      "2210400632\n",
      "2250685114\n",
      "2262640555\n",
      "2269309385\n",
      "2379508227\n",
      "2437472421\n",
      "2471805464\n",
      "2485915290\n",
      "4\n",
      "2490191986\n",
      "2496962655\n",
      "2571951718\n",
      "2624007058\n",
      "2642715102\n",
      "2659544743\n",
      "2743203484\n",
      "2766461040\n",
      "277631953\n",
      "2862420690\n",
      "5\n",
      "2865188308\n",
      "2901191600\n",
      "2908107778\n",
      "2914970191\n",
      "29580840\n",
      "2978475940\n",
      "3015240162\n",
      "3050256974\n",
      "3059275452\n",
      "3095161062\n",
      "6\n",
      "3113698183\n",
      "3158220067\n",
      "3214334148\n",
      "3221546800\n",
      "3239019977\n",
      "3252859300\n",
      "3304400147\n",
      "3362146075\n",
      "3456547149\n",
      "3476883273\n",
      "7\n",
      "3484636698\n",
      "3491283850\n",
      "3506468044\n",
      "3522768721\n",
      "3532442460\n",
      "3560182072\n",
      "3755218860\n",
      "37635449\n",
      "3765068409\n",
      "3775478259\n",
      "8\n",
      "3851987456\n",
      "3903270854\n",
      "3905025056\n",
      "3932629799\n",
      "3934818663\n",
      "4004400201\n",
      "4091769000\n",
      "4244797584\n",
      "4245275931\n",
      "439294679\n",
      "9\n",
      "44811438\n",
      "471193609\n",
      "497659869\n",
      "57610368\n",
      "577641385\n",
      "591703685\n",
      "668578150\n",
      "800064636\n",
      "810231768\n",
      "940795593\n"
     ]
    }
   ],
   "source": [
    "for i,user_set in enumerate(np.split(df.user_id.unique(),10)): #split into 10 sets \n",
    "    print(i)\n",
    "    # create HTML file\n",
    "    newfile = '../figures/Sample_View_Sequences_set_'+str(i)+'.html'\n",
    "    make_html(user_set,newfile)\n",
    "    "
   ]
  },
  {
   "cell_type": "markdown",
   "metadata": {},
   "source": [
    "## Results: \n",
    "[set1](../figures/Sample_View_Sequences_set1.html)\n",
    "[set2](../figures/Sample_View_Sequences_set2.html)\n",
    "..."
   ]
  },
  {
   "cell_type": "code",
   "execution_count": 50,
   "metadata": {},
   "outputs": [],
   "source": [
    "# from src.s3_data_management import push_results_to_s3\n",
    "\n",
    "# for i,user_set in enumerate(np.split(df.user_id.unique(),10)):\n",
    "#     newfile = '../figures/Sample_View_Sequences_set_'+str(i)+'.html'\n",
    "#     newname = 'Sample_View_Sequences_set_'+str(i)+'.html'\n",
    "#     push_results_to_s3(newname,newfile)\n",
    "\n",
    "# doesn't work because pictures don't get pushed up as well"
   ]
  },
  {
   "cell_type": "markdown",
   "metadata": {},
   "source": [
    "# Plotting Single User "
   ]
  },
  {
   "cell_type": "code",
   "execution_count": 47,
   "metadata": {},
   "outputs": [
    {
     "name": "stdout",
     "output_type": "stream",
     "text": [
      "1411185938\n"
     ]
    }
   ],
   "source": [
    "user_set = ['1411185938']\n",
    "newfile = '../figures/Sample_View_Sequences_user_'+user_set[0]+'.html'\n",
    "make_html(user_set,newfile)\n",
    "# this user seems to like patterned things and is searching within a restricted set. \n",
    "\n"
   ]
  },
  {
   "cell_type": "code",
   "execution_count": 47,
   "metadata": {},
   "outputs": [
    {
     "name": "stdout",
     "output_type": "stream",
     "text": [
      "1411185938\n"
     ]
    }
   ],
   "source": [
    "user_set = ['...']\n",
    "newfile = '../figures/Sample_View_Sequences_user_'+user_set[0]+'.html'\n",
    "make_html(user_set,newfile)\n",
    "# this user seems to like patterned things and is searching within a restricted set. \n",
    "\n"
   ]
  },
  {
   "cell_type": "code",
   "execution_count": 38,
   "metadata": {},
   "outputs": [
    {
     "name": "stderr",
     "output_type": "stream",
     "text": [
      "[NbConvertApp] Converting notebook Sample_Item_View_Sequences.ipynb to html\n",
      "[NbConvertApp] Writing 264005 bytes to Sample_Item_View_Sequences.html\n"
     ]
    }
   ],
   "source": [
    "%%bash \n",
    "jupyter nbconvert --to html Sample_Item_View_Sequences.ipynb && mv Sample_Item_View_Sequences.html ../notebook_htmls/Sample_Item_View_Sequences_v1.html\n",
    "cp Sample_Item_View_Sequences.ipynb ../notebook_versions/Sample_Item_View_Sequences.ipynb_v1.ipynb\n"
   ]
  },
  {
   "cell_type": "code",
   "execution_count": null,
   "metadata": {
    "collapsed": true
   },
   "outputs": [],
   "source": []
  }
 ],
 "metadata": {
  "hide_input": false,
  "kernelspec": {
   "display_name": "Python 2",
   "language": "python",
   "name": "python2"
  },
  "language_info": {
   "codemirror_mode": {
    "name": "ipython",
    "version": 2
   },
   "file_extension": ".py",
   "mimetype": "text/x-python",
   "name": "python",
   "nbconvert_exporter": "python",
   "pygments_lexer": "ipython2",
   "version": "2.7.13"
  },
  "toc": {
   "colors": {
    "hover_highlight": "#DAA520",
    "navigate_num": "#000000",
    "navigate_text": "#333333",
    "running_highlight": "#FF0000",
    "selected_highlight": "#FFD700",
    "sidebar_border": "#EEEEEE",
    "wrapper_background": "#FFFFFF"
   },
   "moveMenuLeft": true,
   "nav_menu": {
    "height": "100px",
    "width": "253px"
   },
   "navigate_menu": true,
   "number_sections": false,
   "sideBar": true,
   "threshold": 4,
   "toc_cell": false,
   "toc_section_display": "block",
   "toc_window_display": true,
   "widenNotebook": false
  }
 },
 "nbformat": 4,
 "nbformat_minor": 2
}
