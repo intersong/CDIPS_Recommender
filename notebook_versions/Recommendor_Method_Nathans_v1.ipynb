{
 "cells": [
  {
   "cell_type": "markdown",
   "metadata": {
    "slideshow": {
     "slide_type": "slide"
    }
   },
   "source": [
    "# Recommendation Method 1: Most similar items to user's previous views \n",
    "\n",
    "### Algorithm \n",
    "Offline: \n",
    "1. For each item, calculate features on trained neural network $ f_j $\n",
    "2. For each user, look up previous views and average the features together of the previous visit $ f_i = \\sum_j f_j*I(i,j) $\n",
    "3. Store the features of the 'typical' item viewed by this user. \n",
    "4. Calculate similarity of all items to user's 'typical item', store as a recommend list\n",
    "\n",
    "Online: \n",
    "1. User comes to website\n",
    "2. Recommend the top 20 items from his recommend list. \n",
    "\n",
    "\n",
    "\n"
   ]
  },
  {
   "cell_type": "code",
   "execution_count": 1,
   "metadata": {
    "collapsed": true,
    "slideshow": {
     "slide_type": "skip"
    }
   },
   "outputs": [],
   "source": [
    "import pandas as pd\n",
    "import numpy as np\n",
    "import matplotlib.pyplot as plt\n",
    "import seaborn as sns\n",
    "sns.set_style('white')\n",
    "%matplotlib inline"
   ]
  },
  {
   "cell_type": "markdown",
   "metadata": {
    "slideshow": {
     "slide_type": "skip"
    }
   },
   "source": [
    "#### FUNCTIONS HERE "
   ]
  },
  {
   "cell_type": "markdown",
   "metadata": {
    "slideshow": {
     "slide_type": "slide"
    }
   },
   "source": [
    "### Evaluation \n",
    "\n",
    "How well does nathan's algorithm work? \n",
    "\n",
    "- get a small set of trajectories. Maybe 100 people. \n",
    "- seperate out the buy items. \n",
    "- remove the items that are on the same day. \n",
    "- calculate typcial images for day 1. \n",
    "- make recommend list. \n",
    "- calculate score. "
   ]
  },
  {
   "cell_type": "code",
   "execution_count": 3,
   "metadata": {
    "slideshow": {
     "slide_type": "fragment"
    }
   },
   "outputs": [],
   "source": [
    "# load smaller user behavior dataset\n",
    "\n",
    "user_profile = pd.read_pickle('../data_user_view_buy/user_profile_items_nonnull_features_20_mins_5_views.pkl')"
   ]
  },
  {
   "cell_type": "code",
   "execution_count": 4,
   "metadata": {
    "slideshow": {
     "slide_type": "fragment"
    }
   },
   "outputs": [
    {
     "data": {
      "text/html": [
       "<div>\n",
       "<style>\n",
       "    .dataframe thead tr:only-child th {\n",
       "        text-align: right;\n",
       "    }\n",
       "\n",
       "    .dataframe thead th {\n",
       "        text-align: left;\n",
       "    }\n",
       "\n",
       "    .dataframe tbody tr th {\n",
       "        vertical-align: top;\n",
       "    }\n",
       "</style>\n",
       "<table border=\"1\" class=\"dataframe\">\n",
       "  <thead>\n",
       "    <tr style=\"text-align: right;\">\n",
       "      <th></th>\n",
       "      <th>user_id</th>\n",
       "      <th>buy_spu</th>\n",
       "      <th>buy_sn</th>\n",
       "      <th>buy_ct3</th>\n",
       "      <th>view_spu</th>\n",
       "      <th>view_sn</th>\n",
       "      <th>view_ct3</th>\n",
       "      <th>time_interval</th>\n",
       "      <th>view_cnt</th>\n",
       "      <th>view_seconds</th>\n",
       "      <th>index</th>\n",
       "      <th>spu_id</th>\n",
       "      <th>features</th>\n",
       "      <th>view_spu_count</th>\n",
       "    </tr>\n",
       "  </thead>\n",
       "  <tbody>\n",
       "    <tr>\n",
       "      <th>89</th>\n",
       "      <td>960980006</td>\n",
       "      <td>2463545257346113536</td>\n",
       "      <td>10015294</td>\n",
       "      <td>334</td>\n",
       "      <td>107318456632717316</td>\n",
       "      <td>10015294</td>\n",
       "      <td>334</td>\n",
       "      <td>17345</td>\n",
       "      <td>1</td>\n",
       "      <td>5</td>\n",
       "      <td>69776.0</td>\n",
       "      <td>1.073185e+17</td>\n",
       "      <td>[0.31, 0.741, 0.066, 0.868, 0.266, 0.0, 0.086,...</td>\n",
       "      <td>139</td>\n",
       "    </tr>\n",
       "    <tr>\n",
       "      <th>90</th>\n",
       "      <td>960980006</td>\n",
       "      <td>2463545257346113536</td>\n",
       "      <td>10015294</td>\n",
       "      <td>334</td>\n",
       "      <td>107318460592529411</td>\n",
       "      <td>10007066</td>\n",
       "      <td>334</td>\n",
       "      <td>193314</td>\n",
       "      <td>1</td>\n",
       "      <td>5</td>\n",
       "      <td>17665.0</td>\n",
       "      <td>1.073185e+17</td>\n",
       "      <td>[0.0, 2.812, 0.284, 0.462, 0.002, 0.0, 0.417, ...</td>\n",
       "      <td>139</td>\n",
       "    </tr>\n",
       "    <tr>\n",
       "      <th>91</th>\n",
       "      <td>960980006</td>\n",
       "      <td>2463545257346113536</td>\n",
       "      <td>10015294</td>\n",
       "      <td>334</td>\n",
       "      <td>1376488951765147648</td>\n",
       "      <td>10015294</td>\n",
       "      <td>334</td>\n",
       "      <td>449577</td>\n",
       "      <td>2</td>\n",
       "      <td>43</td>\n",
       "      <td>51881.0</td>\n",
       "      <td>1.376489e+18</td>\n",
       "      <td>[0.563, 0.661, 0.162, 0.813, 0.149, 0.899, 0.5...</td>\n",
       "      <td>139</td>\n",
       "    </tr>\n",
       "    <tr>\n",
       "      <th>92</th>\n",
       "      <td>960980006</td>\n",
       "      <td>2463545257346113536</td>\n",
       "      <td>10015294</td>\n",
       "      <td>334</td>\n",
       "      <td>1600824511410274307</td>\n",
       "      <td>10015294</td>\n",
       "      <td>334</td>\n",
       "      <td>450245</td>\n",
       "      <td>1</td>\n",
       "      <td>7</td>\n",
       "      <td>53203.0</td>\n",
       "      <td>1.600825e+18</td>\n",
       "      <td>[0.421, 0.454, 0.0, 0.295, 1.546, 0.36, 0.102,...</td>\n",
       "      <td>139</td>\n",
       "    </tr>\n",
       "    <tr>\n",
       "      <th>93</th>\n",
       "      <td>960980006</td>\n",
       "      <td>2463545257346113536</td>\n",
       "      <td>10015294</td>\n",
       "      <td>334</td>\n",
       "      <td>1683296679586492416</td>\n",
       "      <td>10015294</td>\n",
       "      <td>334</td>\n",
       "      <td>16038</td>\n",
       "      <td>1</td>\n",
       "      <td>9</td>\n",
       "      <td>66087.0</td>\n",
       "      <td>1.683297e+18</td>\n",
       "      <td>[0.144, 1.025, 0.064, 1.208, 0.117, 0.205, 0.3...</td>\n",
       "      <td>139</td>\n",
       "    </tr>\n",
       "  </tbody>\n",
       "</table>\n",
       "</div>"
      ],
      "text/plain": [
       "      user_id              buy_spu    buy_sn  buy_ct3             view_spu  \\\n",
       "89  960980006  2463545257346113536  10015294      334   107318456632717316   \n",
       "90  960980006  2463545257346113536  10015294      334   107318460592529411   \n",
       "91  960980006  2463545257346113536  10015294      334  1376488951765147648   \n",
       "92  960980006  2463545257346113536  10015294      334  1600824511410274307   \n",
       "93  960980006  2463545257346113536  10015294      334  1683296679586492416   \n",
       "\n",
       "     view_sn  view_ct3  time_interval  view_cnt  view_seconds    index  \\\n",
       "89  10015294       334          17345         1             5  69776.0   \n",
       "90  10007066       334         193314         1             5  17665.0   \n",
       "91  10015294       334         449577         2            43  51881.0   \n",
       "92  10015294       334         450245         1             7  53203.0   \n",
       "93  10015294       334          16038         1             9  66087.0   \n",
       "\n",
       "          spu_id                                           features  \\\n",
       "89  1.073185e+17  [0.31, 0.741, 0.066, 0.868, 0.266, 0.0, 0.086,...   \n",
       "90  1.073185e+17  [0.0, 2.812, 0.284, 0.462, 0.002, 0.0, 0.417, ...   \n",
       "91  1.376489e+18  [0.563, 0.661, 0.162, 0.813, 0.149, 0.899, 0.5...   \n",
       "92  1.600825e+18  [0.421, 0.454, 0.0, 0.295, 1.546, 0.36, 0.102,...   \n",
       "93  1.683297e+18  [0.144, 1.025, 0.064, 1.208, 0.117, 0.205, 0.3...   \n",
       "\n",
       "    view_spu_count  \n",
       "89             139  \n",
       "90             139  \n",
       "91             139  \n",
       "92             139  \n",
       "93             139  "
      ]
     },
     "execution_count": 4,
     "metadata": {},
     "output_type": "execute_result"
    }
   ],
   "source": [
    "user_profile.head()"
   ]
  },
  {
   "cell_type": "code",
   "execution_count": 5,
   "metadata": {
    "collapsed": true,
    "slideshow": {
     "slide_type": "fragment"
    }
   },
   "outputs": [],
   "source": [
    "# load item features (indexed by spu)\n",
    "\n",
    "spu_fea = pd.read_pickle(\"../data_nn_features/spu_fea.pkl\") #takes forever to load "
   ]
  },
  {
   "cell_type": "code",
   "execution_count": 6,
   "metadata": {
    "slideshow": {
     "slide_type": "skip"
    }
   },
   "outputs": [
    {
     "data": {
      "text/plain": [
       "544913"
      ]
     },
     "execution_count": 6,
     "metadata": {},
     "output_type": "execute_result"
    }
   ],
   "source": [
    "len(user_profile)"
   ]
  },
  {
   "cell_type": "code",
   "execution_count": 7,
   "metadata": {
    "slideshow": {
     "slide_type": "skip"
    }
   },
   "outputs": [
    {
     "data": {
      "text/plain": [
       "11903"
      ]
     },
     "execution_count": 7,
     "metadata": {},
     "output_type": "execute_result"
    }
   ],
   "source": [
    "users = user_profile.user_id.unique()\n",
    "len(users)"
   ]
  },
  {
   "cell_type": "code",
   "execution_count": 8,
   "metadata": {
    "slideshow": {
     "slide_type": "skip"
    }
   },
   "outputs": [
    {
     "data": {
      "text/plain": [
       "354"
      ]
     },
     "execution_count": 8,
     "metadata": {},
     "output_type": "execute_result"
    }
   ],
   "source": [
    "len(user_profile.buy_sn.unique())"
   ]
  },
  {
   "cell_type": "code",
   "execution_count": 11,
   "metadata": {
    "slideshow": {
     "slide_type": "slide"
    }
   },
   "outputs": [
    {
     "data": {
      "text/plain": [
       "4086"
      ]
     },
     "execution_count": 11,
     "metadata": {},
     "output_type": "execute_result"
    }
   ],
   "source": [
    "# sample 100 users \n",
    "users_sample = np.random.choice(users,size=100)\n",
    "user_profile_sample = user_profile.loc[user_profile.user_id.isin(users_sample),]\n",
    "len(user_profile_sample)"
   ]
  },
  {
   "cell_type": "code",
   "execution_count": 16,
   "metadata": {
    "slideshow": {
     "slide_type": "skip"
    }
   },
   "outputs": [
    {
     "data": {
      "text/plain": [
       "array([2581027832, 3503854236, 3758098940, 1169143983, 2508730194,\n",
       "       1907032321, 2822851439,  104311187, 2642855428, 1964791361,\n",
       "       3530852975, 2113211132,  675264603,  799326934,  679859279,\n",
       "       2622890341, 3611367554, 1502467292, 3995273329, 1663333100,\n",
       "        334201454, 4112435641, 2454966700,  143297995,  673923390,\n",
       "       3819587167, 1447848884, 2991695787, 3550219249,  502540768,\n",
       "       1895808200, 1508155242, 3993209019,  316997944, 1120005731,\n",
       "       4174229541, 2213541420, 1568508247,  657254176, 2204551923,\n",
       "         60285527,  540939119, 2795527501, 4154003785, 2550464364,\n",
       "       3620762608, 3486986763, 1880832286, 3130808332,  339166521,\n",
       "       3981617737,  541950412, 2540470338, 2846785931,  384391795,\n",
       "       3577405008,  249975986, 2452551846, 1969000852,  620775412,\n",
       "       1793214582, 2282508800, 3689671362,  223850579, 3449576465,\n",
       "        523482920, 3757876886, 3160131042, 3763327631,   30219851,\n",
       "       1535889322, 3370108602, 1387486416, 2299263459, 3492335642,\n",
       "        295878419, 3234897828,  617631273,   23785979,  719642779,\n",
       "       2222056237,  198389784, 1927088149, 3736661396, 1083177142,\n",
       "        401038509, 4067246694,  584103193, 3776493954, 3076165796,\n",
       "       4041291617, 1337351868, 3250373352, 1945902035, 1569914564,\n",
       "       4014648657,  624054183, 1176389421, 3285209534,  684449513])"
      ]
     },
     "execution_count": 16,
     "metadata": {},
     "output_type": "execute_result"
    }
   ],
   "source": [
    "users_sample "
   ]
  },
  {
   "cell_type": "code",
   "execution_count": 12,
   "metadata": {
    "collapsed": true,
    "slideshow": {
     "slide_type": "slide"
    }
   },
   "outputs": [],
   "source": [
    "# make a function for each user?? \n",
    "\n",
    "user_buy_dict = {}\n",
    "average_viewed_features_dict = {}\n",
    "\n",
    "# loop through users \n",
    "for user_id in users_sample:\n",
    "    \n",
    "    # get his trajectory \n",
    "    trajectory = user_profile_sample.loc[user_profile_sample.user_id==user_id,]\n",
    "\n",
    "    # save buy image\n",
    "    user_buy_dict[user_id] = trajectory.buy_spu.as_matrix()[0]\n",
    "    \n",
    "    # save buy category \n",
    "    \n",
    "    \n",
    "    # remove buy item\n",
    "    trajectory = trajectory.loc[trajectory.view_spu!=user_buy_dict[user_id]]\n",
    "    \n",
    "    \n",
    "    n_features = len(spu_fea.features.as_matrix()[0])\n",
    "    n_views = len(trajectory)\n",
    "    \n",
    "    # get previous views\n",
    "    features_items = np.empty((n_features,n_views))\n",
    "    for vi,view_spu in enumerate(trajectory.view_spu):\n",
    "        \n",
    "        # load features for image\n",
    "        if view_spu in spu_fea.spu_id.values:\n",
    "            features_items[:,vi] = spu_fea.loc[spu_fea.spu_id==view_spu,'features'].as_matrix()[0] # return a 1-D np array \n",
    "        else:\n",
    "            # this shouldn't happen \n",
    "            raise ValueError('all items should have features')\n",
    "            features_items[:,vi] = np.ones(n_features) # if features don't exist for an item, add array of ones (shouldn't change average)\n",
    "    # average features\n",
    "    average_viewed_features_dict[user_id] = np.mean(features_items,axis=1)\n",
    "    \n"
   ]
  },
  {
   "cell_type": "code",
   "execution_count": 14,
   "metadata": {},
   "outputs": [],
   "source": [
    "#average_viewed_features_dict"
   ]
  },
  {
   "cell_type": "code",
   "execution_count": 15,
   "metadata": {
    "collapsed": true,
    "slideshow": {
     "slide_type": "skip"
    }
   },
   "outputs": [],
   "source": [
    "def dot(K, L):\n",
    "    if len(K) != len(L): return 0\n",
    "    return sum(i[0]*i[1] for i in zip(K, L))\n",
    "\n",
    "def similarity(item_1, item_2):\n",
    "        return dot(item_1, item_2) / np.sqrt(dot(item_1, item_1)*dot(item_2, item_2))"
   ]
  },
  {
   "cell_type": "code",
   "execution_count": 17,
   "metadata": {
    "scrolled": true,
    "slideshow": {
     "slide_type": "slide"
    }
   },
   "outputs": [
    {
     "name": "stdout",
     "output_type": "stream",
     "text": [
      "0\n",
      "1\n",
      "2\n",
      "3\n",
      "4\n",
      "5\n",
      "6\n",
      "7\n",
      "8\n",
      "9\n",
      "10\n",
      "11\n",
      "12\n",
      "13\n",
      "14\n",
      "15\n",
      "16\n",
      "17\n",
      "18\n",
      "19\n",
      "20\n",
      "21\n",
      "22\n",
      "23\n",
      "24\n",
      "25\n",
      "26\n",
      "27\n",
      "28\n",
      "29\n",
      "30\n",
      "31\n",
      "32\n",
      "33\n",
      "34\n",
      "35\n",
      "36\n",
      "37\n",
      "38\n",
      "39\n",
      "40\n",
      "41\n",
      "42\n",
      "43\n",
      "44\n",
      "45\n",
      "46\n",
      "47\n",
      "48\n",
      "49\n",
      "50\n",
      "51\n",
      "52\n",
      "53\n",
      "54\n",
      "55\n",
      "56\n",
      "57\n",
      "58\n",
      "59\n",
      "60\n",
      "61\n",
      "62\n",
      "63\n",
      "64\n",
      "65\n",
      "66\n",
      "67\n",
      "68\n",
      "69\n",
      "70\n",
      "71\n",
      "72\n",
      "73\n",
      "74\n",
      "75\n",
      "76\n",
      "77\n",
      "78\n",
      "79\n",
      "80\n",
      "81\n",
      "82\n",
      "83\n",
      "84\n",
      "85\n",
      "86\n",
      "87\n",
      "88\n",
      "89\n",
      "90\n",
      "91\n",
      "92\n",
      "93\n",
      "94\n",
      "95\n",
      "96\n",
      "97\n",
      "98\n",
      "99\n"
     ]
    }
   ],
   "source": [
    "# for each user \n",
    "user_buy_ranks = np.empty(len(users_sample))\n",
    "no_ranks = np.empty(len(users_sample))\n",
    "for ui,user_id in enumerate(users_sample):\n",
    "    print(ui)\n",
    "    # load average trajectory \n",
    "    average_features = average_viewed_features_dict[user_id]\n",
    "    \n",
    "    # get bought item\n",
    "    buy_spu = user_buy_dict[user_id]\n",
    "    \n",
    "    # find buy item categoriy \n",
    "    buy_sn = user_profile_sample.loc[user_profile_sample['buy_spu']==buy_spu,'buy_sn'].as_matrix()[0] # should assert they are all the same\n",
    "    \n",
    "    # find all other items in the category\n",
    "    spus_in_category_b = user_profile.loc[user_profile.buy_sn==buy_sn,'buy_spu'].unique() \n",
    "    spus_in_category_v = user_profile.loc[user_profile.view_sn==buy_sn,'view_spu'].unique() \n",
    "    spus_in_category = list(spus_in_category_b)+list(spus_in_category_v)\n",
    "    assert buy_spu in spus_in_category\n",
    "    \n",
    "    # does it make sense to pre-calculate this matrix of similarities (average user similarity for each bought item)  # \n",
    "    \n",
    "    # calculate similarity with all candidate in buy items \n",
    "    item_sim_in_category = pd.DataFrame(data = spus_in_category,columns=['spu'])\n",
    "    for spu in spus_in_category:\n",
    "        \n",
    "        # load features for image\n",
    "        features_other = spu_fea.loc[spu_fea.spu_id==spu,'features'].as_matrix()[0] # return a 1-D np array  \n",
    "        item_sim_in_category.loc[item_sim_in_category['spu']==spu,'similarity']= similarity(average_features,features_other)\n",
    "    \n",
    "    item_sim_in_category['rank']=item_sim_in_category['similarity'].rank()    \n",
    "\n",
    "    user_buy_ranks[ui]=item_sim_in_category.loc[item_sim_in_category.spu==buy_spu,'rank'].as_matrix()[0]\n",
    "    no_ranks[ui]=item_sim_in_category['rank'].max()\n",
    "\n",
    "\n",
    "    "
   ]
  },
  {
   "cell_type": "code",
   "execution_count": 18,
   "metadata": {
    "slideshow": {
     "slide_type": "slide"
    }
   },
   "outputs": [
    {
     "data": {
      "text/html": [
       "<div>\n",
       "<style>\n",
       "    .dataframe thead tr:only-child th {\n",
       "        text-align: right;\n",
       "    }\n",
       "\n",
       "    .dataframe thead th {\n",
       "        text-align: left;\n",
       "    }\n",
       "\n",
       "    .dataframe tbody tr th {\n",
       "        vertical-align: top;\n",
       "    }\n",
       "</style>\n",
       "<table border=\"1\" class=\"dataframe\">\n",
       "  <thead>\n",
       "    <tr style=\"text-align: right;\">\n",
       "      <th></th>\n",
       "      <th>spu</th>\n",
       "      <th>similarity</th>\n",
       "      <th>rank</th>\n",
       "    </tr>\n",
       "  </thead>\n",
       "  <tbody>\n",
       "    <tr>\n",
       "      <th>6</th>\n",
       "      <td>456628921179025409</td>\n",
       "      <td>0.628445</td>\n",
       "      <td>1.0</td>\n",
       "    </tr>\n",
       "    <tr>\n",
       "      <th>13</th>\n",
       "      <td>20905657232343047</td>\n",
       "      <td>0.744620</td>\n",
       "      <td>2.0</td>\n",
       "    </tr>\n",
       "    <tr>\n",
       "      <th>8</th>\n",
       "      <td>5706008489967619</td>\n",
       "      <td>0.759643</td>\n",
       "      <td>3.0</td>\n",
       "    </tr>\n",
       "    <tr>\n",
       "      <th>22</th>\n",
       "      <td>458880713561350165</td>\n",
       "      <td>0.767476</td>\n",
       "      <td>4.0</td>\n",
       "    </tr>\n",
       "    <tr>\n",
       "      <th>9</th>\n",
       "      <td>33009059997233308</td>\n",
       "      <td>0.788442</td>\n",
       "      <td>5.0</td>\n",
       "    </tr>\n",
       "    <tr>\n",
       "      <th>2</th>\n",
       "      <td>3735683652993028</td>\n",
       "      <td>0.795370</td>\n",
       "      <td>6.0</td>\n",
       "    </tr>\n",
       "    <tr>\n",
       "      <th>20</th>\n",
       "      <td>441992214958710797</td>\n",
       "      <td>0.801106</td>\n",
       "      <td>7.0</td>\n",
       "    </tr>\n",
       "    <tr>\n",
       "      <th>15</th>\n",
       "      <td>441710732886978570</td>\n",
       "      <td>0.814434</td>\n",
       "      <td>8.0</td>\n",
       "    </tr>\n",
       "    <tr>\n",
       "      <th>14</th>\n",
       "      <td>462539888258588697</td>\n",
       "      <td>0.816877</td>\n",
       "      <td>9.0</td>\n",
       "    </tr>\n",
       "    <tr>\n",
       "      <th>4</th>\n",
       "      <td>22031535905517703</td>\n",
       "      <td>0.817633</td>\n",
       "      <td>10.0</td>\n",
       "    </tr>\n",
       "    <tr>\n",
       "      <th>24</th>\n",
       "      <td>466199062955827206</td>\n",
       "      <td>0.823289</td>\n",
       "      <td>11.0</td>\n",
       "    </tr>\n",
       "    <tr>\n",
       "      <th>12</th>\n",
       "      <td>78608012936261632</td>\n",
       "      <td>0.824325</td>\n",
       "      <td>12.0</td>\n",
       "    </tr>\n",
       "    <tr>\n",
       "      <th>3</th>\n",
       "      <td>20624182255632396</td>\n",
       "      <td>0.837178</td>\n",
       "      <td>13.5</td>\n",
       "    </tr>\n",
       "    <tr>\n",
       "      <th>1</th>\n",
       "      <td>20624182255632396</td>\n",
       "      <td>0.837178</td>\n",
       "      <td>13.5</td>\n",
       "    </tr>\n",
       "    <tr>\n",
       "      <th>23</th>\n",
       "      <td>3172712465903656</td>\n",
       "      <td>0.837518</td>\n",
       "      <td>15.0</td>\n",
       "    </tr>\n",
       "    <tr>\n",
       "      <th>7</th>\n",
       "      <td>23720406999449602</td>\n",
       "      <td>0.839001</td>\n",
       "      <td>16.0</td>\n",
       "    </tr>\n",
       "    <tr>\n",
       "      <th>17</th>\n",
       "      <td>451562357071851525</td>\n",
       "      <td>0.842086</td>\n",
       "      <td>17.0</td>\n",
       "    </tr>\n",
       "    <tr>\n",
       "      <th>19</th>\n",
       "      <td>15839086417883164</td>\n",
       "      <td>0.844959</td>\n",
       "      <td>18.0</td>\n",
       "    </tr>\n",
       "    <tr>\n",
       "      <th>16</th>\n",
       "      <td>251433653965676606</td>\n",
       "      <td>0.848166</td>\n",
       "      <td>19.0</td>\n",
       "    </tr>\n",
       "    <tr>\n",
       "      <th>18</th>\n",
       "      <td>465354638025695263</td>\n",
       "      <td>0.852883</td>\n",
       "      <td>20.0</td>\n",
       "    </tr>\n",
       "    <tr>\n",
       "      <th>5</th>\n",
       "      <td>465073155953963021</td>\n",
       "      <td>0.867408</td>\n",
       "      <td>21.0</td>\n",
       "    </tr>\n",
       "    <tr>\n",
       "      <th>21</th>\n",
       "      <td>20624161021964320</td>\n",
       "      <td>0.867438</td>\n",
       "      <td>22.5</td>\n",
       "    </tr>\n",
       "    <tr>\n",
       "      <th>0</th>\n",
       "      <td>20624161021964320</td>\n",
       "      <td>0.867438</td>\n",
       "      <td>22.5</td>\n",
       "    </tr>\n",
       "    <tr>\n",
       "      <th>10</th>\n",
       "      <td>29068410323284005</td>\n",
       "      <td>0.870561</td>\n",
       "      <td>24.0</td>\n",
       "    </tr>\n",
       "    <tr>\n",
       "      <th>11</th>\n",
       "      <td>441992214958710798</td>\n",
       "      <td>0.875087</td>\n",
       "      <td>25.0</td>\n",
       "    </tr>\n",
       "  </tbody>\n",
       "</table>\n",
       "</div>"
      ],
      "text/plain": [
       "                   spu  similarity  rank\n",
       "6   456628921179025409    0.628445   1.0\n",
       "13   20905657232343047    0.744620   2.0\n",
       "8     5706008489967619    0.759643   3.0\n",
       "22  458880713561350165    0.767476   4.0\n",
       "9    33009059997233308    0.788442   5.0\n",
       "2     3735683652993028    0.795370   6.0\n",
       "20  441992214958710797    0.801106   7.0\n",
       "15  441710732886978570    0.814434   8.0\n",
       "14  462539888258588697    0.816877   9.0\n",
       "4    22031535905517703    0.817633  10.0\n",
       "24  466199062955827206    0.823289  11.0\n",
       "12   78608012936261632    0.824325  12.0\n",
       "3    20624182255632396    0.837178  13.5\n",
       "1    20624182255632396    0.837178  13.5\n",
       "23    3172712465903656    0.837518  15.0\n",
       "7    23720406999449602    0.839001  16.0\n",
       "17  451562357071851525    0.842086  17.0\n",
       "19   15839086417883164    0.844959  18.0\n",
       "16  251433653965676606    0.848166  19.0\n",
       "18  465354638025695263    0.852883  20.0\n",
       "5   465073155953963021    0.867408  21.0\n",
       "21   20624161021964320    0.867438  22.5\n",
       "0    20624161021964320    0.867438  22.5\n",
       "10   29068410323284005    0.870561  24.0\n",
       "11  441992214958710798    0.875087  25.0"
      ]
     },
     "execution_count": 18,
     "metadata": {},
     "output_type": "execute_result"
    }
   ],
   "source": [
    "item_sim_in_category.sort_values(by='rank')"
   ]
  },
  {
   "cell_type": "code",
   "execution_count": 19,
   "metadata": {
    "slideshow": {
     "slide_type": "skip"
    }
   },
   "outputs": [
    {
     "data": {
      "text/plain": [
       "13.5"
      ]
     },
     "execution_count": 19,
     "metadata": {},
     "output_type": "execute_result"
    }
   ],
   "source": [
    "user_buy_ranks[ui]"
   ]
  },
  {
   "cell_type": "code",
   "execution_count": 20,
   "metadata": {
    "slideshow": {
     "slide_type": "skip"
    }
   },
   "outputs": [
    {
     "data": {
      "text/plain": [
       "array([ 22.5,  13.5,   6. ,  10. ,  21. ,   1. ,  16. ,   3. ,   5. ,\n",
       "        24. ,  25. ,  12. ,   2. ,   9. ,   8. ,  19. ,  17. ,  20. ,\n",
       "        18. ,   7. ,   4. ,  15. ,  11. ])"
      ]
     },
     "execution_count": 20,
     "metadata": {},
     "output_type": "execute_result"
    }
   ],
   "source": [
    "item_sim_in_category['rank'].max()\n",
    "item_sim_in_category['rank'].unique()"
   ]
  },
  {
   "cell_type": "code",
   "execution_count": 33,
   "metadata": {
    "slideshow": {
     "slide_type": "slide"
    }
   },
   "outputs": [
    {
     "data": {
      "text/plain": [
       "<matplotlib.text.Text at 0x110b484d0>"
      ]
     },
     "execution_count": 33,
     "metadata": {},
     "output_type": "execute_result"
    },
    {
     "data": {
      "image/png": "[encoded data removed]",
      "text/plain": [
       "<matplotlib.figure.Figure at 0x111f8b310>"
      ]
     },
     "metadata": {},
     "output_type": "display_data"
    }
   ],
   "source": [
    "# plt.subplot(1,3,1)\n",
    "# plt.scatter(np.arange(len(users_sample)),user_buy_ranks)\n",
    "# plt.subplot(1,3,2)\n",
    "# plt.scatter(np.arange(len(users_sample)),no_ranks)\n",
    "plt.subplot(1,1,1)\n",
    "plt.scatter(np.arange(len(users_sample)),user_buy_ranks/no_ranks)\n",
    "sns.despine()\n",
    "plt.axhline(y=0.5,label='chance',c='k',linestyle='--')\n",
    "plt.axhline(y=np.mean(user_buy_ranks/no_ranks),label='mean')\n",
    "plt.legend()\n",
    "plt.xlabel('user (chosen randomly)')\n",
    "plt.ylabel('ratio: buy rank / items in buy category')"
   ]
  },
  {
   "cell_type": "markdown",
   "metadata": {},
   "source": [
    "### Generate Random Recomender"
   ]
  },
  {
   "cell_type": "code",
   "execution_count": 141,
   "metadata": {},
   "outputs": [
    {
     "name": "stderr",
     "output_type": "stream",
     "text": [
      "[NbConvertApp] Converting notebook Recommendor_Method_Nathans.ipynb to slides\n",
      "[NbConvertApp] Writing 313068 bytes to Recommendor_Method_Nathans.slides.html\n",
      "[NbConvertApp] Converting notebook Recommendor_Method_Nathans.ipynb to html\n",
      "[NbConvertApp] Writing 318906 bytes to Recommendor_Method_Nathans.html\n"
     ]
    }
   ],
   "source": [
    "%%bash \n",
    "jupyter nbconvert --to slides Recommendor_Method_Nathans.ipynb && mv Recommendor_Method_Nathans.slides.html ../notebook_slides/Recommendor_Method_Nathans_v1.slides.html\n",
    "jupyter nbconvert --to html Recommendor_Method_Nathans.ipynb && mv Recommendor_Method_Nathans.html ../notebook_htmls/Recommendor_Method_Nathans_v1.html\n",
    "cp Recommendor_Method_Nathans.ipynb ../notebook_versions/Recommendor_Method_Nathans_v1.ipynb"
   ]
  },
  {
   "cell_type": "code",
   "execution_count": null,
   "metadata": {
    "collapsed": true
   },
   "outputs": [],
   "source": []
  }
 ],
 "metadata": {
  "celltoolbar": "Slideshow",
  "hide_input": false,
  "kernelspec": {
   "display_name": "Python 2",
   "language": "python",
   "name": "python2"
  },
  "language_info": {
   "codemirror_mode": {
    "name": "ipython",
    "version": 2
   },
   "file_extension": ".py",
   "mimetype": "text/x-python",
   "name": "python",
   "nbconvert_exporter": "python",
   "pygments_lexer": "ipython2",
   "version": "2.7.13"
  },
  "toc": {
   "colors": {
    "hover_highlight": "#DAA520",
    "navigate_num": "#000000",
    "navigate_text": "#333333",
    "running_highlight": "#FF0000",
    "selected_highlight": "#FFD700",
    "sidebar_border": "#EEEEEE",
    "wrapper_background": "#FFFFFF"
   },
   "moveMenuLeft": true,
   "nav_menu": {
    "height": "65px",
    "width": "253px"
   },
   "navigate_menu": true,
   "number_sections": false,
   "sideBar": true,
   "threshold": 4,
   "toc_cell": false,
   "toc_section_display": "block",
   "toc_window_display": true,
   "widenNotebook": false
  }
 },
 "nbformat": 4,
 "nbformat_minor": 2
}
